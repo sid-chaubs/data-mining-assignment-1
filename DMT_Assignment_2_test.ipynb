{
  "nbformat": 4,
  "nbformat_minor": 0,
  "metadata": {
    "colab": {
      "name": "DMT_Assignment_2_test.ipynb",
      "provenance": [],
      "toc_visible": true,
      "authorship_tag": "ABX9TyPEAPM2d7LyTYvHZS9rpZa2",
      "include_colab_link": true
    },
    "kernelspec": {
      "name": "python3",
      "display_name": "Python 3"
    },
    "language_info": {
      "name": "python"
    }
  },
  "cells": [
    {
      "cell_type": "markdown",
      "metadata": {
        "id": "view-in-github",
        "colab_type": "text"
      },
      "source": [
        "<a href=\"https://colab.research.google.com/github/sid-chaubs/data-mining-assignment-1/blob/main/DMT_Assignment_2_test.ipynb\" target=\"_parent\"><img src=\"https://colab.research.google.com/assets/colab-badge.svg\" alt=\"Open In Colab\"/></a>"
      ]
    },
    {
      "cell_type": "code",
      "metadata": {
        "colab": {
          "base_uri": "https://localhost:8080/"
        },
        "id": "vttOJfcKKBC4",
        "outputId": "50d0234b-8a60-4147-bc69-a21dde743a83"
      },
      "source": [
        "from google.colab import drive\n",
        "drive.mount('/content/datadrive')"
      ],
      "execution_count": 1,
      "outputs": [
        {
          "output_type": "stream",
          "text": [
            "Drive already mounted at /content/datadrive; to attempt to forcibly remount, call drive.mount(\"/content/datadrive\", force_remount=True).\n"
          ],
          "name": "stdout"
        }
      ]
    },
    {
      "cell_type": "code",
      "metadata": {
        "colab": {
          "base_uri": "https://localhost:8080/"
        },
        "id": "k9978hdDKQC0",
        "outputId": "5bf17332-3ed9-4361-c125-f3489ec6c625"
      },
      "source": [
        "!mkdir /content/training_data\n",
        "!mkdir /content/test_data\n",
        "!unzip -o /content/datadrive/MyDrive/training_set_VU_DM.csv.zip -d /content/training_data/\n",
        "!unzip -o /content/datadrive/MyDrive/test_set_VU_DM.csv.zip -d /content/test_data/"
      ],
      "execution_count": 2,
      "outputs": [
        {
          "output_type": "stream",
          "text": [
            "mkdir: cannot create directory ‘/content/training_data’: File exists\n",
            "mkdir: cannot create directory ‘/content/test_data’: File exists\n",
            "Archive:  /content/datadrive/MyDrive/training_set_VU_DM.csv.zip\n",
            "  inflating: /content/training_data/training_set_VU_DM.csv  \n",
            "Archive:  /content/datadrive/MyDrive/test_set_VU_DM.csv.zip\n",
            "  inflating: /content/test_data/test_set_VU_DM.csv  \n"
          ],
          "name": "stdout"
        }
      ]
    },
    {
      "cell_type": "code",
      "metadata": {
        "id": "dU3iBqtKMfKf"
      },
      "source": [
        "import pandas as pd\n",
        "import numpy as np\n",
        "import scipy as sp\n",
        "import matplotlib.pyplot as plt\n",
        "import seaborn as sns\n",
        "#from yellowbrick import target, features\n",
        "import joblib\n",
        "import csv\n",
        "SEED = 1337 * 420 * 69\n",
        "SAMPLE_SIZE = 5000\n",
        "\n",
        "np.random.seed(SEED)"
      ],
      "execution_count": 63,
      "outputs": []
    },
    {
      "cell_type": "code",
      "metadata": {
        "id": "un5nUz2TzQVE"
      },
      "source": [
        "test_data = pd.read_csv('/content/test_data/test_set_VU_DM.csv')"
      ],
      "execution_count": 6,
      "outputs": []
    },
    {
      "cell_type": "markdown",
      "metadata": {
        "id": "DynsVaQg1buy"
      },
      "source": [
        "#1 Load trained forests and produce results"
      ]
    },
    {
      "cell_type": "code",
      "metadata": {
        "id": "N3PXrayr1gNY"
      },
      "source": [
        "#forest_booking = joblib.load('/content/datadrive/MyDrive/forest_booking.joblib')"
      ],
      "execution_count": 7,
      "outputs": []
    },
    {
      "cell_type": "code",
      "metadata": {
        "id": "RI_zafx0UysR"
      },
      "source": [
        "forest_click = joblib.load('/content/datadrive/MyDrive/forest_click.joblib')"
      ],
      "execution_count": 8,
      "outputs": []
    },
    {
      "cell_type": "code",
      "metadata": {
        "id": "VluFcp9g6QQk"
      },
      "source": [
        "nan_filter = np.sum(test_data.isna()) > 0.75 * test_data.shape[0]\n",
        "test_data.drop(columns=test_data.columns[nan_filter], inplace=True)\n",
        "test_data.drop(columns=['date_time'], inplace=True)"
      ],
      "execution_count": 9,
      "outputs": []
    },
    {
      "cell_type": "code",
      "metadata": {
        "id": "UEpUDIaD6yuE"
      },
      "source": [
        "rs_params_test = sp.stats.genlogistic.fit(test_data.prop_review_score.dropna()[test_data.prop_review_score > 0])\n",
        "ls2_params_test = sp.stats.expon.fit(test_data.prop_location_score2.dropna())\n",
        "dd_params_test = sp.stats.expon.fit(test_data.orig_destination_distance.dropna())\n",
        "\n",
        "rs_na_count_test = test_data.prop_review_score.isna().sum()\n",
        "ls2_na_count_test = test_data.prop_location_score2.isna().sum()\n",
        "dd_na_count_test = test_data.orig_destination_distance.isna().sum()\n",
        "\n",
        "#generate values from fitted distribution\n",
        "rs_fill_test = sp.stats.genlogistic.rvs(*rs_params_test, rs_na_count_test)\n",
        "ls2_fill_test = sp.stats.expon.rvs(*ls2_params_test, ls2_na_count_test)\n",
        "dd_fill_test = sp.stats.expon.rvs(*dd_params_test, dd_na_count_test)\n",
        "\n",
        "rs_fill_series_test = pd.Series(rs_fill_test, \n",
        "                           index=test_data.loc[test_data.prop_review_score.isna()].index)\n",
        "\n",
        "ls2_fill_series_test = pd.Series(ls2_fill_test, \n",
        "                            index=test_data.loc[test_data.prop_location_score2.isna()].index)\n",
        "\n",
        "dd_fill_series_test = pd.Series(dd_fill_test, \n",
        "                           index=test_data.loc[test_data.orig_destination_distance.isna()].index)\n",
        "\n",
        "fill_cols = ['comp2_rate', 'comp2_inv', 'comp3_rate', 'comp3_inv', 'comp5_rate', 'comp5_inv', 'comp8_rate', 'comp8_inv']\n",
        "test_data.prop_review_score.fillna(rs_fill_series_test, inplace=True)\n",
        "test_data.prop_location_score2.fillna(ls2_fill_series_test, inplace=True)\n",
        "test_data.orig_destination_distance.fillna(dd_fill_series_test, inplace=True)\n",
        "for c in fill_cols:\n",
        "  test_data[c].fillna(0, inplace=True)"
      ],
      "execution_count": 10,
      "outputs": []
    },
    {
      "cell_type": "code",
      "metadata": {
        "id": "f2l5j1UG65_s"
      },
      "source": [
        "#pred_prob_y_booking = forest_booking.predict_proba(test_data)\n",
        "\n",
        "#pred_booking_df = pd.DataFrame(map(lambda x: x[1], pred_prob_y_booking), columns=['booking_prob'])\n",
        "#pred_booking_df['srch_id'] = test_data.srch_id\n",
        "#pred_booking_df['prop_id'] = test_data.prop_id\n",
        "\n",
        "#sorted_prop_id_booking = []\n",
        "#for name, group in pred_booking_df.groupby('srch_id'):\n",
        "  #for each search id, return the results of predictions, sorted by highest probability of booking\n",
        "#  sorted_prop_id_booking.append(group.sort_values('booking_prob', ascending=False))\n",
        "\n",
        "#uncomment this if you want to re-save the calculated bookings\n",
        "#joblib.dump(sorted_prop_id_booking, '/content/datadrive/MyDrive/sortedp_prop_id_booking.joblib')"
      ],
      "execution_count": 11,
      "outputs": []
    },
    {
      "cell_type": "code",
      "metadata": {
        "id": "rEd3-b_Fsz5M"
      },
      "source": [
        "#sorted_prop_id_booking = joblib.load('/content/datadrive/MyDrive/sortedp_prop_id_booking.joblib')"
      ],
      "execution_count": 24,
      "outputs": []
    },
    {
      "cell_type": "code",
      "metadata": {
        "id": "BKcurdgUrNom"
      },
      "source": [
        "pred_prob_y_click = forest_click.predict_proba(test_data)\n",
        "\n",
        "pred_click_df = pd.DataFrame(map(lambda x: x[1], pred_prob_y_click), columns=['click_prob'])\n",
        "pred_click_df['srch_id'] = test_data.srch_id\n",
        "pred_click_df['prop_id'] = test_data.prop_id\n",
        "\n",
        "sorted_prop_id_click = []\n",
        "for name, group in pred_click_df.groupby('srch_id'):\n",
        "  #for each search id, return the results of predictions, sorted by highest probability of click\n",
        "  sorted_prop_id_click.append(group.sort_values('click_prob', ascending=False))"
      ],
      "execution_count": 13,
      "outputs": []
    },
    {
      "cell_type": "code",
      "metadata": {
        "colab": {
          "base_uri": "https://localhost:8080/"
        },
        "id": "jy3mrdM_kQsA",
        "outputId": "10b9c604-07fd-42bc-c4c6-b3a3d490911e"
      },
      "source": [
        "#joblib.dump(sorted_prop_id_click, '/content/datadrive/MyDrive/sorted_prop_id_click.joblib')"
      ],
      "execution_count": 17,
      "outputs": [
        {
          "output_type": "execute_result",
          "data": {
            "text/plain": [
              "['/content/datadrive/MyDrive/sorted_prop_id_click.joblib']"
            ]
          },
          "metadata": {
            "tags": []
          },
          "execution_count": 17
        }
      ]
    },
    {
      "cell_type": "code",
      "metadata": {
        "id": "WHDQUYN7yobK"
      },
      "source": [
        "results = []\n",
        "\n",
        "#merge the two lists based on booking probability\n",
        "for bookings, clicks in zip(sorted_prop_id_booking, sorted_prop_id_click):\n",
        "  nonzero_book_prob = bookings[bookings.booking_prob > 0]\n",
        "  nonzero_click_prob = []\n",
        "  if nonzero_book_prob.shape[0] != bookings.shape[0]: #only find best click option if there are bookings with zero probability\n",
        "    nonzero_click_prob = list(filter(lambda prop: prop.prop_id not in nonzero_book_prob.prop_id.values, clicks.to_records()))\n",
        "  results.append(list(nonzero_book_prob.to_records()) + nonzero_click_prob)\n"
      ],
      "execution_count": 62,
      "outputs": []
    },
    {
      "cell_type": "code",
      "metadata": {
        "colab": {
          "base_uri": "https://localhost:8080/"
        },
        "id": "GFdqveCwBj2D",
        "outputId": "27df267c-a7b0-4be1-ebc9-80b4a601d097"
      },
      "source": [
        "results[:3]"
      ],
      "execution_count": 64,
      "outputs": [
        {
          "output_type": "execute_result",
          "data": {
            "text/plain": [
              "[[(5, 0.4, 1, 28181),\n",
              "  (4, 0.36, 1, 24194),\n",
              "  (16, 0.35, 1, 74045),\n",
              "  (18, 0.31, 1, 82231),\n",
              "  (6, 0.3, 1, 34263),\n",
              "  (13, 0.28, 1, 63894),\n",
              "  (24, 0.26, 1, 123675),\n",
              "  (21, 0.25, 1, 94729),\n",
              "  (1, 0.21, 1, 5543),\n",
              "  (22, 0.21, 1, 95031),\n",
              "  (23, 0.19, 1, 99484),\n",
              "  (20, 0.18, 1, 90385),\n",
              "  (10, 0.18, 1, 56050),\n",
              "  (9, 0.17, 1, 54937),\n",
              "  (15, 0.16, 1, 73666),\n",
              "  (25, 0.16, 1, 128085),\n",
              "  (8, 0.13, 1, 50162),\n",
              "  (17, 0.13, 1, 78599),\n",
              "  (0, 0.12, 1, 3180),\n",
              "  (14, 0.1, 1, 72090),\n",
              "  (12, 0.1, 1, 61934),\n",
              "  (3, 0.1, 1, 22393),\n",
              "  (7, 0.09, 1, 37567),\n",
              "  (27, 0.08, 1, 134992),\n",
              "  (2, 0.07, 1, 14142),\n",
              "  (28, 0.07, 1, 139162),\n",
              "  (19, 0.05, 1, 89466),\n",
              "  (11, 0.05, 1, 61632),\n",
              "  (26, 0.04, 1, 128871)],\n",
              " [(30, 0.37, 3, 11425),\n",
              "  (53, 0.32, 3, 131940),\n",
              "  (34, 0.27, 3, 32382),\n",
              "  (47, 0.24, 3, 91337),\n",
              "  (40, 0.2, 3, 47377),\n",
              "  (43, 0.19, 3, 71543),\n",
              "  (29, 0.18, 3, 6533),\n",
              "  (45, 0.17, 3, 80734),\n",
              "  (38, 0.16, 3, 46861),\n",
              "  (41, 0.14, 3, 63039),\n",
              "  (39, 0.14, 3, 47238),\n",
              "  (55, 0.13, 3, 132637),\n",
              "  (49, 0.12, 3, 96614),\n",
              "  (37, 0.11, 3, 45550),\n",
              "  (44, 0.11, 3, 79176),\n",
              "  (36, 0.1, 3, 43362),\n",
              "  (35, 0.1, 3, 43133),\n",
              "  (48, 0.1, 3, 93176),\n",
              "  (42, 0.1, 3, 64168),\n",
              "  (31, 0.09, 3, 22325),\n",
              "  (33, 0.08, 3, 27753),\n",
              "  (32, 0.08, 3, 24915),\n",
              "  (50, 0.08, 3, 119120),\n",
              "  (54, 0.08, 3, 131968),\n",
              "  (51, 0.07, 3, 124819),\n",
              "  (46, 0.05, 3, 90968),\n",
              "  (52, 0.05, 3, 131397)],\n",
              " [(56, 0.02, 6, 5333),\n",
              "  (58, 0.02, 6, 24695),\n",
              "  (61, 0.02, 6, 55152),\n",
              "  (63, 0.02, 6, 83424),\n",
              "  (57, 0.01, 6, 22970),\n",
              "  (59, 0.01, 6, 31470),\n",
              "  (62, 0.01, 6, 71770),\n",
              "  (64, 0.01, 6, 103320),\n",
              "  (65, 0.01, 6, 139558),\n",
              "  (60, 0.05, 6, 49926)]]"
            ]
          },
          "metadata": {
            "tags": []
          },
          "execution_count": 64
        }
      ]
    },
    {
      "cell_type": "code",
      "metadata": {
        "colab": {
          "base_uri": "https://localhost:8080/",
          "height": 249
        },
        "id": "6vN2Bk0YEogC",
        "outputId": "2f605ea9-f4f6-4263-df02-1ebb28dafe7a"
      },
      "source": [
        "with open('submission.csv', 'w') as submission_file:\n",
        "  submission_writer = csv.writer(submission_file, delimiter=',')\n",
        "  submission_writer.writerow(['srch_id', 'prop_id'])\n",
        "  for search in results:\n",
        "    for row in search:\n",
        "      submission_writer.writerow([row[2], row[3]])"
      ],
      "execution_count": 70,
      "outputs": [
        {
          "output_type": "error",
          "ename": "TypeError",
          "evalue": "ignored",
          "traceback": [
            "\u001b[0;31m---------------------------------------------------------------------------\u001b[0m",
            "\u001b[0;31mTypeError\u001b[0m                                 Traceback (most recent call last)",
            "\u001b[0;32m<ipython-input-70-c4b58e0a5149>\u001b[0m in \u001b[0;36m<module>\u001b[0;34m()\u001b[0m\n\u001b[1;32m      1\u001b[0m \u001b[0;32mwith\u001b[0m \u001b[0mopen\u001b[0m\u001b[0;34m(\u001b[0m\u001b[0;34m'submission.csv'\u001b[0m\u001b[0;34m,\u001b[0m \u001b[0;34m'w'\u001b[0m\u001b[0;34m)\u001b[0m \u001b[0;32mas\u001b[0m \u001b[0msubmission_file\u001b[0m\u001b[0;34m:\u001b[0m\u001b[0;34m\u001b[0m\u001b[0;34m\u001b[0m\u001b[0m\n\u001b[0;32m----> 2\u001b[0;31m   \u001b[0msubmission_writer\u001b[0m \u001b[0;34m=\u001b[0m \u001b[0mcsv\u001b[0m\u001b[0;34m.\u001b[0m\u001b[0mwriter\u001b[0m\u001b[0;34m(\u001b[0m\u001b[0msubmission_file\u001b[0m\u001b[0;34m,\u001b[0m \u001b[0mdelimiter\u001b[0m\u001b[0;34m=\u001b[0m\u001b[0;34m', '\u001b[0m\u001b[0;34m)\u001b[0m\u001b[0;34m\u001b[0m\u001b[0;34m\u001b[0m\u001b[0m\n\u001b[0m\u001b[1;32m      3\u001b[0m   \u001b[0msubmission_writer\u001b[0m\u001b[0;34m.\u001b[0m\u001b[0mwriterow\u001b[0m\u001b[0;34m(\u001b[0m\u001b[0;34m[\u001b[0m\u001b[0;34m'srch_id'\u001b[0m\u001b[0;34m,\u001b[0m \u001b[0;34m'prop_id'\u001b[0m\u001b[0;34m]\u001b[0m\u001b[0;34m)\u001b[0m\u001b[0;34m\u001b[0m\u001b[0;34m\u001b[0m\u001b[0m\n\u001b[1;32m      4\u001b[0m   \u001b[0;32mfor\u001b[0m \u001b[0msearch\u001b[0m \u001b[0;32min\u001b[0m \u001b[0mresults\u001b[0m\u001b[0;34m:\u001b[0m\u001b[0;34m\u001b[0m\u001b[0;34m\u001b[0m\u001b[0m\n\u001b[1;32m      5\u001b[0m     \u001b[0;32mfor\u001b[0m \u001b[0mrow\u001b[0m \u001b[0;32min\u001b[0m \u001b[0msearch\u001b[0m\u001b[0;34m:\u001b[0m\u001b[0;34m\u001b[0m\u001b[0;34m\u001b[0m\u001b[0m\n",
            "\u001b[0;31mTypeError\u001b[0m: \"delimiter\" must be a 1-character string"
          ]
        }
      ]
    }
  ]
}