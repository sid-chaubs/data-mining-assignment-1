{
  "nbformat": 4,
  "nbformat_minor": 0,
  "metadata": {
    "colab": {
      "name": "DMT_1.ipynb",
      "provenance": [],
      "include_colab_link": true
    },
    "kernelspec": {
      "name": "python3",
      "display_name": "Python 3"
    },
    "language_info": {
      "name": "python"
    }
  },
  "cells": [
    {
      "cell_type": "markdown",
      "metadata": {
        "id": "view-in-github",
        "colab_type": "text"
      },
      "source": [
        "<a href=\"https://colab.research.google.com/github/sid-chaubs/data-mining-assignment-1/blob/main/DMT_1.ipynb\" target=\"_parent\"><img src=\"https://colab.research.google.com/assets/colab-badge.svg\" alt=\"Open In Colab\"/></a>"
      ]
    },
    {
      "cell_type": "code",
      "metadata": {
        "colab": {
          "base_uri": "https://localhost:8080/"
        },
        "id": "7Zz7kjDUSZNc",
        "outputId": "f7393990-2fc9-49c3-e795-d20a193ca555"
      },
      "source": [
        "!git clone https://github.com/sid-chaubs/data-mining-assignment-1.git\n",
        "%cd data-mining-assignment-1/"
      ],
      "execution_count": 1,
      "outputs": [
        {
          "output_type": "stream",
          "text": [
            "Cloning into 'data-mining-assignment-1'...\n",
            "remote: Enumerating objects: 20, done.\u001b[K\n",
            "remote: Counting objects: 100% (20/20), done.\u001b[K\n",
            "remote: Compressing objects: 100% (19/19), done.\u001b[K\n",
            "remote: Total 20 (delta 9), reused 0 (delta 0), pack-reused 0\u001b[K\n",
            "Unpacking objects: 100% (20/20), done.\n",
            "/content/data-mining-assignment-1\n"
          ],
          "name": "stdout"
        }
      ]
    },
    {
      "cell_type": "code",
      "metadata": {
        "id": "zoPX7Irs8qAe",
        "colab": {
          "base_uri": "https://localhost:8080/",
          "height": 328
        },
        "outputId": "677eeb29-4f53-4832-9df0-6b1e542aa1c7"
      },
      "source": [
        "import numpy as np\n",
        "import matplotlib.pyplot as plt\n",
        "import pandas as pd\n",
        "import regex\n",
        "from scipy import stats\n",
        "\n",
        "pd.set_option('display.precision', 2)\n",
        "#read in data\n",
        "data = pd.read_csv('ODI-2021.csv')\n",
        "print('Original data shape: ', data.shape)\n",
        "#sanitize programmes\n",
        "data['Programme'] = data['What programme are you in?'].apply(lambda s: regex.sub(r'(masters|master|msc|m\\s|\\sat.*|\\suva|\\(uva\\)|\\\\|\\svu)', '', s.lower()))\n",
        "\n",
        "\n",
        "#sanitize birthdays\n",
        "data['Birthday'] = pd.to_datetime(data['When is your birthday (date)?'], errors='coerce')\n",
        "\n",
        "#normalize course participation data\n",
        "data['DB course taken'] = data['Have you taken a course on databases?'] == 'ja'\n",
        "data['Information retrieval course taken'] = data['Have you taken a course on information retrieval?'] == '1'\n",
        "data['ML course taken'] = data['Have you taken a course on machine learning?'] == 'yes'\n",
        "data['Statistics course taken'] = data['Have you taken a course on statistics?'] == 'mu'\n",
        "\n",
        "#sanitize/convert other columns\n",
        "data['Number of neighbors'] = pd.to_numeric(data['Number of neighbors sitting around you?'], errors='coerce')\n",
        "data['Stood up'] = data['Did you stand up?'] == 'yes'\n",
        "\n",
        "data['Stress level'] = pd.to_numeric(data['What is your stress level (0-100)?'], errors='coerce')\n",
        "data['Stress level'] = list(map(lambda d: min(100, d), data['Stress level']))\n",
        "data['Competition reward'] = pd.to_numeric(data['You can get 100 euros if you win a local DM competition, or we don’t hold any competitions and I give everyone some money (not the same amount!). How much do you think you would deserve then? '], errors='coerce')\n",
        "data['Random number'] = pd.to_numeric(data['Give a random number'], errors='coerce')\n",
        "\n",
        "match_single_hours = r'(^[0-9]+)\\s*(am|pm|$)$'\n",
        "match_dots = r'([0-9]+)\\.([0-9]+)'\n",
        "#sanitize bedtime\n",
        "data['Bedtime'] = pd.to_datetime(list(map(lambda dt: regex.sub(match_single_hours, r'\\1:00 \\2', dt), \n",
        "                                          map(lambda dt: regex.sub(match_dots, r'\\1:\\2', dt), data['Time you went to be Yesterday']))), \n",
        "                                 errors='coerce')\n",
        "data['Bedtime'].groupby(data['Bedtime'].dt.hour).count().plot(kind='bar')"
      ],
      "execution_count": 67,
      "outputs": [
        {
          "output_type": "stream",
          "text": [
            "Original data shape:  (313, 17)\n"
          ],
          "name": "stdout"
        },
        {
          "output_type": "execute_result",
          "data": {
            "text/plain": [
              "<matplotlib.axes._subplots.AxesSubplot at 0x7f013cc7f450>"
            ]
          },
          "metadata": {
            "tags": []
          },
          "execution_count": 67
        },
        {
          "output_type": "display_data",
          "data": {
            "image/png": "[encoded data removed]",
            "text/plain": [
              "<Figure size 432x288 with 1 Axes>"
            ]
          },
          "metadata": {
            "tags": [],
            "needs_background": "light"
          }
        }
      ]
    },
    {
      "cell_type": "code",
      "metadata": {
        "colab": {
          "base_uri": "https://localhost:8080/"
        },
        "id": "I297nDwclPou",
        "outputId": "42f16e85-f83b-4b9f-c0bd-33c41b9c844f"
      },
      "source": [
        "#different regexs for matching possible observed programme names \n",
        "match_superfluous = r'(masters|master|msc|m\\s|\\sat.*|\\suva|\\(uva\\)|\\\\|\\svu)'\n",
        "match_cs = r'.*(^cs|\\scs|computer science|computational science).*'\n",
        "match_ai = r'.*(^ai|\\sai|artificial intelli).*'\n",
        "match_bio = r'.*(bioinformatics and s.*|bioinformatics & systems biology).*'\n",
        "match_qrm = r'.*(qrm|quantative risk management|quantitative risk management).*'\n",
        "match_ba = r'.*(^ba|\\sba|business analytics)'\n",
        "match_eor = r'.*(^eor|^e&or|^or|econometrics and op.*|econometrics & op.*)'\n",
        "match_eds = r'.*(^eds|econometrics and data science.*)'\n",
        "match_ec = r'.*(econometrics)'\n",
        "match_ft = r'.*(^ft|fintech|finance & technology|finance and technology)'\n",
        "\n",
        "#zip the matching regexes and corresponding substitutions together\n",
        "regsubs = zip([match_superfluous, match_cs, match_ai, match_bio, match_qrm, match_ba, match_eor, match_eds, match_ec, match_ft],\n",
        "              ['', 'Computer Science', 'Artificial Intelligence', 'Bioinformatics and Systems Biology', 'Quantitative Risk Management',\n",
        "               'Business Analytics', 'Econometrics and Operations Research', 'Econometrics and Data Science', 'Econometrics', 'Finance and Technology'])\n",
        "\n",
        "def regex_to_sub(re, substr):\n",
        "  '''Helper function for creating an anonymous substitution function with regex.'''\n",
        "  return lambda s: regex.sub(re, substr, s)\n",
        "\n",
        "#convert to lowercase, substitute course names, remove leading/trailing spaces and capitalize everything left\n",
        "regfuncs = [lambda s: s.lower()]\\\n",
        "  + [regex_to_sub(re, s) for re, s in regsubs]\\\n",
        "  + [str.strip, lambda s: s[0].upper() + s[1:]] \n",
        "\n",
        "def chain_sanitize(data, funcs):\n",
        "  '''Apply a list of functions to data in sequence and return the result.'''\n",
        "  res = data\n",
        "  for f in funcs:\n",
        "    res = res.apply(f)\n",
        "  return res\n",
        "\n",
        "data['Programme'] = chain_sanitize(data['What programme are you in?'], regfuncs)\n",
        "list(data['Programme'])"
      ],
      "execution_count": 115,
      "outputs": [
        {
          "output_type": "execute_result",
          "data": {
            "text/plain": [
              "['Tax law - tax and technology',\n",
              " 'Artificial Intelligence',\n",
              " 'Dmt',\n",
              " 'Computer Science',\n",
              " 'Artificial Intelligence',\n",
              " 'Systesecurity',\n",
              " 'Quantitative Risk Management',\n",
              " 'Computer Science',\n",
              " 'Artificial Intelligence',\n",
              " 'Artificial Intelligence',\n",
              " 'Computer Science',\n",
              " 'Artificial Intelligence',\n",
              " 'Big data engineering',\n",
              " 'Bioinformatics and Systems Biology',\n",
              " 'Human language technology',\n",
              " 'Artificial Intelligence',\n",
              " 'Computer Science',\n",
              " 'Artificial Intelligence',\n",
              " 'Quantitative Risk Management',\n",
              " 'Business Analytics',\n",
              " 'Artificial Intelligence',\n",
              " 'Computer Science',\n",
              " 'Computer Science',\n",
              " 'Computer Science',\n",
              " 'Computer Science',\n",
              " 'Artificial Intelligence',\n",
              " 'Linguistics: text mining',\n",
              " 'Bioinformatics and Systems Biology',\n",
              " 'Business Analytics',\n",
              " 'Bioinformatics and Systems Biology',\n",
              " 'Computer Science',\n",
              " 'Python',\n",
              " 'Econometrics and Operations Research',\n",
              " 'Computer Science',\n",
              " 'Computer Science',\n",
              " 'Computer Science',\n",
              " 'Rma human language technology',\n",
              " 'Human language technology (research  linguistics)',\n",
              " 'Econometrics and Operations Research',\n",
              " 'Econometrics & data science',\n",
              " 'Artificial Intelligence',\n",
              " 'Econometrics and Operations Research',\n",
              " 'Econometrics and Operations Research',\n",
              " 'Quantitative Risk Management',\n",
              " 'Artificial Intelligence',\n",
              " 'Business Analytics',\n",
              " 'Artificial Intelligence',\n",
              " 'Computer Science',\n",
              " 'Linguistics text mining',\n",
              " 'Econometrics',\n",
              " 'Econometrics and Data Science',\n",
              " 'Econometrics',\n",
              " 'Artificial Intelligence',\n",
              " 'Artificial Intelligence',\n",
              " 'Artificial Intelligence',\n",
              " 'Business Analytics',\n",
              " 'Finance and Technology',\n",
              " 'Bioinformatics and Systems Biology',\n",
              " 'Artificial Intelligence',\n",
              " 'Quantitative Risk Management',\n",
              " 'Quantitative Risk Management',\n",
              " 'Econometrics and Operations Research',\n",
              " 'Quantitative Risk Management',\n",
              " 'Computer Science',\n",
              " 'Artificial Intelligence',\n",
              " 'Econometrics and Operations Research',\n",
              " 'Bioinformatics and Systems Biology',\n",
              " 'Finance and Technology',\n",
              " 'Business Analytics',\n",
              " 'Econometrics and Operations Research',\n",
              " 'Econometrics',\n",
              " 'Computer Science',\n",
              " 'Quantitative Risk Management',\n",
              " 'Business Analytics',\n",
              " 'Artificial Intelligence',\n",
              " 'Medical informatics',\n",
              " 'Artificial Intelligence',\n",
              " 'Business Analytics',\n",
              " 'Mathematics',\n",
              " 'Business Analytics',\n",
              " 'Business Analytics',\n",
              " 'Research  human language technology',\n",
              " 'Business Analytics',\n",
              " 'Finance and Technology',\n",
              " 'Artificial Intelligence',\n",
              " 'Business Analytics',\n",
              " 'Computer Science',\n",
              " 'Econometrics and Data Science',\n",
              " 'Computer Science',\n",
              " 'Business Analytics',\n",
              " 'Artificial Intelligence',\n",
              " 'Computer Science',\n",
              " 'Artificial Intelligence',\n",
              " 'Computer Science',\n",
              " 'Artificial Intelligence',\n",
              " 'Artificial Intelligence',\n",
              " 'Artificial Intelligence',\n",
              " 'Artificial Intelligence',\n",
              " 'Artificial Intelligence',\n",
              " 'Business Analytics',\n",
              " 'Artificial Intelligence',\n",
              " 'Quantitative Risk Management',\n",
              " 'Finance and Technology',\n",
              " 'Business Analytics',\n",
              " 'Econometrics',\n",
              " 'Computer Science',\n",
              " 'Bioinformatics and Systems Biology',\n",
              " 'Quantitative Risk Management',\n",
              " 'Bioinformatics and Systems Biology',\n",
              " 'Computer Science',\n",
              " 'Research  human movement sciences (fgb)',\n",
              " 'Computer Science',\n",
              " 'Mathematics',\n",
              " 'Business Analytics',\n",
              " 'Artificial Intelligence',\n",
              " 'Computer Science',\n",
              " 'Finance and Technology',\n",
              " 'Artificial Intelligence',\n",
              " 'Information studies',\n",
              " 'Medical informatics',\n",
              " 'Econometrics',\n",
              " 'Artificial Intelligence',\n",
              " 'Artificial Intelligence',\n",
              " 'Computer Science',\n",
              " 'Computer Science',\n",
              " 'Honours  f&t',\n",
              " 'Computer Science',\n",
              " 'Finance and Technology',\n",
              " 'Bioinformatics and Systems Biology',\n",
              " 'Business Analytics',\n",
              " 'Business Analytics',\n",
              " 'Business Analytics',\n",
              " 'Cls',\n",
              " 'Artificial Intelligence',\n",
              " 'Artificial Intelligence',\n",
              " 'Computer Science',\n",
              " 'Artificial Intelligence',\n",
              " 'Econometrics',\n",
              " 'Computer Science',\n",
              " 'Artificial Intelligence',\n",
              " 'Business administration',\n",
              " 'Artificial Intelligence',\n",
              " 'Artificial Intelligence',\n",
              " 'Rai, rcognitive neuropsychology',\n",
              " 'Rma human language technology',\n",
              " 'Business Analytics',\n",
              " 'Bioinformatics',\n",
              " 'Computer Science',\n",
              " 'Stochastics and financial mathematics',\n",
              " 'Artificial Intelligence',\n",
              " 'Computer Science',\n",
              " 'Artificial Intelligence',\n",
              " 'Artificial Intelligence',\n",
              " 'Artificial Intelligence',\n",
              " 'Econometrics',\n",
              " 'Econometrics and Data Science',\n",
              " 'Artificial Intelligence',\n",
              " 'Artificial Intelligence',\n",
              " 'Artificial Intelligence',\n",
              " 'Data science',\n",
              " 'Computer Science',\n",
              " 'Information sciences',\n",
              " 'Business Analytics',\n",
              " 'Artificial Intelligence',\n",
              " 'Computer Science',\n",
              " 'Artificial Intelligence',\n",
              " 'Artificial Intelligence',\n",
              " 'Artificial Intelligence',\n",
              " 'Business Analytics',\n",
              " 'Econometrics and Operations Research',\n",
              " 'Artificial Intelligence',\n",
              " 'Information sciences',\n",
              " 'Information studies (data science) @',\n",
              " 'Computer Science',\n",
              " 'Artificial Intelligence',\n",
              " 'Econometrics and Operations Research',\n",
              " 'Bioinfromatics',\n",
              " 'Econometrics and Operations Research',\n",
              " 'Artificial Intelligence',\n",
              " 'Econometrics and Operations Research',\n",
              " 'Cls',\n",
              " 'Econometrics & data science',\n",
              " 'Bioinformatics and Systems Biology',\n",
              " 'Computer Science',\n",
              " 'Management, policy-analysis and entrepreneurship in health & life sciences',\n",
              " 'Econometrics',\n",
              " 'Computer Science',\n",
              " 'Finance and Technology',\n",
              " 'Artificial Intelligence',\n",
              " 'Computer Science',\n",
              " 'Computer Science',\n",
              " 'Computer Science',\n",
              " 'Econometrics and Operations Research',\n",
              " 'Computer Science',\n",
              " 'Bioinformatics',\n",
              " 'Artificial Intelligence',\n",
              " 'Computer Science',\n",
              " 'Bioinformatics and Systems Biology',\n",
              " 'Computer Science',\n",
              " 'Computer Science',\n",
              " 'Artificial Intelligence',\n",
              " 'Hlt',\n",
              " 'Computer Science',\n",
              " 'Artificial Intelligence',\n",
              " 'Artificial Intelligence',\n",
              " 'Data science',\n",
              " 'Bioinformatics and Systems Biology',\n",
              " 'Information studies data science',\n",
              " 'Computer Science',\n",
              " 'Artificial Intelligence',\n",
              " 'Computer Science',\n",
              " 'Business Analytics',\n",
              " 'Business Analytics',\n",
              " 'Business Analytics',\n",
              " 'Computer Science',\n",
              " 'Artificial Intelligence',\n",
              " 'Computer Science',\n",
              " 'Artificial Intelligence',\n",
              " 'Business Analytics',\n",
              " 'Computer Science',\n",
              " 'Computer Science',\n",
              " 'Computer Science',\n",
              " 'Business Analytics',\n",
              " 'Econometrics and Data Science',\n",
              " 'Bioinformatics and Systems Biology',\n",
              " 'Artificial Intelligence',\n",
              " 'Information studies: data science (track)',\n",
              " 'Bioinformatics',\n",
              " 'Artificial Intelligence',\n",
              " 'Https://forms.gle/ety4nes3khrqptmla',\n",
              " 'Data science (information studies)',\n",
              " 'Business Analytics',\n",
              " 'Computer Science',\n",
              " 'Business Analytics',\n",
              " 'Artificial Intelligence',\n",
              " 'Artificial Intelligence',\n",
              " 'Artificial Intelligence',\n",
              " 'Bioinformatics',\n",
              " 'Bioinformatics',\n",
              " 'Quantitative Risk Management',\n",
              " 'Business Analytics',\n",
              " 'Artificial Intelligence',\n",
              " 'Artificial Intelligence',\n",
              " 'Business Analytics',\n",
              " 'Artificial Intelligence',\n",
              " 'Quantitative Risk Management',\n",
              " 'Econometrics and Data Science',\n",
              " 'Artificial Intelligence',\n",
              " 'Business Analytics',\n",
              " 'Bioinformatics',\n",
              " 'Finance and Technology',\n",
              " 'Bioinformatics',\n",
              " 'Bioinformatics and Systems Biology',\n",
              " 'Computer Science',\n",
              " 'Econometrics and Operations Research',\n",
              " 'Computer Science',\n",
              " 'Business Analytics',\n",
              " 'Bioinformatics and Systems Biology',\n",
              " 'Artificial Intelligence',\n",
              " 'Bioinformatics and Systems Biology',\n",
              " 'Business Analytics',\n",
              " 'Computer Science',\n",
              " 'Quantitative Risk Management',\n",
              " 'Computer Science',\n",
              " 'Artificial Intelligence',\n",
              " 'Artificial Intelligence',\n",
              " 'Finance and Technology',\n",
              " 'Artificial Intelligence',\n",
              " 'Artificial Intelligence',\n",
              " 'Business Analytics',\n",
              " 'Artificial Intelligence',\n",
              " 'Bioinformatics and Systems Biology',\n",
              " 'Artificial Intelligence',\n",
              " 'Artificial Intelligence',\n",
              " 'Bioinformatics and Systems Biology',\n",
              " 'Artificial Intelligence',\n",
              " 'Bioinformatics',\n",
              " 'Bioinformatics and Systems Biology',\n",
              " 'Artificial Intelligence',\n",
              " 'Bioinformatics and Systems Biology',\n",
              " 'Econometrics and Data Science',\n",
              " 'Je zusje',\n",
              " 'Econometrics and Data Science',\n",
              " 'Artificial Intelligence',\n",
              " 'Quantitative Risk Management',\n",
              " 'Bioinformatics and Systems Biology',\n",
              " 'Artificial Intelligence',\n",
              " 'Econometrics',\n",
              " 'Computer Science',\n",
              " 'Information studies: data science',\n",
              " 'Bioinformatics and Systems Biology',\n",
              " 'Econometrics and Operations Research',\n",
              " 'Data science track',\n",
              " 'Mathematics',\n",
              " 'Econometrics and Operations Research',\n",
              " 'Artificial Intelligence',\n",
              " 'Quantitative Risk Management',\n",
              " 'Artificial Intelligence',\n",
              " 'Bioinformatics',\n",
              " 'Artificial Intelligence',\n",
              " 'Econometrics',\n",
              " 'Econometrics and Data Science',\n",
              " 'Econometrics and Data Science',\n",
              " 'Artificial Intelligence',\n",
              " 'Finance',\n",
              " 'Artificial Intelligence',\n",
              " 'Information studies',\n",
              " 'Bioinformatics and Systems Biology',\n",
              " 'Artificial Intelligence',\n",
              " 'Finance and Technology',\n",
              " 'Finance and Technology',\n",
              " 'Quantitative Risk Management',\n",
              " 'Business Analytics']"
            ]
          },
          "metadata": {
            "tags": []
          },
          "execution_count": 115
        }
      ]
    },
    {
      "cell_type": "code",
      "metadata": {
        "colab": {
          "base_uri": "https://localhost:8080/",
          "height": 283
        },
        "id": "YLFr1Mz2Idq8",
        "outputId": "8555ee7d-2f9c-4309-ce6a-8fc2b2d9aad0"
      },
      "source": [
        "data.loc[(data['What is your gender?'] == 'female')]['Stress level'].plot()"
      ],
      "execution_count": 4,
      "outputs": [
        {
          "output_type": "execute_result",
          "data": {
            "text/plain": [
              "<matplotlib.axes._subplots.AxesSubplot at 0x7f0145c8dc10>"
            ]
          },
          "metadata": {
            "tags": []
          },
          "execution_count": 4
        },
        {
          "output_type": "display_data",
          "data": {
            "image/png": "[encoded data removed]",
            "text/plain": [
              "<Figure size 432x288 with 1 Axes>"
            ]
          },
          "metadata": {
            "tags": [],
            "needs_background": "light"
          }
        }
      ]
    },
    {
      "cell_type": "code",
      "metadata": {
        "id": "7bqBxy-rBCKz"
      },
      "source": [
        "gendermeans = data.groupby(['What is your gender?']).mean()"
      ],
      "execution_count": 5,
      "outputs": []
    },
    {
      "cell_type": "code",
      "metadata": {
        "colab": {
          "base_uri": "https://localhost:8080/",
          "height": 301
        },
        "id": "IDY8K2YGBq7I",
        "outputId": "1a6043ee-b9d7-491d-f9b1-23bb8aa24e76"
      },
      "source": [
        "gendermeans['Stress level'].plot(ylabel='Stress level', ylim=(0,100))"
      ],
      "execution_count": 6,
      "outputs": [
        {
          "output_type": "execute_result",
          "data": {
            "text/plain": [
              "<matplotlib.axes._subplots.AxesSubplot at 0x7f014574d750>"
            ]
          },
          "metadata": {
            "tags": []
          },
          "execution_count": 6
        },
        {
          "output_type": "display_data",
          "data": {
            "image/png": "[encoded data removed]",
            "text/plain": [
              "<Figure size 432x288 with 1 Axes>"
            ]
          },
          "metadata": {
            "tags": [],
            "needs_background": "light"
          }
        }
      ]
    },
    {
      "cell_type": "code",
      "metadata": {
        "colab": {
          "base_uri": "https://localhost:8080/",
          "height": 283
        },
        "id": "PJiQ-1F0tr9T",
        "outputId": "588a5a59-494a-406d-c668-b43b452c3e15"
      },
      "source": [
        "data.loc[data['What is your gender?']=='male']['Stress level'].hist()\n",
        "data.loc[data['What is your gender?']=='female']['Stress level'].hist()\n",
        "plt.legend(['Male', 'Female'])"
      ],
      "execution_count": 7,
      "outputs": [
        {
          "output_type": "execute_result",
          "data": {
            "text/plain": [
              "<matplotlib.legend.Legend at 0x7f01456ae590>"
            ]
          },
          "metadata": {
            "tags": []
          },
          "execution_count": 7
        },
        {
          "output_type": "display_data",
          "data": {
            "image/png": "[encoded data removed]",
            "text/plain": [
              "<Figure size 432x288 with 1 Axes>"
            ]
          },
          "metadata": {
            "tags": [],
            "needs_background": "light"
          }
        }
      ]
    },
    {
      "cell_type": "markdown",
      "metadata": {
        "id": "7xctuwKxRkdY"
      },
      "source": [
        "Overall gender composition of the course:"
      ]
    },
    {
      "cell_type": "code",
      "metadata": {
        "id": "3Zbj0dZ5RNPL",
        "outputId": "a08cdc22-0f28-4fc5-d7d3-52e71a6090ae",
        "colab": {
          "base_uri": "https://localhost:8080/",
          "height": 266
        }
      },
      "source": [
        "gender_counts = data.groupby(['What is your gender?']).size()\n",
        "gender_counts.plot.pie(autopct='%.1f')"
      ],
      "execution_count": 132,
      "outputs": [
        {
          "output_type": "execute_result",
          "data": {
            "text/plain": [
              "<matplotlib.axes._subplots.AxesSubplot at 0x7f012e978690>"
            ]
          },
          "metadata": {
            "tags": []
          },
          "execution_count": 132
        },
        {
          "output_type": "display_data",
          "data": {
            "image/png": "[encoded data removed]",
            "text/plain": [
              "<Figure size 432x288 with 1 Axes>"
            ]
          },
          "metadata": {
            "tags": []
          }
        }
      ]
    },
    {
      "cell_type": "markdown",
      "metadata": {
        "id": "MD7SeKQmRrUN"
      },
      "source": [
        "Most popular programmes amongst course-takers:"
      ]
    },
    {
      "cell_type": "code",
      "metadata": {
        "id": "eJGnxw-2RwdY",
        "outputId": "918c0cc5-e75e-431d-9107-2d415851de7e",
        "colab": {
          "base_uri": "https://localhost:8080/"
        }
      },
      "source": [
        "most_popular_progs = data.groupby(['Programme']).size().nlargest(4)\n",
        "print('Programme counts:\\n', most_popular_progs)\n",
        "print('Most popular programmes account for {0:.2f}% of all represented programmes'\n",
        "  .format(100 * most_popular_progs.sum()/data.shape[0]))"
      ],
      "execution_count": 182,
      "outputs": [
        {
          "output_type": "stream",
          "text": [
            "Programme counts:\n",
            " Programme\n",
            "Artificial Intelligence               87\n",
            "Computer Science                      56\n",
            "Business Analytics                    35\n",
            "Bioinformatics and Systems Biology    22\n",
            "dtype: int64\n",
            "Most popular programmes account for 63.90% of all represented programmes\n"
          ],
          "name": "stdout"
        }
      ]
    },
    {
      "cell_type": "code",
      "metadata": {
        "id": "fRLBdBUfgP9l"
      },
      "source": [
        "gender_programmes = data.groupby(['What is your gender?', 'Programme']).size()"
      ],
      "execution_count": 116,
      "outputs": []
    },
    {
      "cell_type": "code",
      "metadata": {
        "id": "1Wgkb-hHD5Bu",
        "outputId": "99f21b14-c987-434c-ef4a-96b9e6f1e527",
        "colab": {
          "base_uri": "https://localhost:8080/",
          "height": 274
        }
      },
      "source": [
        "gp_unstacked = gender_programmes.unstack(fill_value=0)\n",
        "programmes = ['Artificial Intelligence', 'Computer Science', 'Bioinformatics and Systems Biology', 'Business Analytics']\n",
        "fig, axes = plt.subplots(nrows=1, ncols=len(programmes), figsize=(20,5))\n",
        "\n",
        "#create a few pie charts for select most popular programmes to get an idea of gender distribution\n",
        "for i, programme in enumerate(programmes):\n",
        "  gp_unstacked[programme].plot.pie(autopct='%1.f%%', ax=axes[i])"
      ],
      "execution_count": 141,
      "outputs": [
        {
          "output_type": "display_data",
          "data": {
            "image/png": "[encoded data removed]",
            "text/plain": [
              "<Figure size 1440x360 with 4 Axes>"
            ]
          },
          "metadata": {
            "tags": []
          }
        }
      ]
    },
    {
      "cell_type": "markdown",
      "metadata": {
        "id": "r-wGojZYWQWV"
      },
      "source": [
        "Note that this doesn't necessarily represent the distributions of genders in these courses as it is possible that we're dealing with a biased sample of participants who took this course. (In other words, the distribution of genders in these programmes could be even, but a majority of males from them took Data Mining as a course)"
      ]
    },
    {
      "cell_type": "code",
      "metadata": {
        "id": "jZYeK7MieN9-",
        "outputId": "385569ff-fb49-4e7f-a5d3-776d9d1560e7",
        "colab": {
          "base_uri": "https://localhost:8080/"
        }
      },
      "source": [
        "#get the total number of participants by gender in most popular programmes\n",
        "totals_in_popular = gp_unstacked[programmes].sum(axis=1).values\n",
        "others_count = gender_counts.values - totals_in_popular\n",
        "stats.chi2_contingency(pd.DataFrame.from_records([totals_in_popular, others_count]))"
      ],
      "execution_count": 212,
      "outputs": [
        {
          "output_type": "execute_result",
          "data": {
            "text/plain": [
              "(1.1133843737705376,\n",
              " 0.5731016451083633,\n",
              " 2,\n",
              " array([[ 64.53674121, 130.3514377 ,   5.11182109],\n",
              "        [ 36.46325879,  73.6485623 ,   2.88817891]]))"
            ]
          },
          "metadata": {
            "tags": []
          },
          "execution_count": 212
        }
      ]
    },
    {
      "cell_type": "markdown",
      "metadata": {
        "id": "nzF0sWmpeVzr"
      },
      "source": [
        "With a p-value of >0.57 we see that there is no significant effect of gender on studying one of the four most popular programmes for this course vs the others. We can also ask whether there is a relationship between gender and any specific programme in the top four:"
      ]
    },
    {
      "cell_type": "code",
      "metadata": {
        "id": "qszDxDKRKmVG",
        "outputId": "10b5a3ad-f93d-4558-8af6-870bfb3afc83",
        "colab": {
          "base_uri": "https://localhost:8080/"
        }
      },
      "source": [
        "print('p-value for chi-squared contingency test of most popular programmes for this course: ',\n",
        "      stats.chi2_contingency(gp_unstacked[programmes])[1])"
      ],
      "execution_count": 169,
      "outputs": [
        {
          "output_type": "stream",
          "text": [
            "p-value for chi-squared contingency test of most popular programmes for this course:  0.38450255563355384\n"
          ],
          "name": "stdout"
        }
      ]
    },
    {
      "cell_type": "markdown",
      "metadata": {
        "id": "Etr0WB2rZNhf"
      },
      "source": [
        "Thus, among the four most popular programmes, even though there is an imbalance between the amount of male vs female programme candidates, there is no significant effect of gender vs choosing one of the most popular programmes, nor is there a significant gender effect within those programmes."
      ]
    }
  ]
}