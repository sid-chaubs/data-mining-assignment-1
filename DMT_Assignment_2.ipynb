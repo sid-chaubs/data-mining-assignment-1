{
  "nbformat": 4,
  "nbformat_minor": 0,
  "metadata": {
    "colab": {
      "name": "DMT_Assignment_2.ipynb",
      "provenance": [],
      "collapsed_sections": [],
      "authorship_tag": "ABX9TyNxCpPFTpuMeZk+7XtnkdRZ",
      "include_colab_link": true
    },
    "kernelspec": {
      "name": "python3",
      "display_name": "Python 3"
    },
    "language_info": {
      "name": "python"
    }
  },
  "cells": [
    {
      "cell_type": "markdown",
      "metadata": {
        "id": "view-in-github",
        "colab_type": "text"
      },
      "source": [
        "<a href=\"https://colab.research.google.com/github/sid-chaubs/data-mining-assignment-1/blob/main/DMT_Assignment_2.ipynb\" target=\"_parent\"><img src=\"https://colab.research.google.com/assets/colab-badge.svg\" alt=\"Open In Colab\"/></a>"
      ]
    },
    {
      "cell_type": "markdown",
      "metadata": {
        "id": "tHMx71i3f1fZ"
      },
      "source": [
        "#1. Loading and formatting data"
      ]
    },
    {
      "cell_type": "code",
      "metadata": {
        "colab": {
          "base_uri": "https://localhost:8080/"
        },
        "id": "vttOJfcKKBC4",
        "outputId": "3b897b4f-e4ee-4c33-a624-bca966e1ce7b"
      },
      "source": [
        "from google.colab import drive\n",
        "drive.mount('/content/datadrive')"
      ],
      "execution_count": 73,
      "outputs": [
        {
          "output_type": "stream",
          "text": [
            "Drive already mounted at /content/datadrive; to attempt to forcibly remount, call drive.mount(\"/content/datadrive\", force_remount=True).\n"
          ],
          "name": "stdout"
        }
      ]
    },
    {
      "cell_type": "code",
      "metadata": {
        "colab": {
          "base_uri": "https://localhost:8080/"
        },
        "id": "k9978hdDKQC0",
        "outputId": "45aba531-c83f-4561-a98a-2eff4c3eb4c8"
      },
      "source": [
        "!mkdir /content/training_data\n",
        "!mkdir /content/test_data\n",
        "!unzip -o /content/datadrive/MyDrive/training_set_VU_DM.csv.zip -d /content/training_data/\n",
        "!unzip -o /content/datadrive/MyDrive/test_set_VU_DM.csv.zip -d /content/test_data/\n",
        "!pip install -q tensorflow-recommenders\n",
        "!pip install -q --upgrade tensorflow-datasets\n",
        "!pip install -q scann\n",
        "!pip install -q surprise"
      ],
      "execution_count": 74,
      "outputs": [
        {
          "output_type": "stream",
          "text": [
            "mkdir: cannot create directory ‘/content/training_data’: File exists\n",
            "mkdir: cannot create directory ‘/content/test_data’: File exists\n",
            "Archive:  /content/datadrive/MyDrive/training_set_VU_DM.csv.zip\n",
            "  inflating: /content/training_data/training_set_VU_DM.csv  \n",
            "Archive:  /content/datadrive/MyDrive/test_set_VU_DM.csv.zip\n",
            "  inflating: /content/test_data/test_set_VU_DM.csv  \n"
          ],
          "name": "stdout"
        }
      ]
    },
    {
      "cell_type": "code",
      "metadata": {
        "id": "dU3iBqtKMfKf"
      },
      "source": [
        "import pandas as pd\n",
        "import numpy as np\n",
        "import scipy as sp\n",
        "import matplotlib.pyplot as plt\n",
        "import seaborn as sns\n",
        "from yellowbrick import target, features\n",
        "import tensorflow as tf\n",
        "import tensorflow_datasets as tfds\n",
        "import tensorflow_recommenders as tfrs\n",
        "import surprise\n",
        "\n",
        "SEED = 1337 * 420 * 69\n",
        "SAMPLE_SIZE = 5000\n",
        "\n",
        "np.random.seed(SEED)"
      ],
      "execution_count": 75,
      "outputs": []
    },
    {
      "cell_type": "markdown",
      "metadata": {
        "id": "7-PLOO69NU2-"
      },
      "source": [
        "|Column Name|Data Type|Description|\n",
        "|-----------|---------|-----------|\n",
        "|srch_id|Integer|The ID of the search|\n",
        "|date_time|Date/time|Date and time of the search|\n",
        "|site_id|Integer|ID of the Expedia point of sale (i.e. Expedia.com, Expedia.co.uk, Expedia.co.jp, ..)|\n",
        "|visitor_location_country_id |Integer|The ID of the country the customer is located|\n",
        "|visitor_hist_starrating |Float|The mean star rating of hotels the customer has previously purchased; null signifies there is no purchase history on the customer|\n",
        "|visitor_hist_adr_usd|Float|The mean price per night (in US$) of the hotels the customer has previously purchased; null signifies there is no purchase history on the customer|\n",
        "|prop_country_id|Integer|The ID of the country the hotel is located in|\n",
        "|prop_id|Integer|The ID of the hotel|\n",
        "|prop_starrating|Integer|The star rating of the hotel, from 1 to 5, in increments of 1.  A 0 indicates the property has no stars, the star rating is not known or cannot be publicized.|\n",
        "|prop_review_score|Float|The mean customer review score for the hotel on a scale out of 5, rounded to 0.5 increments. A 0 means there have been no reviews, null that the information is not available.|\n",
        "|prop_brand_bool|Integer|+1 if the hotel is part of a major hotel chain; 0 if it is an independent hotel|\n",
        "|prop_location_score1|Float|A (first) score outlining the desirability of a hotel’s location|\n",
        "|prop_location_score2|Float|A (second) score outlining the desirability of the hotel’s location|\n",
        "|prop_log_historical_price position|Float   Integer|The logarithm of the mean price of the hotel over the last trading period. A 0 will occur if the hotel was not sold in that period. Hotel position on Expedia's search results page. This is only provided for the training data, but not the test data.|\n",
        "|price_usd|Float|Displayed price of the hotel for the given search.  Note that different countries have different conventions regarding displaying taxes and fees and the value may be per night or for the whole stay|\n",
        "|promotion_flag|Integer|+1 if the hotel had a sale price promotion specifically displayed|\n",
        "|gross_booking_usd     srch_destination_id |Float     Integer|Total value of the transaction.  This can differ from the price_usd due to taxes, fees, conventions on multiple day bookings and purchase of a room type other than the one shown in the search ID of the destination where the hotel search was performed|\n",
        "|srch_length_of_stay|Integer|Number of nights stay that was searched|\n",
        "|srch_booking_window|Integer|Number of days in the future the hotel stay started from the search date|\n",
        "|srch_adults_count|Integer|The number of adults specified in the hotel room|\n",
        "|srch_children_count|Integer|The number of (extra occupancy) children specified in the hotel room|\n",
        "|srch_room_count|Integer|Number of hotel rooms specified in the search|\n",
        "|srch_saturday_night_bool|Boolean|+1 if the stay includes a Saturday night, starts from Thursday with a length of stay is less than or equal to 4 nights (i.e. weekend); otherwise 0|\n",
        "|srch_query_affinity_score|Float|The log of the probability a hotel will be clicked on in Internet searches (hence the values are negative)  A null signifies there are no data (i.e. hotel did not register in any searches)|\n",
        "|orig_destination_distance|Float|Physical distance between the hotel and the customer at the time of search. A null means the distance could not be calculated.|\n",
        "|random_bool|Boolean|+1 when the displayed sort was random, 0 when the normal sort order was displayed|\n",
        "| | | |\n",
        "|comp1_rate|Integer|+1 if Expedia has a lower price than competitor 1 for the hotel; 0 if the same; -1 if Expedia’s price is higher than competitor 1; null signifies there is no competitive data|\n",
        "|comp1_inv |Integer|+1 if competitor 1 does not have availability in the hotel; 0 if both Expedia and competitor 1 have availability; null signifies there is no competitive data|\n",
        "|comp1_rate_percent_diff|Float|The absolute percentage difference (if one exists) between Expedia and competitor 1’s price (Expedia’s price the denominator); null signifies there is no competitive data|\n",
        "|comp2_rate| | |\n",
        "|comp2_inv| |(same, for competitor 2 through 8)|\n"
      ]
    },
    {
      "cell_type": "code",
      "metadata": {
        "id": "ccyCQm8jMp4X"
      },
      "source": [
        "train_data = pd.read_csv('/content/training_data/training_set_VU_DM.csv')\n",
        "test_data = pd.read_csv('/content/test_data/test_set_VU_DM.csv')"
      ],
      "execution_count": 4,
      "outputs": []
    },
    {
      "cell_type": "code",
      "metadata": {
        "colab": {
          "base_uri": "https://localhost:8080/",
          "height": 377
        },
        "id": "PamT2I1HNHhC",
        "outputId": "350308c4-d1ba-469b-8895-da626142469f"
      },
      "source": [
        "train_data[train_data['price_usd'] < 1000]['price_usd'].hist()"
      ],
      "execution_count": 5,
      "outputs": [
        {
          "output_type": "execute_result",
          "data": {
            "text/plain": [
              "<matplotlib.axes._subplots.AxesSubplot at 0x7f380b3c6910>"
            ]
          },
          "metadata": {
            "tags": []
          },
          "execution_count": 5
        },
        {
          "output_type": "display_data",
          "data": {
            "image/png": "[encoded data removed]",
            "text/plain": [
              "<Figure size 576x396 with 1 Axes>"
            ]
          },
          "metadata": {
            "tags": []
          }
        }
      ]
    },
    {
      "cell_type": "code",
      "metadata": {
        "colab": {
          "base_uri": "https://localhost:8080/"
        },
        "id": "sOekb5VCJq09",
        "outputId": "cbf855bb-6859-4e11-f468-02df513facc4"
      },
      "source": [
        "nan_filter = np.sum(train_data.isna()) > 0.75 * train_data.shape[0]\n",
        "print('Dropping {0} columns: {1}'.format(len(train_data.columns[nan_filter]), train_data.columns[nan_filter]))\n",
        "train_data = train_data.drop(columns=train_data.columns[nan_filter])\n",
        "train_data.drop(columns=['date_time'], inplace=True)\n",
        "test_data.drop(columns=['date_time'], inplace=True) #not using date time to predict anything, since it's unlikely to be relevant\n",
        "train_data.drop(columns=['position'], inplace=True) #this does not appear in test data, so won't be a useful predictor\n",
        "data_sample = train_data.sample(SAMPLE_SIZE, random_state=SEED)"
      ],
      "execution_count": 6,
      "outputs": [
        {
          "output_type": "stream",
          "text": [
            "Dropping 20 columns: Index(['visitor_hist_starrating', 'visitor_hist_adr_usd',\n",
            "       'srch_query_affinity_score', 'comp1_rate', 'comp1_inv',\n",
            "       'comp1_rate_percent_diff', 'comp2_rate_percent_diff',\n",
            "       'comp3_rate_percent_diff', 'comp4_rate', 'comp4_inv',\n",
            "       'comp4_rate_percent_diff', 'comp5_rate_percent_diff', 'comp6_rate',\n",
            "       'comp6_inv', 'comp6_rate_percent_diff', 'comp7_rate', 'comp7_inv',\n",
            "       'comp7_rate_percent_diff', 'comp8_rate_percent_diff',\n",
            "       'gross_bookings_usd'],\n",
            "      dtype='object')\n"
          ],
          "name": "stdout"
        }
      ]
    },
    {
      "cell_type": "code",
      "metadata": {
        "id": "kyNSDXgYVMiH"
      },
      "source": [
        "#massaging input for pre-visualization before model selection\n",
        "sample_numeric = data_sample.select_dtypes('number')\n",
        "sample_X = pd.DataFrame.copy(sample_numeric, deep=True)\n",
        "sample_y_booking = sample_X.pop('booking_bool')\n",
        "sample_y_click = sample_X.pop('click_bool')\n"
      ],
      "execution_count": 7,
      "outputs": []
    },
    {
      "cell_type": "code",
      "metadata": {
        "colab": {
          "base_uri": "https://localhost:8080/",
          "height": 655
        },
        "id": "OAxZRAoGK36_",
        "outputId": "35785de4-d231-4821-eeb5-d86b0a111df4"
      },
      "source": [
        "vis2d = features.Rank2D(algorithm='pearson', features=data_sample.select_dtypes('number').columns)\n",
        "plt.figure(figsize=(10,10))\n",
        "vis2d.fit_transform(np.matrix(data_sample.select_dtypes('number')));\n"
      ],
      "execution_count": 8,
      "outputs": [
        {
          "output_type": "display_data",
          "data": {
            "image/png": "[encoded data removed]",
            "text/plain": [
              "<Figure size 720x720 with 2 Axes>"
            ]
          },
          "metadata": {
            "tags": []
          }
        }
      ]
    },
    {
      "cell_type": "markdown",
      "metadata": {
        "id": "OMJmSD-bSXmn"
      },
      "source": [
        "We see that clicking has a very high positive correlation with booking. Other notabe positive correlations are between the search count of adults and the search room count, as well as visitor's country and property's country."
      ]
    },
    {
      "cell_type": "code",
      "metadata": {
        "colab": {
          "base_uri": "https://localhost:8080/",
          "height": 143
        },
        "id": "vMzy9evm6Ivr",
        "outputId": "c7ce1148-d9aa-4723-a6c2-bb5de78c21f0"
      },
      "source": [
        "train_data[train_data.booking_bool == True][['prop_country_id','visitor_location_country_id', 'srch_destination_id']].corr()"
      ],
      "execution_count": 9,
      "outputs": [
        {
          "output_type": "execute_result",
          "data": {
            "text/html": [
              "<div>\n",
              "<style scoped>\n",
              "    .dataframe tbody tr th:only-of-type {\n",
              "        vertical-align: middle;\n",
              "    }\n",
              "\n",
              "    .dataframe tbody tr th {\n",
              "        vertical-align: top;\n",
              "    }\n",
              "\n",
              "    .dataframe thead th {\n",
              "        text-align: right;\n",
              "    }\n",
              "</style>\n",
              "<table border=\"1\" class=\"dataframe\">\n",
              "  <thead>\n",
              "    <tr style=\"text-align: right;\">\n",
              "      <th></th>\n",
              "      <th>prop_country_id</th>\n",
              "      <th>visitor_location_country_id</th>\n",
              "      <th>srch_destination_id</th>\n",
              "    </tr>\n",
              "  </thead>\n",
              "  <tbody>\n",
              "    <tr>\n",
              "      <th>prop_country_id</th>\n",
              "      <td>1.000000</td>\n",
              "      <td>0.498800</td>\n",
              "      <td>-0.007498</td>\n",
              "    </tr>\n",
              "    <tr>\n",
              "      <th>visitor_location_country_id</th>\n",
              "      <td>0.498800</td>\n",
              "      <td>1.000000</td>\n",
              "      <td>0.000208</td>\n",
              "    </tr>\n",
              "    <tr>\n",
              "      <th>srch_destination_id</th>\n",
              "      <td>-0.007498</td>\n",
              "      <td>0.000208</td>\n",
              "      <td>1.000000</td>\n",
              "    </tr>\n",
              "  </tbody>\n",
              "</table>\n",
              "</div>"
            ],
            "text/plain": [
              "                             prop_country_id  ...  srch_destination_id\n",
              "prop_country_id                     1.000000  ...            -0.007498\n",
              "visitor_location_country_id         0.498800  ...             0.000208\n",
              "srch_destination_id                -0.007498  ...             1.000000\n",
              "\n",
              "[3 rows x 3 columns]"
            ]
          },
          "metadata": {
            "tags": []
          },
          "execution_count": 9
        }
      ]
    },
    {
      "cell_type": "markdown",
      "metadata": {
        "id": "XGw_rI8ZEzXw"
      },
      "source": [
        "We see that the search destination IDs are hardly correlated at all with either property country IDs or visitor location country IDs. However, the property country IDs and visitor location country IDs show a really strong correlation, which might aid in filtering results."
      ]
    },
    {
      "cell_type": "code",
      "metadata": {
        "colab": {
          "base_uri": "https://localhost:8080/",
          "height": 381
        },
        "id": "RloYz2QtXV9e",
        "outputId": "c4dbfce1-819b-496e-a766-b3f35aa9dda1"
      },
      "source": [
        "vis1d = features.rank1d(np.array(sample_X), features=sample_X.columns)\n",
        "plt.title('Shapiro-Wilk normality rank')"
      ],
      "execution_count": 10,
      "outputs": [
        {
          "output_type": "execute_result",
          "data": {
            "text/plain": [
              "Text(0.5, 1.0, 'Shapiro-Wilk normality rank')"
            ]
          },
          "metadata": {
            "tags": []
          },
          "execution_count": 10
        },
        {
          "output_type": "display_data",
          "data": {
            "image/png": "[encoded data removed]",
            "text/plain": [
              "<Figure size 576x396 with 1 Axes>"
            ]
          },
          "metadata": {
            "tags": []
          }
        }
      ]
    },
    {
      "cell_type": "markdown",
      "metadata": {
        "id": "GWqXRT_EXwK-"
      },
      "source": [
        "We can see some features are very normally distributed, while others (review score, price) almost not at all."
      ]
    },
    {
      "cell_type": "code",
      "metadata": {
        "colab": {
          "base_uri": "https://localhost:8080/",
          "height": 345
        },
        "id": "vcYqbctAaysm",
        "outputId": "ac1ada84-5cda-4899-f000-74a911cb84f8"
      },
      "source": [
        "sample_y_click.value_counts().plot.pie(autopct='%1.2f%%');\n",
        "plt.title('Sample click rate (0 = no click, 1 = click)');"
      ],
      "execution_count": 11,
      "outputs": [
        {
          "output_type": "display_data",
          "data": {
            "image/png": "[encoded data removed]",
            "text/plain": [
              "<Figure size 576x396 with 1 Axes>"
            ]
          },
          "metadata": {
            "tags": []
          }
        }
      ]
    },
    {
      "cell_type": "markdown",
      "metadata": {
        "id": "ZvUM9cXwd5-X"
      },
      "source": [
        "Only 4 percent of searches result in a click-through."
      ]
    },
    {
      "cell_type": "code",
      "metadata": {
        "colab": {
          "base_uri": "https://localhost:8080/",
          "height": 399
        },
        "id": "DGXnEsIkXNEl",
        "outputId": "40817149-dda0-4f0a-e7bc-361700768490"
      },
      "source": [
        "_, rscorebins, _ = plt.hist(np.abs(sample_X.prop_review_score), density=1);\n",
        "plt.title('Sample property review score distribution');\n",
        "\n",
        "rs_params = sp.stats.genlogistic.fit(sample_X[sample_X.prop_review_score > 0].prop_review_score) #(5, 0.6)\n",
        "print(*rs_params)\n",
        "norm_fit_line = sp.stats.genlogistic.pdf(rscorebins, *rs_params)\n",
        "\n",
        "plt.plot(rscorebins, norm_fit_line)"
      ],
      "execution_count": 12,
      "outputs": [
        {
          "output_type": "stream",
          "text": [
            "0.2248468986642564 4.558650521938678 0.14610607248759921\n"
          ],
          "name": "stdout"
        },
        {
          "output_type": "execute_result",
          "data": {
            "text/plain": [
              "[<matplotlib.lines.Line2D at 0x7f380c681810>]"
            ]
          },
          "metadata": {
            "tags": []
          },
          "execution_count": 12
        },
        {
          "output_type": "display_data",
          "data": {
            "image/png": "[encoded data removed]",
            "text/plain": [
              "<Figure size 576x396 with 1 Axes>"
            ]
          },
          "metadata": {
            "tags": []
          }
        }
      ]
    },
    {
      "cell_type": "code",
      "metadata": {
        "colab": {
          "base_uri": "https://localhost:8080/",
          "height": 517
        },
        "id": "GiTXT7zkYAjG",
        "outputId": "ad9666af-9719-4c12-9afa-b71ce416c28f"
      },
      "source": [
        "fig, ax = plt.subplots(ncols=2, figsize=(15, 8))\n",
        "ax[0].hist(sample_X[sample_X.price_usd < 2000].price_usd)\n",
        "ax[0].set_title('Sample prices distribution below 2000 USD');\n",
        "ax[1].hist(sample_X[sample_X.price_usd > 2000].price_usd)\n",
        "ax[1].set_title('Sample prices distribution above 2000 USD')"
      ],
      "execution_count": 13,
      "outputs": [
        {
          "output_type": "execute_result",
          "data": {
            "text/plain": [
              "Text(0.5, 1.0, 'Sample prices distribution above 2000 USD')"
            ]
          },
          "metadata": {
            "tags": []
          },
          "execution_count": 13
        },
        {
          "output_type": "display_data",
          "data": {
            "image/png": "[encoded data removed]",
            "text/plain": [
              "<Figure size 1080x576 with 2 Axes>"
            ]
          },
          "metadata": {
            "tags": []
          }
        }
      ]
    },
    {
      "cell_type": "code",
      "metadata": {
        "colab": {
          "base_uri": "https://localhost:8080/",
          "height": 381
        },
        "id": "CVmay97XZBGW",
        "outputId": "0680c54b-564c-4f65-cba6-87a3d7ab3d21"
      },
      "source": [
        "plt.hist(sample_X.comp2_rate)\n",
        "plt.title('Sample comparison with rates of competitor 2 (-1 = competitor has better price, 0 = no data, 1 = Expedia has better price)')"
      ],
      "execution_count": 14,
      "outputs": [
        {
          "output_type": "execute_result",
          "data": {
            "text/plain": [
              "Text(0.5, 1.0, 'Sample comparison with rates of competitor 2 (-1 = competitor has better price, 0 = no data, 1 = Expedia has better price)')"
            ]
          },
          "metadata": {
            "tags": []
          },
          "execution_count": 14
        },
        {
          "output_type": "display_data",
          "data": {
            "image/png": "[encoded data removed]",
            "text/plain": [
              "<Figure size 576x396 with 1 Axes>"
            ]
          },
          "metadata": {
            "tags": []
          }
        }
      ]
    },
    {
      "cell_type": "code",
      "metadata": {
        "colab": {
          "base_uri": "https://localhost:8080/",
          "height": 376
        },
        "id": "ClSps3W6gRJY",
        "outputId": "25f024a5-d3d0-4022-e297-3fd86342c0b0"
      },
      "source": [
        "plt.hist(sample_X.comp2_rate)\n",
        "plt.title('''Sample comparison with availability of competitor 2\n",
        "  (-1 = Expedia has no availability but competitor does, 0 = both have availability, 1 = competitor has no availability but Expedia does)''');"
      ],
      "execution_count": 15,
      "outputs": [
        {
          "output_type": "display_data",
          "data": {
            "image/png": "[encoded data removed]",
            "text/plain": [
              "<Figure size 576x396 with 1 Axes>"
            ]
          },
          "metadata": {
            "tags": []
          }
        }
      ]
    },
    {
      "cell_type": "code",
      "metadata": {
        "colab": {
          "base_uri": "https://localhost:8080/",
          "height": 362
        },
        "id": "MxemtyMhjglq",
        "outputId": "4a5fce54-c529-444e-bbf8-a01174960543"
      },
      "source": [
        "plt.hist(sample_X.prop_review_score)\n",
        "plt.title('Sample review scores (0 = no reviews)');"
      ],
      "execution_count": 16,
      "outputs": [
        {
          "output_type": "display_data",
          "data": {
            "image/png": "[encoded data removed]",
            "text/plain": [
              "<Figure size 576x396 with 1 Axes>"
            ]
          },
          "metadata": {
            "tags": []
          }
        }
      ]
    },
    {
      "cell_type": "markdown",
      "metadata": {
        "id": "VV0H-M00f9RA"
      },
      "source": [
        "##1.1 Dealing with NaNs in sample"
      ]
    },
    {
      "cell_type": "code",
      "metadata": {
        "colab": {
          "base_uri": "https://localhost:8080/"
        },
        "id": "phL_wRCCVyBd",
        "outputId": "529a8673-a700-4773-c971-39323dfb1888"
      },
      "source": [
        "print('Columns with missing data:\\n', np.any(sample_X.isna(), axis=0))"
      ],
      "execution_count": 17,
      "outputs": [
        {
          "output_type": "stream",
          "text": [
            "Columns with missing data:\n",
            " srch_id                        False\n",
            "site_id                        False\n",
            "visitor_location_country_id    False\n",
            "prop_country_id                False\n",
            "prop_id                        False\n",
            "prop_starrating                False\n",
            "prop_review_score               True\n",
            "prop_brand_bool                False\n",
            "prop_location_score1           False\n",
            "prop_location_score2            True\n",
            "prop_log_historical_price      False\n",
            "price_usd                      False\n",
            "promotion_flag                 False\n",
            "srch_destination_id            False\n",
            "srch_length_of_stay            False\n",
            "srch_booking_window            False\n",
            "srch_adults_count              False\n",
            "srch_children_count            False\n",
            "srch_room_count                False\n",
            "srch_saturday_night_bool       False\n",
            "orig_destination_distance       True\n",
            "random_bool                    False\n",
            "comp2_rate                      True\n",
            "comp2_inv                       True\n",
            "comp3_rate                      True\n",
            "comp3_inv                       True\n",
            "comp5_rate                      True\n",
            "comp5_inv                       True\n",
            "comp8_rate                      True\n",
            "comp8_inv                       True\n",
            "dtype: bool\n"
          ],
          "name": "stdout"
        }
      ]
    },
    {
      "cell_type": "code",
      "metadata": {
        "id": "HHsO38aN7Qmp",
        "colab": {
          "base_uri": "https://localhost:8080/"
        },
        "outputId": "dd02313d-2acb-41b6-d601-46b194c98e09"
      },
      "source": [
        "#How many entries for each column are NaN?\n",
        "\n",
        "for c in sample_X.columns:\n",
        "  print('NaNs in {0}: {1}'.format(c, sample_X[c].isna().sum()))"
      ],
      "execution_count": 18,
      "outputs": [
        {
          "output_type": "stream",
          "text": [
            "NaNs in srch_id: 0\n",
            "NaNs in site_id: 0\n",
            "NaNs in visitor_location_country_id: 0\n",
            "NaNs in prop_country_id: 0\n",
            "NaNs in prop_id: 0\n",
            "NaNs in prop_starrating: 0\n",
            "NaNs in prop_review_score: 9\n",
            "NaNs in prop_brand_bool: 0\n",
            "NaNs in prop_location_score1: 0\n",
            "NaNs in prop_location_score2: 1080\n",
            "NaNs in prop_log_historical_price: 0\n",
            "NaNs in price_usd: 0\n",
            "NaNs in promotion_flag: 0\n",
            "NaNs in srch_destination_id: 0\n",
            "NaNs in srch_length_of_stay: 0\n",
            "NaNs in srch_booking_window: 0\n",
            "NaNs in srch_adults_count: 0\n",
            "NaNs in srch_children_count: 0\n",
            "NaNs in srch_room_count: 0\n",
            "NaNs in srch_saturday_night_bool: 0\n",
            "NaNs in orig_destination_distance: 1631\n",
            "NaNs in random_bool: 0\n",
            "NaNs in comp2_rate: 3014\n",
            "NaNs in comp2_inv: 2917\n",
            "NaNs in comp3_rate: 3441\n",
            "NaNs in comp3_inv: 3330\n",
            "NaNs in comp5_rate: 2746\n",
            "NaNs in comp5_inv: 2614\n",
            "NaNs in comp8_rate: 3099\n",
            "NaNs in comp8_inv: 3040\n"
          ],
          "name": "stdout"
        }
      ]
    },
    {
      "cell_type": "code",
      "metadata": {
        "colab": {
          "base_uri": "https://localhost:8080/"
        },
        "id": "jfizXq-KeqqF",
        "outputId": "cc586f4b-c8df-4130-e97f-8a0d692add0a"
      },
      "source": [
        "print('Sample size (with NaN entries):', sample_X.shape)\n",
        "print('Sample size after dropping all NaN-possessing entries:', sample_X.dropna().shape)"
      ],
      "execution_count": 19,
      "outputs": [
        {
          "output_type": "stream",
          "text": [
            "Sample size (with NaN entries): (5000, 30)\n",
            "Sample size after dropping all NaN-possessing entries: (449, 30)\n"
          ],
          "name": "stdout"
        }
      ]
    },
    {
      "cell_type": "markdown",
      "metadata": {
        "id": "HP1ZZ_wKeqCn"
      },
      "source": [
        "If we were to drop all entries with NaNs we'd lose around 90% of sample data."
      ]
    },
    {
      "cell_type": "code",
      "metadata": {
        "colab": {
          "base_uri": "https://localhost:8080/"
        },
        "id": "eM_xb2jReGBI",
        "outputId": "b14198d7-0bfb-4d34-dd9b-edcaa0b1c27f"
      },
      "source": [
        "print('Means of comparison rates in sample data:', sample_X.comp2_rate.mean(), \n",
        "      sample_X.comp3_rate.mean(), sample_X.comp5_rate.mean(), \n",
        "      sample_X.comp8_rate.mean())"
      ],
      "execution_count": 20,
      "outputs": [
        {
          "output_type": "stream",
          "text": [
            "Means of comparison rates in sample data: 0.045317220543806644 0.01860166773572803 0.013309671694764862 -0.06891109942135717\n"
          ],
          "name": "stdout"
        }
      ]
    },
    {
      "cell_type": "code",
      "metadata": {
        "colab": {
          "base_uri": "https://localhost:8080/"
        },
        "id": "e5R-ikHdg0og",
        "outputId": "730c693c-39ba-45e6-b02b-0c3eae6ab34d"
      },
      "source": [
        "print('Means of comparative availability in sample data:', sample_X.comp2_inv.mean(), \n",
        "      sample_X.comp3_inv.mean(), sample_X.comp5_inv.mean(), \n",
        "      sample_X.comp8_inv.mean())"
      ],
      "execution_count": 21,
      "outputs": [
        {
          "output_type": "stream",
          "text": [
            "Means of comparative availability in sample data: 0.03888622179548728 0.05389221556886228 0.054065381391450125 0.010714285714285714\n"
          ],
          "name": "stdout"
        }
      ]
    },
    {
      "cell_type": "markdown",
      "metadata": {
        "id": "aEW5L5J8ehrq"
      },
      "source": [
        "The comparative rates and comparative availability all oscillate around 0, so we can fill in the missing data with 0s instead of dropping rows with NaNs in these columns."
      ]
    },
    {
      "cell_type": "code",
      "metadata": {
        "id": "RRop8AlzhADf"
      },
      "source": [
        "fill_cols = ['comp2_rate', 'comp2_inv', 'comp3_rate', 'comp3_inv', 'comp5_rate', 'comp5_inv', 'comp8_rate', 'comp8_inv']\n",
        "sample_X_imputed = pd.DataFrame.copy(sample_X)\n",
        "sample_X_imputed[fill_cols] = sample_X_imputed[fill_cols].fillna(0)"
      ],
      "execution_count": 22,
      "outputs": []
    },
    {
      "cell_type": "code",
      "metadata": {
        "colab": {
          "base_uri": "https://localhost:8080/",
          "height": 381
        },
        "id": "Wzy0C1tvAdqY",
        "outputId": "9451501f-ceb9-426e-9916-6d7093009148"
      },
      "source": [
        "_, pr_bins, _ = plt.hist(sample_X_imputed.prop_review_score)\n",
        "plt.title('Sample property review score')"
      ],
      "execution_count": 23,
      "outputs": [
        {
          "output_type": "execute_result",
          "data": {
            "text/plain": [
              "Text(0.5, 1.0, 'Sample property review score')"
            ]
          },
          "metadata": {
            "tags": []
          },
          "execution_count": 23
        },
        {
          "output_type": "display_data",
          "data": {
            "image/png": "[encoded data removed]",
            "text/plain": [
              "<Figure size 576x396 with 1 Axes>"
            ]
          },
          "metadata": {
            "tags": []
          }
        }
      ]
    },
    {
      "cell_type": "code",
      "metadata": {
        "colab": {
          "base_uri": "https://localhost:8080/",
          "height": 381
        },
        "id": "tXEMk3OvAmGY",
        "outputId": "23e4de68-9ad8-4600-97eb-de80ed2b70e8"
      },
      "source": [
        "pr_params = sp.stats.genlogistic.fit(sample_X_imputed.prop_review_score[sample_X_imputed.prop_review_score > 0])\n",
        "plt.hist(sample_X_imputed.prop_review_score, density=1)\n",
        "pr_line = sp.stats.genlogistic.pdf(pr_bins, *pr_params)\n",
        "plt.plot(pr_bins, pr_line)\n",
        "plt.title('Sample review scores with a genlogistic pdf fit')"
      ],
      "execution_count": 24,
      "outputs": [
        {
          "output_type": "execute_result",
          "data": {
            "text/plain": [
              "Text(0.5, 1.0, 'Sample review scores with a genlogistic pdf fit')"
            ]
          },
          "metadata": {
            "tags": []
          },
          "execution_count": 24
        },
        {
          "output_type": "display_data",
          "data": {
            "image/png": "[encoded data removed]",
            "text/plain": [
              "<Figure size 576x396 with 1 Axes>"
            ]
          },
          "metadata": {
            "tags": []
          }
        }
      ]
    },
    {
      "cell_type": "code",
      "metadata": {
        "colab": {
          "base_uri": "https://localhost:8080/"
        },
        "id": "14EsV3CwBWK4",
        "outputId": "b766be24-0829-46f8-c8f0-082252a9bc44"
      },
      "source": [
        "pr_filler_s = pd.Series(sp.stats.genlogistic.rvs(*pr_params, sample_X_imputed.prop_review_score.isna().sum()))\n",
        "pr_filler_s.index = sample_X_imputed[sample_X_imputed.prop_review_score.isna()].index\n",
        "sample_X_imputed.prop_review_score.fillna(pr_filler_s, inplace=True)\n",
        "sample_X_imputed.prop_review_score.isna().any()"
      ],
      "execution_count": 25,
      "outputs": [
        {
          "output_type": "execute_result",
          "data": {
            "text/plain": [
              "False"
            ]
          },
          "metadata": {
            "tags": []
          },
          "execution_count": 25
        }
      ]
    },
    {
      "cell_type": "code",
      "metadata": {
        "id": "XLYdTOZLnJC2",
        "colab": {
          "base_uri": "https://localhost:8080/",
          "height": 362
        },
        "outputId": "b8ca5b97-3639-47b3-92b9-3cebf3ac5b7f"
      },
      "source": [
        "_, ddbins, _ = plt.hist(sample_X.orig_destination_distance)\n",
        "plt.title('Sample physical distance between hotel and customer');"
      ],
      "execution_count": 26,
      "outputs": [
        {
          "output_type": "display_data",
          "data": {
            "image/png": "[encoded data removed]",
            "text/plain": [
              "<Figure size 576x396 with 1 Axes>"
            ]
          },
          "metadata": {
            "tags": []
          }
        }
      ]
    },
    {
      "cell_type": "markdown",
      "metadata": {
        "id": "QawJ_UGvnthG"
      },
      "source": [
        "This appears to be an exponential distribution, so we fit an exponential."
      ]
    },
    {
      "cell_type": "code",
      "metadata": {
        "id": "s1cLMO4Unytr",
        "colab": {
          "base_uri": "https://localhost:8080/",
          "height": 381
        },
        "outputId": "2db77ea8-b365-4462-aeab-78be9614e8e6"
      },
      "source": [
        "_, dd_bins, _ = plt.hist(sample_X.orig_destination_distance, density=1)\n",
        "dd_params = sp.stats.expon.fit(sample_X.orig_destination_distance.dropna())\n",
        "fit_dd_line = sp.stats.expon.pdf(dd_bins, *dd_params)\n",
        "plt.plot(dd_bins, fit_dd_line)\n",
        "plt.title('Distance with fitted exponential distribution with parameters {0}, {1}'.format(dd_params[0], round(dd_params[1], 2)))"
      ],
      "execution_count": 27,
      "outputs": [
        {
          "output_type": "execute_result",
          "data": {
            "text/plain": [
              "Text(0.5, 1.0, 'Distance with fitted exponential distribution with parameters 0.05, 1357.38')"
            ]
          },
          "metadata": {
            "tags": []
          },
          "execution_count": 27
        },
        {
          "output_type": "display_data",
          "data": {
            "image/png": "[encoded data removed]",
            "text/plain": [
              "<Figure size 576x396 with 1 Axes>"
            ]
          },
          "metadata": {
            "tags": []
          }
        }
      ]
    },
    {
      "cell_type": "markdown",
      "metadata": {
        "id": "-4bX9jEqU5xT"
      },
      "source": [
        "Filling the distance from a fitted distribution might appear bizzare (since there is no reason why any specific property would be at any given distance from the customer), but we shall see whether this improves prediction accuracy."
      ]
    },
    {
      "cell_type": "code",
      "metadata": {
        "id": "xI8nD7krv6lO"
      },
      "source": [
        "dd_nan_count = sum(sample_X_imputed.orig_destination_distance.isna())\n",
        "sample_X_imputed.orig_destination_distance = sample_X_imputed.orig_destination_distance.fillna(\n",
        "    pd.Series(sp.stats.expon.rvs(*dd_params, dd_nan_count)))"
      ],
      "execution_count": 28,
      "outputs": []
    },
    {
      "cell_type": "code",
      "metadata": {
        "id": "HrLb7nMAMLUA",
        "colab": {
          "base_uri": "https://localhost:8080/",
          "height": 381
        },
        "outputId": "35a43cf3-d6a8-4d94-d7fc-b95fe512156b"
      },
      "source": [
        "_, ls2_bins, _ = plt.hist(sample_X.prop_location_score2, density=1)\n",
        "ls2_params = sp.stats.expon.fit(sample_X.prop_location_score2.dropna())\n",
        "fit_ls2_line = sp.stats.expon.pdf(ls2_bins, *ls2_params)\n",
        "plt.plot(ls2_bins, fit_ls2_line)\n",
        "plt.title('Distance with fitted exponential distribution with parameters {0}, {1}'.format(ls2_params[0], round(ls2_params[1], 2)))"
      ],
      "execution_count": 29,
      "outputs": [
        {
          "output_type": "execute_result",
          "data": {
            "text/plain": [
              "Text(0.5, 1.0, 'Distance with fitted exponential distribution with parameters 0.0, 0.13')"
            ]
          },
          "metadata": {
            "tags": []
          },
          "execution_count": 29
        },
        {
          "output_type": "display_data",
          "data": {
            "image/png": "[encoded data removed]",
            "text/plain": [
              "<Figure size 576x396 with 1 Axes>"
            ]
          },
          "metadata": {
            "tags": []
          }
        }
      ]
    },
    {
      "cell_type": "code",
      "metadata": {
        "colab": {
          "base_uri": "https://localhost:8080/"
        },
        "id": "dAxD_QDe_z-i",
        "outputId": "99ebc244-f000-4da1-9706-af14128e2185"
      },
      "source": [
        "ls2_filler_s = pd.Series(sp.stats.expon.rvs(*ls2_params, sample_X_imputed.prop_location_score2.isna().sum()))\n",
        "ls2_filler_s.index = sample_X_imputed[sample_X_imputed.prop_location_score2.isna()].index\n",
        "sample_X_imputed.prop_location_score2.fillna(ls2_filler_s, inplace=True)\n",
        "sample_X_imputed.prop_location_score2.isna().any()"
      ],
      "execution_count": 30,
      "outputs": [
        {
          "output_type": "execute_result",
          "data": {
            "text/plain": [
              "False"
            ]
          },
          "metadata": {
            "tags": []
          },
          "execution_count": 30
        }
      ]
    },
    {
      "cell_type": "code",
      "metadata": {
        "id": "ziSv3JkVMHq6",
        "colab": {
          "base_uri": "https://localhost:8080/",
          "height": 381
        },
        "outputId": "3cb1524d-2d81-4b0e-f7b0-90af9f8878de"
      },
      "source": [
        "_, dd_bins, _ = plt.hist(sample_X.orig_destination_distance, density=1)\n",
        "dd_params = sp.stats.expon.fit(sample_X.orig_destination_distance.dropna())\n",
        "fit_dd_line = sp.stats.expon.pdf(dd_bins, *dd_params)\n",
        "plt.plot(dd_bins, fit_dd_line)\n",
        "plt.title('Distance with fitted exponential distribution with parameters {0}, {1}'.format(dd_params[0], round(dd_params[1], 2)))"
      ],
      "execution_count": 31,
      "outputs": [
        {
          "output_type": "execute_result",
          "data": {
            "text/plain": [
              "Text(0.5, 1.0, 'Distance with fitted exponential distribution with parameters 0.05, 1357.38')"
            ]
          },
          "metadata": {
            "tags": []
          },
          "execution_count": 31
        },
        {
          "output_type": "display_data",
          "data": {
            "image/png": "[encoded data removed]",
            "text/plain": [
              "<Figure size 576x396 with 1 Axes>"
            ]
          },
          "metadata": {
            "tags": []
          }
        }
      ]
    },
    {
      "cell_type": "code",
      "metadata": {
        "id": "Hnv8vcEm8hS5"
      },
      "source": [
        "dd_filler = sp.stats.expon.rvs(*dd_params, sample_X_imputed.orig_destination_distance.isna().sum())"
      ],
      "execution_count": 32,
      "outputs": []
    },
    {
      "cell_type": "code",
      "metadata": {
        "id": "Pe3H5t4O-0uw"
      },
      "source": [
        "dd_filler_s = pd.Series(dd_filler)\n",
        "dd_filler_s.index = sample_X_imputed[sample_X_imputed.orig_destination_distance.isna()].index\n",
        "sample_X_imputed.orig_destination_distance.fillna(dd_filler_s, inplace=True)"
      ],
      "execution_count": 33,
      "outputs": []
    },
    {
      "cell_type": "markdown",
      "metadata": {
        "id": "RIzpYi3Lijj8"
      },
      "source": [
        "#3 Recommender"
      ]
    },
    {
      "cell_type": "code",
      "metadata": {
        "id": "ceXK7eNtMmbB",
        "colab": {
          "base_uri": "https://localhost:8080/"
        },
        "outputId": "f35f02e1-d1a4-4b6b-e237-149f2c4d627c"
      },
      "source": [
        "for c in train_data.columns:\n",
        "  if train_data[c].isna().any():\n",
        "    print('{0} has {1} ({2}%) of missing entries'.format(c, train_data[c].isna().sum(),\n",
        "                                                         round(100 * train_data[c].isna().sum()/train_data.shape[0], 2)))"
      ],
      "execution_count": 34,
      "outputs": [
        {
          "output_type": "stream",
          "text": [
            "prop_review_score has 7364 (0.15%) of missing entries\n",
            "prop_location_score2 has 1090348 (21.99%) of missing entries\n",
            "orig_destination_distance has 1607782 (32.43%) of missing entries\n",
            "comp2_rate has 2933675 (59.17%) of missing entries\n",
            "comp2_inv has 2828078 (57.04%) of missing entries\n",
            "comp3_rate has 3424059 (69.06%) of missing entries\n",
            "comp3_inv has 3307357 (66.7%) of missing entries\n",
            "comp5_rate has 2735974 (55.18%) of missing entries\n",
            "comp5_inv has 2598327 (52.4%) of missing entries\n",
            "comp8_rate has 3041693 (61.34%) of missing entries\n",
            "comp8_inv has 2970844 (59.92%) of missing entries\n"
          ],
          "name": "stdout"
        }
      ]
    },
    {
      "cell_type": "markdown",
      "metadata": {
        "id": "nfpLliqKNERr"
      },
      "source": [
        "##3.1 Imput missing data in train data"
      ]
    },
    {
      "cell_type": "code",
      "metadata": {
        "id": "LsF6sO-HNDdQ"
      },
      "source": [
        "rs_params_train = sp.stats.genlogistic.fit(train_data.prop_review_score.dropna()[train_data.prop_review_score > 0])\n",
        "ls2_params_train = sp.stats.expon.fit(train_data.prop_location_score2.dropna())\n",
        "dd_params_train = sp.stats.expon.fit(train_data.orig_destination_distance.dropna())\n",
        "\n",
        "rs_na_count_train = train_data.prop_review_score.isna().sum()\n",
        "ls2_na_count_train = train_data.prop_location_score2.isna().sum()\n",
        "dd_na_count_train = train_data.orig_destination_distance.isna().sum()\n",
        "\n",
        "#generate values from fitted distribution\n",
        "rs_fill_train = sp.stats.genlogistic.rvs(*rs_params_train, rs_na_count_train)\n",
        "ls2_fill_train = sp.stats.expon.rvs(*ls2_params_train, ls2_na_count_train)\n",
        "dd_fill_train = sp.stats.expon.rvs(*dd_params_train, dd_na_count_train)"
      ],
      "execution_count": 35,
      "outputs": []
    },
    {
      "cell_type": "code",
      "metadata": {
        "id": "dX22DPCeOkK4"
      },
      "source": [
        "rs_fill_series = pd.Series(rs_fill_train)\n",
        "rs_fill_series.index = train_data.loc[train_data.prop_review_score.isna()].index\n",
        "\n",
        "ls2_fill_series = pd.Series(ls2_fill_train, \n",
        "                            index=train_data.loc[train_data.prop_location_score2.isna()].index)\n",
        "\n",
        "dd_fill_series = pd.Series(dd_fill_train, \n",
        "                           index=train_data.loc[train_data.orig_destination_distance.isna()].index)"
      ],
      "execution_count": 36,
      "outputs": []
    },
    {
      "cell_type": "code",
      "metadata": {
        "id": "f4C27ZJIODjZ"
      },
      "source": [
        "train_data.prop_review_score.fillna(rs_fill_series, inplace=True)\n",
        "train_data.prop_location_score2.fillna(ls2_fill_series, inplace=True)\n",
        "train_data.orig_destination_distance.fillna(dd_fill_series, inplace=True)\n",
        "for c in fill_cols:\n",
        "  train_data[c].fillna(0, inplace=True)"
      ],
      "execution_count": 37,
      "outputs": []
    },
    {
      "cell_type": "code",
      "metadata": {
        "id": "you-t2t_Sec0",
        "colab": {
          "base_uri": "https://localhost:8080/"
        },
        "outputId": "0278d7a4-2c35-48af-9130-5877420985d1"
      },
      "source": [
        "train_data.isna().any()"
      ],
      "execution_count": 38,
      "outputs": [
        {
          "output_type": "execute_result",
          "data": {
            "text/plain": [
              "srch_id                        False\n",
              "site_id                        False\n",
              "visitor_location_country_id    False\n",
              "prop_country_id                False\n",
              "prop_id                        False\n",
              "prop_starrating                False\n",
              "prop_review_score              False\n",
              "prop_brand_bool                False\n",
              "prop_location_score1           False\n",
              "prop_location_score2           False\n",
              "prop_log_historical_price      False\n",
              "price_usd                      False\n",
              "promotion_flag                 False\n",
              "srch_destination_id            False\n",
              "srch_length_of_stay            False\n",
              "srch_booking_window            False\n",
              "srch_adults_count              False\n",
              "srch_children_count            False\n",
              "srch_room_count                False\n",
              "srch_saturday_night_bool       False\n",
              "orig_destination_distance      False\n",
              "random_bool                    False\n",
              "comp2_rate                     False\n",
              "comp2_inv                      False\n",
              "comp3_rate                     False\n",
              "comp3_inv                      False\n",
              "comp5_rate                     False\n",
              "comp5_inv                      False\n",
              "comp8_rate                     False\n",
              "comp8_inv                      False\n",
              "click_bool                     False\n",
              "booking_bool                   False\n",
              "dtype: bool"
            ]
          },
          "metadata": {
            "tags": []
          },
          "execution_count": 38
        }
      ]
    },
    {
      "cell_type": "markdown",
      "metadata": {
        "id": "Vjm7IjA-Ukry"
      },
      "source": [
        "##3.2 Extract target data and convert categorical entries to category"
      ]
    },
    {
      "cell_type": "code",
      "metadata": {
        "id": "GVJ2gPziijBQ"
      },
      "source": [
        "target_booking = train_data.pop('booking_bool') #used for training\n",
        "target_click = train_data.pop('click_bool')"
      ],
      "execution_count": 39,
      "outputs": []
    },
    {
      "cell_type": "code",
      "metadata": {
        "id": "lKz4VEERTf5U"
      },
      "source": [
        "categorical_cols = ['srch_id', 'site_id', 'visitor_location_country_id',\n",
        "       'prop_country_id', 'prop_id',\n",
        "       'srch_destination_id',\n",
        "       'comp2_rate', 'comp2_inv', 'comp3_rate', 'comp3_inv', 'comp5_rate',\n",
        "       'comp5_inv', 'comp8_rate', 'comp8_inv'] "
      ],
      "execution_count": 40,
      "outputs": []
    },
    {
      "cell_type": "code",
      "metadata": {
        "id": "moWllFMLUUyb"
      },
      "source": [
        "#for c in categorical_cols:\n",
        "#  train_data[c] = train_data[c].astype('category')"
      ],
      "execution_count": 41,
      "outputs": []
    },
    {
      "cell_type": "markdown",
      "metadata": {
        "id": "Rx-zRGsSDueR"
      },
      "source": [
        "#4 Modeling"
      ]
    },
    {
      "cell_type": "markdown",
      "metadata": {
        "id": "EYvYVXWMFPlS"
      },
      "source": [
        "##4.1 Try random forest for predicting"
      ]
    },
    {
      "cell_type": "code",
      "metadata": {
        "id": "JHxTntZZ3vey"
      },
      "source": [
        "from sklearn.ensemble import RandomForestClassifier\n",
        "import sklearn"
      ],
      "execution_count": 42,
      "outputs": []
    },
    {
      "cell_type": "code",
      "metadata": {
        "id": "xY0bAhAh4bX-"
      },
      "source": [
        "forest = RandomForestClassifier()"
      ],
      "execution_count": 43,
      "outputs": []
    },
    {
      "cell_type": "code",
      "metadata": {
        "colab": {
          "base_uri": "https://localhost:8080/"
        },
        "id": "NT9E5nnd8VMZ",
        "outputId": "8ca7ac2c-d018-4daa-a547-78afb9573fc5"
      },
      "source": [
        "sample_X_imputed.isna().any()"
      ],
      "execution_count": 44,
      "outputs": [
        {
          "output_type": "execute_result",
          "data": {
            "text/plain": [
              "srch_id                        False\n",
              "site_id                        False\n",
              "visitor_location_country_id    False\n",
              "prop_country_id                False\n",
              "prop_id                        False\n",
              "prop_starrating                False\n",
              "prop_review_score              False\n",
              "prop_brand_bool                False\n",
              "prop_location_score1           False\n",
              "prop_location_score2           False\n",
              "prop_log_historical_price      False\n",
              "price_usd                      False\n",
              "promotion_flag                 False\n",
              "srch_destination_id            False\n",
              "srch_length_of_stay            False\n",
              "srch_booking_window            False\n",
              "srch_adults_count              False\n",
              "srch_children_count            False\n",
              "srch_room_count                False\n",
              "srch_saturday_night_bool       False\n",
              "orig_destination_distance      False\n",
              "random_bool                    False\n",
              "comp2_rate                     False\n",
              "comp2_inv                      False\n",
              "comp3_rate                     False\n",
              "comp3_inv                      False\n",
              "comp5_rate                     False\n",
              "comp5_inv                      False\n",
              "comp8_rate                     False\n",
              "comp8_inv                      False\n",
              "dtype: bool"
            ]
          },
          "metadata": {
            "tags": []
          },
          "execution_count": 44
        }
      ]
    },
    {
      "cell_type": "code",
      "metadata": {
        "id": "we8aqUr4B9L4"
      },
      "source": [
        "sample_X_train_booking, sample_X_test_booking, sample_y_train_booking, sample_y_test_booking = \\\n",
        "  sklearn.model_selection.train_test_split(sample_X_imputed, sample_y_booking)"
      ],
      "execution_count": 45,
      "outputs": []
    },
    {
      "cell_type": "code",
      "metadata": {
        "colab": {
          "base_uri": "https://localhost:8080/",
          "height": 444
        },
        "id": "vF8qg-2pNdrD",
        "outputId": "085a8153-54b4-4be1-be9b-5c3cf75c0700"
      },
      "source": [
        "sample_X_imputed"
      ],
      "execution_count": 46,
      "outputs": [
        {
          "output_type": "execute_result",
          "data": {
            "text/html": [
              "<div>\n",
              "<style scoped>\n",
              "    .dataframe tbody tr th:only-of-type {\n",
              "        vertical-align: middle;\n",
              "    }\n",
              "\n",
              "    .dataframe tbody tr th {\n",
              "        vertical-align: top;\n",
              "    }\n",
              "\n",
              "    .dataframe thead th {\n",
              "        text-align: right;\n",
              "    }\n",
              "</style>\n",
              "<table border=\"1\" class=\"dataframe\">\n",
              "  <thead>\n",
              "    <tr style=\"text-align: right;\">\n",
              "      <th></th>\n",
              "      <th>srch_id</th>\n",
              "      <th>site_id</th>\n",
              "      <th>visitor_location_country_id</th>\n",
              "      <th>prop_country_id</th>\n",
              "      <th>prop_id</th>\n",
              "      <th>prop_starrating</th>\n",
              "      <th>prop_review_score</th>\n",
              "      <th>prop_brand_bool</th>\n",
              "      <th>prop_location_score1</th>\n",
              "      <th>prop_location_score2</th>\n",
              "      <th>prop_log_historical_price</th>\n",
              "      <th>price_usd</th>\n",
              "      <th>promotion_flag</th>\n",
              "      <th>srch_destination_id</th>\n",
              "      <th>srch_length_of_stay</th>\n",
              "      <th>srch_booking_window</th>\n",
              "      <th>srch_adults_count</th>\n",
              "      <th>srch_children_count</th>\n",
              "      <th>srch_room_count</th>\n",
              "      <th>srch_saturday_night_bool</th>\n",
              "      <th>orig_destination_distance</th>\n",
              "      <th>random_bool</th>\n",
              "      <th>comp2_rate</th>\n",
              "      <th>comp2_inv</th>\n",
              "      <th>comp3_rate</th>\n",
              "      <th>comp3_inv</th>\n",
              "      <th>comp5_rate</th>\n",
              "      <th>comp5_inv</th>\n",
              "      <th>comp8_rate</th>\n",
              "      <th>comp8_inv</th>\n",
              "    </tr>\n",
              "  </thead>\n",
              "  <tbody>\n",
              "    <tr>\n",
              "      <th>920872</th>\n",
              "      <td>61466</td>\n",
              "      <td>5</td>\n",
              "      <td>219</td>\n",
              "      <td>219</td>\n",
              "      <td>29163</td>\n",
              "      <td>3</td>\n",
              "      <td>4.0</td>\n",
              "      <td>1</td>\n",
              "      <td>2.30</td>\n",
              "      <td>0.053393</td>\n",
              "      <td>4.71</td>\n",
              "      <td>109.00</td>\n",
              "      <td>0</td>\n",
              "      <td>22077</td>\n",
              "      <td>3</td>\n",
              "      <td>1</td>\n",
              "      <td>2</td>\n",
              "      <td>2</td>\n",
              "      <td>1</td>\n",
              "      <td>0</td>\n",
              "      <td>4.260000</td>\n",
              "      <td>0</td>\n",
              "      <td>0.0</td>\n",
              "      <td>0.0</td>\n",
              "      <td>0.0</td>\n",
              "      <td>0.0</td>\n",
              "      <td>0.0</td>\n",
              "      <td>0.0</td>\n",
              "      <td>0.0</td>\n",
              "      <td>0.0</td>\n",
              "    </tr>\n",
              "    <tr>\n",
              "      <th>4627336</th>\n",
              "      <td>310442</td>\n",
              "      <td>5</td>\n",
              "      <td>219</td>\n",
              "      <td>219</td>\n",
              "      <td>22311</td>\n",
              "      <td>3</td>\n",
              "      <td>5.0</td>\n",
              "      <td>1</td>\n",
              "      <td>2.08</td>\n",
              "      <td>0.145200</td>\n",
              "      <td>4.87</td>\n",
              "      <td>107.00</td>\n",
              "      <td>0</td>\n",
              "      <td>18876</td>\n",
              "      <td>1</td>\n",
              "      <td>14</td>\n",
              "      <td>2</td>\n",
              "      <td>0</td>\n",
              "      <td>1</td>\n",
              "      <td>1</td>\n",
              "      <td>102.665361</td>\n",
              "      <td>0</td>\n",
              "      <td>0.0</td>\n",
              "      <td>0.0</td>\n",
              "      <td>0.0</td>\n",
              "      <td>0.0</td>\n",
              "      <td>0.0</td>\n",
              "      <td>0.0</td>\n",
              "      <td>0.0</td>\n",
              "      <td>0.0</td>\n",
              "    </tr>\n",
              "    <tr>\n",
              "      <th>1578965</th>\n",
              "      <td>106043</td>\n",
              "      <td>5</td>\n",
              "      <td>23</td>\n",
              "      <td>215</td>\n",
              "      <td>95124</td>\n",
              "      <td>4</td>\n",
              "      <td>3.0</td>\n",
              "      <td>0</td>\n",
              "      <td>6.25</td>\n",
              "      <td>0.006271</td>\n",
              "      <td>5.40</td>\n",
              "      <td>251.00</td>\n",
              "      <td>0</td>\n",
              "      <td>2854</td>\n",
              "      <td>3</td>\n",
              "      <td>17</td>\n",
              "      <td>4</td>\n",
              "      <td>0</td>\n",
              "      <td>1</td>\n",
              "      <td>0</td>\n",
              "      <td>2252.290396</td>\n",
              "      <td>0</td>\n",
              "      <td>0.0</td>\n",
              "      <td>0.0</td>\n",
              "      <td>0.0</td>\n",
              "      <td>0.0</td>\n",
              "      <td>1.0</td>\n",
              "      <td>0.0</td>\n",
              "      <td>0.0</td>\n",
              "      <td>0.0</td>\n",
              "    </tr>\n",
              "    <tr>\n",
              "      <th>563179</th>\n",
              "      <td>37636</td>\n",
              "      <td>5</td>\n",
              "      <td>219</td>\n",
              "      <td>219</td>\n",
              "      <td>103663</td>\n",
              "      <td>3</td>\n",
              "      <td>4.0</td>\n",
              "      <td>0</td>\n",
              "      <td>4.13</td>\n",
              "      <td>0.017500</td>\n",
              "      <td>5.34</td>\n",
              "      <td>134.00</td>\n",
              "      <td>0</td>\n",
              "      <td>13216</td>\n",
              "      <td>2</td>\n",
              "      <td>0</td>\n",
              "      <td>1</td>\n",
              "      <td>0</td>\n",
              "      <td>1</td>\n",
              "      <td>1</td>\n",
              "      <td>12.210000</td>\n",
              "      <td>0</td>\n",
              "      <td>0.0</td>\n",
              "      <td>0.0</td>\n",
              "      <td>0.0</td>\n",
              "      <td>0.0</td>\n",
              "      <td>0.0</td>\n",
              "      <td>0.0</td>\n",
              "      <td>0.0</td>\n",
              "      <td>0.0</td>\n",
              "    </tr>\n",
              "    <tr>\n",
              "      <th>3766623</th>\n",
              "      <td>253025</td>\n",
              "      <td>5</td>\n",
              "      <td>219</td>\n",
              "      <td>219</td>\n",
              "      <td>31144</td>\n",
              "      <td>3</td>\n",
              "      <td>4.5</td>\n",
              "      <td>1</td>\n",
              "      <td>2.20</td>\n",
              "      <td>0.001800</td>\n",
              "      <td>5.17</td>\n",
              "      <td>152.00</td>\n",
              "      <td>0</td>\n",
              "      <td>18774</td>\n",
              "      <td>2</td>\n",
              "      <td>25</td>\n",
              "      <td>2</td>\n",
              "      <td>0</td>\n",
              "      <td>1</td>\n",
              "      <td>1</td>\n",
              "      <td>1742.370000</td>\n",
              "      <td>0</td>\n",
              "      <td>0.0</td>\n",
              "      <td>0.0</td>\n",
              "      <td>-1.0</td>\n",
              "      <td>0.0</td>\n",
              "      <td>-1.0</td>\n",
              "      <td>0.0</td>\n",
              "      <td>-1.0</td>\n",
              "      <td>0.0</td>\n",
              "    </tr>\n",
              "    <tr>\n",
              "      <th>...</th>\n",
              "      <td>...</td>\n",
              "      <td>...</td>\n",
              "      <td>...</td>\n",
              "      <td>...</td>\n",
              "      <td>...</td>\n",
              "      <td>...</td>\n",
              "      <td>...</td>\n",
              "      <td>...</td>\n",
              "      <td>...</td>\n",
              "      <td>...</td>\n",
              "      <td>...</td>\n",
              "      <td>...</td>\n",
              "      <td>...</td>\n",
              "      <td>...</td>\n",
              "      <td>...</td>\n",
              "      <td>...</td>\n",
              "      <td>...</td>\n",
              "      <td>...</td>\n",
              "      <td>...</td>\n",
              "      <td>...</td>\n",
              "      <td>...</td>\n",
              "      <td>...</td>\n",
              "      <td>...</td>\n",
              "      <td>...</td>\n",
              "      <td>...</td>\n",
              "      <td>...</td>\n",
              "      <td>...</td>\n",
              "      <td>...</td>\n",
              "      <td>...</td>\n",
              "      <td>...</td>\n",
              "    </tr>\n",
              "    <tr>\n",
              "      <th>4191474</th>\n",
              "      <td>281244</td>\n",
              "      <td>5</td>\n",
              "      <td>219</td>\n",
              "      <td>219</td>\n",
              "      <td>52823</td>\n",
              "      <td>3</td>\n",
              "      <td>3.5</td>\n",
              "      <td>1</td>\n",
              "      <td>0.69</td>\n",
              "      <td>0.000300</td>\n",
              "      <td>4.96</td>\n",
              "      <td>108.00</td>\n",
              "      <td>0</td>\n",
              "      <td>1986</td>\n",
              "      <td>1</td>\n",
              "      <td>9</td>\n",
              "      <td>2</td>\n",
              "      <td>0</td>\n",
              "      <td>1</td>\n",
              "      <td>1</td>\n",
              "      <td>467.015514</td>\n",
              "      <td>1</td>\n",
              "      <td>0.0</td>\n",
              "      <td>0.0</td>\n",
              "      <td>0.0</td>\n",
              "      <td>0.0</td>\n",
              "      <td>0.0</td>\n",
              "      <td>0.0</td>\n",
              "      <td>0.0</td>\n",
              "      <td>0.0</td>\n",
              "    </tr>\n",
              "    <tr>\n",
              "      <th>187545</th>\n",
              "      <td>12604</td>\n",
              "      <td>24</td>\n",
              "      <td>216</td>\n",
              "      <td>31</td>\n",
              "      <td>32307</td>\n",
              "      <td>0</td>\n",
              "      <td>3.5</td>\n",
              "      <td>0</td>\n",
              "      <td>6.74</td>\n",
              "      <td>0.109600</td>\n",
              "      <td>4.83</td>\n",
              "      <td>42.55</td>\n",
              "      <td>0</td>\n",
              "      <td>15620</td>\n",
              "      <td>2</td>\n",
              "      <td>3</td>\n",
              "      <td>1</td>\n",
              "      <td>0</td>\n",
              "      <td>1</td>\n",
              "      <td>1</td>\n",
              "      <td>404.203942</td>\n",
              "      <td>0</td>\n",
              "      <td>0.0</td>\n",
              "      <td>0.0</td>\n",
              "      <td>0.0</td>\n",
              "      <td>0.0</td>\n",
              "      <td>1.0</td>\n",
              "      <td>0.0</td>\n",
              "      <td>0.0</td>\n",
              "      <td>0.0</td>\n",
              "    </tr>\n",
              "    <tr>\n",
              "      <th>2301123</th>\n",
              "      <td>154505</td>\n",
              "      <td>5</td>\n",
              "      <td>219</td>\n",
              "      <td>219</td>\n",
              "      <td>93758</td>\n",
              "      <td>3</td>\n",
              "      <td>4.5</td>\n",
              "      <td>0</td>\n",
              "      <td>3.09</td>\n",
              "      <td>0.053600</td>\n",
              "      <td>4.75</td>\n",
              "      <td>105.00</td>\n",
              "      <td>0</td>\n",
              "      <td>25017</td>\n",
              "      <td>1</td>\n",
              "      <td>1</td>\n",
              "      <td>2</td>\n",
              "      <td>0</td>\n",
              "      <td>1</td>\n",
              "      <td>0</td>\n",
              "      <td>140.130000</td>\n",
              "      <td>0</td>\n",
              "      <td>1.0</td>\n",
              "      <td>0.0</td>\n",
              "      <td>0.0</td>\n",
              "      <td>0.0</td>\n",
              "      <td>0.0</td>\n",
              "      <td>0.0</td>\n",
              "      <td>0.0</td>\n",
              "      <td>0.0</td>\n",
              "    </tr>\n",
              "    <tr>\n",
              "      <th>1544805</th>\n",
              "      <td>103667</td>\n",
              "      <td>19</td>\n",
              "      <td>158</td>\n",
              "      <td>158</td>\n",
              "      <td>42669</td>\n",
              "      <td>3</td>\n",
              "      <td>3.5</td>\n",
              "      <td>0</td>\n",
              "      <td>2.40</td>\n",
              "      <td>0.076800</td>\n",
              "      <td>4.72</td>\n",
              "      <td>69.62</td>\n",
              "      <td>0</td>\n",
              "      <td>23525</td>\n",
              "      <td>3</td>\n",
              "      <td>6</td>\n",
              "      <td>2</td>\n",
              "      <td>0</td>\n",
              "      <td>1</td>\n",
              "      <td>1</td>\n",
              "      <td>1552.378719</td>\n",
              "      <td>0</td>\n",
              "      <td>1.0</td>\n",
              "      <td>0.0</td>\n",
              "      <td>1.0</td>\n",
              "      <td>0.0</td>\n",
              "      <td>0.0</td>\n",
              "      <td>0.0</td>\n",
              "      <td>0.0</td>\n",
              "      <td>0.0</td>\n",
              "    </tr>\n",
              "    <tr>\n",
              "      <th>3493278</th>\n",
              "      <td>234544</td>\n",
              "      <td>5</td>\n",
              "      <td>219</td>\n",
              "      <td>219</td>\n",
              "      <td>140666</td>\n",
              "      <td>0</td>\n",
              "      <td>2.5</td>\n",
              "      <td>1</td>\n",
              "      <td>1.79</td>\n",
              "      <td>0.072600</td>\n",
              "      <td>4.31</td>\n",
              "      <td>55.00</td>\n",
              "      <td>0</td>\n",
              "      <td>15796</td>\n",
              "      <td>1</td>\n",
              "      <td>1</td>\n",
              "      <td>2</td>\n",
              "      <td>1</td>\n",
              "      <td>1</td>\n",
              "      <td>1</td>\n",
              "      <td>4719.846052</td>\n",
              "      <td>0</td>\n",
              "      <td>1.0</td>\n",
              "      <td>0.0</td>\n",
              "      <td>0.0</td>\n",
              "      <td>0.0</td>\n",
              "      <td>0.0</td>\n",
              "      <td>0.0</td>\n",
              "      <td>0.0</td>\n",
              "      <td>0.0</td>\n",
              "    </tr>\n",
              "  </tbody>\n",
              "</table>\n",
              "<p>5000 rows × 30 columns</p>\n",
              "</div>"
            ],
            "text/plain": [
              "         srch_id  site_id  ...  comp8_rate  comp8_inv\n",
              "920872     61466        5  ...         0.0        0.0\n",
              "4627336   310442        5  ...         0.0        0.0\n",
              "1578965   106043        5  ...         0.0        0.0\n",
              "563179     37636        5  ...         0.0        0.0\n",
              "3766623   253025        5  ...        -1.0        0.0\n",
              "...          ...      ...  ...         ...        ...\n",
              "4191474   281244        5  ...         0.0        0.0\n",
              "187545     12604       24  ...         0.0        0.0\n",
              "2301123   154505        5  ...         0.0        0.0\n",
              "1544805   103667       19  ...         0.0        0.0\n",
              "3493278   234544        5  ...         0.0        0.0\n",
              "\n",
              "[5000 rows x 30 columns]"
            ]
          },
          "metadata": {
            "tags": []
          },
          "execution_count": 46
        }
      ]
    },
    {
      "cell_type": "code",
      "metadata": {
        "colab": {
          "base_uri": "https://localhost:8080/"
        },
        "id": "walrHPD_4eIt",
        "outputId": "4a777e4f-40fe-41df-f084-76ff9a59655d"
      },
      "source": [
        "forest.fit(sample_X_train_booking, sample_y_train_booking)"
      ],
      "execution_count": 47,
      "outputs": [
        {
          "output_type": "execute_result",
          "data": {
            "text/plain": [
              "RandomForestClassifier(bootstrap=True, ccp_alpha=0.0, class_weight=None,\n",
              "                       criterion='gini', max_depth=None, max_features='auto',\n",
              "                       max_leaf_nodes=None, max_samples=None,\n",
              "                       min_impurity_decrease=0.0, min_impurity_split=None,\n",
              "                       min_samples_leaf=1, min_samples_split=2,\n",
              "                       min_weight_fraction_leaf=0.0, n_estimators=100,\n",
              "                       n_jobs=None, oob_score=False, random_state=None,\n",
              "                       verbose=0, warm_start=False)"
            ]
          },
          "metadata": {
            "tags": []
          },
          "execution_count": 47
        }
      ]
    },
    {
      "cell_type": "code",
      "metadata": {
        "colab": {
          "base_uri": "https://localhost:8080/"
        },
        "id": "9wVnXjpFGJX3",
        "outputId": "c9a5599a-0813-47f7-df0e-37e5efcb6a1a"
      },
      "source": [
        "forest.score(sample_X_test_booking, sample_y_test_booking)"
      ],
      "execution_count": 48,
      "outputs": [
        {
          "output_type": "execute_result",
          "data": {
            "text/plain": [
              "0.9744"
            ]
          },
          "metadata": {
            "tags": []
          },
          "execution_count": 48
        }
      ]
    },
    {
      "cell_type": "code",
      "metadata": {
        "colab": {
          "base_uri": "https://localhost:8080/"
        },
        "id": "urP14_ujGqRB",
        "outputId": "4d7db077-d065-46f6-9393-13d91d5e3f18"
      },
      "source": [
        "sklearn.model_selection.cross_val_score(forest, sample_X_imputed, sample_y_booking, cv=5)"
      ],
      "execution_count": 49,
      "outputs": [
        {
          "output_type": "execute_result",
          "data": {
            "text/plain": [
              "array([0.971, 0.971, 0.971, 0.971, 0.97 ])"
            ]
          },
          "metadata": {
            "tags": []
          },
          "execution_count": 49
        }
      ]
    },
    {
      "cell_type": "code",
      "metadata": {
        "id": "-FghKRTzHjtX"
      },
      "source": [
        "pred_sample_y_booking = forest.predict(sample_X_test_booking)"
      ],
      "execution_count": 50,
      "outputs": []
    },
    {
      "cell_type": "code",
      "metadata": {
        "id": "FuzyczQMNXSp"
      },
      "source": [
        "pred_prob_sample_y_booking = forest.predict_proba(sample_X_test_booking)"
      ],
      "execution_count": 51,
      "outputs": []
    },
    {
      "cell_type": "code",
      "metadata": {
        "colab": {
          "base_uri": "https://localhost:8080/"
        },
        "id": "razKQD6YNsWJ",
        "outputId": "abd7ee14-f43b-4889-8ffc-1f8074dd2d7a"
      },
      "source": [
        "i = 0\n",
        "for name, group in train_data.groupby('srch_id'):\n",
        "  print(name)\n",
        "  print(group)\n",
        "  print(forest.predict(group))\n",
        "  i += 1\n",
        "  if i > 0:\n",
        "    break"
      ],
      "execution_count": 52,
      "outputs": [
        {
          "output_type": "stream",
          "text": [
            "1\n",
            "    srch_id  site_id  ...  comp8_rate  comp8_inv\n",
            "0         1       12  ...         0.0        0.0\n",
            "1         1       12  ...         0.0        0.0\n",
            "2         1       12  ...         0.0        0.0\n",
            "3         1       12  ...        -1.0        0.0\n",
            "4         1       12  ...         0.0        0.0\n",
            "5         1       12  ...         0.0        0.0\n",
            "6         1       12  ...         0.0        0.0\n",
            "7         1       12  ...         0.0        0.0\n",
            "8         1       12  ...         0.0        0.0\n",
            "9         1       12  ...         0.0        0.0\n",
            "10        1       12  ...         0.0        0.0\n",
            "11        1       12  ...         1.0        0.0\n",
            "12        1       12  ...         0.0        0.0\n",
            "13        1       12  ...         0.0        0.0\n",
            "14        1       12  ...         0.0        0.0\n",
            "15        1       12  ...         0.0        0.0\n",
            "16        1       12  ...         0.0        0.0\n",
            "17        1       12  ...         0.0        0.0\n",
            "18        1       12  ...         0.0        0.0\n",
            "19        1       12  ...         0.0        0.0\n",
            "20        1       12  ...         0.0        0.0\n",
            "21        1       12  ...        -1.0        0.0\n",
            "22        1       12  ...        -1.0        0.0\n",
            "23        1       12  ...         0.0        0.0\n",
            "24        1       12  ...         0.0        0.0\n",
            "25        1       12  ...         0.0        0.0\n",
            "26        1       12  ...         0.0        0.0\n",
            "27        1       12  ...         0.0        0.0\n",
            "\n",
            "[28 rows x 30 columns]\n",
            "[0 0 0 0 0 0 0 0 0 0 0 0 0 0 0 0 0 0 0 0 0 0 0 0 0 0 0 0]\n"
          ],
          "name": "stdout"
        }
      ]
    },
    {
      "cell_type": "code",
      "metadata": {
        "colab": {
          "base_uri": "https://localhost:8080/"
        },
        "id": "ClhqFB7-NeyP",
        "outputId": "21ed3919-dcb6-43b2-be26-01ee2d19d7a8"
      },
      "source": [
        "for p in pred_prob_sample_y_booking:\n",
        "  print(p)"
      ],
      "execution_count": 53,
      "outputs": [
        {
          "output_type": "stream",
          "text": [
            "[0.95 0.05]\n",
            "[0.93 0.07]\n",
            "[0.9 0.1]\n",
            "[0.97 0.03]\n",
            "[1. 0.]\n",
            "[0.97 0.03]\n",
            "[0.9 0.1]\n",
            "[0.98 0.02]\n",
            "[1. 0.]\n",
            "[0.89 0.11]\n",
            "[0.98 0.02]\n",
            "[0.97 0.03]\n",
            "[0.99 0.01]\n",
            "[0.97 0.03]\n",
            "[0.97 0.03]\n",
            "[1. 0.]\n",
            "[0.93 0.07]\n",
            "[1. 0.]\n",
            "[0.96 0.04]\n",
            "[0.99 0.01]\n",
            "[0.99 0.01]\n",
            "[0.97 0.03]\n",
            "[0.96 0.04]\n",
            "[0.98 0.02]\n",
            "[0.89 0.11]\n",
            "[0.99 0.01]\n",
            "[0.94 0.06]\n",
            "[0.93 0.07]\n",
            "[0.99 0.01]\n",
            "[0.97 0.03]\n",
            "[0.99 0.01]\n",
            "[0.98 0.02]\n",
            "[0.98 0.02]\n",
            "[0.96 0.04]\n",
            "[0.99 0.01]\n",
            "[0.9 0.1]\n",
            "[0.99 0.01]\n",
            "[0.98 0.02]\n",
            "[1. 0.]\n",
            "[0.98 0.02]\n",
            "[0.98 0.02]\n",
            "[0.97 0.03]\n",
            "[0.98 0.02]\n",
            "[0.99 0.01]\n",
            "[0.95 0.05]\n",
            "[0.88 0.12]\n",
            "[0.97 0.03]\n",
            "[0.97 0.03]\n",
            "[0.9 0.1]\n",
            "[0.97 0.03]\n",
            "[0.99 0.01]\n",
            "[0.97 0.03]\n",
            "[0.92 0.08]\n",
            "[0.98 0.02]\n",
            "[0.96 0.04]\n",
            "[0.96 0.04]\n",
            "[0.99 0.01]\n",
            "[1. 0.]\n",
            "[1. 0.]\n",
            "[0.8 0.2]\n",
            "[0.96 0.04]\n",
            "[0.94 0.06]\n",
            "[0.98 0.02]\n",
            "[0.99 0.01]\n",
            "[0.99 0.01]\n",
            "[0.92 0.08]\n",
            "[0.98 0.02]\n",
            "[0.95 0.05]\n",
            "[0.92 0.08]\n",
            "[0.94 0.06]\n",
            "[0.93 0.07]\n",
            "[0.97 0.03]\n",
            "[1. 0.]\n",
            "[0.96 0.04]\n",
            "[0.97 0.03]\n",
            "[0.94 0.06]\n",
            "[0.97 0.03]\n",
            "[0.96 0.04]\n",
            "[0.97 0.03]\n",
            "[0.99 0.01]\n",
            "[0.98 0.02]\n",
            "[0.99 0.01]\n",
            "[0.96 0.04]\n",
            "[0.97 0.03]\n",
            "[0.93 0.07]\n",
            "[0.98 0.02]\n",
            "[0.98 0.02]\n",
            "[0.93 0.07]\n",
            "[0.99 0.01]\n",
            "[0.97 0.03]\n",
            "[0.99 0.01]\n",
            "[0.99 0.01]\n",
            "[0.99 0.01]\n",
            "[1. 0.]\n",
            "[0.97 0.03]\n",
            "[0.97 0.03]\n",
            "[0.99 0.01]\n",
            "[0.93 0.07]\n",
            "[1. 0.]\n",
            "[1. 0.]\n",
            "[0.95 0.05]\n",
            "[0.94 0.06]\n",
            "[0.94 0.06]\n",
            "[0.93 0.07]\n",
            "[0.99 0.01]\n",
            "[0.95 0.05]\n",
            "[0.96 0.04]\n",
            "[0.85 0.15]\n",
            "[0.97 0.03]\n",
            "[0.95 0.05]\n",
            "[1. 0.]\n",
            "[0.96 0.04]\n",
            "[0.98 0.02]\n",
            "[0.95 0.05]\n",
            "[0.99 0.01]\n",
            "[0.98 0.02]\n",
            "[0.93 0.07]\n",
            "[0.98 0.02]\n",
            "[0.99 0.01]\n",
            "[0.96 0.04]\n",
            "[0.96 0.04]\n",
            "[0.94 0.06]\n",
            "[1. 0.]\n",
            "[0.86 0.14]\n",
            "[0.96 0.04]\n",
            "[0.99 0.01]\n",
            "[0.96 0.04]\n",
            "[1. 0.]\n",
            "[0.99 0.01]\n",
            "[1. 0.]\n",
            "[0.96 0.04]\n",
            "[0.97 0.03]\n",
            "[0.97 0.03]\n",
            "[1. 0.]\n",
            "[1. 0.]\n",
            "[0.99 0.01]\n",
            "[1. 0.]\n",
            "[0.97 0.03]\n",
            "[0.99 0.01]\n",
            "[1. 0.]\n",
            "[0.99 0.01]\n",
            "[0.91 0.09]\n",
            "[0.98 0.02]\n",
            "[0.94 0.06]\n",
            "[0.96 0.04]\n",
            "[0.99 0.01]\n",
            "[0.99 0.01]\n",
            "[0.99 0.01]\n",
            "[0.97 0.03]\n",
            "[0.93 0.07]\n",
            "[0.94 0.06]\n",
            "[0.98 0.02]\n",
            "[1. 0.]\n",
            "[0.93 0.07]\n",
            "[1. 0.]\n",
            "[1. 0.]\n",
            "[0.98 0.02]\n",
            "[1. 0.]\n",
            "[0.92 0.08]\n",
            "[1. 0.]\n",
            "[0.99 0.01]\n",
            "[1. 0.]\n",
            "[0.96 0.04]\n",
            "[0.98 0.02]\n",
            "[0.97 0.03]\n",
            "[1. 0.]\n",
            "[0.98 0.02]\n",
            "[0.91 0.09]\n",
            "[0.98 0.02]\n",
            "[0.97 0.03]\n",
            "[0.98 0.02]\n",
            "[0.8 0.2]\n",
            "[0.94 0.06]\n",
            "[0.98 0.02]\n",
            "[0.99 0.01]\n",
            "[0.97 0.03]\n",
            "[0.96 0.04]\n",
            "[0.95 0.05]\n",
            "[0.93 0.07]\n",
            "[1. 0.]\n",
            "[0.95 0.05]\n",
            "[0.91 0.09]\n",
            "[0.98 0.02]\n",
            "[0.88 0.12]\n",
            "[0.99 0.01]\n",
            "[0.9 0.1]\n",
            "[0.98 0.02]\n",
            "[0.99 0.01]\n",
            "[0.99 0.01]\n",
            "[0.98 0.02]\n",
            "[0.98 0.02]\n",
            "[1. 0.]\n",
            "[0.98 0.02]\n",
            "[0.97 0.03]\n",
            "[0.97 0.03]\n",
            "[0.97 0.03]\n",
            "[0.98 0.02]\n",
            "[0.95 0.05]\n",
            "[0.95 0.05]\n",
            "[0.99 0.01]\n",
            "[0.99 0.01]\n",
            "[1. 0.]\n",
            "[0.98 0.02]\n",
            "[0.98 0.02]\n",
            "[0.97 0.03]\n",
            "[0.88 0.12]\n",
            "[1. 0.]\n",
            "[0.98 0.02]\n",
            "[0.97 0.03]\n",
            "[0.99 0.01]\n",
            "[0.97 0.03]\n",
            "[0.96 0.04]\n",
            "[0.96 0.04]\n",
            "[0.93 0.07]\n",
            "[0.97 0.03]\n",
            "[0.96 0.04]\n",
            "[1. 0.]\n",
            "[0.92 0.08]\n",
            "[0.98 0.02]\n",
            "[0.87 0.13]\n",
            "[0.99 0.01]\n",
            "[0.9 0.1]\n",
            "[0.97 0.03]\n",
            "[1. 0.]\n",
            "[0.95 0.05]\n",
            "[0.95 0.05]\n",
            "[0.97 0.03]\n",
            "[1. 0.]\n",
            "[0.93 0.07]\n",
            "[0.95 0.05]\n",
            "[1. 0.]\n",
            "[0.99 0.01]\n",
            "[0.96 0.04]\n",
            "[0.97 0.03]\n",
            "[0.99 0.01]\n",
            "[0.98 0.02]\n",
            "[1. 0.]\n",
            "[0.98 0.02]\n",
            "[0.97 0.03]\n",
            "[0.98 0.02]\n",
            "[1. 0.]\n",
            "[1. 0.]\n",
            "[0.9 0.1]\n",
            "[0.98 0.02]\n",
            "[0.97 0.03]\n",
            "[0.99 0.01]\n",
            "[0.99 0.01]\n",
            "[0.99 0.01]\n",
            "[1. 0.]\n",
            "[0.99 0.01]\n",
            "[0.99 0.01]\n",
            "[0.98 0.02]\n",
            "[0.92 0.08]\n",
            "[0.98 0.02]\n",
            "[1. 0.]\n",
            "[0.82 0.18]\n",
            "[0.93 0.07]\n",
            "[0.93 0.07]\n",
            "[0.99 0.01]\n",
            "[0.98 0.02]\n",
            "[0.93 0.07]\n",
            "[0.99 0.01]\n",
            "[0.93 0.07]\n",
            "[0.93 0.07]\n",
            "[0.97 0.03]\n",
            "[1. 0.]\n",
            "[0.97 0.03]\n",
            "[1. 0.]\n",
            "[0.97 0.03]\n",
            "[0.78 0.22]\n",
            "[0.99 0.01]\n",
            "[0.99 0.01]\n",
            "[1. 0.]\n",
            "[0.94 0.06]\n",
            "[1. 0.]\n",
            "[0.98 0.02]\n",
            "[0.98 0.02]\n",
            "[0.97 0.03]\n",
            "[0.98 0.02]\n",
            "[1. 0.]\n",
            "[0.98 0.02]\n",
            "[0.96 0.04]\n",
            "[0.99 0.01]\n",
            "[0.94 0.06]\n",
            "[0.99 0.01]\n",
            "[1. 0.]\n",
            "[0.98 0.02]\n",
            "[0.98 0.02]\n",
            "[0.96 0.04]\n",
            "[0.98 0.02]\n",
            "[0.99 0.01]\n",
            "[0.98 0.02]\n",
            "[0.97 0.03]\n",
            "[0.95 0.05]\n",
            "[0.99 0.01]\n",
            "[1. 0.]\n",
            "[1. 0.]\n",
            "[1. 0.]\n",
            "[1. 0.]\n",
            "[0.89 0.11]\n",
            "[0.9 0.1]\n",
            "[0.97 0.03]\n",
            "[1. 0.]\n",
            "[0.97 0.03]\n",
            "[1. 0.]\n",
            "[0.99 0.01]\n",
            "[0.99 0.01]\n",
            "[0.95 0.05]\n",
            "[0.97 0.03]\n",
            "[0.98 0.02]\n",
            "[0.97 0.03]\n",
            "[1. 0.]\n",
            "[0.89 0.11]\n",
            "[1. 0.]\n",
            "[0.89 0.11]\n",
            "[0.99 0.01]\n",
            "[0.97 0.03]\n",
            "[1. 0.]\n",
            "[1. 0.]\n",
            "[0.81 0.19]\n",
            "[0.97 0.03]\n",
            "[1. 0.]\n",
            "[0.97 0.03]\n",
            "[1. 0.]\n",
            "[1. 0.]\n",
            "[0.98 0.02]\n",
            "[1. 0.]\n",
            "[0.97 0.03]\n",
            "[0.96 0.04]\n",
            "[0.92 0.08]\n",
            "[0.98 0.02]\n",
            "[0.99 0.01]\n",
            "[0.97 0.03]\n",
            "[0.96 0.04]\n",
            "[0.98 0.02]\n",
            "[0.98 0.02]\n",
            "[0.98 0.02]\n",
            "[0.91 0.09]\n",
            "[0.93 0.07]\n",
            "[0.99 0.01]\n",
            "[0.91 0.09]\n",
            "[1. 0.]\n",
            "[1. 0.]\n",
            "[0.98 0.02]\n",
            "[0.98 0.02]\n",
            "[1. 0.]\n",
            "[1. 0.]\n",
            "[1. 0.]\n",
            "[0.95 0.05]\n",
            "[0.93 0.07]\n",
            "[0.99 0.01]\n",
            "[0.99 0.01]\n",
            "[1. 0.]\n",
            "[0.96 0.04]\n",
            "[0.99 0.01]\n",
            "[0.96 0.04]\n",
            "[1. 0.]\n",
            "[0.99 0.01]\n",
            "[0.98 0.02]\n",
            "[0.98 0.02]\n",
            "[1. 0.]\n",
            "[1. 0.]\n",
            "[0.99 0.01]\n",
            "[0.99 0.01]\n",
            "[0.94 0.06]\n",
            "[0.98 0.02]\n",
            "[0.97 0.03]\n",
            "[0.95 0.05]\n",
            "[1. 0.]\n",
            "[0.93 0.07]\n",
            "[0.97 0.03]\n",
            "[0.97 0.03]\n",
            "[0.93 0.07]\n",
            "[0.97 0.03]\n",
            "[1. 0.]\n",
            "[0.97 0.03]\n",
            "[1. 0.]\n",
            "[0.97 0.03]\n",
            "[0.96 0.04]\n",
            "[0.98 0.02]\n",
            "[1. 0.]\n",
            "[0.85 0.15]\n",
            "[0.97 0.03]\n",
            "[0.99 0.01]\n",
            "[0.95 0.05]\n",
            "[0.92 0.08]\n",
            "[0.86 0.14]\n",
            "[1. 0.]\n",
            "[0.98 0.02]\n",
            "[0.99 0.01]\n",
            "[0.99 0.01]\n",
            "[0.99 0.01]\n",
            "[0.98 0.02]\n",
            "[1. 0.]\n",
            "[0.99 0.01]\n",
            "[0.96 0.04]\n",
            "[1. 0.]\n",
            "[0.95 0.05]\n",
            "[0.96 0.04]\n",
            "[0.96 0.04]\n",
            "[0.98 0.02]\n",
            "[0.99 0.01]\n",
            "[0.96 0.04]\n",
            "[0.99 0.01]\n",
            "[1. 0.]\n",
            "[0.94 0.06]\n",
            "[1. 0.]\n",
            "[0.97 0.03]\n",
            "[0.98 0.02]\n",
            "[0.87 0.13]\n",
            "[1. 0.]\n",
            "[1. 0.]\n",
            "[0.99 0.01]\n",
            "[1. 0.]\n",
            "[0.9 0.1]\n",
            "[1. 0.]\n",
            "[0.85 0.15]\n",
            "[1. 0.]\n",
            "[0.91 0.09]\n",
            "[0.97 0.03]\n",
            "[0.99 0.01]\n",
            "[1. 0.]\n",
            "[0.96 0.04]\n",
            "[1. 0.]\n",
            "[1. 0.]\n",
            "[0.91 0.09]\n",
            "[0.92 0.08]\n",
            "[0.98 0.02]\n",
            "[0.9 0.1]\n",
            "[0.92 0.08]\n",
            "[0.99 0.01]\n",
            "[0.98 0.02]\n",
            "[0.98 0.02]\n",
            "[0.98 0.02]\n",
            "[1. 0.]\n",
            "[0.98 0.02]\n",
            "[1. 0.]\n",
            "[1. 0.]\n",
            "[0.96 0.04]\n",
            "[0.99 0.01]\n",
            "[0.91 0.09]\n",
            "[1. 0.]\n",
            "[0.99 0.01]\n",
            "[0.98 0.02]\n",
            "[0.99 0.01]\n",
            "[0.92 0.08]\n",
            "[0.97 0.03]\n",
            "[0.95 0.05]\n",
            "[0.84 0.16]\n",
            "[1. 0.]\n",
            "[0.92 0.08]\n",
            "[0.99 0.01]\n",
            "[0.99 0.01]\n",
            "[1. 0.]\n",
            "[1. 0.]\n",
            "[0.93 0.07]\n",
            "[0.98 0.02]\n",
            "[0.91 0.09]\n",
            "[0.97 0.03]\n",
            "[0.99 0.01]\n",
            "[0.98 0.02]\n",
            "[1. 0.]\n",
            "[0.92 0.08]\n",
            "[0.99 0.01]\n",
            "[0.95 0.05]\n",
            "[0.95 0.05]\n",
            "[0.97 0.03]\n",
            "[0.99 0.01]\n",
            "[0.95 0.05]\n",
            "[0.98 0.02]\n",
            "[0.98 0.02]\n",
            "[0.96 0.04]\n",
            "[0.94 0.06]\n",
            "[0.86 0.14]\n",
            "[0.92 0.08]\n",
            "[0.96 0.04]\n",
            "[0.9 0.1]\n",
            "[0.94 0.06]\n",
            "[0.99 0.01]\n",
            "[0.99 0.01]\n",
            "[0.96 0.04]\n",
            "[0.99 0.01]\n",
            "[0.99 0.01]\n",
            "[0.98 0.02]\n",
            "[0.99 0.01]\n",
            "[0.96 0.04]\n",
            "[1. 0.]\n",
            "[0.93 0.07]\n",
            "[0.92 0.08]\n",
            "[0.96 0.04]\n",
            "[1. 0.]\n",
            "[0.98 0.02]\n",
            "[1. 0.]\n",
            "[0.9 0.1]\n",
            "[0.96 0.04]\n",
            "[0.94 0.06]\n",
            "[0.99 0.01]\n",
            "[0.94 0.06]\n",
            "[0.96 0.04]\n",
            "[0.93 0.07]\n",
            "[0.94 0.06]\n",
            "[0.96 0.04]\n",
            "[0.97 0.03]\n",
            "[0.96 0.04]\n",
            "[0.98 0.02]\n",
            "[0.91 0.09]\n",
            "[1. 0.]\n",
            "[0.96 0.04]\n",
            "[0.99 0.01]\n",
            "[0.93 0.07]\n",
            "[0.97 0.03]\n",
            "[0.92 0.08]\n",
            "[0.98 0.02]\n",
            "[0.68 0.32]\n",
            "[0.93 0.07]\n",
            "[0.95 0.05]\n",
            "[1. 0.]\n",
            "[0.99 0.01]\n",
            "[0.97 0.03]\n",
            "[0.98 0.02]\n",
            "[0.98 0.02]\n",
            "[0.93 0.07]\n",
            "[0.99 0.01]\n",
            "[0.99 0.01]\n",
            "[1. 0.]\n",
            "[1. 0.]\n",
            "[0.99 0.01]\n",
            "[1. 0.]\n",
            "[1. 0.]\n",
            "[0.99 0.01]\n",
            "[0.98 0.02]\n",
            "[1. 0.]\n",
            "[1. 0.]\n",
            "[0.98 0.02]\n",
            "[0.91 0.09]\n",
            "[0.97 0.03]\n",
            "[0.95 0.05]\n",
            "[0.98 0.02]\n",
            "[0.91 0.09]\n",
            "[0.96 0.04]\n",
            "[1. 0.]\n",
            "[0.99 0.01]\n",
            "[1. 0.]\n",
            "[0.97 0.03]\n",
            "[0.95 0.05]\n",
            "[0.92 0.08]\n",
            "[0.99 0.01]\n",
            "[0.9 0.1]\n",
            "[0.97 0.03]\n",
            "[0.98 0.02]\n",
            "[0.98 0.02]\n",
            "[1. 0.]\n",
            "[0.94 0.06]\n",
            "[0.97 0.03]\n",
            "[0.99 0.01]\n",
            "[0.99 0.01]\n",
            "[0.99 0.01]\n",
            "[0.98 0.02]\n",
            "[0.96 0.04]\n",
            "[0.97 0.03]\n",
            "[0.99 0.01]\n",
            "[1. 0.]\n",
            "[0.98 0.02]\n",
            "[0.98 0.02]\n",
            "[0.99 0.01]\n",
            "[1. 0.]\n",
            "[0.98 0.02]\n",
            "[0.93 0.07]\n",
            "[0.97 0.03]\n",
            "[0.98 0.02]\n",
            "[0.99 0.01]\n",
            "[1. 0.]\n",
            "[0.9 0.1]\n",
            "[0.96 0.04]\n",
            "[1. 0.]\n",
            "[0.99 0.01]\n",
            "[0.98 0.02]\n",
            "[0.86 0.14]\n",
            "[0.97 0.03]\n",
            "[1. 0.]\n",
            "[0.97 0.03]\n",
            "[0.99 0.01]\n",
            "[1. 0.]\n",
            "[1. 0.]\n",
            "[0.99 0.01]\n",
            "[0.94 0.06]\n",
            "[0.98 0.02]\n",
            "[1. 0.]\n",
            "[0.95 0.05]\n",
            "[0.97 0.03]\n",
            "[0.99 0.01]\n",
            "[1. 0.]\n",
            "[0.97 0.03]\n",
            "[0.94 0.06]\n",
            "[0.9 0.1]\n",
            "[0.87 0.13]\n",
            "[0.93 0.07]\n",
            "[0.99 0.01]\n",
            "[0.79 0.21]\n",
            "[0.85 0.15]\n",
            "[0.97 0.03]\n",
            "[0.98 0.02]\n",
            "[0.99 0.01]\n",
            "[0.94 0.06]\n",
            "[0.94 0.06]\n",
            "[0.98 0.02]\n",
            "[0.94 0.06]\n",
            "[0.99 0.01]\n",
            "[0.91 0.09]\n",
            "[0.98 0.02]\n",
            "[0.87 0.13]\n",
            "[0.99 0.01]\n",
            "[0.95 0.05]\n",
            "[0.97 0.03]\n",
            "[1. 0.]\n",
            "[0.96 0.04]\n",
            "[0.93 0.07]\n",
            "[0.99 0.01]\n",
            "[0.96 0.04]\n",
            "[1. 0.]\n",
            "[0.99 0.01]\n",
            "[0.98 0.02]\n",
            "[0.99 0.01]\n",
            "[0.99 0.01]\n",
            "[0.98 0.02]\n",
            "[0.96 0.04]\n",
            "[0.97 0.03]\n",
            "[0.98 0.02]\n",
            "[0.95 0.05]\n",
            "[0.95 0.05]\n",
            "[1. 0.]\n",
            "[0.99 0.01]\n",
            "[1. 0.]\n",
            "[0.97 0.03]\n",
            "[0.98 0.02]\n",
            "[1. 0.]\n",
            "[0.98 0.02]\n",
            "[0.98 0.02]\n",
            "[1. 0.]\n",
            "[1. 0.]\n",
            "[0.98 0.02]\n",
            "[0.87 0.13]\n",
            "[1. 0.]\n",
            "[0.98 0.02]\n",
            "[1. 0.]\n",
            "[0.95 0.05]\n",
            "[1. 0.]\n",
            "[0.99 0.01]\n",
            "[1. 0.]\n",
            "[0.91 0.09]\n",
            "[0.95 0.05]\n",
            "[0.97 0.03]\n",
            "[0.98 0.02]\n",
            "[0.95 0.05]\n",
            "[0.99 0.01]\n",
            "[0.98 0.02]\n",
            "[0.97 0.03]\n",
            "[0.99 0.01]\n",
            "[0.98 0.02]\n",
            "[0.93 0.07]\n",
            "[0.98 0.02]\n",
            "[0.97 0.03]\n",
            "[0.98 0.02]\n",
            "[0.96 0.04]\n",
            "[0.76 0.24]\n",
            "[1. 0.]\n",
            "[0.92 0.08]\n",
            "[0.93 0.07]\n",
            "[0.97 0.03]\n",
            "[0.99 0.01]\n",
            "[0.95 0.05]\n",
            "[0.99 0.01]\n",
            "[0.95 0.05]\n",
            "[1. 0.]\n",
            "[0.99 0.01]\n",
            "[1. 0.]\n",
            "[0.86 0.14]\n",
            "[1. 0.]\n",
            "[0.94 0.06]\n",
            "[1. 0.]\n",
            "[0.8 0.2]\n",
            "[0.96 0.04]\n",
            "[0.99 0.01]\n",
            "[0.97 0.03]\n",
            "[0.98 0.02]\n",
            "[0.99 0.01]\n",
            "[0.96 0.04]\n",
            "[1. 0.]\n",
            "[0.91 0.09]\n",
            "[0.97 0.03]\n",
            "[0.98 0.02]\n",
            "[0.98 0.02]\n",
            "[0.98 0.02]\n",
            "[1. 0.]\n",
            "[0.84 0.16]\n",
            "[0.97 0.03]\n",
            "[1. 0.]\n",
            "[0.96 0.04]\n",
            "[0.98 0.02]\n",
            "[0.94 0.06]\n",
            "[0.86 0.14]\n",
            "[0.98 0.02]\n",
            "[0.92 0.08]\n",
            "[0.94 0.06]\n",
            "[0.99 0.01]\n",
            "[1. 0.]\n",
            "[0.97 0.03]\n",
            "[0.99 0.01]\n",
            "[1. 0.]\n",
            "[0.99 0.01]\n",
            "[0.94 0.06]\n",
            "[0.98 0.02]\n",
            "[1. 0.]\n",
            "[0.99 0.01]\n",
            "[0.94 0.06]\n",
            "[0.99 0.01]\n",
            "[0.98 0.02]\n",
            "[0.95 0.05]\n",
            "[0.93 0.07]\n",
            "[0.97 0.03]\n",
            "[0.92 0.08]\n",
            "[0.99 0.01]\n",
            "[0.97 0.03]\n",
            "[0.99 0.01]\n",
            "[0.88 0.12]\n",
            "[0.99 0.01]\n",
            "[0.93 0.07]\n",
            "[0.97 0.03]\n",
            "[1. 0.]\n",
            "[0.97 0.03]\n",
            "[0.95 0.05]\n",
            "[0.95 0.05]\n",
            "[0.97 0.03]\n",
            "[0.93 0.07]\n",
            "[1. 0.]\n",
            "[0.87 0.13]\n",
            "[1. 0.]\n",
            "[0.97 0.03]\n",
            "[0.95 0.05]\n",
            "[0.99 0.01]\n",
            "[0.98 0.02]\n",
            "[0.98 0.02]\n",
            "[0.98 0.02]\n",
            "[0.93 0.07]\n",
            "[0.98 0.02]\n",
            "[0.94 0.06]\n",
            "[1. 0.]\n",
            "[0.96 0.04]\n",
            "[0.98 0.02]\n",
            "[1. 0.]\n",
            "[0.88 0.12]\n",
            "[1. 0.]\n",
            "[1. 0.]\n",
            "[0.92 0.08]\n",
            "[0.99 0.01]\n",
            "[0.98 0.02]\n",
            "[0.98 0.02]\n",
            "[0.99 0.01]\n",
            "[0.95 0.05]\n",
            "[0.98 0.02]\n",
            "[0.98 0.02]\n",
            "[0.98 0.02]\n",
            "[0.96 0.04]\n",
            "[1. 0.]\n",
            "[0.93 0.07]\n",
            "[0.98 0.02]\n",
            "[0.96 0.04]\n",
            "[0.97 0.03]\n",
            "[0.94 0.06]\n",
            "[1. 0.]\n",
            "[0.92 0.08]\n",
            "[0.98 0.02]\n",
            "[0.95 0.05]\n",
            "[0.93 0.07]\n",
            "[0.99 0.01]\n",
            "[0.98 0.02]\n",
            "[0.95 0.05]\n",
            "[0.99 0.01]\n",
            "[0.86 0.14]\n",
            "[0.93 0.07]\n",
            "[0.97 0.03]\n",
            "[0.95 0.05]\n",
            "[0.98 0.02]\n",
            "[1. 0.]\n",
            "[0.88 0.12]\n",
            "[1. 0.]\n",
            "[0.98 0.02]\n",
            "[0.93 0.07]\n",
            "[0.96 0.04]\n",
            "[0.94 0.06]\n",
            "[0.97 0.03]\n",
            "[0.97 0.03]\n",
            "[1. 0.]\n",
            "[0.97 0.03]\n",
            "[0.97 0.03]\n",
            "[0.96 0.04]\n",
            "[0.96 0.04]\n",
            "[0.99 0.01]\n",
            "[0.97 0.03]\n",
            "[0.97 0.03]\n",
            "[0.93 0.07]\n",
            "[0.98 0.02]\n",
            "[0.98 0.02]\n",
            "[0.97 0.03]\n",
            "[0.99 0.01]\n",
            "[1. 0.]\n",
            "[0.96 0.04]\n",
            "[0.98 0.02]\n",
            "[0.96 0.04]\n",
            "[0.99 0.01]\n",
            "[0.98 0.02]\n",
            "[0.95 0.05]\n",
            "[1. 0.]\n",
            "[0.97 0.03]\n",
            "[1. 0.]\n",
            "[0.78 0.22]\n",
            "[0.93 0.07]\n",
            "[0.95 0.05]\n",
            "[0.89 0.11]\n",
            "[0.9 0.1]\n",
            "[0.94 0.06]\n",
            "[0.93 0.07]\n",
            "[0.9 0.1]\n",
            "[1. 0.]\n",
            "[0.98 0.02]\n",
            "[0.95 0.05]\n",
            "[0.98 0.02]\n",
            "[0.96 0.04]\n",
            "[0.98 0.02]\n",
            "[0.98 0.02]\n",
            "[0.99 0.01]\n",
            "[1. 0.]\n",
            "[1. 0.]\n",
            "[0.98 0.02]\n",
            "[0.96 0.04]\n",
            "[0.91 0.09]\n",
            "[0.94 0.06]\n",
            "[0.99 0.01]\n",
            "[0.98 0.02]\n",
            "[0.94 0.06]\n",
            "[0.94 0.06]\n",
            "[0.93 0.07]\n",
            "[0.97 0.03]\n",
            "[0.98 0.02]\n",
            "[0.97 0.03]\n",
            "[0.97 0.03]\n",
            "[0.98 0.02]\n",
            "[0.93 0.07]\n",
            "[1. 0.]\n",
            "[0.98 0.02]\n",
            "[0.99 0.01]\n",
            "[0.99 0.01]\n",
            "[0.83 0.17]\n",
            "[0.92 0.08]\n",
            "[1. 0.]\n",
            "[0.94 0.06]\n",
            "[0.84 0.16]\n",
            "[1. 0.]\n",
            "[0.95 0.05]\n",
            "[0.99 0.01]\n",
            "[0.99 0.01]\n",
            "[0.93 0.07]\n",
            "[0.99 0.01]\n",
            "[0.99 0.01]\n",
            "[0.88 0.12]\n",
            "[0.96 0.04]\n",
            "[0.98 0.02]\n",
            "[0.97 0.03]\n",
            "[0.97 0.03]\n",
            "[0.99 0.01]\n",
            "[0.91 0.09]\n",
            "[0.99 0.01]\n",
            "[0.99 0.01]\n",
            "[0.95 0.05]\n",
            "[0.87 0.13]\n",
            "[0.98 0.02]\n",
            "[0.98 0.02]\n",
            "[0.94 0.06]\n",
            "[0.97 0.03]\n",
            "[0.9 0.1]\n",
            "[0.98 0.02]\n",
            "[0.98 0.02]\n",
            "[0.97 0.03]\n",
            "[0.95 0.05]\n",
            "[0.97 0.03]\n",
            "[0.92 0.08]\n",
            "[0.97 0.03]\n",
            "[0.97 0.03]\n",
            "[0.99 0.01]\n",
            "[0.94 0.06]\n",
            "[0.97 0.03]\n",
            "[0.98 0.02]\n",
            "[0.91 0.09]\n",
            "[0.88 0.12]\n",
            "[0.88 0.12]\n",
            "[1. 0.]\n",
            "[0.99 0.01]\n",
            "[0.92 0.08]\n",
            "[0.98 0.02]\n",
            "[0.96 0.04]\n",
            "[0.97 0.03]\n",
            "[0.94 0.06]\n",
            "[0.97 0.03]\n",
            "[0.93 0.07]\n",
            "[0.86 0.14]\n",
            "[0.97 0.03]\n",
            "[0.96 0.04]\n",
            "[0.97 0.03]\n",
            "[0.97 0.03]\n",
            "[0.99 0.01]\n",
            "[1. 0.]\n",
            "[0.99 0.01]\n",
            "[0.93 0.07]\n",
            "[0.96 0.04]\n",
            "[0.99 0.01]\n",
            "[0.89 0.11]\n",
            "[0.97 0.03]\n",
            "[0.96 0.04]\n",
            "[0.99 0.01]\n",
            "[0.99 0.01]\n",
            "[0.99 0.01]\n",
            "[0.93 0.07]\n",
            "[0.98 0.02]\n",
            "[0.95 0.05]\n",
            "[0.97 0.03]\n",
            "[0.95 0.05]\n",
            "[0.96 0.04]\n",
            "[0.99 0.01]\n",
            "[1. 0.]\n",
            "[1. 0.]\n",
            "[0.87 0.13]\n",
            "[1. 0.]\n",
            "[0.94 0.06]\n",
            "[0.95 0.05]\n",
            "[1. 0.]\n",
            "[0.97 0.03]\n",
            "[0.97 0.03]\n",
            "[0.99 0.01]\n",
            "[0.98 0.02]\n",
            "[1. 0.]\n",
            "[0.94 0.06]\n",
            "[0.95 0.05]\n",
            "[0.98 0.02]\n",
            "[0.99 0.01]\n",
            "[0.94 0.06]\n",
            "[0.79 0.21]\n",
            "[0.91 0.09]\n",
            "[0.95 0.05]\n",
            "[0.98 0.02]\n",
            "[0.99 0.01]\n",
            "[1. 0.]\n",
            "[1. 0.]\n",
            "[0.95 0.05]\n",
            "[0.93 0.07]\n",
            "[0.72 0.28]\n",
            "[1. 0.]\n",
            "[0.99 0.01]\n",
            "[1. 0.]\n",
            "[0.99 0.01]\n",
            "[0.99 0.01]\n",
            "[0.98 0.02]\n",
            "[1. 0.]\n",
            "[0.98 0.02]\n",
            "[0.98 0.02]\n",
            "[1. 0.]\n",
            "[0.97 0.03]\n",
            "[0.82 0.18]\n",
            "[0.98 0.02]\n",
            "[0.99 0.01]\n",
            "[0.96 0.04]\n",
            "[0.96 0.04]\n",
            "[0.91 0.09]\n",
            "[0.99 0.01]\n",
            "[0.92 0.08]\n",
            "[0.92 0.08]\n",
            "[1. 0.]\n",
            "[0.96 0.04]\n",
            "[0.96 0.04]\n",
            "[1. 0.]\n",
            "[1. 0.]\n",
            "[0.97 0.03]\n",
            "[0.99 0.01]\n",
            "[0.92 0.08]\n",
            "[0.96 0.04]\n",
            "[0.99 0.01]\n",
            "[0.96 0.04]\n",
            "[0.99 0.01]\n",
            "[1. 0.]\n",
            "[0.94 0.06]\n",
            "[0.99 0.01]\n",
            "[0.91 0.09]\n",
            "[0.98 0.02]\n",
            "[0.99 0.01]\n",
            "[1. 0.]\n",
            "[0.99 0.01]\n",
            "[0.91 0.09]\n",
            "[0.97 0.03]\n",
            "[1. 0.]\n",
            "[0.98 0.02]\n",
            "[1. 0.]\n",
            "[0.97 0.03]\n",
            "[1. 0.]\n",
            "[0.97 0.03]\n",
            "[0.98 0.02]\n",
            "[1. 0.]\n",
            "[0.89 0.11]\n",
            "[1. 0.]\n",
            "[0.99 0.01]\n",
            "[0.87 0.13]\n",
            "[0.97 0.03]\n",
            "[0.96 0.04]\n",
            "[1. 0.]\n",
            "[0.98 0.02]\n",
            "[0.93 0.07]\n",
            "[0.89 0.11]\n",
            "[0.96 0.04]\n",
            "[0.97 0.03]\n",
            "[1. 0.]\n",
            "[0.95 0.05]\n",
            "[0.98 0.02]\n",
            "[0.99 0.01]\n",
            "[0.97 0.03]\n",
            "[0.99 0.01]\n",
            "[1. 0.]\n",
            "[0.92 0.08]\n",
            "[0.93 0.07]\n",
            "[1. 0.]\n",
            "[1. 0.]\n",
            "[0.98 0.02]\n",
            "[1. 0.]\n",
            "[0.97 0.03]\n",
            "[0.99 0.01]\n",
            "[0.94 0.06]\n",
            "[0.86 0.14]\n",
            "[0.99 0.01]\n",
            "[0.96 0.04]\n",
            "[0.97 0.03]\n",
            "[1. 0.]\n",
            "[1. 0.]\n",
            "[1. 0.]\n",
            "[0.95 0.05]\n",
            "[0.89 0.11]\n",
            "[0.96 0.04]\n",
            "[0.98 0.02]\n",
            "[0.99 0.01]\n",
            "[0.96 0.04]\n",
            "[0.96 0.04]\n",
            "[0.98 0.02]\n",
            "[0.96 0.04]\n",
            "[0.98 0.02]\n",
            "[1. 0.]\n",
            "[0.99 0.01]\n",
            "[0.94 0.06]\n",
            "[0.98 0.02]\n",
            "[0.97 0.03]\n",
            "[0.97 0.03]\n",
            "[0.94 0.06]\n",
            "[0.99 0.01]\n",
            "[1. 0.]\n",
            "[0.99 0.01]\n",
            "[0.96 0.04]\n",
            "[0.99 0.01]\n",
            "[0.97 0.03]\n",
            "[0.98 0.02]\n",
            "[0.97 0.03]\n",
            "[0.96 0.04]\n",
            "[0.93 0.07]\n",
            "[0.99 0.01]\n",
            "[0.98 0.02]\n",
            "[0.99 0.01]\n",
            "[0.94 0.06]\n",
            "[0.98 0.02]\n",
            "[1. 0.]\n",
            "[0.99 0.01]\n",
            "[0.86 0.14]\n",
            "[0.99 0.01]\n",
            "[0.96 0.04]\n",
            "[0.98 0.02]\n",
            "[0.99 0.01]\n",
            "[1. 0.]\n",
            "[0.94 0.06]\n",
            "[0.96 0.04]\n",
            "[0.98 0.02]\n",
            "[0.95 0.05]\n",
            "[1. 0.]\n",
            "[0.9 0.1]\n",
            "[0.89 0.11]\n",
            "[0.98 0.02]\n",
            "[0.98 0.02]\n",
            "[0.85 0.15]\n",
            "[0.96 0.04]\n",
            "[0.96 0.04]\n",
            "[0.96 0.04]\n",
            "[0.99 0.01]\n",
            "[0.98 0.02]\n",
            "[0.94 0.06]\n",
            "[0.97 0.03]\n",
            "[0.99 0.01]\n",
            "[0.93 0.07]\n",
            "[1. 0.]\n",
            "[0.99 0.01]\n",
            "[1. 0.]\n",
            "[0.97 0.03]\n",
            "[0.95 0.05]\n",
            "[0.98 0.02]\n",
            "[0.99 0.01]\n",
            "[0.97 0.03]\n",
            "[0.99 0.01]\n",
            "[1. 0.]\n",
            "[0.99 0.01]\n",
            "[1. 0.]\n",
            "[0.89 0.11]\n",
            "[0.84 0.16]\n",
            "[0.94 0.06]\n",
            "[1. 0.]\n",
            "[1. 0.]\n",
            "[0.99 0.01]\n",
            "[0.98 0.02]\n",
            "[0.92 0.08]\n",
            "[0.94 0.06]\n",
            "[0.99 0.01]\n",
            "[1. 0.]\n",
            "[0.92 0.08]\n",
            "[0.97 0.03]\n",
            "[0.99 0.01]\n",
            "[0.97 0.03]\n",
            "[0.99 0.01]\n",
            "[1. 0.]\n",
            "[1. 0.]\n",
            "[1. 0.]\n",
            "[0.95 0.05]\n",
            "[0.99 0.01]\n",
            "[0.96 0.04]\n",
            "[1. 0.]\n",
            "[1. 0.]\n",
            "[1. 0.]\n",
            "[0.98 0.02]\n",
            "[0.95 0.05]\n",
            "[0.98 0.02]\n",
            "[0.99 0.01]\n",
            "[0.95 0.05]\n",
            "[0.99 0.01]\n",
            "[0.95 0.05]\n",
            "[0.99 0.01]\n",
            "[0.94 0.06]\n",
            "[0.98 0.02]\n",
            "[0.97 0.03]\n",
            "[0.97 0.03]\n",
            "[1. 0.]\n",
            "[1. 0.]\n",
            "[0.98 0.02]\n",
            "[0.97 0.03]\n",
            "[0.98 0.02]\n",
            "[0.93 0.07]\n",
            "[1. 0.]\n",
            "[0.97 0.03]\n",
            "[0.98 0.02]\n",
            "[0.98 0.02]\n",
            "[1. 0.]\n",
            "[0.99 0.01]\n",
            "[0.98 0.02]\n",
            "[1. 0.]\n",
            "[0.98 0.02]\n",
            "[0.93 0.07]\n",
            "[0.98 0.02]\n",
            "[0.95 0.05]\n",
            "[0.99 0.01]\n",
            "[1. 0.]\n",
            "[0.97 0.03]\n",
            "[0.97 0.03]\n",
            "[0.89 0.11]\n",
            "[0.97 0.03]\n",
            "[1. 0.]\n",
            "[0.95 0.05]\n",
            "[1. 0.]\n",
            "[1. 0.]\n",
            "[0.98 0.02]\n",
            "[0.99 0.01]\n",
            "[0.99 0.01]\n",
            "[1. 0.]\n",
            "[0.97 0.03]\n",
            "[0.99 0.01]\n",
            "[0.99 0.01]\n",
            "[0.97 0.03]\n",
            "[0.97 0.03]\n",
            "[0.97 0.03]\n",
            "[0.83 0.17]\n",
            "[0.99 0.01]\n",
            "[0.94 0.06]\n",
            "[0.99 0.01]\n",
            "[0.98 0.02]\n",
            "[0.89 0.11]\n",
            "[0.94 0.06]\n",
            "[0.95 0.05]\n",
            "[0.94 0.06]\n",
            "[0.96 0.04]\n",
            "[0.99 0.01]\n",
            "[0.98 0.02]\n",
            "[0.96 0.04]\n",
            "[0.95 0.05]\n",
            "[0.99 0.01]\n",
            "[0.99 0.01]\n",
            "[0.94 0.06]\n",
            "[0.96 0.04]\n",
            "[0.97 0.03]\n",
            "[0.97 0.03]\n",
            "[1. 0.]\n",
            "[0.99 0.01]\n",
            "[0.99 0.01]\n",
            "[0.99 0.01]\n",
            "[0.99 0.01]\n",
            "[0.97 0.03]\n",
            "[0.97 0.03]\n",
            "[0.99 0.01]\n",
            "[0.99 0.01]\n",
            "[0.98 0.02]\n",
            "[0.98 0.02]\n",
            "[0.98 0.02]\n",
            "[1. 0.]\n",
            "[0.97 0.03]\n",
            "[0.85 0.15]\n",
            "[0.96 0.04]\n",
            "[0.9 0.1]\n",
            "[0.94 0.06]\n",
            "[0.98 0.02]\n",
            "[0.96 0.04]\n",
            "[0.93 0.07]\n",
            "[0.96 0.04]\n",
            "[0.99 0.01]\n",
            "[0.97 0.03]\n",
            "[0.99 0.01]\n",
            "[0.97 0.03]\n",
            "[0.95 0.05]\n",
            "[0.99 0.01]\n",
            "[0.93 0.07]\n",
            "[0.99 0.01]\n",
            "[0.96 0.04]\n",
            "[0.92 0.08]\n",
            "[0.96 0.04]\n",
            "[0.91 0.09]\n",
            "[0.96 0.04]\n",
            "[0.97 0.03]\n",
            "[1. 0.]\n",
            "[0.96 0.04]\n",
            "[0.97 0.03]\n",
            "[1. 0.]\n",
            "[0.94 0.06]\n",
            "[0.98 0.02]\n",
            "[0.98 0.02]\n",
            "[0.96 0.04]\n"
          ],
          "name": "stdout"
        }
      ]
    },
    {
      "cell_type": "code",
      "metadata": {
        "colab": {
          "base_uri": "https://localhost:8080/"
        },
        "id": "pUl6m6AsH1LM",
        "outputId": "e346b27c-cdfc-4aaa-f662-0b159acfee28"
      },
      "source": [
        "print(sklearn.metrics.classification_report(sample_y_test_booking, pred_sample_y_booking))"
      ],
      "execution_count": 54,
      "outputs": [
        {
          "output_type": "stream",
          "text": [
            "              precision    recall  f1-score   support\n",
            "\n",
            "           0       0.97      1.00      0.99      1218\n",
            "           1       0.00      0.00      0.00        32\n",
            "\n",
            "    accuracy                           0.97      1250\n",
            "   macro avg       0.49      0.50      0.49      1250\n",
            "weighted avg       0.95      0.97      0.96      1250\n",
            "\n"
          ],
          "name": "stdout"
        },
        {
          "output_type": "stream",
          "text": [
            "/usr/local/lib/python3.7/dist-packages/sklearn/metrics/_classification.py:1272: UndefinedMetricWarning: Precision and F-score are ill-defined and being set to 0.0 in labels with no predicted samples. Use `zero_division` parameter to control this behavior.\n",
            "  _warn_prf(average, modifier, msg_start, len(result))\n"
          ],
          "name": "stderr"
        }
      ]
    },
    {
      "cell_type": "code",
      "metadata": {
        "colab": {
          "base_uri": "https://localhost:8080/"
        },
        "id": "fvFknch0KOod",
        "outputId": "f39a8311-d354-4dfb-d5ce-3f04bc6e8527"
      },
      "source": [
        "print(sklearn.metrics.classification_report(sample_y_test_booking, [0]*sample_y_test_booking.size))"
      ],
      "execution_count": 55,
      "outputs": [
        {
          "output_type": "stream",
          "text": [
            "              precision    recall  f1-score   support\n",
            "\n",
            "           0       0.97      1.00      0.99      1218\n",
            "           1       0.00      0.00      0.00        32\n",
            "\n",
            "    accuracy                           0.97      1250\n",
            "   macro avg       0.49      0.50      0.49      1250\n",
            "weighted avg       0.95      0.97      0.96      1250\n",
            "\n"
          ],
          "name": "stdout"
        },
        {
          "output_type": "stream",
          "text": [
            "/usr/local/lib/python3.7/dist-packages/sklearn/metrics/_classification.py:1272: UndefinedMetricWarning: Precision and F-score are ill-defined and being set to 0.0 in labels with no predicted samples. Use `zero_division` parameter to control this behavior.\n",
            "  _warn_prf(average, modifier, msg_start, len(result))\n"
          ],
          "name": "stderr"
        }
      ]
    },
    {
      "cell_type": "code",
      "metadata": {
        "id": "EB5LMpdaFXUt",
        "colab": {
          "base_uri": "https://localhost:8080/"
        },
        "outputId": "0bc44bd9-7477-4353-b503-899053ac0ebe"
      },
      "source": [
        "print(sklearn.metrics.classification_report(sample_y_test_booking, [1]*sample_y_test_booking.size))"
      ],
      "execution_count": 56,
      "outputs": [
        {
          "output_type": "stream",
          "text": [
            "              precision    recall  f1-score   support\n",
            "\n",
            "           0       0.00      0.00      0.00      1218\n",
            "           1       0.03      1.00      0.05        32\n",
            "\n",
            "    accuracy                           0.03      1250\n",
            "   macro avg       0.01      0.50      0.02      1250\n",
            "weighted avg       0.00      0.03      0.00      1250\n",
            "\n"
          ],
          "name": "stdout"
        },
        {
          "output_type": "stream",
          "text": [
            "/usr/local/lib/python3.7/dist-packages/sklearn/metrics/_classification.py:1272: UndefinedMetricWarning: Precision and F-score are ill-defined and being set to 0.0 in labels with no predicted samples. Use `zero_division` parameter to control this behavior.\n",
            "  _warn_prf(average, modifier, msg_start, len(result))\n"
          ],
          "name": "stderr"
        }
      ]
    },
    {
      "cell_type": "code",
      "metadata": {
        "colab": {
          "base_uri": "https://localhost:8080/"
        },
        "id": "RjEhKmYoKezC",
        "outputId": "1db6a59c-a87d-4296-cbd6-4876d6c54d71"
      },
      "source": [
        "print(sklearn.metrics.classification_report(sample_y_test_booking, np.random.randint(0, 2, size=sample_y_test_booking.size)))"
      ],
      "execution_count": 57,
      "outputs": [
        {
          "output_type": "stream",
          "text": [
            "              precision    recall  f1-score   support\n",
            "\n",
            "           0       0.98      0.50      0.66      1218\n",
            "           1       0.03      0.56      0.05        32\n",
            "\n",
            "    accuracy                           0.50      1250\n",
            "   macro avg       0.50      0.53      0.36      1250\n",
            "weighted avg       0.95      0.50      0.65      1250\n",
            "\n"
          ],
          "name": "stdout"
        }
      ]
    },
    {
      "cell_type": "code",
      "metadata": {
        "colab": {
          "base_uri": "https://localhost:8080/",
          "height": 444
        },
        "id": "epkgjLX92vVs",
        "outputId": "78d52275-7bf7-48b4-cabf-c267cf715cb1"
      },
      "source": [
        "test_data"
      ],
      "execution_count": 58,
      "outputs": [
        {
          "output_type": "execute_result",
          "data": {
            "text/html": [
              "<div>\n",
              "<style scoped>\n",
              "    .dataframe tbody tr th:only-of-type {\n",
              "        vertical-align: middle;\n",
              "    }\n",
              "\n",
              "    .dataframe tbody tr th {\n",
              "        vertical-align: top;\n",
              "    }\n",
              "\n",
              "    .dataframe thead th {\n",
              "        text-align: right;\n",
              "    }\n",
              "</style>\n",
              "<table border=\"1\" class=\"dataframe\">\n",
              "  <thead>\n",
              "    <tr style=\"text-align: right;\">\n",
              "      <th></th>\n",
              "      <th>srch_id</th>\n",
              "      <th>site_id</th>\n",
              "      <th>visitor_location_country_id</th>\n",
              "      <th>visitor_hist_starrating</th>\n",
              "      <th>visitor_hist_adr_usd</th>\n",
              "      <th>prop_country_id</th>\n",
              "      <th>prop_id</th>\n",
              "      <th>prop_starrating</th>\n",
              "      <th>prop_review_score</th>\n",
              "      <th>prop_brand_bool</th>\n",
              "      <th>prop_location_score1</th>\n",
              "      <th>prop_location_score2</th>\n",
              "      <th>prop_log_historical_price</th>\n",
              "      <th>price_usd</th>\n",
              "      <th>promotion_flag</th>\n",
              "      <th>srch_destination_id</th>\n",
              "      <th>srch_length_of_stay</th>\n",
              "      <th>srch_booking_window</th>\n",
              "      <th>srch_adults_count</th>\n",
              "      <th>srch_children_count</th>\n",
              "      <th>srch_room_count</th>\n",
              "      <th>srch_saturday_night_bool</th>\n",
              "      <th>srch_query_affinity_score</th>\n",
              "      <th>orig_destination_distance</th>\n",
              "      <th>random_bool</th>\n",
              "      <th>comp1_rate</th>\n",
              "      <th>comp1_inv</th>\n",
              "      <th>comp1_rate_percent_diff</th>\n",
              "      <th>comp2_rate</th>\n",
              "      <th>comp2_inv</th>\n",
              "      <th>comp2_rate_percent_diff</th>\n",
              "      <th>comp3_rate</th>\n",
              "      <th>comp3_inv</th>\n",
              "      <th>comp3_rate_percent_diff</th>\n",
              "      <th>comp4_rate</th>\n",
              "      <th>comp4_inv</th>\n",
              "      <th>comp4_rate_percent_diff</th>\n",
              "      <th>comp5_rate</th>\n",
              "      <th>comp5_inv</th>\n",
              "      <th>comp5_rate_percent_diff</th>\n",
              "      <th>comp6_rate</th>\n",
              "      <th>comp6_inv</th>\n",
              "      <th>comp6_rate_percent_diff</th>\n",
              "      <th>comp7_rate</th>\n",
              "      <th>comp7_inv</th>\n",
              "      <th>comp7_rate_percent_diff</th>\n",
              "      <th>comp8_rate</th>\n",
              "      <th>comp8_inv</th>\n",
              "      <th>comp8_rate_percent_diff</th>\n",
              "    </tr>\n",
              "  </thead>\n",
              "  <tbody>\n",
              "    <tr>\n",
              "      <th>0</th>\n",
              "      <td>1</td>\n",
              "      <td>24</td>\n",
              "      <td>216</td>\n",
              "      <td>NaN</td>\n",
              "      <td>NaN</td>\n",
              "      <td>219</td>\n",
              "      <td>3180</td>\n",
              "      <td>3</td>\n",
              "      <td>4.5</td>\n",
              "      <td>1</td>\n",
              "      <td>2.94</td>\n",
              "      <td>0.0691</td>\n",
              "      <td>5.03</td>\n",
              "      <td>119.00</td>\n",
              "      <td>0</td>\n",
              "      <td>19222</td>\n",
              "      <td>1</td>\n",
              "      <td>10</td>\n",
              "      <td>2</td>\n",
              "      <td>0</td>\n",
              "      <td>1</td>\n",
              "      <td>0</td>\n",
              "      <td>NaN</td>\n",
              "      <td>NaN</td>\n",
              "      <td>0</td>\n",
              "      <td>NaN</td>\n",
              "      <td>NaN</td>\n",
              "      <td>NaN</td>\n",
              "      <td>NaN</td>\n",
              "      <td>NaN</td>\n",
              "      <td>NaN</td>\n",
              "      <td>NaN</td>\n",
              "      <td>NaN</td>\n",
              "      <td>NaN</td>\n",
              "      <td>NaN</td>\n",
              "      <td>NaN</td>\n",
              "      <td>NaN</td>\n",
              "      <td>NaN</td>\n",
              "      <td>NaN</td>\n",
              "      <td>NaN</td>\n",
              "      <td>NaN</td>\n",
              "      <td>NaN</td>\n",
              "      <td>NaN</td>\n",
              "      <td>NaN</td>\n",
              "      <td>NaN</td>\n",
              "      <td>NaN</td>\n",
              "      <td>NaN</td>\n",
              "      <td>NaN</td>\n",
              "      <td>NaN</td>\n",
              "    </tr>\n",
              "    <tr>\n",
              "      <th>1</th>\n",
              "      <td>1</td>\n",
              "      <td>24</td>\n",
              "      <td>216</td>\n",
              "      <td>NaN</td>\n",
              "      <td>NaN</td>\n",
              "      <td>219</td>\n",
              "      <td>5543</td>\n",
              "      <td>3</td>\n",
              "      <td>4.5</td>\n",
              "      <td>1</td>\n",
              "      <td>2.64</td>\n",
              "      <td>0.0843</td>\n",
              "      <td>4.93</td>\n",
              "      <td>118.00</td>\n",
              "      <td>0</td>\n",
              "      <td>19222</td>\n",
              "      <td>1</td>\n",
              "      <td>10</td>\n",
              "      <td>2</td>\n",
              "      <td>0</td>\n",
              "      <td>1</td>\n",
              "      <td>0</td>\n",
              "      <td>NaN</td>\n",
              "      <td>NaN</td>\n",
              "      <td>0</td>\n",
              "      <td>NaN</td>\n",
              "      <td>NaN</td>\n",
              "      <td>NaN</td>\n",
              "      <td>0.0</td>\n",
              "      <td>0.0</td>\n",
              "      <td>NaN</td>\n",
              "      <td>NaN</td>\n",
              "      <td>NaN</td>\n",
              "      <td>NaN</td>\n",
              "      <td>NaN</td>\n",
              "      <td>NaN</td>\n",
              "      <td>NaN</td>\n",
              "      <td>NaN</td>\n",
              "      <td>NaN</td>\n",
              "      <td>NaN</td>\n",
              "      <td>NaN</td>\n",
              "      <td>NaN</td>\n",
              "      <td>NaN</td>\n",
              "      <td>NaN</td>\n",
              "      <td>NaN</td>\n",
              "      <td>NaN</td>\n",
              "      <td>NaN</td>\n",
              "      <td>NaN</td>\n",
              "      <td>NaN</td>\n",
              "    </tr>\n",
              "    <tr>\n",
              "      <th>2</th>\n",
              "      <td>1</td>\n",
              "      <td>24</td>\n",
              "      <td>216</td>\n",
              "      <td>NaN</td>\n",
              "      <td>NaN</td>\n",
              "      <td>219</td>\n",
              "      <td>14142</td>\n",
              "      <td>2</td>\n",
              "      <td>3.5</td>\n",
              "      <td>1</td>\n",
              "      <td>2.71</td>\n",
              "      <td>0.0556</td>\n",
              "      <td>4.16</td>\n",
              "      <td>49.00</td>\n",
              "      <td>0</td>\n",
              "      <td>19222</td>\n",
              "      <td>1</td>\n",
              "      <td>10</td>\n",
              "      <td>2</td>\n",
              "      <td>0</td>\n",
              "      <td>1</td>\n",
              "      <td>0</td>\n",
              "      <td>NaN</td>\n",
              "      <td>NaN</td>\n",
              "      <td>0</td>\n",
              "      <td>NaN</td>\n",
              "      <td>NaN</td>\n",
              "      <td>NaN</td>\n",
              "      <td>0.0</td>\n",
              "      <td>0.0</td>\n",
              "      <td>NaN</td>\n",
              "      <td>NaN</td>\n",
              "      <td>NaN</td>\n",
              "      <td>NaN</td>\n",
              "      <td>NaN</td>\n",
              "      <td>NaN</td>\n",
              "      <td>NaN</td>\n",
              "      <td>1.0</td>\n",
              "      <td>0.0</td>\n",
              "      <td>10.0</td>\n",
              "      <td>NaN</td>\n",
              "      <td>NaN</td>\n",
              "      <td>NaN</td>\n",
              "      <td>NaN</td>\n",
              "      <td>NaN</td>\n",
              "      <td>NaN</td>\n",
              "      <td>NaN</td>\n",
              "      <td>NaN</td>\n",
              "      <td>NaN</td>\n",
              "    </tr>\n",
              "    <tr>\n",
              "      <th>3</th>\n",
              "      <td>1</td>\n",
              "      <td>24</td>\n",
              "      <td>216</td>\n",
              "      <td>NaN</td>\n",
              "      <td>NaN</td>\n",
              "      <td>219</td>\n",
              "      <td>22393</td>\n",
              "      <td>3</td>\n",
              "      <td>4.5</td>\n",
              "      <td>1</td>\n",
              "      <td>2.40</td>\n",
              "      <td>0.0561</td>\n",
              "      <td>5.03</td>\n",
              "      <td>143.00</td>\n",
              "      <td>0</td>\n",
              "      <td>19222</td>\n",
              "      <td>1</td>\n",
              "      <td>10</td>\n",
              "      <td>2</td>\n",
              "      <td>0</td>\n",
              "      <td>1</td>\n",
              "      <td>0</td>\n",
              "      <td>NaN</td>\n",
              "      <td>NaN</td>\n",
              "      <td>0</td>\n",
              "      <td>NaN</td>\n",
              "      <td>NaN</td>\n",
              "      <td>NaN</td>\n",
              "      <td>0.0</td>\n",
              "      <td>0.0</td>\n",
              "      <td>NaN</td>\n",
              "      <td>NaN</td>\n",
              "      <td>NaN</td>\n",
              "      <td>NaN</td>\n",
              "      <td>NaN</td>\n",
              "      <td>NaN</td>\n",
              "      <td>NaN</td>\n",
              "      <td>0.0</td>\n",
              "      <td>0.0</td>\n",
              "      <td>NaN</td>\n",
              "      <td>NaN</td>\n",
              "      <td>NaN</td>\n",
              "      <td>NaN</td>\n",
              "      <td>NaN</td>\n",
              "      <td>NaN</td>\n",
              "      <td>NaN</td>\n",
              "      <td>NaN</td>\n",
              "      <td>NaN</td>\n",
              "      <td>NaN</td>\n",
              "    </tr>\n",
              "    <tr>\n",
              "      <th>4</th>\n",
              "      <td>1</td>\n",
              "      <td>24</td>\n",
              "      <td>216</td>\n",
              "      <td>NaN</td>\n",
              "      <td>NaN</td>\n",
              "      <td>219</td>\n",
              "      <td>24194</td>\n",
              "      <td>3</td>\n",
              "      <td>4.5</td>\n",
              "      <td>1</td>\n",
              "      <td>2.94</td>\n",
              "      <td>0.2090</td>\n",
              "      <td>4.72</td>\n",
              "      <td>79.00</td>\n",
              "      <td>0</td>\n",
              "      <td>19222</td>\n",
              "      <td>1</td>\n",
              "      <td>10</td>\n",
              "      <td>2</td>\n",
              "      <td>0</td>\n",
              "      <td>1</td>\n",
              "      <td>0</td>\n",
              "      <td>NaN</td>\n",
              "      <td>NaN</td>\n",
              "      <td>0</td>\n",
              "      <td>NaN</td>\n",
              "      <td>NaN</td>\n",
              "      <td>NaN</td>\n",
              "      <td>0.0</td>\n",
              "      <td>0.0</td>\n",
              "      <td>NaN</td>\n",
              "      <td>NaN</td>\n",
              "      <td>NaN</td>\n",
              "      <td>NaN</td>\n",
              "      <td>NaN</td>\n",
              "      <td>NaN</td>\n",
              "      <td>NaN</td>\n",
              "      <td>0.0</td>\n",
              "      <td>0.0</td>\n",
              "      <td>NaN</td>\n",
              "      <td>NaN</td>\n",
              "      <td>NaN</td>\n",
              "      <td>NaN</td>\n",
              "      <td>NaN</td>\n",
              "      <td>NaN</td>\n",
              "      <td>NaN</td>\n",
              "      <td>NaN</td>\n",
              "      <td>NaN</td>\n",
              "      <td>NaN</td>\n",
              "    </tr>\n",
              "    <tr>\n",
              "      <th>...</th>\n",
              "      <td>...</td>\n",
              "      <td>...</td>\n",
              "      <td>...</td>\n",
              "      <td>...</td>\n",
              "      <td>...</td>\n",
              "      <td>...</td>\n",
              "      <td>...</td>\n",
              "      <td>...</td>\n",
              "      <td>...</td>\n",
              "      <td>...</td>\n",
              "      <td>...</td>\n",
              "      <td>...</td>\n",
              "      <td>...</td>\n",
              "      <td>...</td>\n",
              "      <td>...</td>\n",
              "      <td>...</td>\n",
              "      <td>...</td>\n",
              "      <td>...</td>\n",
              "      <td>...</td>\n",
              "      <td>...</td>\n",
              "      <td>...</td>\n",
              "      <td>...</td>\n",
              "      <td>...</td>\n",
              "      <td>...</td>\n",
              "      <td>...</td>\n",
              "      <td>...</td>\n",
              "      <td>...</td>\n",
              "      <td>...</td>\n",
              "      <td>...</td>\n",
              "      <td>...</td>\n",
              "      <td>...</td>\n",
              "      <td>...</td>\n",
              "      <td>...</td>\n",
              "      <td>...</td>\n",
              "      <td>...</td>\n",
              "      <td>...</td>\n",
              "      <td>...</td>\n",
              "      <td>...</td>\n",
              "      <td>...</td>\n",
              "      <td>...</td>\n",
              "      <td>...</td>\n",
              "      <td>...</td>\n",
              "      <td>...</td>\n",
              "      <td>...</td>\n",
              "      <td>...</td>\n",
              "      <td>...</td>\n",
              "      <td>...</td>\n",
              "      <td>...</td>\n",
              "      <td>...</td>\n",
              "    </tr>\n",
              "    <tr>\n",
              "      <th>4959178</th>\n",
              "      <td>332787</td>\n",
              "      <td>24</td>\n",
              "      <td>216</td>\n",
              "      <td>NaN</td>\n",
              "      <td>NaN</td>\n",
              "      <td>117</td>\n",
              "      <td>32019</td>\n",
              "      <td>4</td>\n",
              "      <td>3.5</td>\n",
              "      <td>0</td>\n",
              "      <td>2.48</td>\n",
              "      <td>0.0551</td>\n",
              "      <td>4.53</td>\n",
              "      <td>66.07</td>\n",
              "      <td>0</td>\n",
              "      <td>19246</td>\n",
              "      <td>2</td>\n",
              "      <td>7</td>\n",
              "      <td>1</td>\n",
              "      <td>0</td>\n",
              "      <td>1</td>\n",
              "      <td>0</td>\n",
              "      <td>NaN</td>\n",
              "      <td>NaN</td>\n",
              "      <td>0</td>\n",
              "      <td>NaN</td>\n",
              "      <td>NaN</td>\n",
              "      <td>NaN</td>\n",
              "      <td>1.0</td>\n",
              "      <td>0.0</td>\n",
              "      <td>22.0</td>\n",
              "      <td>1.0</td>\n",
              "      <td>0.0</td>\n",
              "      <td>127.0</td>\n",
              "      <td>-1.0</td>\n",
              "      <td>0.0</td>\n",
              "      <td>27.0</td>\n",
              "      <td>1.0</td>\n",
              "      <td>0.0</td>\n",
              "      <td>22.0</td>\n",
              "      <td>NaN</td>\n",
              "      <td>NaN</td>\n",
              "      <td>NaN</td>\n",
              "      <td>NaN</td>\n",
              "      <td>NaN</td>\n",
              "      <td>NaN</td>\n",
              "      <td>NaN</td>\n",
              "      <td>NaN</td>\n",
              "      <td>NaN</td>\n",
              "    </tr>\n",
              "    <tr>\n",
              "      <th>4959179</th>\n",
              "      <td>332787</td>\n",
              "      <td>24</td>\n",
              "      <td>216</td>\n",
              "      <td>NaN</td>\n",
              "      <td>NaN</td>\n",
              "      <td>117</td>\n",
              "      <td>33959</td>\n",
              "      <td>4</td>\n",
              "      <td>3.0</td>\n",
              "      <td>1</td>\n",
              "      <td>2.20</td>\n",
              "      <td>0.3344</td>\n",
              "      <td>4.39</td>\n",
              "      <td>67.10</td>\n",
              "      <td>0</td>\n",
              "      <td>19246</td>\n",
              "      <td>2</td>\n",
              "      <td>7</td>\n",
              "      <td>1</td>\n",
              "      <td>0</td>\n",
              "      <td>1</td>\n",
              "      <td>0</td>\n",
              "      <td>NaN</td>\n",
              "      <td>NaN</td>\n",
              "      <td>0</td>\n",
              "      <td>NaN</td>\n",
              "      <td>NaN</td>\n",
              "      <td>NaN</td>\n",
              "      <td>0.0</td>\n",
              "      <td>0.0</td>\n",
              "      <td>NaN</td>\n",
              "      <td>0.0</td>\n",
              "      <td>0.0</td>\n",
              "      <td>NaN</td>\n",
              "      <td>0.0</td>\n",
              "      <td>0.0</td>\n",
              "      <td>16.0</td>\n",
              "      <td>1.0</td>\n",
              "      <td>0.0</td>\n",
              "      <td>22.0</td>\n",
              "      <td>NaN</td>\n",
              "      <td>NaN</td>\n",
              "      <td>NaN</td>\n",
              "      <td>NaN</td>\n",
              "      <td>NaN</td>\n",
              "      <td>NaN</td>\n",
              "      <td>NaN</td>\n",
              "      <td>NaN</td>\n",
              "      <td>NaN</td>\n",
              "    </tr>\n",
              "    <tr>\n",
              "      <th>4959180</th>\n",
              "      <td>332787</td>\n",
              "      <td>24</td>\n",
              "      <td>216</td>\n",
              "      <td>NaN</td>\n",
              "      <td>NaN</td>\n",
              "      <td>117</td>\n",
              "      <td>35240</td>\n",
              "      <td>4</td>\n",
              "      <td>0.0</td>\n",
              "      <td>0</td>\n",
              "      <td>1.79</td>\n",
              "      <td>NaN</td>\n",
              "      <td>4.64</td>\n",
              "      <td>73.91</td>\n",
              "      <td>0</td>\n",
              "      <td>19246</td>\n",
              "      <td>2</td>\n",
              "      <td>7</td>\n",
              "      <td>1</td>\n",
              "      <td>0</td>\n",
              "      <td>1</td>\n",
              "      <td>0</td>\n",
              "      <td>NaN</td>\n",
              "      <td>NaN</td>\n",
              "      <td>0</td>\n",
              "      <td>NaN</td>\n",
              "      <td>NaN</td>\n",
              "      <td>NaN</td>\n",
              "      <td>1.0</td>\n",
              "      <td>0.0</td>\n",
              "      <td>55.0</td>\n",
              "      <td>0.0</td>\n",
              "      <td>0.0</td>\n",
              "      <td>NaN</td>\n",
              "      <td>0.0</td>\n",
              "      <td>0.0</td>\n",
              "      <td>16.0</td>\n",
              "      <td>0.0</td>\n",
              "      <td>0.0</td>\n",
              "      <td>3.0</td>\n",
              "      <td>NaN</td>\n",
              "      <td>NaN</td>\n",
              "      <td>NaN</td>\n",
              "      <td>NaN</td>\n",
              "      <td>NaN</td>\n",
              "      <td>NaN</td>\n",
              "      <td>NaN</td>\n",
              "      <td>NaN</td>\n",
              "      <td>NaN</td>\n",
              "    </tr>\n",
              "    <tr>\n",
              "      <th>4959181</th>\n",
              "      <td>332787</td>\n",
              "      <td>24</td>\n",
              "      <td>216</td>\n",
              "      <td>NaN</td>\n",
              "      <td>NaN</td>\n",
              "      <td>117</td>\n",
              "      <td>94437</td>\n",
              "      <td>4</td>\n",
              "      <td>0.0</td>\n",
              "      <td>0</td>\n",
              "      <td>2.94</td>\n",
              "      <td>0.0928</td>\n",
              "      <td>4.64</td>\n",
              "      <td>66.07</td>\n",
              "      <td>0</td>\n",
              "      <td>19246</td>\n",
              "      <td>2</td>\n",
              "      <td>7</td>\n",
              "      <td>1</td>\n",
              "      <td>0</td>\n",
              "      <td>1</td>\n",
              "      <td>0</td>\n",
              "      <td>NaN</td>\n",
              "      <td>NaN</td>\n",
              "      <td>0</td>\n",
              "      <td>NaN</td>\n",
              "      <td>NaN</td>\n",
              "      <td>NaN</td>\n",
              "      <td>1.0</td>\n",
              "      <td>0.0</td>\n",
              "      <td>43.0</td>\n",
              "      <td>1.0</td>\n",
              "      <td>0.0</td>\n",
              "      <td>43.0</td>\n",
              "      <td>-1.0</td>\n",
              "      <td>0.0</td>\n",
              "      <td>12.0</td>\n",
              "      <td>-1.0</td>\n",
              "      <td>0.0</td>\n",
              "      <td>12.0</td>\n",
              "      <td>NaN</td>\n",
              "      <td>NaN</td>\n",
              "      <td>NaN</td>\n",
              "      <td>NaN</td>\n",
              "      <td>NaN</td>\n",
              "      <td>NaN</td>\n",
              "      <td>NaN</td>\n",
              "      <td>NaN</td>\n",
              "      <td>NaN</td>\n",
              "    </tr>\n",
              "    <tr>\n",
              "      <th>4959182</th>\n",
              "      <td>332787</td>\n",
              "      <td>24</td>\n",
              "      <td>216</td>\n",
              "      <td>NaN</td>\n",
              "      <td>NaN</td>\n",
              "      <td>117</td>\n",
              "      <td>99509</td>\n",
              "      <td>4</td>\n",
              "      <td>4.5</td>\n",
              "      <td>1</td>\n",
              "      <td>2.08</td>\n",
              "      <td>0.0344</td>\n",
              "      <td>4.64</td>\n",
              "      <td>82.06</td>\n",
              "      <td>0</td>\n",
              "      <td>19246</td>\n",
              "      <td>2</td>\n",
              "      <td>7</td>\n",
              "      <td>1</td>\n",
              "      <td>0</td>\n",
              "      <td>1</td>\n",
              "      <td>0</td>\n",
              "      <td>NaN</td>\n",
              "      <td>NaN</td>\n",
              "      <td>0</td>\n",
              "      <td>NaN</td>\n",
              "      <td>NaN</td>\n",
              "      <td>NaN</td>\n",
              "      <td>0.0</td>\n",
              "      <td>0.0</td>\n",
              "      <td>NaN</td>\n",
              "      <td>0.0</td>\n",
              "      <td>0.0</td>\n",
              "      <td>NaN</td>\n",
              "      <td>0.0</td>\n",
              "      <td>0.0</td>\n",
              "      <td>16.0</td>\n",
              "      <td>0.0</td>\n",
              "      <td>0.0</td>\n",
              "      <td>NaN</td>\n",
              "      <td>NaN</td>\n",
              "      <td>NaN</td>\n",
              "      <td>NaN</td>\n",
              "      <td>NaN</td>\n",
              "      <td>NaN</td>\n",
              "      <td>NaN</td>\n",
              "      <td>NaN</td>\n",
              "      <td>NaN</td>\n",
              "      <td>NaN</td>\n",
              "    </tr>\n",
              "  </tbody>\n",
              "</table>\n",
              "<p>4959183 rows × 49 columns</p>\n",
              "</div>"
            ],
            "text/plain": [
              "         srch_id  site_id  ...  comp8_inv  comp8_rate_percent_diff\n",
              "0              1       24  ...        NaN                      NaN\n",
              "1              1       24  ...        NaN                      NaN\n",
              "2              1       24  ...        NaN                      NaN\n",
              "3              1       24  ...        NaN                      NaN\n",
              "4              1       24  ...        NaN                      NaN\n",
              "...          ...      ...  ...        ...                      ...\n",
              "4959178   332787       24  ...        NaN                      NaN\n",
              "4959179   332787       24  ...        NaN                      NaN\n",
              "4959180   332787       24  ...        NaN                      NaN\n",
              "4959181   332787       24  ...        NaN                      NaN\n",
              "4959182   332787       24  ...        NaN                      NaN\n",
              "\n",
              "[4959183 rows x 49 columns]"
            ]
          },
          "metadata": {
            "tags": []
          },
          "execution_count": 58
        }
      ]
    },
    {
      "cell_type": "markdown",
      "metadata": {
        "id": "diRmtQMUDk2r"
      },
      "source": [
        "One possible approach - fill all the search data with the fields in the query for every entry in test data and select the ones that most likely meet the criteria with the random forest.\n",
        "\n",
        "Filtering - desination id (if possible), then:\n",
        "* remove the properties which don't have free spaces\n",
        "* run fitter on the remaining ones\n",
        "* prioritize properties with promotions\n",
        "* if more results than expected are left, choose first n"
      ]
    },
    {
      "cell_type": "code",
      "metadata": {
        "id": "6bDwwOAEDVy_",
        "colab": {
          "base_uri": "https://localhost:8080/"
        },
        "outputId": "82a2b38b-677c-4b6e-9099-346fab90d9c0"
      },
      "source": [
        "test_data.prop_country_id.unique().size"
      ],
      "execution_count": 59,
      "outputs": [
        {
          "output_type": "execute_result",
          "data": {
            "text/plain": [
              "167"
            ]
          },
          "metadata": {
            "tags": []
          },
          "execution_count": 59
        }
      ]
    },
    {
      "cell_type": "code",
      "metadata": {
        "id": "SJP7vaiQ9nBo"
      },
      "source": [
        "df = pd.DataFrame.from_dict({'A':[1,2,3], 'B':[2,5,7], 'C':[10, 12, 18]})"
      ],
      "execution_count": 60,
      "outputs": []
    },
    {
      "cell_type": "markdown",
      "metadata": {
        "id": "_ZrTVo4AFc8Q"
      },
      "source": [
        "##4.2 Remove NaNs in test data"
      ]
    },
    {
      "cell_type": "code",
      "metadata": {
        "id": "kDAxUADk9muS",
        "colab": {
          "base_uri": "https://localhost:8080/"
        },
        "outputId": "6fd01061-f96b-4bca-aa4d-d80f4911f3f9"
      },
      "source": [
        "test_data.isna().any()"
      ],
      "execution_count": 61,
      "outputs": [
        {
          "output_type": "execute_result",
          "data": {
            "text/plain": [
              "srch_id                        False\n",
              "site_id                        False\n",
              "visitor_location_country_id    False\n",
              "visitor_hist_starrating         True\n",
              "visitor_hist_adr_usd            True\n",
              "prop_country_id                False\n",
              "prop_id                        False\n",
              "prop_starrating                False\n",
              "prop_review_score               True\n",
              "prop_brand_bool                False\n",
              "prop_location_score1           False\n",
              "prop_location_score2            True\n",
              "prop_log_historical_price      False\n",
              "price_usd                      False\n",
              "promotion_flag                 False\n",
              "srch_destination_id            False\n",
              "srch_length_of_stay            False\n",
              "srch_booking_window            False\n",
              "srch_adults_count              False\n",
              "srch_children_count            False\n",
              "srch_room_count                False\n",
              "srch_saturday_night_bool       False\n",
              "srch_query_affinity_score       True\n",
              "orig_destination_distance       True\n",
              "random_bool                    False\n",
              "comp1_rate                      True\n",
              "comp1_inv                       True\n",
              "comp1_rate_percent_diff         True\n",
              "comp2_rate                      True\n",
              "comp2_inv                       True\n",
              "comp2_rate_percent_diff         True\n",
              "comp3_rate                      True\n",
              "comp3_inv                       True\n",
              "comp3_rate_percent_diff         True\n",
              "comp4_rate                      True\n",
              "comp4_inv                       True\n",
              "comp4_rate_percent_diff         True\n",
              "comp5_rate                      True\n",
              "comp5_inv                       True\n",
              "comp5_rate_percent_diff         True\n",
              "comp6_rate                      True\n",
              "comp6_inv                       True\n",
              "comp6_rate_percent_diff         True\n",
              "comp7_rate                      True\n",
              "comp7_inv                       True\n",
              "comp7_rate_percent_diff         True\n",
              "comp8_rate                      True\n",
              "comp8_inv                       True\n",
              "comp8_rate_percent_diff         True\n",
              "dtype: bool"
            ]
          },
          "metadata": {
            "tags": []
          },
          "execution_count": 61
        }
      ]
    },
    {
      "cell_type": "code",
      "metadata": {
        "id": "0_rYMDs-Goq_",
        "colab": {
          "base_uri": "https://localhost:8080/"
        },
        "outputId": "a6e84219-e8a4-4fc1-f9cd-82be48f03588"
      },
      "source": [
        "for c in nan_filter.keys()[nan_filter]:\n",
        "  if c in test_data:\n",
        "    print(c, test_data[c].isna().sum() / test_data.shape[0] > 0.75)"
      ],
      "execution_count": 62,
      "outputs": [
        {
          "output_type": "stream",
          "text": [
            "visitor_hist_starrating True\n",
            "visitor_hist_adr_usd True\n",
            "srch_query_affinity_score True\n",
            "comp1_rate True\n",
            "comp1_inv True\n",
            "comp1_rate_percent_diff True\n",
            "comp2_rate_percent_diff True\n",
            "comp3_rate_percent_diff True\n",
            "comp4_rate True\n",
            "comp4_inv True\n",
            "comp4_rate_percent_diff True\n",
            "comp5_rate_percent_diff True\n",
            "comp6_rate True\n",
            "comp6_inv True\n",
            "comp6_rate_percent_diff True\n",
            "comp7_rate True\n",
            "comp7_inv True\n",
            "comp7_rate_percent_diff True\n",
            "comp8_rate_percent_diff True\n"
          ],
          "name": "stdout"
        }
      ]
    },
    {
      "cell_type": "markdown",
      "metadata": {
        "id": "bFKDS-P8kxio"
      },
      "source": [
        "As it turns out, the same columns which would be removed from train_data are also remoed from test_data."
      ]
    },
    {
      "cell_type": "code",
      "metadata": {
        "id": "LqPH5EkeFosN",
        "colab": {
          "base_uri": "https://localhost:8080/"
        },
        "outputId": "a46ca193-e37b-495c-ab61-358b466c7d4c"
      },
      "source": [
        "na_threshold = test_data.shape[0] * 0.75\n",
        "test_data.isna().sum() > na_threshold"
      ],
      "execution_count": 63,
      "outputs": [
        {
          "output_type": "execute_result",
          "data": {
            "text/plain": [
              "srch_id                        False\n",
              "site_id                        False\n",
              "visitor_location_country_id    False\n",
              "visitor_hist_starrating         True\n",
              "visitor_hist_adr_usd            True\n",
              "prop_country_id                False\n",
              "prop_id                        False\n",
              "prop_starrating                False\n",
              "prop_review_score              False\n",
              "prop_brand_bool                False\n",
              "prop_location_score1           False\n",
              "prop_location_score2           False\n",
              "prop_log_historical_price      False\n",
              "price_usd                      False\n",
              "promotion_flag                 False\n",
              "srch_destination_id            False\n",
              "srch_length_of_stay            False\n",
              "srch_booking_window            False\n",
              "srch_adults_count              False\n",
              "srch_children_count            False\n",
              "srch_room_count                False\n",
              "srch_saturday_night_bool       False\n",
              "srch_query_affinity_score       True\n",
              "orig_destination_distance      False\n",
              "random_bool                    False\n",
              "comp1_rate                      True\n",
              "comp1_inv                       True\n",
              "comp1_rate_percent_diff         True\n",
              "comp2_rate                     False\n",
              "comp2_inv                      False\n",
              "comp2_rate_percent_diff         True\n",
              "comp3_rate                     False\n",
              "comp3_inv                      False\n",
              "comp3_rate_percent_diff         True\n",
              "comp4_rate                      True\n",
              "comp4_inv                       True\n",
              "comp4_rate_percent_diff         True\n",
              "comp5_rate                     False\n",
              "comp5_inv                      False\n",
              "comp5_rate_percent_diff         True\n",
              "comp6_rate                      True\n",
              "comp6_inv                       True\n",
              "comp6_rate_percent_diff         True\n",
              "comp7_rate                      True\n",
              "comp7_inv                       True\n",
              "comp7_rate_percent_diff         True\n",
              "comp8_rate                     False\n",
              "comp8_inv                      False\n",
              "comp8_rate_percent_diff         True\n",
              "dtype: bool"
            ]
          },
          "metadata": {
            "tags": []
          },
          "execution_count": 63
        }
      ]
    },
    {
      "cell_type": "code",
      "metadata": {
        "id": "CVq7Mkw0HQv5"
      },
      "source": [
        "for c in nan_filter.keys()[nan_filter]:\n",
        "  if c in test_data:\n",
        "    test_data.drop(columns=[c], inplace=True)"
      ],
      "execution_count": 64,
      "outputs": []
    },
    {
      "cell_type": "markdown",
      "metadata": {
        "id": "Nb54Ukpojl8i"
      },
      "source": [
        "##4.3 Fill NaNs in test_data"
      ]
    },
    {
      "cell_type": "markdown",
      "metadata": {
        "id": "Q5ZsuOyElahM"
      },
      "source": [
        "Moving on, we can impute the data for the purposes of modeling."
      ]
    },
    {
      "cell_type": "code",
      "metadata": {
        "colab": {
          "base_uri": "https://localhost:8080/"
        },
        "id": "y0_XGyHOjo-S",
        "outputId": "8afa23b8-8e69-4e2c-9375-97a36558dcc7"
      },
      "source": [
        "print('Percent missing data in test_data:')\n",
        "test_data.isna().sum()/test_data.shape[0]*100"
      ],
      "execution_count": 65,
      "outputs": [
        {
          "output_type": "stream",
          "text": [
            "Percent missing data in test_data:\n"
          ],
          "name": "stdout"
        },
        {
          "output_type": "execute_result",
          "data": {
            "text/plain": [
              "srch_id                         0.000000\n",
              "site_id                         0.000000\n",
              "visitor_location_country_id     0.000000\n",
              "prop_country_id                 0.000000\n",
              "prop_id                         0.000000\n",
              "prop_starrating                 0.000000\n",
              "prop_review_score               0.146516\n",
              "prop_brand_bool                 0.000000\n",
              "prop_location_score1            0.000000\n",
              "prop_location_score2           21.939743\n",
              "prop_log_historical_price       0.000000\n",
              "price_usd                       0.000000\n",
              "promotion_flag                  0.000000\n",
              "srch_destination_id             0.000000\n",
              "srch_length_of_stay             0.000000\n",
              "srch_booking_window             0.000000\n",
              "srch_adults_count               0.000000\n",
              "srch_children_count             0.000000\n",
              "srch_room_count                 0.000000\n",
              "srch_saturday_night_bool        0.000000\n",
              "orig_destination_distance      32.438388\n",
              "random_bool                     0.000000\n",
              "comp2_rate                     59.348929\n",
              "comp2_inv                      57.225434\n",
              "comp3_rate                     69.249269\n",
              "comp3_inv                      66.905214\n",
              "comp5_rate                     55.195826\n",
              "comp5_inv                      52.395122\n",
              "comp8_rate                     61.639064\n",
              "comp8_inv                      60.217540\n",
              "dtype: float64"
            ]
          },
          "metadata": {
            "tags": []
          },
          "execution_count": 65
        }
      ]
    },
    {
      "cell_type": "code",
      "metadata": {
        "colab": {
          "base_uri": "https://localhost:8080/",
          "height": 1000
        },
        "id": "J21ktYqCmf0w",
        "outputId": "28e7046d-bf6f-49bd-98c6-a67e524112dd"
      },
      "source": [
        "na_columns_test = test_data.isna().any()\n",
        "plot_n = na_columns_test.sum()\n",
        "fig, ax = plt.subplots(plot_n, figsize=(10, 25))\n",
        "for i, c in enumerate(na_columns_test.keys()[na_columns_test]):\n",
        "  ax[i].hist(test_data[c])\n",
        "  ax[i].set_title('Histogram of {0} in test_data'.format(c))\n",
        "\n",
        "plt.tight_layout()"
      ],
      "execution_count": 66,
      "outputs": [
        {
          "output_type": "display_data",
          "data": {
            "image/png": "[encoded data removed]",
            "text/plain": [
              "<Figure size 720x1800 with 11 Axes>"
            ]
          },
          "metadata": {
            "tags": []
          }
        }
      ]
    },
    {
      "cell_type": "markdown",
      "metadata": {
        "id": "rxIPR70yoLiy"
      },
      "source": [
        "Same pattern of data as in train_data, therefore we use the same techniques to fill in missing values."
      ]
    },
    {
      "cell_type": "code",
      "metadata": {
        "id": "3K7C22SMoQwW"
      },
      "source": [
        "rs_params_test = sp.stats.genlogistic.fit(test_data.prop_review_score.dropna()[test_data.prop_review_score > 0])\n",
        "ls2_params_test = sp.stats.expon.fit(test_data.prop_location_score2.dropna())\n",
        "dd_params_test = sp.stats.expon.fit(test_data.orig_destination_distance.dropna())\n",
        "\n",
        "rs_na_count_test = test_data.prop_review_score.isna().sum()\n",
        "ls2_na_count_test = test_data.prop_location_score2.isna().sum()\n",
        "dd_na_count_test = test_data.orig_destination_distance.isna().sum()\n",
        "\n",
        "#generate values from fitted distribution\n",
        "rs_fill_test = sp.stats.genlogistic.rvs(*rs_params_test, rs_na_count_test)\n",
        "ls2_fill_test = sp.stats.expon.rvs(*ls2_params_test, ls2_na_count_test)\n",
        "dd_fill_test = sp.stats.expon.rvs(*dd_params_test, dd_na_count_test)\n",
        "\n",
        "rs_fill_series_test = pd.Series(rs_fill_test, \n",
        "                           index=test_data.loc[test_data.prop_review_score.isna()].index)\n",
        "\n",
        "ls2_fill_series_test = pd.Series(ls2_fill_test, \n",
        "                            index=test_data.loc[test_data.prop_location_score2.isna()].index)\n",
        "\n",
        "dd_fill_series_test = pd.Series(dd_fill_test, \n",
        "                           index=test_data.loc[test_data.orig_destination_distance.isna()].index)"
      ],
      "execution_count": 67,
      "outputs": []
    },
    {
      "cell_type": "code",
      "metadata": {
        "id": "EkuGSHYvphZp"
      },
      "source": [
        "test_data.prop_review_score.fillna(rs_fill_series_test, inplace=True)\n",
        "test_data.prop_location_score2.fillna(ls2_fill_series_test, inplace=True)\n",
        "test_data.orig_destination_distance.fillna(dd_fill_series_test, inplace=True)\n",
        "for c in fill_cols:\n",
        "  test_data[c].fillna(0, inplace=True)"
      ],
      "execution_count": 68,
      "outputs": []
    },
    {
      "cell_type": "code",
      "metadata": {
        "colab": {
          "base_uri": "https://localhost:8080/"
        },
        "id": "x06Fs8yxpvte",
        "outputId": "99917230-eae9-4914-ea4e-da5d5bab9f72"
      },
      "source": [
        "test_data.isna().any()"
      ],
      "execution_count": 69,
      "outputs": [
        {
          "output_type": "execute_result",
          "data": {
            "text/plain": [
              "srch_id                        False\n",
              "site_id                        False\n",
              "visitor_location_country_id    False\n",
              "prop_country_id                False\n",
              "prop_id                        False\n",
              "prop_starrating                False\n",
              "prop_review_score              False\n",
              "prop_brand_bool                False\n",
              "prop_location_score1           False\n",
              "prop_location_score2           False\n",
              "prop_log_historical_price      False\n",
              "price_usd                      False\n",
              "promotion_flag                 False\n",
              "srch_destination_id            False\n",
              "srch_length_of_stay            False\n",
              "srch_booking_window            False\n",
              "srch_adults_count              False\n",
              "srch_children_count            False\n",
              "srch_room_count                False\n",
              "srch_saturday_night_bool       False\n",
              "orig_destination_distance      False\n",
              "random_bool                    False\n",
              "comp2_rate                     False\n",
              "comp2_inv                      False\n",
              "comp3_rate                     False\n",
              "comp3_inv                      False\n",
              "comp5_rate                     False\n",
              "comp5_inv                      False\n",
              "comp8_rate                     False\n",
              "comp8_inv                      False\n",
              "dtype: bool"
            ]
          },
          "metadata": {
            "tags": []
          },
          "execution_count": 69
        }
      ]
    },
    {
      "cell_type": "markdown",
      "metadata": {
        "id": "MzJX5KhCDqRy"
      },
      "source": [
        "##4.4 Train random fores on complete train_data"
      ]
    },
    {
      "cell_type": "code",
      "metadata": {
        "id": "NPf-RDD5Dpqe",
        "outputId": "6e97c462-0a97-4234-d6ae-3cd09e77f8f8",
        "colab": {
          "base_uri": "https://localhost:8080/"
        }
      },
      "source": [
        "forest_booking = RandomForestClassifier()\n",
        "forest_booking.fit(train_data, target_booking)"
      ],
      "execution_count": 70,
      "outputs": [
        {
          "output_type": "execute_result",
          "data": {
            "text/plain": [
              "RandomForestClassifier(bootstrap=True, ccp_alpha=0.0, class_weight=None,\n",
              "                       criterion='gini', max_depth=None, max_features='auto',\n",
              "                       max_leaf_nodes=None, max_samples=None,\n",
              "                       min_impurity_decrease=0.0, min_impurity_split=None,\n",
              "                       min_samples_leaf=1, min_samples_split=2,\n",
              "                       min_weight_fraction_leaf=0.0, n_estimators=100,\n",
              "                       n_jobs=None, oob_score=False, random_state=None,\n",
              "                       verbose=0, warm_start=False)"
            ]
          },
          "metadata": {
            "tags": []
          },
          "execution_count": 0
        }
      ]
    },
    {
      "cell_type": "code",
      "metadata": {
        "id": "t8igCzW-Q-wd",
        "outputId": "a5f762fe-6487-41bf-fe54-0b9149a0dd30",
        "colab": {
          "base_uri": "https://localhost:8080/"
        }
      },
      "source": [
        "train_data.columns"
      ],
      "execution_count": 71,
      "outputs": [
        {
          "output_type": "execute_result",
          "data": {
            "text/plain": [
              "Index(['srch_id', 'site_id', 'visitor_location_country_id', 'prop_country_id',\n",
              "       'prop_id', 'prop_starrating', 'prop_review_score', 'prop_brand_bool',\n",
              "       'prop_location_score1', 'prop_location_score2',\n",
              "       'prop_log_historical_price', 'price_usd', 'promotion_flag',\n",
              "       'srch_destination_id', 'srch_length_of_stay', 'srch_booking_window',\n",
              "       'srch_adults_count', 'srch_children_count', 'srch_room_count',\n",
              "       'srch_saturday_night_bool', 'orig_destination_distance', 'random_bool',\n",
              "       'comp2_rate', 'comp2_inv', 'comp3_rate', 'comp3_inv', 'comp5_rate',\n",
              "       'comp5_inv', 'comp8_rate', 'comp8_inv'],\n",
              "      dtype='object')"
            ]
          },
          "metadata": {
            "tags": []
          },
          "execution_count": 0
        }
      ]
    },
    {
      "cell_type": "code",
      "metadata": {
        "id": "Q_z9NR_qQzZv"
      },
      "source": [
        "pred_prob_y_booking = forest_booking.predict_proba(test_data)"
      ],
      "execution_count": 72,
      "outputs": []
    },
    {
      "cell_type": "code",
      "metadata": {
        "id": "DRe14vZ-1mYj"
      },
      "source": [
        "#get the amountt of predictions made for each group\n",
        "group_sizes = [group.shape[0] for name, group in test_data.groupby('srch_id')]\n",
        "  "
      ],
      "execution_count": 80,
      "outputs": []
    },
    {
      "cell_type": "code",
      "metadata": {
        "id": "Lgojl5CtAUc4",
        "outputId": "8953e8ae-922d-4d04-f8af-dca371db6dfa",
        "colab": {
          "base_uri": "https://localhost:8080/"
        }
      },
      "source": [
        "prop_id_pred_booking = zip"
      ],
      "execution_count": 133,
      "outputs": [
        {
          "output_type": "execute_result",
          "data": {
            "text/plain": [
              "[(1, 'a', 0), (2, 'b', 0), (3, 'c', 0)]"
            ]
          },
          "metadata": {
            "tags": []
          },
          "execution_count": 133
        }
      ]
    },
    {
      "cell_type": "code",
      "metadata": {
        "id": "CraShV-R42Cs"
      },
      "source": [
        "pred_booking_df = pd.DataFrame(pred_prob_sample_y_booking, columns=['no_booking', 'booking'])\n",
        "pred_booking_df['srch_id'] = test_data.srch_id\n",
        "pred_booking_df['prop_id'] = test_data.prop_id\n",
        "\n",
        "sorted_prop_id_booking = []\n",
        "for name, group in pred_booking_df.groupby('srch_id'):\n",
        "  #for each search id, return the results of predictions, sorted by highest probability of booking\n",
        "  sorted_prop_id_booking.append(group.sort_values('booking', ascending=False))"
      ],
      "execution_count": 143,
      "outputs": []
    },
    {
      "cell_type": "code",
      "metadata": {
        "id": "-3OdGSBQ8KBf",
        "outputId": "3606ee75-d614-4d17-ec0b-0c52474a05ef",
        "colab": {
          "base_uri": "https://localhost:8080/"
        }
      },
      "source": [
        "sorted_prop_id_booking[:2]"
      ],
      "execution_count": 144,
      "outputs": [
        {
          "output_type": "execute_result",
          "data": {
            "text/plain": [
              "[    no_booking  booking  srch_id  prop_id\n",
              " 24        0.89     0.11        1   123675\n",
              " 9         0.89     0.11        1    54937\n",
              " 2         0.90     0.10        1    14142\n",
              " 6         0.90     0.10        1    34263\n",
              " 27        0.93     0.07        1   134992\n",
              " 16        0.93     0.07        1    74045\n",
              " 1         0.93     0.07        1     5543\n",
              " 26        0.94     0.06        1   128871\n",
              " 0         0.95     0.05        1     3180\n",
              " 22        0.96     0.04        1    95031\n",
              " 18        0.96     0.04        1    82231\n",
              " 13        0.97     0.03        1    63894\n",
              " 21        0.97     0.03        1    94729\n",
              " 14        0.97     0.03        1    72090\n",
              " 11        0.97     0.03        1    61632\n",
              " 5         0.97     0.03        1    28181\n",
              " 3         0.97     0.03        1    22393\n",
              " 10        0.98     0.02        1    56050\n",
              " 7         0.98     0.02        1    37567\n",
              " 23        0.98     0.02        1    99484\n",
              " 12        0.99     0.01        1    61934\n",
              " 19        0.99     0.01        1    89466\n",
              " 20        0.99     0.01        1    90385\n",
              " 25        0.99     0.01        1   128085\n",
              " 28        0.99     0.01        1   139162\n",
              " 15        1.00     0.00        1    73666\n",
              " 17        1.00     0.00        1    78599\n",
              " 8         1.00     0.00        1    50162\n",
              " 4         1.00     0.00        1    24194,\n",
              "     no_booking  booking  srch_id  prop_id\n",
              " 45        0.88     0.12        3    80734\n",
              " 35        0.90     0.10        3    43133\n",
              " 48        0.90     0.10        3    93176\n",
              " 52        0.92     0.08        3   131397\n",
              " 44        0.95     0.05        3    79176\n",
              " 55        0.96     0.04        3   132637\n",
              " 54        0.96     0.04        3   131968\n",
              " 33        0.96     0.04        3    27753\n",
              " 51        0.97     0.03        3   124819\n",
              " 49        0.97     0.03        3    96614\n",
              " 47        0.97     0.03        3    91337\n",
              " 46        0.97     0.03        3    90968\n",
              " 29        0.97     0.03        3     6533\n",
              " 41        0.97     0.03        3    63039\n",
              " 40        0.98     0.02        3    47377\n",
              " 39        0.98     0.02        3    47238\n",
              " 37        0.98     0.02        3    45550\n",
              " 32        0.98     0.02        3    24915\n",
              " 53        0.98     0.02        3   131940\n",
              " 31        0.98     0.02        3    22325\n",
              " 42        0.98     0.02        3    64168\n",
              " 30        0.99     0.01        3    11425\n",
              " 43        0.99     0.01        3    71543\n",
              " 36        0.99     0.01        3    43362\n",
              " 50        0.99     0.01        3   119120\n",
              " 34        0.99     0.01        3    32382\n",
              " 38        1.00     0.00        3    46861]"
            ]
          },
          "metadata": {
            "tags": []
          },
          "execution_count": 144
        }
      ]
    }
  ]
}