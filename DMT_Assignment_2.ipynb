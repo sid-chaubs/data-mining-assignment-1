{
  "nbformat": 4,
  "nbformat_minor": 0,
  "metadata": {
    "colab": {
      "name": "DMT_Assignment_2.ipynb",
      "provenance": [],
      "collapsed_sections": [],
      "authorship_tag": "ABX9TyMfi6/Nq5QDx8ChrXXkdgHk",
      "include_colab_link": true
    },
    "kernelspec": {
      "name": "python3",
      "display_name": "Python 3"
    },
    "language_info": {
      "name": "python"
    }
  },
  "cells": [
    {
      "cell_type": "markdown",
      "metadata": {
        "id": "view-in-github",
        "colab_type": "text"
      },
      "source": [
        "<a href=\"https://colab.research.google.com/github/sid-chaubs/data-mining-assignment-1/blob/main/DMT_Assignment_2.ipynb\" target=\"_parent\"><img src=\"https://colab.research.google.com/assets/colab-badge.svg\" alt=\"Open In Colab\"/></a>"
      ]
    },
    {
      "cell_type": "code",
      "metadata": {
        "colab": {
          "base_uri": "https://localhost:8080/"
        },
        "id": "vttOJfcKKBC4",
        "outputId": "d50fde25-fb5d-43d4-d485-8eae3805d975"
      },
      "source": [
        "from google.colab import drive\n",
        "drive.mount('/content/datadrive')"
      ],
      "execution_count": 1,
      "outputs": [
        {
          "output_type": "stream",
          "text": [
            "Drive already mounted at /content/datadrive; to attempt to forcibly remount, call drive.mount(\"/content/datadrive\", force_remount=True).\n"
          ],
          "name": "stdout"
        }
      ]
    },
    {
      "cell_type": "code",
      "metadata": {
        "colab": {
          "base_uri": "https://localhost:8080/"
        },
        "id": "k9978hdDKQC0",
        "outputId": "99bea1c2-bab3-4335-97fa-f908ea6dd273"
      },
      "source": [
        "!mkdir /content/training_data\n",
        "!mkdir /content/test_data\n",
        "!unzip -o /content/datadrive/MyDrive/training_set_VU_DM.csv.zip -d /content/training_data/\n",
        "!unzip -o /content/datadrive/MyDrive/test_set_VU_DM.csv.zip -d /content/test_data/"
      ],
      "execution_count": 2,
      "outputs": [
        {
          "output_type": "stream",
          "text": [
            "mkdir: cannot create directory ‘/content/training_data’: File exists\n",
            "mkdir: cannot create directory ‘/content/test_data’: File exists\n",
            "Archive:  /content/datadrive/MyDrive/training_set_VU_DM.csv.zip\n",
            "  inflating: /content/training_data/training_set_VU_DM.csv  \n",
            "Archive:  /content/datadrive/MyDrive/test_set_VU_DM.csv.zip\n",
            "  inflating: /content/test_data/test_set_VU_DM.csv  \n"
          ],
          "name": "stdout"
        }
      ]
    },
    {
      "cell_type": "code",
      "metadata": {
        "id": "dU3iBqtKMfKf"
      },
      "source": [
        "import pandas as pd\n",
        "import numpy as np\n",
        "import matplotlib.pyplot as plt"
      ],
      "execution_count": 4,
      "outputs": []
    },
    {
      "cell_type": "markdown",
      "metadata": {
        "id": "7-PLOO69NU2-"
      },
      "source": [
        "|Column Name|Data Type|Description|\n",
        "|-----------|---------|-----------|\n",
        "|srch_id|Integer|The ID of the search|\n",
        "|date_time|Date/time|Date and time of the search|\n",
        "|site_id|Integer|ID of the Expedia point of sale (i.e. Expedia.com, Expedia.co.uk, Expedia.co.jp, ..)|\n",
        "|visitor_location_country_id |Integer|The ID of the country the customer is located|\n",
        "|visitor_hist_starrating |Float|The mean star rating of hotels the customer has previously purchased; null signifies there is no purchase history on the customer|\n",
        "|visitor_hist_adr_usd|Float|The mean price per night (in US$) of the hotels the customer has previously purchased; null signifies there is no purchase history on the customer|\n",
        "|prop_country_id|Integer|The ID of the country the hotel is located in|\n",
        "|prop_id|Integer|The ID of the hotel|\n",
        "|prop_starrating|Integer|The star rating of the hotel, from 1 to 5, in increments of 1.  A 0 indicates the property has no stars, the star rating is not known or cannot be publicized.|\n",
        "|prop_review_score|Float|The mean customer review score for the hotel on a scale out of 5, rounded to 0.5 increments. A 0 means there have been no reviews, null that the information is not available.|\n",
        "|prop_brand_bool|Integer|+1 if the hotel is part of a major hotel chain; 0 if it is an independent hotel|\n",
        "|prop_location_score1|Float|A (first) score outlining the desirability of a hotel’s location|\n",
        "|prop_location_score2|Float|A (second) score outlining the desirability of the hotel’s location|\n",
        "|prop_log_historical_price position|Float   Integer|The logarithm of the mean price of the hotel over the last trading period. A 0 will occur if the hotel was not sold in that period. Hotel position on Expedia's search results page. This is only provided for the training data, but not the test data.|\n",
        "|price_usd|Float|Displayed price of the hotel for the given search.  Note that different countries have different conventions regarding displaying taxes and fees and the value may be per night or for the whole stay|\n",
        "|promotion_flag|Integer|+1 if the hotel had a sale price promotion specifically displayed|\n",
        "|gross_booking_usd     srch_destination_id |Float     Integer|Total value of the transaction.  This can differ from the price_usd due to taxes, fees, conventions on multiple day bookings and purchase of a room type other than the one shown in the search ID of the destination where the hotel search was performed|\n",
        "|srch_length_of_stay|Integer|Number of nights stay that was searched|\n",
        "|srch_booking_window|Integer|Number of days in the future the hotel stay started from the search date|\n",
        "|srch_adults_count|Integer|The number of adults specified in the hotel room|\n",
        "|srch_children_count|Integer|The number of (extra occupancy) children specified in the hotel room|\n",
        "|srch_room_count|Integer|Number of hotel rooms specified in the search|\n",
        "|srch_saturday_night_bool|Boolean|+1 if the stay includes a Saturday night, starts from Thursday with a length of stay is less than or equal to 4 nights (i.e. weekend); otherwise 0|\n",
        "|srch_query_affinity_score|Float|The log of the probability a hotel will be clicked on in Internet searches (hence the values are negative)  A null signifies there are no data (i.e. hotel did not register in any searches)|\n",
        "|orig_destination_distance|Float|Physical distance between the hotel and the customer at the time of search. A null means the distance could not be calculated.|\n",
        "|random_bool|Boolean|+1 when the displayed sort was random, 0 when the normal sort order was displayed|\n",
        "| | | |\n",
        "|comp1_rate|Integer|+1 if Expedia has a lower price than competitor 1 for the hotel; 0 if the same; -1 if Expedia’s price is higher than competitor 1; null signifies there is no competitive data|\n",
        "|comp1_inv |Integer|+1 if competitor 1 does not have availability in the hotel; 0 if both Expedia and competitor 1 have availability; null signifies there is no competitive data|\n",
        "|comp1_rate_percent_diff|Float|The absolute percentage difference (if one exists) between Expedia and competitor 1’s price (Expedia’s price the denominator); null signifies there is no competitive data|\n",
        "|comp2_rate| | |\n",
        "|comp2_inv| |(same, for competitor 2 through 8)|\n"
      ]
    },
    {
      "cell_type": "code",
      "metadata": {
        "id": "ccyCQm8jMp4X"
      },
      "source": [
        "train_data = pd.read_csv('/content/training_data/training_set_VU_DM.csv')\n",
        "test_data = pd.read_csv('/content/test_data/test_set_VU_DM.csv')"
      ],
      "execution_count": 5,
      "outputs": []
    },
    {
      "cell_type": "code",
      "metadata": {
        "colab": {
          "base_uri": "https://localhost:8080/",
          "height": 294
        },
        "id": "PamT2I1HNHhC",
        "outputId": "ddfbc2e4-8380-4204-8b76-65bf263805c7"
      },
      "source": [
        "train_data[train_data['price_usd'] < 1000]['price_usd'].hist()"
      ],
      "execution_count": 21,
      "outputs": [
        {
          "output_type": "execute_result",
          "data": {
            "text/plain": [
              "<matplotlib.axes._subplots.AxesSubplot at 0x7f462fd3f690>"
            ]
          },
          "metadata": {
            "tags": []
          },
          "execution_count": 21
        },
        {
          "output_type": "display_data",
          "data": {
            "image/png": "[encoded data removed]",
            "text/plain": [
              "<Figure size 432x288 with 1 Axes>"
            ]
          },
          "metadata": {
            "tags": [],
            "needs_background": "light"
          }
        }
      ]
    }
  ]
}