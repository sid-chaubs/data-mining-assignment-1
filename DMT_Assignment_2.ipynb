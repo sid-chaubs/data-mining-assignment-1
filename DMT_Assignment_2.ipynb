{
  "nbformat": 4,
  "nbformat_minor": 0,
  "metadata": {
    "colab": {
      "name": "DMT_Assignment_2.ipynb",
      "provenance": [],
      "collapsed_sections": [],
      "authorship_tag": "ABX9TyOWVluancQ7iDFo2KuZ0c7j",
      "include_colab_link": true
    },
    "kernelspec": {
      "name": "python3",
      "display_name": "Python 3"
    },
    "language_info": {
      "name": "python"
    }
  },
  "cells": [
    {
      "cell_type": "markdown",
      "metadata": {
        "id": "view-in-github",
        "colab_type": "text"
      },
      "source": [
        "<a href=\"https://colab.research.google.com/github/sid-chaubs/data-mining-assignment-1/blob/main/DMT_Assignment_2.ipynb\" target=\"_parent\"><img src=\"https://colab.research.google.com/assets/colab-badge.svg\" alt=\"Open In Colab\"/></a>"
      ]
    },
    {
      "cell_type": "markdown",
      "metadata": {
        "id": "tHMx71i3f1fZ"
      },
      "source": [
        "#1. Loading and formatting data"
      ]
    },
    {
      "cell_type": "code",
      "metadata": {
        "colab": {
          "base_uri": "https://localhost:8080/"
        },
        "id": "vttOJfcKKBC4",
        "outputId": "10cb9f28-0db8-43d5-949a-46103842052c"
      },
      "source": [
        "from google.colab import drive\n",
        "drive.mount('/content/datadrive')"
      ],
      "execution_count": 86,
      "outputs": [
        {
          "output_type": "stream",
          "text": [
            "Drive already mounted at /content/datadrive; to attempt to forcibly remount, call drive.mount(\"/content/datadrive\", force_remount=True).\n"
          ],
          "name": "stdout"
        }
      ]
    },
    {
      "cell_type": "code",
      "metadata": {
        "colab": {
          "base_uri": "https://localhost:8080/"
        },
        "id": "k9978hdDKQC0",
        "outputId": "88ba656d-acb3-478d-8d00-d017e67814ef"
      },
      "source": [
        "!mkdir /content/training_data\n",
        "!mkdir /content/test_data\n",
        "!unzip -o /content/datadrive/MyDrive/training_set_VU_DM.csv.zip -d /content/training_data/\n",
        "!unzip -o /content/datadrive/MyDrive/test_set_VU_DM.csv.zip -d /content/test_data/\n",
        "!pip install -q tensorflow-recommenders\n",
        "!pip install -q --upgrade tensorflow-datasets\n",
        "!pip install -q scann\n",
        "!pip install -q surprise"
      ],
      "execution_count": 87,
      "outputs": [
        {
          "output_type": "stream",
          "text": [
            "mkdir: cannot create directory ‘/content/training_data’: File exists\n",
            "mkdir: cannot create directory ‘/content/test_data’: File exists\n",
            "Archive:  /content/datadrive/MyDrive/training_set_VU_DM.csv.zip\n",
            "  inflating: /content/training_data/training_set_VU_DM.csv  \n",
            "Archive:  /content/datadrive/MyDrive/test_set_VU_DM.csv.zip\n",
            "  inflating: /content/test_data/test_set_VU_DM.csv  \n"
          ],
          "name": "stdout"
        }
      ]
    },
    {
      "cell_type": "code",
      "metadata": {
        "id": "dU3iBqtKMfKf"
      },
      "source": [
        "import pandas as pd\n",
        "import numpy as np\n",
        "import scipy as sp\n",
        "import matplotlib.pyplot as plt\n",
        "import seaborn as sns\n",
        "from yellowbrick import target, features\n",
        "import tensorflow as tf\n",
        "import tensorflow_datasets as tfds\n",
        "import tensorflow_recommenders as tfrs\n",
        "import surprise\n",
        "\n",
        "SEED = 1337 * 420 * 69\n",
        "SAMPLE_SIZE = 5000\n",
        "\n",
        "np.random.seed(SEED)"
      ],
      "execution_count": 88,
      "outputs": []
    },
    {
      "cell_type": "markdown",
      "metadata": {
        "id": "7-PLOO69NU2-"
      },
      "source": [
        "|Column Name|Data Type|Description|\n",
        "|-----------|---------|-----------|\n",
        "|srch_id|Integer|The ID of the search|\n",
        "|date_time|Date/time|Date and time of the search|\n",
        "|site_id|Integer|ID of the Expedia point of sale (i.e. Expedia.com, Expedia.co.uk, Expedia.co.jp, ..)|\n",
        "|visitor_location_country_id |Integer|The ID of the country the customer is located|\n",
        "|visitor_hist_starrating |Float|The mean star rating of hotels the customer has previously purchased; null signifies there is no purchase history on the customer|\n",
        "|visitor_hist_adr_usd|Float|The mean price per night (in US$) of the hotels the customer has previously purchased; null signifies there is no purchase history on the customer|\n",
        "|prop_country_id|Integer|The ID of the country the hotel is located in|\n",
        "|prop_id|Integer|The ID of the hotel|\n",
        "|prop_starrating|Integer|The star rating of the hotel, from 1 to 5, in increments of 1.  A 0 indicates the property has no stars, the star rating is not known or cannot be publicized.|\n",
        "|prop_review_score|Float|The mean customer review score for the hotel on a scale out of 5, rounded to 0.5 increments. A 0 means there have been no reviews, null that the information is not available.|\n",
        "|prop_brand_bool|Integer|+1 if the hotel is part of a major hotel chain; 0 if it is an independent hotel|\n",
        "|prop_location_score1|Float|A (first) score outlining the desirability of a hotel’s location|\n",
        "|prop_location_score2|Float|A (second) score outlining the desirability of the hotel’s location|\n",
        "|prop_log_historical_price position|Float   Integer|The logarithm of the mean price of the hotel over the last trading period. A 0 will occur if the hotel was not sold in that period. Hotel position on Expedia's search results page. This is only provided for the training data, but not the test data.|\n",
        "|price_usd|Float|Displayed price of the hotel for the given search.  Note that different countries have different conventions regarding displaying taxes and fees and the value may be per night or for the whole stay|\n",
        "|promotion_flag|Integer|+1 if the hotel had a sale price promotion specifically displayed|\n",
        "|gross_booking_usd     srch_destination_id |Float     Integer|Total value of the transaction.  This can differ from the price_usd due to taxes, fees, conventions on multiple day bookings and purchase of a room type other than the one shown in the search ID of the destination where the hotel search was performed|\n",
        "|srch_length_of_stay|Integer|Number of nights stay that was searched|\n",
        "|srch_booking_window|Integer|Number of days in the future the hotel stay started from the search date|\n",
        "|srch_adults_count|Integer|The number of adults specified in the hotel room|\n",
        "|srch_children_count|Integer|The number of (extra occupancy) children specified in the hotel room|\n",
        "|srch_room_count|Integer|Number of hotel rooms specified in the search|\n",
        "|srch_saturday_night_bool|Boolean|+1 if the stay includes a Saturday night, starts from Thursday with a length of stay is less than or equal to 4 nights (i.e. weekend); otherwise 0|\n",
        "|srch_query_affinity_score|Float|The log of the probability a hotel will be clicked on in Internet searches (hence the values are negative)  A null signifies there are no data (i.e. hotel did not register in any searches)|\n",
        "|orig_destination_distance|Float|Physical distance between the hotel and the customer at the time of search. A null means the distance could not be calculated.|\n",
        "|random_bool|Boolean|+1 when the displayed sort was random, 0 when the normal sort order was displayed|\n",
        "| | | |\n",
        "|comp1_rate|Integer|+1 if Expedia has a lower price than competitor 1 for the hotel; 0 if the same; -1 if Expedia’s price is higher than competitor 1; null signifies there is no competitive data|\n",
        "|comp1_inv |Integer|+1 if competitor 1 does not have availability in the hotel; 0 if both Expedia and competitor 1 have availability; null signifies there is no competitive data|\n",
        "|comp1_rate_percent_diff|Float|The absolute percentage difference (if one exists) between Expedia and competitor 1’s price (Expedia’s price the denominator); null signifies there is no competitive data|\n",
        "|comp2_rate| | |\n",
        "|comp2_inv| |(same, for competitor 2 through 8)|\n"
      ]
    },
    {
      "cell_type": "code",
      "metadata": {
        "id": "ccyCQm8jMp4X"
      },
      "source": [
        "train_data = pd.read_csv('/content/training_data/training_set_VU_DM.csv')\n",
        "test_data = pd.read_csv('/content/test_data/test_set_VU_DM.csv')"
      ],
      "execution_count": 89,
      "outputs": []
    },
    {
      "cell_type": "code",
      "metadata": {
        "colab": {
          "base_uri": "https://localhost:8080/",
          "height": 377
        },
        "id": "PamT2I1HNHhC",
        "outputId": "e3eb705a-0bbe-44dd-8158-80f2877d5a2d"
      },
      "source": [
        "train_data[train_data['price_usd'] < 1000]['price_usd'].hist()"
      ],
      "execution_count": 90,
      "outputs": [
        {
          "output_type": "execute_result",
          "data": {
            "text/plain": [
              "<matplotlib.axes._subplots.AxesSubplot at 0x7fe3d43a1a90>"
            ]
          },
          "metadata": {
            "tags": []
          },
          "execution_count": 90
        },
        {
          "output_type": "display_data",
          "data": {
            "image/png": "[encoded data removed]",
            "text/plain": [
              "<Figure size 576x396 with 1 Axes>"
            ]
          },
          "metadata": {
            "tags": []
          }
        }
      ]
    },
    {
      "cell_type": "code",
      "metadata": {
        "colab": {
          "base_uri": "https://localhost:8080/"
        },
        "id": "sOekb5VCJq09",
        "outputId": "b68be1f2-1b55-47f7-f34b-f8ca95cc7a6f"
      },
      "source": [
        "nan_filter = np.sum(train_data.isna()) > 0.75 * train_data.shape[0]\n",
        "print('Dropping {0} columns: {1}'.format(len(train_data.columns[nan_filter]), train_data.columns[nan_filter]))\n",
        "train_data = train_data.drop(columns=train_data.columns[nan_filter])\n",
        "train_data.drop(columns=['date_time'], inplace=True)\n",
        "test_data.drop(columns=['date_time'], inplace=True) #not using date time to predict anything, since it's unlikely to be relevant\n",
        "data_sample = train_data.sample(SAMPLE_SIZE, random_state=SEED)"
      ],
      "execution_count": 91,
      "outputs": [
        {
          "output_type": "stream",
          "text": [
            "Dropping 20 columns: Index(['visitor_hist_starrating', 'visitor_hist_adr_usd',\n",
            "       'srch_query_affinity_score', 'comp1_rate', 'comp1_inv',\n",
            "       'comp1_rate_percent_diff', 'comp2_rate_percent_diff',\n",
            "       'comp3_rate_percent_diff', 'comp4_rate', 'comp4_inv',\n",
            "       'comp4_rate_percent_diff', 'comp5_rate_percent_diff', 'comp6_rate',\n",
            "       'comp6_inv', 'comp6_rate_percent_diff', 'comp7_rate', 'comp7_inv',\n",
            "       'comp7_rate_percent_diff', 'comp8_rate_percent_diff',\n",
            "       'gross_bookings_usd'],\n",
            "      dtype='object')\n"
          ],
          "name": "stdout"
        }
      ]
    },
    {
      "cell_type": "code",
      "metadata": {
        "id": "kyNSDXgYVMiH"
      },
      "source": [
        "#massaging input for pre-visualization before model selection\n",
        "sample_numeric = data_sample.select_dtypes('number')\n",
        "sample_X = pd.DataFrame.copy(sample_numeric, deep=True)\n",
        "sample_y_booking = sample_X.pop('booking_bool')\n",
        "sample_y_click = sample_X.pop('click_bool')\n"
      ],
      "execution_count": 92,
      "outputs": []
    },
    {
      "cell_type": "code",
      "metadata": {
        "colab": {
          "base_uri": "https://localhost:8080/",
          "height": 444
        },
        "id": "HPkioGISnshh",
        "outputId": "ac5aacdd-0506-4220-a593-e7a0f26b9dde"
      },
      "source": [
        "train_data[train_data.booking_bool == True]"
      ],
      "execution_count": 93,
      "outputs": [
        {
          "output_type": "execute_result",
          "data": {
            "text/html": [
              "<div>\n",
              "<style scoped>\n",
              "    .dataframe tbody tr th:only-of-type {\n",
              "        vertical-align: middle;\n",
              "    }\n",
              "\n",
              "    .dataframe tbody tr th {\n",
              "        vertical-align: top;\n",
              "    }\n",
              "\n",
              "    .dataframe thead th {\n",
              "        text-align: right;\n",
              "    }\n",
              "</style>\n",
              "<table border=\"1\" class=\"dataframe\">\n",
              "  <thead>\n",
              "    <tr style=\"text-align: right;\">\n",
              "      <th></th>\n",
              "      <th>srch_id</th>\n",
              "      <th>site_id</th>\n",
              "      <th>visitor_location_country_id</th>\n",
              "      <th>prop_country_id</th>\n",
              "      <th>prop_id</th>\n",
              "      <th>prop_starrating</th>\n",
              "      <th>prop_review_score</th>\n",
              "      <th>prop_brand_bool</th>\n",
              "      <th>prop_location_score1</th>\n",
              "      <th>prop_location_score2</th>\n",
              "      <th>prop_log_historical_price</th>\n",
              "      <th>position</th>\n",
              "      <th>price_usd</th>\n",
              "      <th>promotion_flag</th>\n",
              "      <th>srch_destination_id</th>\n",
              "      <th>srch_length_of_stay</th>\n",
              "      <th>srch_booking_window</th>\n",
              "      <th>srch_adults_count</th>\n",
              "      <th>srch_children_count</th>\n",
              "      <th>srch_room_count</th>\n",
              "      <th>srch_saturday_night_bool</th>\n",
              "      <th>orig_destination_distance</th>\n",
              "      <th>random_bool</th>\n",
              "      <th>comp2_rate</th>\n",
              "      <th>comp2_inv</th>\n",
              "      <th>comp3_rate</th>\n",
              "      <th>comp3_inv</th>\n",
              "      <th>comp5_rate</th>\n",
              "      <th>comp5_inv</th>\n",
              "      <th>comp8_rate</th>\n",
              "      <th>comp8_inv</th>\n",
              "      <th>click_bool</th>\n",
              "      <th>booking_bool</th>\n",
              "    </tr>\n",
              "  </thead>\n",
              "  <tbody>\n",
              "    <tr>\n",
              "      <th>12</th>\n",
              "      <td>1</td>\n",
              "      <td>12</td>\n",
              "      <td>187</td>\n",
              "      <td>219</td>\n",
              "      <td>68914</td>\n",
              "      <td>2</td>\n",
              "      <td>3.0</td>\n",
              "      <td>1</td>\n",
              "      <td>2.20</td>\n",
              "      <td>0.0206</td>\n",
              "      <td>4.44</td>\n",
              "      <td>13</td>\n",
              "      <td>100.89</td>\n",
              "      <td>0</td>\n",
              "      <td>23246</td>\n",
              "      <td>1</td>\n",
              "      <td>0</td>\n",
              "      <td>4</td>\n",
              "      <td>0</td>\n",
              "      <td>1</td>\n",
              "      <td>1</td>\n",
              "      <td>NaN</td>\n",
              "      <td>1</td>\n",
              "      <td>0.0</td>\n",
              "      <td>0.0</td>\n",
              "      <td>0.0</td>\n",
              "      <td>0.0</td>\n",
              "      <td>0.0</td>\n",
              "      <td>-1.0</td>\n",
              "      <td>0.0</td>\n",
              "      <td>0.0</td>\n",
              "      <td>1</td>\n",
              "      <td>1</td>\n",
              "    </tr>\n",
              "    <tr>\n",
              "      <th>63</th>\n",
              "      <td>6</td>\n",
              "      <td>14</td>\n",
              "      <td>100</td>\n",
              "      <td>100</td>\n",
              "      <td>104251</td>\n",
              "      <td>3</td>\n",
              "      <td>4.0</td>\n",
              "      <td>1</td>\n",
              "      <td>1.95</td>\n",
              "      <td>NaN</td>\n",
              "      <td>0.00</td>\n",
              "      <td>1</td>\n",
              "      <td>145.00</td>\n",
              "      <td>0</td>\n",
              "      <td>21106</td>\n",
              "      <td>1</td>\n",
              "      <td>5</td>\n",
              "      <td>2</td>\n",
              "      <td>0</td>\n",
              "      <td>1</td>\n",
              "      <td>0</td>\n",
              "      <td>652.84</td>\n",
              "      <td>0</td>\n",
              "      <td>NaN</td>\n",
              "      <td>NaN</td>\n",
              "      <td>NaN</td>\n",
              "      <td>NaN</td>\n",
              "      <td>NaN</td>\n",
              "      <td>NaN</td>\n",
              "      <td>NaN</td>\n",
              "      <td>NaN</td>\n",
              "      <td>1</td>\n",
              "      <td>1</td>\n",
              "    </tr>\n",
              "    <tr>\n",
              "      <th>68</th>\n",
              "      <td>8</td>\n",
              "      <td>5</td>\n",
              "      <td>219</td>\n",
              "      <td>219</td>\n",
              "      <td>27669</td>\n",
              "      <td>3</td>\n",
              "      <td>3.5</td>\n",
              "      <td>1</td>\n",
              "      <td>3.00</td>\n",
              "      <td>0.2107</td>\n",
              "      <td>4.62</td>\n",
              "      <td>16</td>\n",
              "      <td>85.00</td>\n",
              "      <td>0</td>\n",
              "      <td>7082</td>\n",
              "      <td>1</td>\n",
              "      <td>0</td>\n",
              "      <td>1</td>\n",
              "      <td>0</td>\n",
              "      <td>1</td>\n",
              "      <td>0</td>\n",
              "      <td>4.17</td>\n",
              "      <td>0</td>\n",
              "      <td>NaN</td>\n",
              "      <td>NaN</td>\n",
              "      <td>0.0</td>\n",
              "      <td>0.0</td>\n",
              "      <td>NaN</td>\n",
              "      <td>1.0</td>\n",
              "      <td>0.0</td>\n",
              "      <td>0.0</td>\n",
              "      <td>1</td>\n",
              "      <td>1</td>\n",
              "    </tr>\n",
              "    <tr>\n",
              "      <th>194</th>\n",
              "      <td>21</td>\n",
              "      <td>15</td>\n",
              "      <td>55</td>\n",
              "      <td>216</td>\n",
              "      <td>61662</td>\n",
              "      <td>3</td>\n",
              "      <td>3.5</td>\n",
              "      <td>0</td>\n",
              "      <td>4.04</td>\n",
              "      <td>0.5370</td>\n",
              "      <td>4.54</td>\n",
              "      <td>4</td>\n",
              "      <td>47.94</td>\n",
              "      <td>1</td>\n",
              "      <td>18161</td>\n",
              "      <td>4</td>\n",
              "      <td>62</td>\n",
              "      <td>1</td>\n",
              "      <td>0</td>\n",
              "      <td>1</td>\n",
              "      <td>0</td>\n",
              "      <td>NaN</td>\n",
              "      <td>0</td>\n",
              "      <td>NaN</td>\n",
              "      <td>1.0</td>\n",
              "      <td>NaN</td>\n",
              "      <td>NaN</td>\n",
              "      <td>NaN</td>\n",
              "      <td>NaN</td>\n",
              "      <td>NaN</td>\n",
              "      <td>NaN</td>\n",
              "      <td>1</td>\n",
              "      <td>1</td>\n",
              "    </tr>\n",
              "    <tr>\n",
              "      <th>211</th>\n",
              "      <td>25</td>\n",
              "      <td>5</td>\n",
              "      <td>219</td>\n",
              "      <td>219</td>\n",
              "      <td>23228</td>\n",
              "      <td>4</td>\n",
              "      <td>4.0</td>\n",
              "      <td>0</td>\n",
              "      <td>3.26</td>\n",
              "      <td>0.3676</td>\n",
              "      <td>4.44</td>\n",
              "      <td>22</td>\n",
              "      <td>42.00</td>\n",
              "      <td>1</td>\n",
              "      <td>3735</td>\n",
              "      <td>1</td>\n",
              "      <td>0</td>\n",
              "      <td>2</td>\n",
              "      <td>0</td>\n",
              "      <td>1</td>\n",
              "      <td>0</td>\n",
              "      <td>767.86</td>\n",
              "      <td>0</td>\n",
              "      <td>0.0</td>\n",
              "      <td>0.0</td>\n",
              "      <td>0.0</td>\n",
              "      <td>0.0</td>\n",
              "      <td>0.0</td>\n",
              "      <td>0.0</td>\n",
              "      <td>0.0</td>\n",
              "      <td>0.0</td>\n",
              "      <td>1</td>\n",
              "      <td>1</td>\n",
              "    </tr>\n",
              "    <tr>\n",
              "      <th>...</th>\n",
              "      <td>...</td>\n",
              "      <td>...</td>\n",
              "      <td>...</td>\n",
              "      <td>...</td>\n",
              "      <td>...</td>\n",
              "      <td>...</td>\n",
              "      <td>...</td>\n",
              "      <td>...</td>\n",
              "      <td>...</td>\n",
              "      <td>...</td>\n",
              "      <td>...</td>\n",
              "      <td>...</td>\n",
              "      <td>...</td>\n",
              "      <td>...</td>\n",
              "      <td>...</td>\n",
              "      <td>...</td>\n",
              "      <td>...</td>\n",
              "      <td>...</td>\n",
              "      <td>...</td>\n",
              "      <td>...</td>\n",
              "      <td>...</td>\n",
              "      <td>...</td>\n",
              "      <td>...</td>\n",
              "      <td>...</td>\n",
              "      <td>...</td>\n",
              "      <td>...</td>\n",
              "      <td>...</td>\n",
              "      <td>...</td>\n",
              "      <td>...</td>\n",
              "      <td>...</td>\n",
              "      <td>...</td>\n",
              "      <td>...</td>\n",
              "      <td>...</td>\n",
              "    </tr>\n",
              "    <tr>\n",
              "      <th>4958241</th>\n",
              "      <td>332776</td>\n",
              "      <td>5</td>\n",
              "      <td>32</td>\n",
              "      <td>55</td>\n",
              "      <td>106758</td>\n",
              "      <td>4</td>\n",
              "      <td>4.0</td>\n",
              "      <td>0</td>\n",
              "      <td>2.77</td>\n",
              "      <td>0.0411</td>\n",
              "      <td>5.90</td>\n",
              "      <td>7</td>\n",
              "      <td>341.00</td>\n",
              "      <td>0</td>\n",
              "      <td>6537</td>\n",
              "      <td>1</td>\n",
              "      <td>13</td>\n",
              "      <td>1</td>\n",
              "      <td>0</td>\n",
              "      <td>1</td>\n",
              "      <td>1</td>\n",
              "      <td>510.13</td>\n",
              "      <td>0</td>\n",
              "      <td>NaN</td>\n",
              "      <td>NaN</td>\n",
              "      <td>NaN</td>\n",
              "      <td>NaN</td>\n",
              "      <td>0.0</td>\n",
              "      <td>0.0</td>\n",
              "      <td>NaN</td>\n",
              "      <td>NaN</td>\n",
              "      <td>1</td>\n",
              "      <td>1</td>\n",
              "    </tr>\n",
              "    <tr>\n",
              "      <th>4958275</th>\n",
              "      <td>332781</td>\n",
              "      <td>5</td>\n",
              "      <td>219</td>\n",
              "      <td>219</td>\n",
              "      <td>18007</td>\n",
              "      <td>3</td>\n",
              "      <td>3.5</td>\n",
              "      <td>1</td>\n",
              "      <td>0.00</td>\n",
              "      <td>0.6500</td>\n",
              "      <td>4.08</td>\n",
              "      <td>1</td>\n",
              "      <td>57.00</td>\n",
              "      <td>0</td>\n",
              "      <td>25455</td>\n",
              "      <td>2</td>\n",
              "      <td>5</td>\n",
              "      <td>1</td>\n",
              "      <td>0</td>\n",
              "      <td>1</td>\n",
              "      <td>1</td>\n",
              "      <td>445.72</td>\n",
              "      <td>0</td>\n",
              "      <td>NaN</td>\n",
              "      <td>1.0</td>\n",
              "      <td>NaN</td>\n",
              "      <td>NaN</td>\n",
              "      <td>NaN</td>\n",
              "      <td>NaN</td>\n",
              "      <td>NaN</td>\n",
              "      <td>1.0</td>\n",
              "      <td>1</td>\n",
              "      <td>1</td>\n",
              "    </tr>\n",
              "    <tr>\n",
              "      <th>4958304</th>\n",
              "      <td>332782</td>\n",
              "      <td>19</td>\n",
              "      <td>158</td>\n",
              "      <td>158</td>\n",
              "      <td>68398</td>\n",
              "      <td>5</td>\n",
              "      <td>4.5</td>\n",
              "      <td>1</td>\n",
              "      <td>2.30</td>\n",
              "      <td>0.2187</td>\n",
              "      <td>5.11</td>\n",
              "      <td>2</td>\n",
              "      <td>109.43</td>\n",
              "      <td>1</td>\n",
              "      <td>1470</td>\n",
              "      <td>2</td>\n",
              "      <td>2</td>\n",
              "      <td>1</td>\n",
              "      <td>0</td>\n",
              "      <td>1</td>\n",
              "      <td>1</td>\n",
              "      <td>NaN</td>\n",
              "      <td>0</td>\n",
              "      <td>NaN</td>\n",
              "      <td>NaN</td>\n",
              "      <td>NaN</td>\n",
              "      <td>NaN</td>\n",
              "      <td>NaN</td>\n",
              "      <td>NaN</td>\n",
              "      <td>NaN</td>\n",
              "      <td>NaN</td>\n",
              "      <td>1</td>\n",
              "      <td>1</td>\n",
              "    </tr>\n",
              "    <tr>\n",
              "      <th>4958321</th>\n",
              "      <td>332784</td>\n",
              "      <td>24</td>\n",
              "      <td>219</td>\n",
              "      <td>100</td>\n",
              "      <td>34966</td>\n",
              "      <td>3</td>\n",
              "      <td>4.5</td>\n",
              "      <td>0</td>\n",
              "      <td>5.04</td>\n",
              "      <td>0.0995</td>\n",
              "      <td>0.00</td>\n",
              "      <td>3</td>\n",
              "      <td>125.55</td>\n",
              "      <td>0</td>\n",
              "      <td>2142</td>\n",
              "      <td>2</td>\n",
              "      <td>6</td>\n",
              "      <td>1</td>\n",
              "      <td>0</td>\n",
              "      <td>1</td>\n",
              "      <td>0</td>\n",
              "      <td>329.31</td>\n",
              "      <td>0</td>\n",
              "      <td>0.0</td>\n",
              "      <td>0.0</td>\n",
              "      <td>NaN</td>\n",
              "      <td>NaN</td>\n",
              "      <td>0.0</td>\n",
              "      <td>0.0</td>\n",
              "      <td>NaN</td>\n",
              "      <td>NaN</td>\n",
              "      <td>1</td>\n",
              "      <td>1</td>\n",
              "    </tr>\n",
              "    <tr>\n",
              "      <th>4958345</th>\n",
              "      <td>332785</td>\n",
              "      <td>5</td>\n",
              "      <td>219</td>\n",
              "      <td>219</td>\n",
              "      <td>128360</td>\n",
              "      <td>3</td>\n",
              "      <td>5.0</td>\n",
              "      <td>1</td>\n",
              "      <td>1.95</td>\n",
              "      <td>0.0662</td>\n",
              "      <td>0.00</td>\n",
              "      <td>1</td>\n",
              "      <td>139.00</td>\n",
              "      <td>0</td>\n",
              "      <td>16974</td>\n",
              "      <td>1</td>\n",
              "      <td>21</td>\n",
              "      <td>3</td>\n",
              "      <td>0</td>\n",
              "      <td>1</td>\n",
              "      <td>0</td>\n",
              "      <td>550.38</td>\n",
              "      <td>0</td>\n",
              "      <td>NaN</td>\n",
              "      <td>NaN</td>\n",
              "      <td>NaN</td>\n",
              "      <td>NaN</td>\n",
              "      <td>NaN</td>\n",
              "      <td>NaN</td>\n",
              "      <td>NaN</td>\n",
              "      <td>NaN</td>\n",
              "      <td>1</td>\n",
              "      <td>1</td>\n",
              "    </tr>\n",
              "  </tbody>\n",
              "</table>\n",
              "<p>138390 rows × 33 columns</p>\n",
              "</div>"
            ],
            "text/plain": [
              "         srch_id  site_id  ...  click_bool  booking_bool\n",
              "12             1       12  ...           1             1\n",
              "63             6       14  ...           1             1\n",
              "68             8        5  ...           1             1\n",
              "194           21       15  ...           1             1\n",
              "211           25        5  ...           1             1\n",
              "...          ...      ...  ...         ...           ...\n",
              "4958241   332776        5  ...           1             1\n",
              "4958275   332781        5  ...           1             1\n",
              "4958304   332782       19  ...           1             1\n",
              "4958321   332784       24  ...           1             1\n",
              "4958345   332785        5  ...           1             1\n",
              "\n",
              "[138390 rows x 33 columns]"
            ]
          },
          "metadata": {
            "tags": []
          },
          "execution_count": 93
        }
      ]
    },
    {
      "cell_type": "code",
      "metadata": {
        "colab": {
          "base_uri": "https://localhost:8080/",
          "height": 655
        },
        "id": "OAxZRAoGK36_",
        "outputId": "c2ce1791-5bee-48ac-f903-426c2c1b1a99"
      },
      "source": [
        "vis2d = features.Rank2D(algorithm='pearson', features=data_sample.select_dtypes('number').columns)\n",
        "plt.figure(figsize=(10,10))\n",
        "vis2d.fit_transform(np.matrix(data_sample.select_dtypes('number')));\n"
      ],
      "execution_count": 94,
      "outputs": [
        {
          "output_type": "display_data",
          "data": {
            "image/png": "[encoded data removed]",
            "text/plain": [
              "<Figure size 720x720 with 2 Axes>"
            ]
          },
          "metadata": {
            "tags": []
          }
        }
      ]
    },
    {
      "cell_type": "markdown",
      "metadata": {
        "id": "OMJmSD-bSXmn"
      },
      "source": [
        "We see that clicking has a very high positive correlation with booking. Other notabe positive correlations are between the search count of adults and the search room count, as well as visitor's country and property's country."
      ]
    },
    {
      "cell_type": "code",
      "metadata": {
        "colab": {
          "base_uri": "https://localhost:8080/",
          "height": 143
        },
        "id": "vMzy9evm6Ivr",
        "outputId": "b5f0a893-d8ef-4329-d8bf-52f8587c385e"
      },
      "source": [
        "train_data[train_data.booking_bool == True][['prop_country_id','visitor_location_country_id', 'srch_destination_id']].corr()"
      ],
      "execution_count": 95,
      "outputs": [
        {
          "output_type": "execute_result",
          "data": {
            "text/html": [
              "<div>\n",
              "<style scoped>\n",
              "    .dataframe tbody tr th:only-of-type {\n",
              "        vertical-align: middle;\n",
              "    }\n",
              "\n",
              "    .dataframe tbody tr th {\n",
              "        vertical-align: top;\n",
              "    }\n",
              "\n",
              "    .dataframe thead th {\n",
              "        text-align: right;\n",
              "    }\n",
              "</style>\n",
              "<table border=\"1\" class=\"dataframe\">\n",
              "  <thead>\n",
              "    <tr style=\"text-align: right;\">\n",
              "      <th></th>\n",
              "      <th>prop_country_id</th>\n",
              "      <th>visitor_location_country_id</th>\n",
              "      <th>srch_destination_id</th>\n",
              "    </tr>\n",
              "  </thead>\n",
              "  <tbody>\n",
              "    <tr>\n",
              "      <th>prop_country_id</th>\n",
              "      <td>1.000000</td>\n",
              "      <td>0.498800</td>\n",
              "      <td>-0.007498</td>\n",
              "    </tr>\n",
              "    <tr>\n",
              "      <th>visitor_location_country_id</th>\n",
              "      <td>0.498800</td>\n",
              "      <td>1.000000</td>\n",
              "      <td>0.000208</td>\n",
              "    </tr>\n",
              "    <tr>\n",
              "      <th>srch_destination_id</th>\n",
              "      <td>-0.007498</td>\n",
              "      <td>0.000208</td>\n",
              "      <td>1.000000</td>\n",
              "    </tr>\n",
              "  </tbody>\n",
              "</table>\n",
              "</div>"
            ],
            "text/plain": [
              "                             prop_country_id  ...  srch_destination_id\n",
              "prop_country_id                     1.000000  ...            -0.007498\n",
              "visitor_location_country_id         0.498800  ...             0.000208\n",
              "srch_destination_id                -0.007498  ...             1.000000\n",
              "\n",
              "[3 rows x 3 columns]"
            ]
          },
          "metadata": {
            "tags": []
          },
          "execution_count": 95
        }
      ]
    },
    {
      "cell_type": "markdown",
      "metadata": {
        "id": "XGw_rI8ZEzXw"
      },
      "source": [
        "We see that the search destination IDs are hardly correlated at all with either property country IDs or visitor location country IDs. However, the property country IDs and visitor location country IDs show a really strong correlation, which might aid in filtering results."
      ]
    },
    {
      "cell_type": "code",
      "metadata": {
        "colab": {
          "base_uri": "https://localhost:8080/",
          "height": 381
        },
        "id": "RloYz2QtXV9e",
        "outputId": "afd145ec-ae80-4c92-fa21-28e9b7820391"
      },
      "source": [
        "vis1d = features.rank1d(np.array(sample_X), features=sample_X.columns)\n",
        "plt.title('Shapiro-Wilk normality rank')"
      ],
      "execution_count": 96,
      "outputs": [
        {
          "output_type": "execute_result",
          "data": {
            "text/plain": [
              "Text(0.5, 1.0, 'Shapiro-Wilk normality rank')"
            ]
          },
          "metadata": {
            "tags": []
          },
          "execution_count": 96
        },
        {
          "output_type": "display_data",
          "data": {
            "image/png": "[encoded data removed]",
            "text/plain": [
              "<Figure size 576x396 with 1 Axes>"
            ]
          },
          "metadata": {
            "tags": []
          }
        }
      ]
    },
    {
      "cell_type": "markdown",
      "metadata": {
        "id": "GWqXRT_EXwK-"
      },
      "source": [
        "We can see some features are very normally distributed, while others (review score, price) almost not at all."
      ]
    },
    {
      "cell_type": "code",
      "metadata": {
        "colab": {
          "base_uri": "https://localhost:8080/",
          "height": 345
        },
        "id": "vcYqbctAaysm",
        "outputId": "24d66b73-8752-4bb3-95b6-993dbc61ff30"
      },
      "source": [
        "sample_y_click.value_counts().plot.pie(autopct='%1.2f%%');\n",
        "plt.title('Sample click rate (0 = no click, 1 = click)');"
      ],
      "execution_count": 97,
      "outputs": [
        {
          "output_type": "display_data",
          "data": {
            "image/png": "[encoded data removed]",
            "text/plain": [
              "<Figure size 576x396 with 1 Axes>"
            ]
          },
          "metadata": {
            "tags": []
          }
        }
      ]
    },
    {
      "cell_type": "markdown",
      "metadata": {
        "id": "ZvUM9cXwd5-X"
      },
      "source": [
        "Only 4 percent of searches result in a click-through."
      ]
    },
    {
      "cell_type": "code",
      "metadata": {
        "colab": {
          "base_uri": "https://localhost:8080/",
          "height": 399
        },
        "id": "DGXnEsIkXNEl",
        "outputId": "8694887c-11d0-47ca-e665-6d13b1b1574f"
      },
      "source": [
        "_, rscorebins, _ = plt.hist(np.abs(sample_X.prop_review_score), density=1);\n",
        "plt.title('Sample property review score distribution');\n",
        "\n",
        "rs_params = sp.stats.genlogistic.fit(sample_X[sample_X.prop_review_score > 0].prop_review_score) #(5, 0.6)\n",
        "print(*rs_params)\n",
        "norm_fit_line = sp.stats.genlogistic.pdf(rscorebins, *rs_params)\n",
        "\n",
        "plt.plot(rscorebins, norm_fit_line)"
      ],
      "execution_count": 98,
      "outputs": [
        {
          "output_type": "stream",
          "text": [
            "0.2248468986642564 4.558650521938678 0.14610607248759921\n"
          ],
          "name": "stdout"
        },
        {
          "output_type": "execute_result",
          "data": {
            "text/plain": [
              "[<matplotlib.lines.Line2D at 0x7fe3d4f66d90>]"
            ]
          },
          "metadata": {
            "tags": []
          },
          "execution_count": 98
        },
        {
          "output_type": "display_data",
          "data": {
            "image/png": "[encoded data removed]",
            "text/plain": [
              "<Figure size 576x396 with 1 Axes>"
            ]
          },
          "metadata": {
            "tags": []
          }
        }
      ]
    },
    {
      "cell_type": "code",
      "metadata": {
        "colab": {
          "base_uri": "https://localhost:8080/",
          "height": 517
        },
        "id": "GiTXT7zkYAjG",
        "outputId": "6d99bdc3-8abf-4e0d-a827-54286eb7bfe2"
      },
      "source": [
        "fig, ax = plt.subplots(ncols=2, figsize=(15, 8))\n",
        "ax[0].hist(sample_X[sample_X.price_usd < 2000].price_usd)\n",
        "ax[0].set_title('Sample prices distribution below 2000 USD');\n",
        "ax[1].hist(sample_X[sample_X.price_usd > 2000].price_usd)\n",
        "ax[1].set_title('Sample prices distribution above 2000 USD')"
      ],
      "execution_count": 99,
      "outputs": [
        {
          "output_type": "execute_result",
          "data": {
            "text/plain": [
              "Text(0.5, 1.0, 'Sample prices distribution above 2000 USD')"
            ]
          },
          "metadata": {
            "tags": []
          },
          "execution_count": 99
        },
        {
          "output_type": "display_data",
          "data": {
            "image/png": "[encoded data removed]",
            "text/plain": [
              "<Figure size 1080x576 with 2 Axes>"
            ]
          },
          "metadata": {
            "tags": []
          }
        }
      ]
    },
    {
      "cell_type": "code",
      "metadata": {
        "colab": {
          "base_uri": "https://localhost:8080/",
          "height": 381
        },
        "id": "CVmay97XZBGW",
        "outputId": "d13a714a-c03e-49f4-ee45-e9789acd2ce8"
      },
      "source": [
        "plt.hist(sample_X.comp2_rate)\n",
        "plt.title('Sample comparison with rates of competitor 2 (-1 = competitor has better price, 0 = no data, 1 = Expedia has better price)')"
      ],
      "execution_count": 100,
      "outputs": [
        {
          "output_type": "execute_result",
          "data": {
            "text/plain": [
              "Text(0.5, 1.0, 'Sample comparison with rates of competitor 2 (-1 = competitor has better price, 0 = no data, 1 = Expedia has better price)')"
            ]
          },
          "metadata": {
            "tags": []
          },
          "execution_count": 100
        },
        {
          "output_type": "display_data",
          "data": {
            "image/png": "[encoded data removed]",
            "text/plain": [
              "<Figure size 576x396 with 1 Axes>"
            ]
          },
          "metadata": {
            "tags": []
          }
        }
      ]
    },
    {
      "cell_type": "code",
      "metadata": {
        "colab": {
          "base_uri": "https://localhost:8080/",
          "height": 376
        },
        "id": "ClSps3W6gRJY",
        "outputId": "6cf24a4e-6b18-49b8-dbc7-9131a52eb582"
      },
      "source": [
        "plt.hist(sample_X.comp2_rate)\n",
        "plt.title('''Sample comparison with availability of competitor 2\n",
        "  (-1 = Expedia has no availability but competitor does, 0 = both have availability, 1 = competitor has no availability but Expedia does)''');"
      ],
      "execution_count": 101,
      "outputs": [
        {
          "output_type": "display_data",
          "data": {
            "image/png": "[encoded data removed]",
            "text/plain": [
              "<Figure size 576x396 with 1 Axes>"
            ]
          },
          "metadata": {
            "tags": []
          }
        }
      ]
    },
    {
      "cell_type": "code",
      "metadata": {
        "colab": {
          "base_uri": "https://localhost:8080/",
          "height": 362
        },
        "id": "MxemtyMhjglq",
        "outputId": "8f7cc507-530b-4df3-f46f-e6bfd801df00"
      },
      "source": [
        "plt.hist(sample_X.prop_review_score)\n",
        "plt.title('Sample review scores (0 = no reviews)');"
      ],
      "execution_count": 102,
      "outputs": [
        {
          "output_type": "display_data",
          "data": {
            "image/png": "[encoded data removed]",
            "text/plain": [
              "<Figure size 576x396 with 1 Axes>"
            ]
          },
          "metadata": {
            "tags": []
          }
        }
      ]
    },
    {
      "cell_type": "markdown",
      "metadata": {
        "id": "VV0H-M00f9RA"
      },
      "source": [
        "##1.1 Dealing with NaNs in sample"
      ]
    },
    {
      "cell_type": "code",
      "metadata": {
        "colab": {
          "base_uri": "https://localhost:8080/"
        },
        "id": "phL_wRCCVyBd",
        "outputId": "8c86179d-f356-42e1-8a7b-f645dc633a3b"
      },
      "source": [
        "print('Columns with missing data:\\n', np.any(sample_X.isna(), axis=0))"
      ],
      "execution_count": 103,
      "outputs": [
        {
          "output_type": "stream",
          "text": [
            "Columns with missing data:\n",
            " srch_id                        False\n",
            "site_id                        False\n",
            "visitor_location_country_id    False\n",
            "prop_country_id                False\n",
            "prop_id                        False\n",
            "prop_starrating                False\n",
            "prop_review_score               True\n",
            "prop_brand_bool                False\n",
            "prop_location_score1           False\n",
            "prop_location_score2            True\n",
            "prop_log_historical_price      False\n",
            "position                       False\n",
            "price_usd                      False\n",
            "promotion_flag                 False\n",
            "srch_destination_id            False\n",
            "srch_length_of_stay            False\n",
            "srch_booking_window            False\n",
            "srch_adults_count              False\n",
            "srch_children_count            False\n",
            "srch_room_count                False\n",
            "srch_saturday_night_bool       False\n",
            "orig_destination_distance       True\n",
            "random_bool                    False\n",
            "comp2_rate                      True\n",
            "comp2_inv                       True\n",
            "comp3_rate                      True\n",
            "comp3_inv                       True\n",
            "comp5_rate                      True\n",
            "comp5_inv                       True\n",
            "comp8_rate                      True\n",
            "comp8_inv                       True\n",
            "dtype: bool\n"
          ],
          "name": "stdout"
        }
      ]
    },
    {
      "cell_type": "code",
      "metadata": {
        "id": "HHsO38aN7Qmp",
        "colab": {
          "base_uri": "https://localhost:8080/"
        },
        "outputId": "33e44de4-0ff2-4c9a-a3c4-5843acb98f95"
      },
      "source": [
        "#How many entries for each column are NaN?\n",
        "\n",
        "for c in sample_X.columns:\n",
        "  print('NaNs in {0}: {1}'.format(c, sample_X[c].isna().sum()))"
      ],
      "execution_count": 104,
      "outputs": [
        {
          "output_type": "stream",
          "text": [
            "NaNs in srch_id: 0\n",
            "NaNs in site_id: 0\n",
            "NaNs in visitor_location_country_id: 0\n",
            "NaNs in prop_country_id: 0\n",
            "NaNs in prop_id: 0\n",
            "NaNs in prop_starrating: 0\n",
            "NaNs in prop_review_score: 9\n",
            "NaNs in prop_brand_bool: 0\n",
            "NaNs in prop_location_score1: 0\n",
            "NaNs in prop_location_score2: 1080\n",
            "NaNs in prop_log_historical_price: 0\n",
            "NaNs in position: 0\n",
            "NaNs in price_usd: 0\n",
            "NaNs in promotion_flag: 0\n",
            "NaNs in srch_destination_id: 0\n",
            "NaNs in srch_length_of_stay: 0\n",
            "NaNs in srch_booking_window: 0\n",
            "NaNs in srch_adults_count: 0\n",
            "NaNs in srch_children_count: 0\n",
            "NaNs in srch_room_count: 0\n",
            "NaNs in srch_saturday_night_bool: 0\n",
            "NaNs in orig_destination_distance: 1631\n",
            "NaNs in random_bool: 0\n",
            "NaNs in comp2_rate: 3014\n",
            "NaNs in comp2_inv: 2917\n",
            "NaNs in comp3_rate: 3441\n",
            "NaNs in comp3_inv: 3330\n",
            "NaNs in comp5_rate: 2746\n",
            "NaNs in comp5_inv: 2614\n",
            "NaNs in comp8_rate: 3099\n",
            "NaNs in comp8_inv: 3040\n"
          ],
          "name": "stdout"
        }
      ]
    },
    {
      "cell_type": "code",
      "metadata": {
        "colab": {
          "base_uri": "https://localhost:8080/"
        },
        "id": "jfizXq-KeqqF",
        "outputId": "2132191a-0f80-4e32-ba8e-ea52ee297b8a"
      },
      "source": [
        "print('Sample size (with NaN entries):', sample_X.shape)\n",
        "print('Sample size after dropping all NaN-possessing entries:', sample_X.dropna().shape)"
      ],
      "execution_count": 105,
      "outputs": [
        {
          "output_type": "stream",
          "text": [
            "Sample size (with NaN entries): (5000, 31)\n",
            "Sample size after dropping all NaN-possessing entries: (449, 31)\n"
          ],
          "name": "stdout"
        }
      ]
    },
    {
      "cell_type": "markdown",
      "metadata": {
        "id": "HP1ZZ_wKeqCn"
      },
      "source": [
        "If we were to drop all entries with NaNs we'd lose around 90% of sample data."
      ]
    },
    {
      "cell_type": "code",
      "metadata": {
        "colab": {
          "base_uri": "https://localhost:8080/"
        },
        "id": "eM_xb2jReGBI",
        "outputId": "6be1308c-c2b6-4a17-f920-5f14bb6a71e7"
      },
      "source": [
        "print('Means of comparison rates in sample data:', sample_X.comp2_rate.mean(), \n",
        "      sample_X.comp3_rate.mean(), sample_X.comp5_rate.mean(), \n",
        "      sample_X.comp8_rate.mean())"
      ],
      "execution_count": 106,
      "outputs": [
        {
          "output_type": "stream",
          "text": [
            "Means of comparison rates in sample data: 0.045317220543806644 0.01860166773572803 0.013309671694764862 -0.06891109942135717\n"
          ],
          "name": "stdout"
        }
      ]
    },
    {
      "cell_type": "code",
      "metadata": {
        "colab": {
          "base_uri": "https://localhost:8080/"
        },
        "id": "e5R-ikHdg0og",
        "outputId": "961648ee-cf06-442d-dc54-a672b1306bd5"
      },
      "source": [
        "print('Means of comparative availability in sample data:', sample_X.comp2_inv.mean(), \n",
        "      sample_X.comp3_inv.mean(), sample_X.comp5_inv.mean(), \n",
        "      sample_X.comp8_inv.mean())"
      ],
      "execution_count": 107,
      "outputs": [
        {
          "output_type": "stream",
          "text": [
            "Means of comparative availability in sample data: 0.03888622179548728 0.05389221556886228 0.054065381391450125 0.010714285714285714\n"
          ],
          "name": "stdout"
        }
      ]
    },
    {
      "cell_type": "markdown",
      "metadata": {
        "id": "aEW5L5J8ehrq"
      },
      "source": [
        "The comparative rates and comparative availability all oscillate around 0, so we can fill in the missing data with 0s instead of dropping rows with NaNs in these columns."
      ]
    },
    {
      "cell_type": "code",
      "metadata": {
        "id": "RRop8AlzhADf"
      },
      "source": [
        "fill_cols = ['comp2_rate', 'comp2_inv', 'comp3_rate', 'comp3_inv', 'comp5_rate', 'comp5_inv', 'comp8_rate', 'comp8_inv']\n",
        "sample_X_imputed = pd.DataFrame.copy(sample_X)\n",
        "sample_X_imputed[fill_cols] = sample_X_imputed[fill_cols].fillna(0)"
      ],
      "execution_count": 108,
      "outputs": []
    },
    {
      "cell_type": "code",
      "metadata": {
        "colab": {
          "base_uri": "https://localhost:8080/",
          "height": 381
        },
        "id": "Wzy0C1tvAdqY",
        "outputId": "223bd5d4-daa1-45d1-fe0d-978645c03821"
      },
      "source": [
        "_, pr_bins, _ = plt.hist(sample_X_imputed.prop_review_score)\n",
        "plt.title('Sample property review score')"
      ],
      "execution_count": 109,
      "outputs": [
        {
          "output_type": "execute_result",
          "data": {
            "text/plain": [
              "Text(0.5, 1.0, 'Sample property review score')"
            ]
          },
          "metadata": {
            "tags": []
          },
          "execution_count": 109
        },
        {
          "output_type": "display_data",
          "data": {
            "image/png": "[encoded data removed]",
            "text/plain": [
              "<Figure size 576x396 with 1 Axes>"
            ]
          },
          "metadata": {
            "tags": []
          }
        }
      ]
    },
    {
      "cell_type": "code",
      "metadata": {
        "colab": {
          "base_uri": "https://localhost:8080/",
          "height": 381
        },
        "id": "tXEMk3OvAmGY",
        "outputId": "4c2d7b1d-a5ab-4d51-c6ee-cff19cbf59be"
      },
      "source": [
        "pr_params = sp.stats.genlogistic.fit(sample_X_imputed.prop_review_score[sample_X_imputed.prop_review_score > 0])\n",
        "plt.hist(sample_X_imputed.prop_review_score, density=1)\n",
        "pr_line = sp.stats.genlogistic.pdf(pr_bins, *pr_params)\n",
        "plt.plot(pr_bins, pr_line)\n",
        "plt.title('Sample review scores with a genlogistic pdf fit')"
      ],
      "execution_count": 110,
      "outputs": [
        {
          "output_type": "execute_result",
          "data": {
            "text/plain": [
              "Text(0.5, 1.0, 'Sample review scores with a genlogistic pdf fit')"
            ]
          },
          "metadata": {
            "tags": []
          },
          "execution_count": 110
        },
        {
          "output_type": "display_data",
          "data": {
            "image/png": "[encoded data removed]",
            "text/plain": [
              "<Figure size 576x396 with 1 Axes>"
            ]
          },
          "metadata": {
            "tags": []
          }
        }
      ]
    },
    {
      "cell_type": "code",
      "metadata": {
        "colab": {
          "base_uri": "https://localhost:8080/"
        },
        "id": "14EsV3CwBWK4",
        "outputId": "6a983786-1300-4e48-d50c-c10a9b6ee1a0"
      },
      "source": [
        "pr_filler_s = pd.Series(sp.stats.genlogistic.rvs(*pr_params, sample_X_imputed.prop_review_score.isna().sum()))\n",
        "pr_filler_s.index = sample_X_imputed[sample_X_imputed.prop_review_score.isna()].index\n",
        "sample_X_imputed.prop_review_score.fillna(pr_filler_s, inplace=True)\n",
        "sample_X_imputed.prop_review_score.isna().any()"
      ],
      "execution_count": 111,
      "outputs": [
        {
          "output_type": "execute_result",
          "data": {
            "text/plain": [
              "False"
            ]
          },
          "metadata": {
            "tags": []
          },
          "execution_count": 111
        }
      ]
    },
    {
      "cell_type": "code",
      "metadata": {
        "id": "XLYdTOZLnJC2",
        "colab": {
          "base_uri": "https://localhost:8080/",
          "height": 362
        },
        "outputId": "38bd37e8-452e-4795-b108-8bdc1f4b827b"
      },
      "source": [
        "_, ddbins, _ = plt.hist(sample_X.orig_destination_distance)\n",
        "plt.title('Sample physical distance between hotel and customer');"
      ],
      "execution_count": 112,
      "outputs": [
        {
          "output_type": "display_data",
          "data": {
            "image/png": "[encoded data removed]",
            "text/plain": [
              "<Figure size 576x396 with 1 Axes>"
            ]
          },
          "metadata": {
            "tags": []
          }
        }
      ]
    },
    {
      "cell_type": "markdown",
      "metadata": {
        "id": "QawJ_UGvnthG"
      },
      "source": [
        "This appears to be an exponential distribution, so we fit an exponential."
      ]
    },
    {
      "cell_type": "code",
      "metadata": {
        "id": "s1cLMO4Unytr",
        "colab": {
          "base_uri": "https://localhost:8080/",
          "height": 381
        },
        "outputId": "a2849df7-a7f0-4003-bb3c-ef7e73d27a9a"
      },
      "source": [
        "_, dd_bins, _ = plt.hist(sample_X.orig_destination_distance, density=1)\n",
        "dd_params = sp.stats.expon.fit(sample_X.orig_destination_distance.dropna())\n",
        "fit_dd_line = sp.stats.expon.pdf(dd_bins, *dd_params)\n",
        "plt.plot(dd_bins, fit_dd_line)\n",
        "plt.title('Distance with fitted exponential distribution with parameters {0}, {1}'.format(dd_params[0], round(dd_params[1], 2)))"
      ],
      "execution_count": 113,
      "outputs": [
        {
          "output_type": "execute_result",
          "data": {
            "text/plain": [
              "Text(0.5, 1.0, 'Distance with fitted exponential distribution with parameters 0.05, 1357.38')"
            ]
          },
          "metadata": {
            "tags": []
          },
          "execution_count": 113
        },
        {
          "output_type": "display_data",
          "data": {
            "image/png": "[encoded data removed]",
            "text/plain": [
              "<Figure size 576x396 with 1 Axes>"
            ]
          },
          "metadata": {
            "tags": []
          }
        }
      ]
    },
    {
      "cell_type": "markdown",
      "metadata": {
        "id": "-4bX9jEqU5xT"
      },
      "source": [
        "Filling the distance from a fitted distribution might appear bizzare (since there is no reason why any specific property would be at any given distance from the customer), but we shall see whether this improves prediction accuracy."
      ]
    },
    {
      "cell_type": "code",
      "metadata": {
        "id": "xI8nD7krv6lO"
      },
      "source": [
        "dd_nan_count = sum(sample_X_imputed.orig_destination_distance.isna())\n",
        "sample_X_imputed.orig_destination_distance = sample_X_imputed.orig_destination_distance.fillna(\n",
        "    pd.Series(sp.stats.expon.rvs(*dd_params, dd_nan_count)))"
      ],
      "execution_count": 114,
      "outputs": []
    },
    {
      "cell_type": "code",
      "metadata": {
        "id": "HrLb7nMAMLUA",
        "colab": {
          "base_uri": "https://localhost:8080/",
          "height": 381
        },
        "outputId": "8520eb4e-f0c1-433c-c9b4-85d7de502d9d"
      },
      "source": [
        "_, ls2_bins, _ = plt.hist(sample_X.prop_location_score2, density=1)\n",
        "ls2_params = sp.stats.expon.fit(sample_X.prop_location_score2.dropna())\n",
        "fit_ls2_line = sp.stats.expon.pdf(ls2_bins, *ls2_params)\n",
        "plt.plot(ls2_bins, fit_ls2_line)\n",
        "plt.title('Distance with fitted exponential distribution with parameters {0}, {1}'.format(ls2_params[0], round(ls2_params[1], 2)))"
      ],
      "execution_count": 115,
      "outputs": [
        {
          "output_type": "execute_result",
          "data": {
            "text/plain": [
              "Text(0.5, 1.0, 'Distance with fitted exponential distribution with parameters 0.0, 0.13')"
            ]
          },
          "metadata": {
            "tags": []
          },
          "execution_count": 115
        },
        {
          "output_type": "display_data",
          "data": {
            "image/png": "[encoded data removed]",
            "text/plain": [
              "<Figure size 576x396 with 1 Axes>"
            ]
          },
          "metadata": {
            "tags": []
          }
        }
      ]
    },
    {
      "cell_type": "code",
      "metadata": {
        "colab": {
          "base_uri": "https://localhost:8080/"
        },
        "id": "dAxD_QDe_z-i",
        "outputId": "ed04c5f3-ab15-4d7a-b09e-b90abd0ae268"
      },
      "source": [
        "ls2_filler_s = pd.Series(sp.stats.expon.rvs(*ls2_params, sample_X_imputed.prop_location_score2.isna().sum()))\n",
        "ls2_filler_s.index = sample_X_imputed[sample_X_imputed.prop_location_score2.isna()].index\n",
        "sample_X_imputed.prop_location_score2.fillna(ls2_filler_s, inplace=True)\n",
        "sample_X_imputed.prop_location_score2.isna().any()"
      ],
      "execution_count": 116,
      "outputs": [
        {
          "output_type": "execute_result",
          "data": {
            "text/plain": [
              "False"
            ]
          },
          "metadata": {
            "tags": []
          },
          "execution_count": 116
        }
      ]
    },
    {
      "cell_type": "code",
      "metadata": {
        "id": "ziSv3JkVMHq6",
        "colab": {
          "base_uri": "https://localhost:8080/",
          "height": 381
        },
        "outputId": "a5d6948c-1fbe-4ce0-a2be-daf12bbc18a4"
      },
      "source": [
        "_, dd_bins, _ = plt.hist(sample_X.orig_destination_distance, density=1)\n",
        "dd_params = sp.stats.expon.fit(sample_X.orig_destination_distance.dropna())\n",
        "fit_dd_line = sp.stats.expon.pdf(dd_bins, *dd_params)\n",
        "plt.plot(dd_bins, fit_dd_line)\n",
        "plt.title('Distance with fitted exponential distribution with parameters {0}, {1}'.format(dd_params[0], round(dd_params[1], 2)))"
      ],
      "execution_count": 117,
      "outputs": [
        {
          "output_type": "execute_result",
          "data": {
            "text/plain": [
              "Text(0.5, 1.0, 'Distance with fitted exponential distribution with parameters 0.05, 1357.38')"
            ]
          },
          "metadata": {
            "tags": []
          },
          "execution_count": 117
        },
        {
          "output_type": "display_data",
          "data": {
            "image/png": "[encoded data removed]",
            "text/plain": [
              "<Figure size 576x396 with 1 Axes>"
            ]
          },
          "metadata": {
            "tags": []
          }
        }
      ]
    },
    {
      "cell_type": "code",
      "metadata": {
        "id": "Hnv8vcEm8hS5"
      },
      "source": [
        "dd_filler = sp.stats.expon.rvs(*dd_params, sample_X_imputed.orig_destination_distance.isna().sum())"
      ],
      "execution_count": 118,
      "outputs": []
    },
    {
      "cell_type": "code",
      "metadata": {
        "id": "Pe3H5t4O-0uw"
      },
      "source": [
        "dd_filler_s = pd.Series(dd_filler)\n",
        "dd_filler_s.index = sample_X_imputed[sample_X_imputed.orig_destination_distance.isna()].index\n",
        "sample_X_imputed.orig_destination_distance.fillna(dd_filler_s, inplace=True)"
      ],
      "execution_count": 119,
      "outputs": []
    },
    {
      "cell_type": "markdown",
      "metadata": {
        "id": "RIzpYi3Lijj8"
      },
      "source": [
        "#3 Recommender"
      ]
    },
    {
      "cell_type": "code",
      "metadata": {
        "id": "ceXK7eNtMmbB",
        "colab": {
          "base_uri": "https://localhost:8080/"
        },
        "outputId": "23eebb9a-6d3d-46c4-f1d9-52647dd2a61a"
      },
      "source": [
        "for c in train_data.columns:\n",
        "  if train_data[c].isna().any():\n",
        "    print('{0} has {1} ({2}%) of missing entries'.format(c, train_data[c].isna().sum(),\n",
        "                                                         round(100 * train_data[c].isna().sum()/train_data.shape[0], 2)))"
      ],
      "execution_count": 120,
      "outputs": [
        {
          "output_type": "stream",
          "text": [
            "prop_review_score has 7364 (0.15%) of missing entries\n",
            "prop_location_score2 has 1090348 (21.99%) of missing entries\n",
            "orig_destination_distance has 1607782 (32.43%) of missing entries\n",
            "comp2_rate has 2933675 (59.17%) of missing entries\n",
            "comp2_inv has 2828078 (57.04%) of missing entries\n",
            "comp3_rate has 3424059 (69.06%) of missing entries\n",
            "comp3_inv has 3307357 (66.7%) of missing entries\n",
            "comp5_rate has 2735974 (55.18%) of missing entries\n",
            "comp5_inv has 2598327 (52.4%) of missing entries\n",
            "comp8_rate has 3041693 (61.34%) of missing entries\n",
            "comp8_inv has 2970844 (59.92%) of missing entries\n"
          ],
          "name": "stdout"
        }
      ]
    },
    {
      "cell_type": "markdown",
      "metadata": {
        "id": "nfpLliqKNERr"
      },
      "source": [
        "##3.1 Imput missing data in train data"
      ]
    },
    {
      "cell_type": "code",
      "metadata": {
        "id": "LsF6sO-HNDdQ"
      },
      "source": [
        "rs_params_train = sp.stats.genlogistic.fit(train_data.prop_review_score.dropna()[train_data.prop_review_score > 0])\n",
        "ls2_params_train = sp.stats.expon.fit(train_data.prop_location_score2.dropna())\n",
        "dd_params_train = sp.stats.expon.fit(train_data.orig_destination_distance.dropna())\n",
        "\n",
        "rs_na_count_train = train_data.prop_review_score.isna().sum()\n",
        "ls2_na_count_train = train_data.prop_location_score2.isna().sum()\n",
        "dd_na_count_train = train_data.orig_destination_distance.isna().sum()\n",
        "\n",
        "#generate values from fitted distribution\n",
        "rs_fill_train = sp.stats.genlogistic.rvs(*rs_params_train, rs_na_count_train)\n",
        "ls2_fill_train = sp.stats.expon.rvs(*ls2_params_train, ls2_na_count_train)\n",
        "dd_fill_train = sp.stats.expon.rvs(*dd_params_train, dd_na_count_train)"
      ],
      "execution_count": 121,
      "outputs": []
    },
    {
      "cell_type": "code",
      "metadata": {
        "id": "dX22DPCeOkK4"
      },
      "source": [
        "rs_fill_series = pd.Series(rs_fill_train)\n",
        "rs_fill_series.index = train_data.loc[train_data.prop_review_score.isna()].index\n",
        "\n",
        "ls2_fill_series = pd.Series(ls2_fill_train, \n",
        "                            index=train_data.loc[train_data.prop_location_score2.isna()].index)\n",
        "\n",
        "dd_fill_series = pd.Series(dd_fill_train, \n",
        "                           index=train_data.loc[train_data.orig_destination_distance.isna()].index)"
      ],
      "execution_count": 122,
      "outputs": []
    },
    {
      "cell_type": "code",
      "metadata": {
        "id": "f4C27ZJIODjZ"
      },
      "source": [
        "train_data.prop_review_score.fillna(rs_fill_series, inplace=True)\n",
        "train_data.prop_location_score2.fillna(ls2_fill_series, inplace=True)\n",
        "train_data.orig_destination_distance.fillna(dd_fill_series, inplace=True)\n",
        "for c in fill_cols:\n",
        "  train_data[c].fillna(0, inplace=True)"
      ],
      "execution_count": 123,
      "outputs": []
    },
    {
      "cell_type": "code",
      "metadata": {
        "id": "you-t2t_Sec0",
        "colab": {
          "base_uri": "https://localhost:8080/"
        },
        "outputId": "2f329587-4668-463a-b9fd-dc7958f52336"
      },
      "source": [
        "train_data.isna().any()"
      ],
      "execution_count": 124,
      "outputs": [
        {
          "output_type": "execute_result",
          "data": {
            "text/plain": [
              "srch_id                        False\n",
              "site_id                        False\n",
              "visitor_location_country_id    False\n",
              "prop_country_id                False\n",
              "prop_id                        False\n",
              "prop_starrating                False\n",
              "prop_review_score              False\n",
              "prop_brand_bool                False\n",
              "prop_location_score1           False\n",
              "prop_location_score2           False\n",
              "prop_log_historical_price      False\n",
              "position                       False\n",
              "price_usd                      False\n",
              "promotion_flag                 False\n",
              "srch_destination_id            False\n",
              "srch_length_of_stay            False\n",
              "srch_booking_window            False\n",
              "srch_adults_count              False\n",
              "srch_children_count            False\n",
              "srch_room_count                False\n",
              "srch_saturday_night_bool       False\n",
              "orig_destination_distance      False\n",
              "random_bool                    False\n",
              "comp2_rate                     False\n",
              "comp2_inv                      False\n",
              "comp3_rate                     False\n",
              "comp3_inv                      False\n",
              "comp5_rate                     False\n",
              "comp5_inv                      False\n",
              "comp8_rate                     False\n",
              "comp8_inv                      False\n",
              "click_bool                     False\n",
              "booking_bool                   False\n",
              "dtype: bool"
            ]
          },
          "metadata": {
            "tags": []
          },
          "execution_count": 124
        }
      ]
    },
    {
      "cell_type": "markdown",
      "metadata": {
        "id": "Vjm7IjA-Ukry"
      },
      "source": [
        "##3.2 Extract target data and convert categorical entries to category"
      ]
    },
    {
      "cell_type": "code",
      "metadata": {
        "id": "GVJ2gPziijBQ"
      },
      "source": [
        "target_booking = train_data.pop('booking_bool') #used for training\n",
        "target_click = train_data.pop('click_bool')"
      ],
      "execution_count": 125,
      "outputs": []
    },
    {
      "cell_type": "code",
      "metadata": {
        "id": "lKz4VEERTf5U"
      },
      "source": [
        "categorical_cols = ['srch_id', 'site_id', 'visitor_location_country_id',\n",
        "       'prop_country_id', 'prop_id',\n",
        "       'srch_destination_id',\n",
        "       'comp2_rate', 'comp2_inv', 'comp3_rate', 'comp3_inv', 'comp5_rate',\n",
        "       'comp5_inv', 'comp8_rate', 'comp8_inv'] "
      ],
      "execution_count": 126,
      "outputs": []
    },
    {
      "cell_type": "code",
      "metadata": {
        "id": "moWllFMLUUyb"
      },
      "source": [
        "#for c in categorical_cols:\n",
        "#  train_data[c] = train_data[c].astype('category')"
      ],
      "execution_count": 127,
      "outputs": []
    },
    {
      "cell_type": "markdown",
      "metadata": {
        "id": "EYvYVXWMFPlS"
      },
      "source": [
        "#4 Try random forest for predicting"
      ]
    },
    {
      "cell_type": "code",
      "metadata": {
        "id": "JHxTntZZ3vey"
      },
      "source": [
        "from sklearn.ensemble import RandomForestClassifier\n",
        "import sklearn"
      ],
      "execution_count": 128,
      "outputs": []
    },
    {
      "cell_type": "code",
      "metadata": {
        "id": "xY0bAhAh4bX-"
      },
      "source": [
        "forest = RandomForestClassifier()"
      ],
      "execution_count": 129,
      "outputs": []
    },
    {
      "cell_type": "code",
      "metadata": {
        "colab": {
          "base_uri": "https://localhost:8080/"
        },
        "id": "NT9E5nnd8VMZ",
        "outputId": "a2d503d8-3b30-4f50-94c5-accc54a34fc6"
      },
      "source": [
        "sample_X_imputed.isna().any()"
      ],
      "execution_count": 130,
      "outputs": [
        {
          "output_type": "execute_result",
          "data": {
            "text/plain": [
              "srch_id                        False\n",
              "site_id                        False\n",
              "visitor_location_country_id    False\n",
              "prop_country_id                False\n",
              "prop_id                        False\n",
              "prop_starrating                False\n",
              "prop_review_score              False\n",
              "prop_brand_bool                False\n",
              "prop_location_score1           False\n",
              "prop_location_score2           False\n",
              "prop_log_historical_price      False\n",
              "position                       False\n",
              "price_usd                      False\n",
              "promotion_flag                 False\n",
              "srch_destination_id            False\n",
              "srch_length_of_stay            False\n",
              "srch_booking_window            False\n",
              "srch_adults_count              False\n",
              "srch_children_count            False\n",
              "srch_room_count                False\n",
              "srch_saturday_night_bool       False\n",
              "orig_destination_distance      False\n",
              "random_bool                    False\n",
              "comp2_rate                     False\n",
              "comp2_inv                      False\n",
              "comp3_rate                     False\n",
              "comp3_inv                      False\n",
              "comp5_rate                     False\n",
              "comp5_inv                      False\n",
              "comp8_rate                     False\n",
              "comp8_inv                      False\n",
              "dtype: bool"
            ]
          },
          "metadata": {
            "tags": []
          },
          "execution_count": 130
        }
      ]
    },
    {
      "cell_type": "code",
      "metadata": {
        "id": "we8aqUr4B9L4"
      },
      "source": [
        "sample_X_train_booking, sample_X_test_booking, sample_y_train_booking, sample_y_test_booking = \\\n",
        "  sklearn.model_selection.train_test_split(sample_X_imputed, sample_y_booking)"
      ],
      "execution_count": 131,
      "outputs": []
    },
    {
      "cell_type": "code",
      "metadata": {
        "id": "vF8qg-2pNdrD",
        "outputId": "eacc5087-de05-4c0e-8311-6aff82d8b883",
        "colab": {
          "base_uri": "https://localhost:8080/",
          "height": 444
        }
      },
      "source": [
        "sample_X_imputed"
      ],
      "execution_count": 132,
      "outputs": [
        {
          "output_type": "execute_result",
          "data": {
            "text/html": [
              "<div>\n",
              "<style scoped>\n",
              "    .dataframe tbody tr th:only-of-type {\n",
              "        vertical-align: middle;\n",
              "    }\n",
              "\n",
              "    .dataframe tbody tr th {\n",
              "        vertical-align: top;\n",
              "    }\n",
              "\n",
              "    .dataframe thead th {\n",
              "        text-align: right;\n",
              "    }\n",
              "</style>\n",
              "<table border=\"1\" class=\"dataframe\">\n",
              "  <thead>\n",
              "    <tr style=\"text-align: right;\">\n",
              "      <th></th>\n",
              "      <th>srch_id</th>\n",
              "      <th>site_id</th>\n",
              "      <th>visitor_location_country_id</th>\n",
              "      <th>prop_country_id</th>\n",
              "      <th>prop_id</th>\n",
              "      <th>prop_starrating</th>\n",
              "      <th>prop_review_score</th>\n",
              "      <th>prop_brand_bool</th>\n",
              "      <th>prop_location_score1</th>\n",
              "      <th>prop_location_score2</th>\n",
              "      <th>prop_log_historical_price</th>\n",
              "      <th>position</th>\n",
              "      <th>price_usd</th>\n",
              "      <th>promotion_flag</th>\n",
              "      <th>srch_destination_id</th>\n",
              "      <th>srch_length_of_stay</th>\n",
              "      <th>srch_booking_window</th>\n",
              "      <th>srch_adults_count</th>\n",
              "      <th>srch_children_count</th>\n",
              "      <th>srch_room_count</th>\n",
              "      <th>srch_saturday_night_bool</th>\n",
              "      <th>orig_destination_distance</th>\n",
              "      <th>random_bool</th>\n",
              "      <th>comp2_rate</th>\n",
              "      <th>comp2_inv</th>\n",
              "      <th>comp3_rate</th>\n",
              "      <th>comp3_inv</th>\n",
              "      <th>comp5_rate</th>\n",
              "      <th>comp5_inv</th>\n",
              "      <th>comp8_rate</th>\n",
              "      <th>comp8_inv</th>\n",
              "    </tr>\n",
              "  </thead>\n",
              "  <tbody>\n",
              "    <tr>\n",
              "      <th>920872</th>\n",
              "      <td>61466</td>\n",
              "      <td>5</td>\n",
              "      <td>219</td>\n",
              "      <td>219</td>\n",
              "      <td>29163</td>\n",
              "      <td>3</td>\n",
              "      <td>4.0</td>\n",
              "      <td>1</td>\n",
              "      <td>2.30</td>\n",
              "      <td>0.053393</td>\n",
              "      <td>4.71</td>\n",
              "      <td>32</td>\n",
              "      <td>109.00</td>\n",
              "      <td>0</td>\n",
              "      <td>22077</td>\n",
              "      <td>3</td>\n",
              "      <td>1</td>\n",
              "      <td>2</td>\n",
              "      <td>2</td>\n",
              "      <td>1</td>\n",
              "      <td>0</td>\n",
              "      <td>4.260000</td>\n",
              "      <td>0</td>\n",
              "      <td>0.0</td>\n",
              "      <td>0.0</td>\n",
              "      <td>0.0</td>\n",
              "      <td>0.0</td>\n",
              "      <td>0.0</td>\n",
              "      <td>0.0</td>\n",
              "      <td>0.0</td>\n",
              "      <td>0.0</td>\n",
              "    </tr>\n",
              "    <tr>\n",
              "      <th>4627336</th>\n",
              "      <td>310442</td>\n",
              "      <td>5</td>\n",
              "      <td>219</td>\n",
              "      <td>219</td>\n",
              "      <td>22311</td>\n",
              "      <td>3</td>\n",
              "      <td>5.0</td>\n",
              "      <td>1</td>\n",
              "      <td>2.08</td>\n",
              "      <td>0.145200</td>\n",
              "      <td>4.87</td>\n",
              "      <td>12</td>\n",
              "      <td>107.00</td>\n",
              "      <td>0</td>\n",
              "      <td>18876</td>\n",
              "      <td>1</td>\n",
              "      <td>14</td>\n",
              "      <td>2</td>\n",
              "      <td>0</td>\n",
              "      <td>1</td>\n",
              "      <td>1</td>\n",
              "      <td>102.665361</td>\n",
              "      <td>0</td>\n",
              "      <td>0.0</td>\n",
              "      <td>0.0</td>\n",
              "      <td>0.0</td>\n",
              "      <td>0.0</td>\n",
              "      <td>0.0</td>\n",
              "      <td>0.0</td>\n",
              "      <td>0.0</td>\n",
              "      <td>0.0</td>\n",
              "    </tr>\n",
              "    <tr>\n",
              "      <th>1578965</th>\n",
              "      <td>106043</td>\n",
              "      <td>5</td>\n",
              "      <td>23</td>\n",
              "      <td>215</td>\n",
              "      <td>95124</td>\n",
              "      <td>4</td>\n",
              "      <td>3.0</td>\n",
              "      <td>0</td>\n",
              "      <td>6.25</td>\n",
              "      <td>0.006271</td>\n",
              "      <td>5.40</td>\n",
              "      <td>28</td>\n",
              "      <td>251.00</td>\n",
              "      <td>0</td>\n",
              "      <td>2854</td>\n",
              "      <td>3</td>\n",
              "      <td>17</td>\n",
              "      <td>4</td>\n",
              "      <td>0</td>\n",
              "      <td>1</td>\n",
              "      <td>0</td>\n",
              "      <td>2252.290396</td>\n",
              "      <td>0</td>\n",
              "      <td>0.0</td>\n",
              "      <td>0.0</td>\n",
              "      <td>0.0</td>\n",
              "      <td>0.0</td>\n",
              "      <td>1.0</td>\n",
              "      <td>0.0</td>\n",
              "      <td>0.0</td>\n",
              "      <td>0.0</td>\n",
              "    </tr>\n",
              "    <tr>\n",
              "      <th>563179</th>\n",
              "      <td>37636</td>\n",
              "      <td>5</td>\n",
              "      <td>219</td>\n",
              "      <td>219</td>\n",
              "      <td>103663</td>\n",
              "      <td>3</td>\n",
              "      <td>4.0</td>\n",
              "      <td>0</td>\n",
              "      <td>4.13</td>\n",
              "      <td>0.017500</td>\n",
              "      <td>5.34</td>\n",
              "      <td>36</td>\n",
              "      <td>134.00</td>\n",
              "      <td>0</td>\n",
              "      <td>13216</td>\n",
              "      <td>2</td>\n",
              "      <td>0</td>\n",
              "      <td>1</td>\n",
              "      <td>0</td>\n",
              "      <td>1</td>\n",
              "      <td>1</td>\n",
              "      <td>12.210000</td>\n",
              "      <td>0</td>\n",
              "      <td>0.0</td>\n",
              "      <td>0.0</td>\n",
              "      <td>0.0</td>\n",
              "      <td>0.0</td>\n",
              "      <td>0.0</td>\n",
              "      <td>0.0</td>\n",
              "      <td>0.0</td>\n",
              "      <td>0.0</td>\n",
              "    </tr>\n",
              "    <tr>\n",
              "      <th>3766623</th>\n",
              "      <td>253025</td>\n",
              "      <td>5</td>\n",
              "      <td>219</td>\n",
              "      <td>219</td>\n",
              "      <td>31144</td>\n",
              "      <td>3</td>\n",
              "      <td>4.5</td>\n",
              "      <td>1</td>\n",
              "      <td>2.20</td>\n",
              "      <td>0.001800</td>\n",
              "      <td>5.17</td>\n",
              "      <td>13</td>\n",
              "      <td>152.00</td>\n",
              "      <td>0</td>\n",
              "      <td>18774</td>\n",
              "      <td>2</td>\n",
              "      <td>25</td>\n",
              "      <td>2</td>\n",
              "      <td>0</td>\n",
              "      <td>1</td>\n",
              "      <td>1</td>\n",
              "      <td>1742.370000</td>\n",
              "      <td>0</td>\n",
              "      <td>0.0</td>\n",
              "      <td>0.0</td>\n",
              "      <td>-1.0</td>\n",
              "      <td>0.0</td>\n",
              "      <td>-1.0</td>\n",
              "      <td>0.0</td>\n",
              "      <td>-1.0</td>\n",
              "      <td>0.0</td>\n",
              "    </tr>\n",
              "    <tr>\n",
              "      <th>...</th>\n",
              "      <td>...</td>\n",
              "      <td>...</td>\n",
              "      <td>...</td>\n",
              "      <td>...</td>\n",
              "      <td>...</td>\n",
              "      <td>...</td>\n",
              "      <td>...</td>\n",
              "      <td>...</td>\n",
              "      <td>...</td>\n",
              "      <td>...</td>\n",
              "      <td>...</td>\n",
              "      <td>...</td>\n",
              "      <td>...</td>\n",
              "      <td>...</td>\n",
              "      <td>...</td>\n",
              "      <td>...</td>\n",
              "      <td>...</td>\n",
              "      <td>...</td>\n",
              "      <td>...</td>\n",
              "      <td>...</td>\n",
              "      <td>...</td>\n",
              "      <td>...</td>\n",
              "      <td>...</td>\n",
              "      <td>...</td>\n",
              "      <td>...</td>\n",
              "      <td>...</td>\n",
              "      <td>...</td>\n",
              "      <td>...</td>\n",
              "      <td>...</td>\n",
              "      <td>...</td>\n",
              "      <td>...</td>\n",
              "    </tr>\n",
              "    <tr>\n",
              "      <th>4191474</th>\n",
              "      <td>281244</td>\n",
              "      <td>5</td>\n",
              "      <td>219</td>\n",
              "      <td>219</td>\n",
              "      <td>52823</td>\n",
              "      <td>3</td>\n",
              "      <td>3.5</td>\n",
              "      <td>1</td>\n",
              "      <td>0.69</td>\n",
              "      <td>0.000300</td>\n",
              "      <td>4.96</td>\n",
              "      <td>14</td>\n",
              "      <td>108.00</td>\n",
              "      <td>0</td>\n",
              "      <td>1986</td>\n",
              "      <td>1</td>\n",
              "      <td>9</td>\n",
              "      <td>2</td>\n",
              "      <td>0</td>\n",
              "      <td>1</td>\n",
              "      <td>1</td>\n",
              "      <td>467.015514</td>\n",
              "      <td>1</td>\n",
              "      <td>0.0</td>\n",
              "      <td>0.0</td>\n",
              "      <td>0.0</td>\n",
              "      <td>0.0</td>\n",
              "      <td>0.0</td>\n",
              "      <td>0.0</td>\n",
              "      <td>0.0</td>\n",
              "      <td>0.0</td>\n",
              "    </tr>\n",
              "    <tr>\n",
              "      <th>187545</th>\n",
              "      <td>12604</td>\n",
              "      <td>24</td>\n",
              "      <td>216</td>\n",
              "      <td>31</td>\n",
              "      <td>32307</td>\n",
              "      <td>0</td>\n",
              "      <td>3.5</td>\n",
              "      <td>0</td>\n",
              "      <td>6.74</td>\n",
              "      <td>0.109600</td>\n",
              "      <td>4.83</td>\n",
              "      <td>30</td>\n",
              "      <td>42.55</td>\n",
              "      <td>0</td>\n",
              "      <td>15620</td>\n",
              "      <td>2</td>\n",
              "      <td>3</td>\n",
              "      <td>1</td>\n",
              "      <td>0</td>\n",
              "      <td>1</td>\n",
              "      <td>1</td>\n",
              "      <td>404.203942</td>\n",
              "      <td>0</td>\n",
              "      <td>0.0</td>\n",
              "      <td>0.0</td>\n",
              "      <td>0.0</td>\n",
              "      <td>0.0</td>\n",
              "      <td>1.0</td>\n",
              "      <td>0.0</td>\n",
              "      <td>0.0</td>\n",
              "      <td>0.0</td>\n",
              "    </tr>\n",
              "    <tr>\n",
              "      <th>2301123</th>\n",
              "      <td>154505</td>\n",
              "      <td>5</td>\n",
              "      <td>219</td>\n",
              "      <td>219</td>\n",
              "      <td>93758</td>\n",
              "      <td>3</td>\n",
              "      <td>4.5</td>\n",
              "      <td>0</td>\n",
              "      <td>3.09</td>\n",
              "      <td>0.053600</td>\n",
              "      <td>4.75</td>\n",
              "      <td>2</td>\n",
              "      <td>105.00</td>\n",
              "      <td>0</td>\n",
              "      <td>25017</td>\n",
              "      <td>1</td>\n",
              "      <td>1</td>\n",
              "      <td>2</td>\n",
              "      <td>0</td>\n",
              "      <td>1</td>\n",
              "      <td>0</td>\n",
              "      <td>140.130000</td>\n",
              "      <td>0</td>\n",
              "      <td>1.0</td>\n",
              "      <td>0.0</td>\n",
              "      <td>0.0</td>\n",
              "      <td>0.0</td>\n",
              "      <td>0.0</td>\n",
              "      <td>0.0</td>\n",
              "      <td>0.0</td>\n",
              "      <td>0.0</td>\n",
              "    </tr>\n",
              "    <tr>\n",
              "      <th>1544805</th>\n",
              "      <td>103667</td>\n",
              "      <td>19</td>\n",
              "      <td>158</td>\n",
              "      <td>158</td>\n",
              "      <td>42669</td>\n",
              "      <td>3</td>\n",
              "      <td>3.5</td>\n",
              "      <td>0</td>\n",
              "      <td>2.40</td>\n",
              "      <td>0.076800</td>\n",
              "      <td>4.72</td>\n",
              "      <td>4</td>\n",
              "      <td>69.62</td>\n",
              "      <td>0</td>\n",
              "      <td>23525</td>\n",
              "      <td>3</td>\n",
              "      <td>6</td>\n",
              "      <td>2</td>\n",
              "      <td>0</td>\n",
              "      <td>1</td>\n",
              "      <td>1</td>\n",
              "      <td>1552.378719</td>\n",
              "      <td>0</td>\n",
              "      <td>1.0</td>\n",
              "      <td>0.0</td>\n",
              "      <td>1.0</td>\n",
              "      <td>0.0</td>\n",
              "      <td>0.0</td>\n",
              "      <td>0.0</td>\n",
              "      <td>0.0</td>\n",
              "      <td>0.0</td>\n",
              "    </tr>\n",
              "    <tr>\n",
              "      <th>3493278</th>\n",
              "      <td>234544</td>\n",
              "      <td>5</td>\n",
              "      <td>219</td>\n",
              "      <td>219</td>\n",
              "      <td>140666</td>\n",
              "      <td>0</td>\n",
              "      <td>2.5</td>\n",
              "      <td>1</td>\n",
              "      <td>1.79</td>\n",
              "      <td>0.072600</td>\n",
              "      <td>4.31</td>\n",
              "      <td>9</td>\n",
              "      <td>55.00</td>\n",
              "      <td>0</td>\n",
              "      <td>15796</td>\n",
              "      <td>1</td>\n",
              "      <td>1</td>\n",
              "      <td>2</td>\n",
              "      <td>1</td>\n",
              "      <td>1</td>\n",
              "      <td>1</td>\n",
              "      <td>4719.846052</td>\n",
              "      <td>0</td>\n",
              "      <td>1.0</td>\n",
              "      <td>0.0</td>\n",
              "      <td>0.0</td>\n",
              "      <td>0.0</td>\n",
              "      <td>0.0</td>\n",
              "      <td>0.0</td>\n",
              "      <td>0.0</td>\n",
              "      <td>0.0</td>\n",
              "    </tr>\n",
              "  </tbody>\n",
              "</table>\n",
              "<p>5000 rows × 31 columns</p>\n",
              "</div>"
            ],
            "text/plain": [
              "         srch_id  site_id  ...  comp8_rate  comp8_inv\n",
              "920872     61466        5  ...         0.0        0.0\n",
              "4627336   310442        5  ...         0.0        0.0\n",
              "1578965   106043        5  ...         0.0        0.0\n",
              "563179     37636        5  ...         0.0        0.0\n",
              "3766623   253025        5  ...        -1.0        0.0\n",
              "...          ...      ...  ...         ...        ...\n",
              "4191474   281244        5  ...         0.0        0.0\n",
              "187545     12604       24  ...         0.0        0.0\n",
              "2301123   154505        5  ...         0.0        0.0\n",
              "1544805   103667       19  ...         0.0        0.0\n",
              "3493278   234544        5  ...         0.0        0.0\n",
              "\n",
              "[5000 rows x 31 columns]"
            ]
          },
          "metadata": {
            "tags": []
          },
          "execution_count": 132
        }
      ]
    },
    {
      "cell_type": "code",
      "metadata": {
        "colab": {
          "base_uri": "https://localhost:8080/"
        },
        "id": "walrHPD_4eIt",
        "outputId": "f5c7f4ae-fdef-4b9e-82ce-6aaa0e44ea8a"
      },
      "source": [
        "forest.fit(sample_X_train_booking, sample_y_train_booking)"
      ],
      "execution_count": 133,
      "outputs": [
        {
          "output_type": "execute_result",
          "data": {
            "text/plain": [
              "RandomForestClassifier(bootstrap=True, ccp_alpha=0.0, class_weight=None,\n",
              "                       criterion='gini', max_depth=None, max_features='auto',\n",
              "                       max_leaf_nodes=None, max_samples=None,\n",
              "                       min_impurity_decrease=0.0, min_impurity_split=None,\n",
              "                       min_samples_leaf=1, min_samples_split=2,\n",
              "                       min_weight_fraction_leaf=0.0, n_estimators=100,\n",
              "                       n_jobs=None, oob_score=False, random_state=None,\n",
              "                       verbose=0, warm_start=False)"
            ]
          },
          "metadata": {
            "tags": []
          },
          "execution_count": 133
        }
      ]
    },
    {
      "cell_type": "code",
      "metadata": {
        "colab": {
          "base_uri": "https://localhost:8080/"
        },
        "id": "9wVnXjpFGJX3",
        "outputId": "8e5d4f9c-8ec6-4332-95f8-7314fa419abd"
      },
      "source": [
        "forest.score(sample_X_test_booking, sample_y_test_booking)"
      ],
      "execution_count": 134,
      "outputs": [
        {
          "output_type": "execute_result",
          "data": {
            "text/plain": [
              "0.9744"
            ]
          },
          "metadata": {
            "tags": []
          },
          "execution_count": 134
        }
      ]
    },
    {
      "cell_type": "code",
      "metadata": {
        "colab": {
          "base_uri": "https://localhost:8080/"
        },
        "id": "urP14_ujGqRB",
        "outputId": "1bf03dce-e746-443f-85e1-73748537f6bf"
      },
      "source": [
        "sklearn.model_selection.cross_val_score(forest, sample_X_imputed, sample_y_booking, cv=5)"
      ],
      "execution_count": 135,
      "outputs": [
        {
          "output_type": "execute_result",
          "data": {
            "text/plain": [
              "array([0.971, 0.971, 0.971, 0.971, 0.97 ])"
            ]
          },
          "metadata": {
            "tags": []
          },
          "execution_count": 135
        }
      ]
    },
    {
      "cell_type": "code",
      "metadata": {
        "id": "-FghKRTzHjtX"
      },
      "source": [
        "pred_sample_y_booking = forest.predict(sample_X_test_booking)"
      ],
      "execution_count": 136,
      "outputs": []
    },
    {
      "cell_type": "code",
      "metadata": {
        "id": "FuzyczQMNXSp"
      },
      "source": [
        "pred_prob_sample_y_booking = forest.predict_proba(sample_X_test_booking)"
      ],
      "execution_count": 137,
      "outputs": []
    },
    {
      "cell_type": "code",
      "metadata": {
        "colab": {
          "base_uri": "https://localhost:8080/"
        },
        "id": "razKQD6YNsWJ",
        "outputId": "6c77e5dd-88a9-4051-b036-4b2e73433ab1"
      },
      "source": [
        "i = 0\n",
        "for name, group in train_data.groupby('srch_id'):\n",
        "  print(name)\n",
        "  print(group)\n",
        "  print(forest.predict(group))\n",
        "  i += 1\n",
        "  if i > 0:\n",
        "    break"
      ],
      "execution_count": 138,
      "outputs": [
        {
          "output_type": "stream",
          "text": [
            "1\n",
            "    srch_id  site_id  ...  comp8_rate  comp8_inv\n",
            "0         1       12  ...         0.0        0.0\n",
            "1         1       12  ...         0.0        0.0\n",
            "2         1       12  ...         0.0        0.0\n",
            "3         1       12  ...        -1.0        0.0\n",
            "4         1       12  ...         0.0        0.0\n",
            "5         1       12  ...         0.0        0.0\n",
            "6         1       12  ...         0.0        0.0\n",
            "7         1       12  ...         0.0        0.0\n",
            "8         1       12  ...         0.0        0.0\n",
            "9         1       12  ...         0.0        0.0\n",
            "10        1       12  ...         0.0        0.0\n",
            "11        1       12  ...         1.0        0.0\n",
            "12        1       12  ...         0.0        0.0\n",
            "13        1       12  ...         0.0        0.0\n",
            "14        1       12  ...         0.0        0.0\n",
            "15        1       12  ...         0.0        0.0\n",
            "16        1       12  ...         0.0        0.0\n",
            "17        1       12  ...         0.0        0.0\n",
            "18        1       12  ...         0.0        0.0\n",
            "19        1       12  ...         0.0        0.0\n",
            "20        1       12  ...         0.0        0.0\n",
            "21        1       12  ...        -1.0        0.0\n",
            "22        1       12  ...        -1.0        0.0\n",
            "23        1       12  ...         0.0        0.0\n",
            "24        1       12  ...         0.0        0.0\n",
            "25        1       12  ...         0.0        0.0\n",
            "26        1       12  ...         0.0        0.0\n",
            "27        1       12  ...         0.0        0.0\n",
            "\n",
            "[28 rows x 31 columns]\n",
            "[0 0 0 0 0 0 0 0 0 0 0 0 0 0 0 0 0 0 0 0 0 0 0 0 0 0 0 0]\n"
          ],
          "name": "stdout"
        }
      ]
    },
    {
      "cell_type": "code",
      "metadata": {
        "colab": {
          "base_uri": "https://localhost:8080/"
        },
        "id": "ClhqFB7-NeyP",
        "outputId": "32d3534f-51c3-4fb8-e896-29960c6f2684"
      },
      "source": [
        "for p in pred_prob_sample_y_booking:\n",
        "  print(p)"
      ],
      "execution_count": 141,
      "outputs": [
        {
          "output_type": "stream",
          "text": [
            "[0.96 0.04]\n",
            "[0.96 0.04]\n",
            "[0.87 0.13]\n",
            "[0.98 0.02]\n",
            "[0.99 0.01]\n",
            "[0.89 0.11]\n",
            "[1. 0.]\n",
            "[1. 0.]\n",
            "[1. 0.]\n",
            "[0.86 0.14]\n",
            "[1. 0.]\n",
            "[0.91 0.09]\n",
            "[0.94 0.06]\n",
            "[0.99 0.01]\n",
            "[0.99 0.01]\n",
            "[0.96 0.04]\n",
            "[0.97 0.03]\n",
            "[1. 0.]\n",
            "[0.9 0.1]\n",
            "[0.99 0.01]\n",
            "[1. 0.]\n",
            "[0.99 0.01]\n",
            "[0.97 0.03]\n",
            "[1. 0.]\n",
            "[0.91 0.09]\n",
            "[1. 0.]\n",
            "[0.99 0.01]\n",
            "[0.92 0.08]\n",
            "[0.91 0.09]\n",
            "[0.97 0.03]\n",
            "[1. 0.]\n",
            "[0.97 0.03]\n",
            "[1. 0.]\n",
            "[0.97 0.03]\n",
            "[0.94 0.06]\n",
            "[0.79 0.21]\n",
            "[0.94 0.06]\n",
            "[0.96 0.04]\n",
            "[0.97 0.03]\n",
            "[0.99 0.01]\n",
            "[0.98 0.02]\n",
            "[0.98 0.02]\n",
            "[0.99 0.01]\n",
            "[0.97 0.03]\n",
            "[0.94 0.06]\n",
            "[0.93 0.07]\n",
            "[0.93 0.07]\n",
            "[0.95 0.05]\n",
            "[0.96 0.04]\n",
            "[0.99 0.01]\n",
            "[1. 0.]\n",
            "[0.93 0.07]\n",
            "[0.84 0.16]\n",
            "[0.99 0.01]\n",
            "[1. 0.]\n",
            "[1. 0.]\n",
            "[1. 0.]\n",
            "[1. 0.]\n",
            "[0.93 0.07]\n",
            "[0.97 0.03]\n",
            "[0.95 0.05]\n",
            "[0.88 0.12]\n",
            "[0.99 0.01]\n",
            "[1. 0.]\n",
            "[1. 0.]\n",
            "[0.77 0.23]\n",
            "[1. 0.]\n",
            "[0.98 0.02]\n",
            "[0.99 0.01]\n",
            "[0.98 0.02]\n",
            "[0.97 0.03]\n",
            "[0.99 0.01]\n",
            "[0.98 0.02]\n",
            "[0.99 0.01]\n",
            "[0.95 0.05]\n",
            "[0.99 0.01]\n",
            "[0.98 0.02]\n",
            "[0.95 0.05]\n",
            "[0.89 0.11]\n",
            "[0.99 0.01]\n",
            "[1. 0.]\n",
            "[0.99 0.01]\n",
            "[0.97 0.03]\n",
            "[0.97 0.03]\n",
            "[0.93 0.07]\n",
            "[0.98 0.02]\n",
            "[0.97 0.03]\n",
            "[0.85 0.15]\n",
            "[0.99 0.01]\n",
            "[0.98 0.02]\n",
            "[0.97 0.03]\n",
            "[1. 0.]\n",
            "[0.98 0.02]\n",
            "[1. 0.]\n",
            "[1. 0.]\n",
            "[0.99 0.01]\n",
            "[0.98 0.02]\n",
            "[0.98 0.02]\n",
            "[0.98 0.02]\n",
            "[0.99 0.01]\n",
            "[0.95 0.05]\n",
            "[0.98 0.02]\n",
            "[0.95 0.05]\n",
            "[0.91 0.09]\n",
            "[1. 0.]\n",
            "[0.99 0.01]\n",
            "[0.94 0.06]\n",
            "[0.62 0.38]\n",
            "[0.97 0.03]\n",
            "[0.88 0.12]\n",
            "[1. 0.]\n",
            "[0.98 0.02]\n",
            "[0.97 0.03]\n",
            "[0.9 0.1]\n",
            "[0.99 0.01]\n",
            "[0.99 0.01]\n",
            "[0.84 0.16]\n",
            "[0.98 0.02]\n",
            "[0.99 0.01]\n",
            "[0.96 0.04]\n",
            "[0.9 0.1]\n",
            "[0.98 0.02]\n",
            "[1. 0.]\n",
            "[0.85 0.15]\n",
            "[0.97 0.03]\n",
            "[0.99 0.01]\n",
            "[0.96 0.04]\n",
            "[1. 0.]\n",
            "[1. 0.]\n",
            "[0.98 0.02]\n",
            "[0.95 0.05]\n",
            "[0.99 0.01]\n",
            "[0.97 0.03]\n",
            "[1. 0.]\n",
            "[0.99 0.01]\n",
            "[0.99 0.01]\n",
            "[1. 0.]\n",
            "[0.94 0.06]\n",
            "[0.99 0.01]\n",
            "[0.97 0.03]\n",
            "[0.99 0.01]\n",
            "[0.94 0.06]\n",
            "[0.95 0.05]\n",
            "[0.94 0.06]\n",
            "[0.99 0.01]\n",
            "[0.97 0.03]\n",
            "[0.98 0.02]\n",
            "[0.94 0.06]\n",
            "[0.78 0.22]\n",
            "[0.99 0.01]\n",
            "[1. 0.]\n",
            "[0.97 0.03]\n",
            "[0.99 0.01]\n",
            "[0.99 0.01]\n",
            "[1. 0.]\n",
            "[1. 0.]\n",
            "[1. 0.]\n",
            "[1. 0.]\n",
            "[0.82 0.18]\n",
            "[0.99 0.01]\n",
            "[0.94 0.06]\n",
            "[0.99 0.01]\n",
            "[0.99 0.01]\n",
            "[0.99 0.01]\n",
            "[0.99 0.01]\n",
            "[1. 0.]\n",
            "[0.97 0.03]\n",
            "[0.85 0.15]\n",
            "[0.96 0.04]\n",
            "[0.98 0.02]\n",
            "[0.98 0.02]\n",
            "[0.89 0.11]\n",
            "[0.98 0.02]\n",
            "[0.99 0.01]\n",
            "[1. 0.]\n",
            "[0.97 0.03]\n",
            "[0.96 0.04]\n",
            "[0.72 0.28]\n",
            "[0.94 0.06]\n",
            "[0.99 0.01]\n",
            "[0.95 0.05]\n",
            "[0.9 0.1]\n",
            "[0.99 0.01]\n",
            "[0.88 0.12]\n",
            "[0.98 0.02]\n",
            "[0.91 0.09]\n",
            "[0.98 0.02]\n",
            "[0.99 0.01]\n",
            "[1. 0.]\n",
            "[1. 0.]\n",
            "[1. 0.]\n",
            "[1. 0.]\n",
            "[1. 0.]\n",
            "[0.99 0.01]\n",
            "[0.98 0.02]\n",
            "[0.88 0.12]\n",
            "[1. 0.]\n",
            "[0.97 0.03]\n",
            "[0.98 0.02]\n",
            "[1. 0.]\n",
            "[1. 0.]\n",
            "[0.99 0.01]\n",
            "[0.96 0.04]\n",
            "[0.95 0.05]\n",
            "[1. 0.]\n",
            "[0.98 0.02]\n",
            "[0.97 0.03]\n",
            "[0.99 0.01]\n",
            "[1. 0.]\n",
            "[0.98 0.02]\n",
            "[0.99 0.01]\n",
            "[0.85 0.15]\n",
            "[1. 0.]\n",
            "[0.96 0.04]\n",
            "[0.99 0.01]\n",
            "[0.98 0.02]\n",
            "[0.98 0.02]\n",
            "[0.91 0.09]\n",
            "[0.99 0.01]\n",
            "[0.91 0.09]\n",
            "[0.99 0.01]\n",
            "[0.93 0.07]\n",
            "[0.99 0.01]\n",
            "[0.94 0.06]\n",
            "[0.85 0.15]\n",
            "[0.96 0.04]\n",
            "[1. 0.]\n",
            "[1. 0.]\n",
            "[0.93 0.07]\n",
            "[0.97 0.03]\n",
            "[0.97 0.03]\n",
            "[1. 0.]\n",
            "[0.99 0.01]\n",
            "[0.99 0.01]\n",
            "[0.99 0.01]\n",
            "[0.96 0.04]\n",
            "[0.87 0.13]\n",
            "[1. 0.]\n",
            "[0.97 0.03]\n",
            "[1. 0.]\n",
            "[1. 0.]\n",
            "[0.99 0.01]\n",
            "[0.97 0.03]\n",
            "[0.99 0.01]\n",
            "[1. 0.]\n",
            "[0.98 0.02]\n",
            "[0.99 0.01]\n",
            "[0.97 0.03]\n",
            "[0.93 0.07]\n",
            "[0.97 0.03]\n",
            "[1. 0.]\n",
            "[0.96 0.04]\n",
            "[0.85 0.15]\n",
            "[0.98 0.02]\n",
            "[0.98 0.02]\n",
            "[0.92 0.08]\n",
            "[0.95 0.05]\n",
            "[0.97 0.03]\n",
            "[0.93 0.07]\n",
            "[1. 0.]\n",
            "[0.95 0.05]\n",
            "[0.98 0.02]\n",
            "[0.99 0.01]\n",
            "[0.95 0.05]\n",
            "[0.88 0.12]\n",
            "[0.99 0.01]\n",
            "[0.93 0.07]\n",
            "[1. 0.]\n",
            "[0.99 0.01]\n",
            "[0.8 0.2]\n",
            "[1. 0.]\n",
            "[0.96 0.04]\n",
            "[0.99 0.01]\n",
            "[0.98 0.02]\n",
            "[1. 0.]\n",
            "[1. 0.]\n",
            "[0.97 0.03]\n",
            "[0.9 0.1]\n",
            "[0.99 0.01]\n",
            "[0.98 0.02]\n",
            "[0.98 0.02]\n",
            "[1. 0.]\n",
            "[1. 0.]\n",
            "[0.96 0.04]\n",
            "[0.97 0.03]\n",
            "[0.99 0.01]\n",
            "[0.95 0.05]\n",
            "[0.96 0.04]\n",
            "[0.94 0.06]\n",
            "[0.99 0.01]\n",
            "[0.99 0.01]\n",
            "[0.97 0.03]\n",
            "[1. 0.]\n",
            "[0.98 0.02]\n",
            "[1. 0.]\n",
            "[0.99 0.01]\n",
            "[0.99 0.01]\n",
            "[0.98 0.02]\n",
            "[0.99 0.01]\n",
            "[0.89 0.11]\n",
            "[0.99 0.01]\n",
            "[1. 0.]\n",
            "[1. 0.]\n",
            "[0.96 0.04]\n",
            "[1. 0.]\n",
            "[0.98 0.02]\n",
            "[1. 0.]\n",
            "[0.99 0.01]\n",
            "[0.95 0.05]\n",
            "[1. 0.]\n",
            "[0.99 0.01]\n",
            "[0.97 0.03]\n",
            "[0.99 0.01]\n",
            "[1. 0.]\n",
            "[0.86 0.14]\n",
            "[0.99 0.01]\n",
            "[0.99 0.01]\n",
            "[1. 0.]\n",
            "[0.99 0.01]\n",
            "[0.77 0.23]\n",
            "[0.9 0.1]\n",
            "[1. 0.]\n",
            "[0.99 0.01]\n",
            "[1. 0.]\n",
            "[0.99 0.01]\n",
            "[0.98 0.02]\n",
            "[1. 0.]\n",
            "[0.98 0.02]\n",
            "[0.96 0.04]\n",
            "[0.99 0.01]\n",
            "[0.98 0.02]\n",
            "[0.99 0.01]\n",
            "[1. 0.]\n",
            "[0.94 0.06]\n",
            "[0.99 0.01]\n",
            "[1. 0.]\n",
            "[0.84 0.16]\n",
            "[0.97 0.03]\n",
            "[0.91 0.09]\n",
            "[1. 0.]\n",
            "[0.98 0.02]\n",
            "[1. 0.]\n",
            "[0.99 0.01]\n",
            "[0.98 0.02]\n",
            "[0.99 0.01]\n",
            "[1. 0.]\n",
            "[0.97 0.03]\n",
            "[0.98 0.02]\n",
            "[0.98 0.02]\n",
            "[0.97 0.03]\n",
            "[0.98 0.02]\n",
            "[1. 0.]\n",
            "[0.99 0.01]\n",
            "[0.93 0.07]\n",
            "[1. 0.]\n",
            "[0.97 0.03]\n",
            "[0.91 0.09]\n",
            "[0.98 0.02]\n",
            "[0.96 0.04]\n",
            "[0.99 0.01]\n",
            "[0.98 0.02]\n",
            "[1. 0.]\n",
            "[0.99 0.01]\n",
            "[0.99 0.01]\n",
            "[0.99 0.01]\n",
            "[1. 0.]\n",
            "[0.98 0.02]\n",
            "[0.92 0.08]\n",
            "[1. 0.]\n",
            "[0.93 0.07]\n",
            "[1. 0.]\n",
            "[1. 0.]\n",
            "[0.96 0.04]\n",
            "[0.99 0.01]\n",
            "[1. 0.]\n",
            "[1. 0.]\n",
            "[1. 0.]\n",
            "[0.94 0.06]\n",
            "[0.98 0.02]\n",
            "[0.97 0.03]\n",
            "[1. 0.]\n",
            "[0.82 0.18]\n",
            "[0.96 0.04]\n",
            "[0.98 0.02]\n",
            "[0.98 0.02]\n",
            "[0.96 0.04]\n",
            "[0.96 0.04]\n",
            "[0.98 0.02]\n",
            "[1. 0.]\n",
            "[0.98 0.02]\n",
            "[0.98 0.02]\n",
            "[1. 0.]\n",
            "[0.95 0.05]\n",
            "[1. 0.]\n",
            "[1. 0.]\n",
            "[0.99 0.01]\n",
            "[1. 0.]\n",
            "[0.96 0.04]\n",
            "[1. 0.]\n",
            "[0.97 0.03]\n",
            "[1. 0.]\n",
            "[1. 0.]\n",
            "[0.98 0.02]\n",
            "[0.9 0.1]\n",
            "[0.99 0.01]\n",
            "[0.94 0.06]\n",
            "[1. 0.]\n",
            "[0.93 0.07]\n",
            "[1. 0.]\n",
            "[0.68 0.32]\n",
            "[1. 0.]\n",
            "[1. 0.]\n",
            "[0.99 0.01]\n",
            "[0.99 0.01]\n",
            "[0.87 0.13]\n",
            "[1. 0.]\n",
            "[0.7 0.3]\n",
            "[0.98 0.02]\n",
            "[0.96 0.04]\n",
            "[1. 0.]\n",
            "[0.99 0.01]\n",
            "[0.99 0.01]\n",
            "[0.99 0.01]\n",
            "[1. 0.]\n",
            "[1. 0.]\n",
            "[1. 0.]\n",
            "[0.99 0.01]\n",
            "[0.98 0.02]\n",
            "[0.9 0.1]\n",
            "[0.97 0.03]\n",
            "[0.98 0.02]\n",
            "[0.97 0.03]\n",
            "[0.96 0.04]\n",
            "[0.97 0.03]\n",
            "[1. 0.]\n",
            "[1. 0.]\n",
            "[1. 0.]\n",
            "[0.96 0.04]\n",
            "[0.98 0.02]\n",
            "[0.98 0.02]\n",
            "[0.87 0.13]\n",
            "[1. 0.]\n",
            "[0.95 0.05]\n",
            "[1. 0.]\n",
            "[0.98 0.02]\n",
            "[0.97 0.03]\n",
            "[0.98 0.02]\n",
            "[0.91 0.09]\n",
            "[0.93 0.07]\n",
            "[0.99 0.01]\n",
            "[0.96 0.04]\n",
            "[0.97 0.03]\n",
            "[0.94 0.06]\n",
            "[1. 0.]\n",
            "[0.99 0.01]\n",
            "[0.89 0.11]\n",
            "[1. 0.]\n",
            "[0.89 0.11]\n",
            "[0.99 0.01]\n",
            "[0.96 0.04]\n",
            "[0.95 0.05]\n",
            "[1. 0.]\n",
            "[0.93 0.07]\n",
            "[1. 0.]\n",
            "[0.99 0.01]\n",
            "[0.96 0.04]\n",
            "[1. 0.]\n",
            "[0.91 0.09]\n",
            "[0.97 0.03]\n",
            "[1. 0.]\n",
            "[0.99 0.01]\n",
            "[0.99 0.01]\n",
            "[1. 0.]\n",
            "[0.85 0.15]\n",
            "[0.94 0.06]\n",
            "[0.96 0.04]\n",
            "[0.86 0.14]\n",
            "[0.95 0.05]\n",
            "[0.99 0.01]\n",
            "[0.85 0.15]\n",
            "[0.96 0.04]\n",
            "[0.99 0.01]\n",
            "[1. 0.]\n",
            "[0.97 0.03]\n",
            "[1. 0.]\n",
            "[0.96 0.04]\n",
            "[1. 0.]\n",
            "[0.99 0.01]\n",
            "[0.94 0.06]\n",
            "[1. 0.]\n",
            "[0.95 0.05]\n",
            "[0.96 0.04]\n",
            "[0.99 0.01]\n",
            "[0.94 0.06]\n",
            "[0.99 0.01]\n",
            "[0.98 0.02]\n",
            "[1. 0.]\n",
            "[0.95 0.05]\n",
            "[1. 0.]\n",
            "[1. 0.]\n",
            "[0.83 0.17]\n",
            "[0.94 0.06]\n",
            "[0.86 0.14]\n",
            "[0.84 0.16]\n",
            "[1. 0.]\n",
            "[0.89 0.11]\n",
            "[1. 0.]\n",
            "[1. 0.]\n",
            "[0.91 0.09]\n",
            "[0.9 0.1]\n",
            "[0.92 0.08]\n",
            "[0.76 0.24]\n",
            "[1. 0.]\n",
            "[0.7 0.3]\n",
            "[0.94 0.06]\n",
            "[0.98 0.02]\n",
            "[0.99 0.01]\n",
            "[0.97 0.03]\n",
            "[1. 0.]\n",
            "[1. 0.]\n",
            "[1. 0.]\n",
            "[0.97 0.03]\n",
            "[0.97 0.03]\n",
            "[0.96 0.04]\n",
            "[1. 0.]\n",
            "[0.98 0.02]\n",
            "[1. 0.]\n",
            "[0.97 0.03]\n",
            "[0.97 0.03]\n",
            "[1. 0.]\n",
            "[0.95 0.05]\n",
            "[0.98 0.02]\n",
            "[0.99 0.01]\n",
            "[1. 0.]\n",
            "[0.98 0.02]\n",
            "[1. 0.]\n",
            "[0.98 0.02]\n",
            "[0.99 0.01]\n",
            "[0.98 0.02]\n",
            "[0.96 0.04]\n",
            "[1. 0.]\n",
            "[1. 0.]\n",
            "[0.99 0.01]\n",
            "[0.99 0.01]\n",
            "[0.94 0.06]\n",
            "[0.96 0.04]\n",
            "[0.97 0.03]\n",
            "[0.92 0.08]\n",
            "[0.99 0.01]\n",
            "[0.93 0.07]\n",
            "[1. 0.]\n",
            "[0.99 0.01]\n",
            "[0.99 0.01]\n",
            "[0.99 0.01]\n",
            "[0.99 0.01]\n",
            "[0.99 0.01]\n",
            "[0.99 0.01]\n",
            "[0.99 0.01]\n",
            "[0.97 0.03]\n",
            "[0.97 0.03]\n",
            "[0.99 0.01]\n",
            "[1. 0.]\n",
            "[0.95 0.05]\n",
            "[1. 0.]\n",
            "[0.95 0.05]\n",
            "[0.99 0.01]\n",
            "[0.97 0.03]\n",
            "[0.97 0.03]\n",
            "[0.98 0.02]\n",
            "[0.99 0.01]\n",
            "[0.99 0.01]\n",
            "[1. 0.]\n",
            "[0.95 0.05]\n",
            "[0.93 0.07]\n",
            "[0.99 0.01]\n",
            "[0.98 0.02]\n",
            "[0.99 0.01]\n",
            "[0.89 0.11]\n",
            "[1. 0.]\n",
            "[0.99 0.01]\n",
            "[0.99 0.01]\n",
            "[0.98 0.02]\n",
            "[1. 0.]\n",
            "[1. 0.]\n",
            "[0.96 0.04]\n",
            "[0.95 0.05]\n",
            "[0.97 0.03]\n",
            "[1. 0.]\n",
            "[0.99 0.01]\n",
            "[0.96 0.04]\n",
            "[0.97 0.03]\n",
            "[1. 0.]\n",
            "[0.99 0.01]\n",
            "[0.92 0.08]\n",
            "[0.91 0.09]\n",
            "[0.95 0.05]\n",
            "[0.95 0.05]\n",
            "[0.97 0.03]\n",
            "[0.8 0.2]\n",
            "[0.94 0.06]\n",
            "[0.87 0.13]\n",
            "[1. 0.]\n",
            "[1. 0.]\n",
            "[0.9 0.1]\n",
            "[0.85 0.15]\n",
            "[0.99 0.01]\n",
            "[0.99 0.01]\n",
            "[1. 0.]\n",
            "[0.96 0.04]\n",
            "[0.97 0.03]\n",
            "[0.72 0.28]\n",
            "[0.98 0.02]\n",
            "[0.98 0.02]\n",
            "[0.99 0.01]\n",
            "[1. 0.]\n",
            "[0.98 0.02]\n",
            "[0.98 0.02]\n",
            "[1. 0.]\n",
            "[0.98 0.02]\n",
            "[1. 0.]\n",
            "[1. 0.]\n",
            "[1. 0.]\n",
            "[1. 0.]\n",
            "[0.95 0.05]\n",
            "[0.97 0.03]\n",
            "[0.92 0.08]\n",
            "[0.93 0.07]\n",
            "[0.97 0.03]\n",
            "[0.95 0.05]\n",
            "[0.95 0.05]\n",
            "[0.98 0.02]\n",
            "[0.99 0.01]\n",
            "[0.99 0.01]\n",
            "[0.99 0.01]\n",
            "[0.99 0.01]\n",
            "[1. 0.]\n",
            "[0.99 0.01]\n",
            "[0.98 0.02]\n",
            "[1. 0.]\n",
            "[1. 0.]\n",
            "[0.97 0.03]\n",
            "[0.66 0.34]\n",
            "[1. 0.]\n",
            "[0.97 0.03]\n",
            "[0.99 0.01]\n",
            "[0.99 0.01]\n",
            "[1. 0.]\n",
            "[0.99 0.01]\n",
            "[0.99 0.01]\n",
            "[0.92 0.08]\n",
            "[0.89 0.11]\n",
            "[0.99 0.01]\n",
            "[0.86 0.14]\n",
            "[0.92 0.08]\n",
            "[0.99 0.01]\n",
            "[1. 0.]\n",
            "[0.98 0.02]\n",
            "[0.96 0.04]\n",
            "[0.99 0.01]\n",
            "[0.87 0.13]\n",
            "[1. 0.]\n",
            "[0.97 0.03]\n",
            "[0.99 0.01]\n",
            "[0.99 0.01]\n",
            "[0.9 0.1]\n",
            "[0.99 0.01]\n",
            "[0.98 0.02]\n",
            "[0.99 0.01]\n",
            "[0.92 0.08]\n",
            "[1. 0.]\n",
            "[0.95 0.05]\n",
            "[0.98 0.02]\n",
            "[0.99 0.01]\n",
            "[1. 0.]\n",
            "[0.99 0.01]\n",
            "[0.98 0.02]\n",
            "[0.91 0.09]\n",
            "[1. 0.]\n",
            "[0.96 0.04]\n",
            "[1. 0.]\n",
            "[0.77 0.23]\n",
            "[1. 0.]\n",
            "[0.97 0.03]\n",
            "[0.99 0.01]\n",
            "[1. 0.]\n",
            "[1. 0.]\n",
            "[0.95 0.05]\n",
            "[1. 0.]\n",
            "[0.98 0.02]\n",
            "[0.96 0.04]\n",
            "[1. 0.]\n",
            "[0.98 0.02]\n",
            "[1. 0.]\n",
            "[0.99 0.01]\n",
            "[0.85 0.15]\n",
            "[0.95 0.05]\n",
            "[1. 0.]\n",
            "[0.94 0.06]\n",
            "[0.99 0.01]\n",
            "[0.96 0.04]\n",
            "[0.97 0.03]\n",
            "[0.98 0.02]\n",
            "[0.88 0.12]\n",
            "[1. 0.]\n",
            "[0.99 0.01]\n",
            "[1. 0.]\n",
            "[0.96 0.04]\n",
            "[0.99 0.01]\n",
            "[1. 0.]\n",
            "[1. 0.]\n",
            "[1. 0.]\n",
            "[0.99 0.01]\n",
            "[0.99 0.01]\n",
            "[0.99 0.01]\n",
            "[0.99 0.01]\n",
            "[0.98 0.02]\n",
            "[0.96 0.04]\n",
            "[1. 0.]\n",
            "[0.95 0.05]\n",
            "[0.99 0.01]\n",
            "[0.98 0.02]\n",
            "[0.98 0.02]\n",
            "[1. 0.]\n",
            "[1. 0.]\n",
            "[0.94 0.06]\n",
            "[0.98 0.02]\n",
            "[0.93 0.07]\n",
            "[0.83 0.17]\n",
            "[1. 0.]\n",
            "[0.99 0.01]\n",
            "[0.87 0.13]\n",
            "[0.93 0.07]\n",
            "[1. 0.]\n",
            "[0.97 0.03]\n",
            "[0.99 0.01]\n",
            "[0.83 0.17]\n",
            "[0.97 0.03]\n",
            "[0.93 0.07]\n",
            "[0.92 0.08]\n",
            "[0.88 0.12]\n",
            "[0.83 0.17]\n",
            "[0.98 0.02]\n",
            "[0.96 0.04]\n",
            "[0.82 0.18]\n",
            "[0.96 0.04]\n",
            "[0.95 0.05]\n",
            "[1. 0.]\n",
            "[0.94 0.06]\n",
            "[0.99 0.01]\n",
            "[1. 0.]\n",
            "[0.95 0.05]\n",
            "[0.98 0.02]\n",
            "[1. 0.]\n",
            "[0.98 0.02]\n",
            "[1. 0.]\n",
            "[0.98 0.02]\n",
            "[0.98 0.02]\n",
            "[0.96 0.04]\n",
            "[0.9 0.1]\n",
            "[0.96 0.04]\n",
            "[0.99 0.01]\n",
            "[0.85 0.15]\n",
            "[0.99 0.01]\n",
            "[0.99 0.01]\n",
            "[0.96 0.04]\n",
            "[1. 0.]\n",
            "[0.99 0.01]\n",
            "[0.97 0.03]\n",
            "[0.96 0.04]\n",
            "[0.99 0.01]\n",
            "[0.99 0.01]\n",
            "[0.99 0.01]\n",
            "[0.94 0.06]\n",
            "[0.98 0.02]\n",
            "[0.95 0.05]\n",
            "[0.98 0.02]\n",
            "[0.99 0.01]\n",
            "[1. 0.]\n",
            "[0.93 0.07]\n",
            "[0.96 0.04]\n",
            "[1. 0.]\n",
            "[0.98 0.02]\n",
            "[0.94 0.06]\n",
            "[0.98 0.02]\n",
            "[0.93 0.07]\n",
            "[0.92 0.08]\n",
            "[0.96 0.04]\n",
            "[0.97 0.03]\n",
            "[0.99 0.01]\n",
            "[0.97 0.03]\n",
            "[0.99 0.01]\n",
            "[0.97 0.03]\n",
            "[1. 0.]\n",
            "[1. 0.]\n",
            "[1. 0.]\n",
            "[1. 0.]\n",
            "[0.99 0.01]\n",
            "[0.96 0.04]\n",
            "[0.99 0.01]\n",
            "[0.99 0.01]\n",
            "[0.98 0.02]\n",
            "[0.96 0.04]\n",
            "[0.94 0.06]\n",
            "[0.97 0.03]\n",
            "[0.98 0.02]\n",
            "[0.99 0.01]\n",
            "[0.96 0.04]\n",
            "[1. 0.]\n",
            "[0.97 0.03]\n",
            "[0.98 0.02]\n",
            "[1. 0.]\n",
            "[0.97 0.03]\n",
            "[0.98 0.02]\n",
            "[0.97 0.03]\n",
            "[1. 0.]\n",
            "[0.95 0.05]\n",
            "[0.92 0.08]\n",
            "[0.99 0.01]\n",
            "[0.77 0.23]\n",
            "[0.85 0.15]\n",
            "[0.99 0.01]\n",
            "[0.95 0.05]\n",
            "[0.94 0.06]\n",
            "[1. 0.]\n",
            "[0.98 0.02]\n",
            "[1. 0.]\n",
            "[1. 0.]\n",
            "[1. 0.]\n",
            "[0.99 0.01]\n",
            "[0.94 0.06]\n",
            "[1. 0.]\n",
            "[1. 0.]\n",
            "[0.99 0.01]\n",
            "[0.99 0.01]\n",
            "[1. 0.]\n",
            "[0.97 0.03]\n",
            "[0.93 0.07]\n",
            "[1. 0.]\n",
            "[1. 0.]\n",
            "[0.91 0.09]\n",
            "[0.98 0.02]\n",
            "[0.98 0.02]\n",
            "[0.99 0.01]\n",
            "[1. 0.]\n",
            "[0.97 0.03]\n",
            "[0.98 0.02]\n",
            "[0.98 0.02]\n",
            "[0.99 0.01]\n",
            "[0.99 0.01]\n",
            "[0.99 0.01]\n",
            "[0.98 0.02]\n",
            "[0.99 0.01]\n",
            "[0.76 0.24]\n",
            "[0.9 0.1]\n",
            "[0.98 0.02]\n",
            "[0.93 0.07]\n",
            "[0.82 0.18]\n",
            "[0.99 0.01]\n",
            "[1. 0.]\n",
            "[1. 0.]\n",
            "[0.99 0.01]\n",
            "[0.94 0.06]\n",
            "[1. 0.]\n",
            "[0.9 0.1]\n",
            "[0.94 0.06]\n",
            "[0.95 0.05]\n",
            "[1. 0.]\n",
            "[0.98 0.02]\n",
            "[0.92 0.08]\n",
            "[0.98 0.02]\n",
            "[0.97 0.03]\n",
            "[0.99 0.01]\n",
            "[1. 0.]\n",
            "[0.93 0.07]\n",
            "[0.89 0.11]\n",
            "[0.98 0.02]\n",
            "[0.99 0.01]\n",
            "[0.93 0.07]\n",
            "[1. 0.]\n",
            "[0.98 0.02]\n",
            "[0.99 0.01]\n",
            "[0.97 0.03]\n",
            "[0.97 0.03]\n",
            "[0.96 0.04]\n",
            "[0.93 0.07]\n",
            "[0.99 0.01]\n",
            "[0.96 0.04]\n",
            "[0.97 0.03]\n",
            "[1. 0.]\n",
            "[1. 0.]\n",
            "[0.99 0.01]\n",
            "[1. 0.]\n",
            "[0.86 0.14]\n",
            "[0.94 0.06]\n",
            "[0.9 0.1]\n",
            "[0.99 0.01]\n",
            "[0.98 0.02]\n",
            "[0.93 0.07]\n",
            "[0.99 0.01]\n",
            "[1. 0.]\n",
            "[0.99 0.01]\n",
            "[0.94 0.06]\n",
            "[0.98 0.02]\n",
            "[0.78 0.22]\n",
            "[0.87 0.13]\n",
            "[0.96 0.04]\n",
            "[0.94 0.06]\n",
            "[0.97 0.03]\n",
            "[0.98 0.02]\n",
            "[1. 0.]\n",
            "[1. 0.]\n",
            "[1. 0.]\n",
            "[0.98 0.02]\n",
            "[0.92 0.08]\n",
            "[0.99 0.01]\n",
            "[0.99 0.01]\n",
            "[0.83 0.17]\n",
            "[0.99 0.01]\n",
            "[0.98 0.02]\n",
            "[0.98 0.02]\n",
            "[1. 0.]\n",
            "[0.95 0.05]\n",
            "[0.98 0.02]\n",
            "[0.96 0.04]\n",
            "[1. 0.]\n",
            "[0.93 0.07]\n",
            "[0.97 0.03]\n",
            "[0.96 0.04]\n",
            "[1. 0.]\n",
            "[0.99 0.01]\n",
            "[0.87 0.13]\n",
            "[0.98 0.02]\n",
            "[0.94 0.06]\n",
            "[0.96 0.04]\n",
            "[1. 0.]\n",
            "[1. 0.]\n",
            "[0.95 0.05]\n",
            "[1. 0.]\n",
            "[0.99 0.01]\n",
            "[1. 0.]\n",
            "[0.98 0.02]\n",
            "[0.99 0.01]\n",
            "[0.99 0.01]\n",
            "[0.99 0.01]\n",
            "[0.97 0.03]\n",
            "[0.88 0.12]\n",
            "[0.97 0.03]\n",
            "[0.94 0.06]\n",
            "[0.91 0.09]\n",
            "[0.99 0.01]\n",
            "[0.95 0.05]\n",
            "[0.99 0.01]\n",
            "[0.98 0.02]\n",
            "[0.81 0.19]\n",
            "[0.67 0.33]\n",
            "[0.99 0.01]\n",
            "[0.97 0.03]\n",
            "[0.95 0.05]\n",
            "[1. 0.]\n",
            "[1. 0.]\n",
            "[0.79 0.21]\n",
            "[1. 0.]\n",
            "[0.98 0.02]\n",
            "[0.89 0.11]\n",
            "[1. 0.]\n",
            "[1. 0.]\n",
            "[0.72 0.28]\n",
            "[0.98 0.02]\n",
            "[0.99 0.01]\n",
            "[0.97 0.03]\n",
            "[0.99 0.01]\n",
            "[0.91 0.09]\n",
            "[0.94 0.06]\n",
            "[0.92 0.08]\n",
            "[0.99 0.01]\n",
            "[1. 0.]\n",
            "[0.87 0.13]\n",
            "[0.97 0.03]\n",
            "[1. 0.]\n",
            "[0.99 0.01]\n",
            "[0.95 0.05]\n",
            "[1. 0.]\n",
            "[0.97 0.03]\n",
            "[1. 0.]\n",
            "[0.98 0.02]\n",
            "[0.97 0.03]\n",
            "[1. 0.]\n",
            "[0.99 0.01]\n",
            "[0.94 0.06]\n",
            "[1. 0.]\n",
            "[0.99 0.01]\n",
            "[0.98 0.02]\n",
            "[0.99 0.01]\n",
            "[1. 0.]\n",
            "[0.99 0.01]\n",
            "[0.98 0.02]\n",
            "[0.94 0.06]\n",
            "[1. 0.]\n",
            "[0.98 0.02]\n",
            "[1. 0.]\n",
            "[0.87 0.13]\n",
            "[1. 0.]\n",
            "[0.94 0.06]\n",
            "[0.99 0.01]\n",
            "[0.98 0.02]\n",
            "[0.95 0.05]\n",
            "[1. 0.]\n",
            "[0.99 0.01]\n",
            "[0.96 0.04]\n",
            "[0.99 0.01]\n",
            "[0.96 0.04]\n",
            "[1. 0.]\n",
            "[0.92 0.08]\n",
            "[0.87 0.13]\n",
            "[0.95 0.05]\n",
            "[0.95 0.05]\n",
            "[1. 0.]\n",
            "[1. 0.]\n",
            "[0.97 0.03]\n",
            "[1. 0.]\n",
            "[0.97 0.03]\n",
            "[0.97 0.03]\n",
            "[1. 0.]\n",
            "[0.99 0.01]\n",
            "[0.83 0.17]\n",
            "[0.88 0.12]\n",
            "[1. 0.]\n",
            "[0.98 0.02]\n",
            "[0.91 0.09]\n",
            "[0.98 0.02]\n",
            "[1. 0.]\n",
            "[0.97 0.03]\n",
            "[0.97 0.03]\n",
            "[0.95 0.05]\n",
            "[0.97 0.03]\n",
            "[0.99 0.01]\n",
            "[0.97 0.03]\n",
            "[0.98 0.02]\n",
            "[1. 0.]\n",
            "[0.99 0.01]\n",
            "[0.98 0.02]\n",
            "[0.76 0.24]\n",
            "[0.98 0.02]\n",
            "[1. 0.]\n",
            "[1. 0.]\n",
            "[0.97 0.03]\n",
            "[0.96 0.04]\n",
            "[0.99 0.01]\n",
            "[0.99 0.01]\n",
            "[0.97 0.03]\n",
            "[0.98 0.02]\n",
            "[1. 0.]\n",
            "[1. 0.]\n",
            "[0.98 0.02]\n",
            "[1. 0.]\n",
            "[0.99 0.01]\n",
            "[0.94 0.06]\n",
            "[1. 0.]\n",
            "[1. 0.]\n",
            "[1. 0.]\n",
            "[0.99 0.01]\n",
            "[1. 0.]\n",
            "[0.95 0.05]\n",
            "[0.89 0.11]\n",
            "[0.92 0.08]\n",
            "[0.95 0.05]\n",
            "[0.94 0.06]\n",
            "[0.98 0.02]\n",
            "[1. 0.]\n",
            "[1. 0.]\n",
            "[0.97 0.03]\n",
            "[1. 0.]\n",
            "[1. 0.]\n",
            "[0.96 0.04]\n",
            "[0.95 0.05]\n",
            "[1. 0.]\n",
            "[0.82 0.18]\n",
            "[0.95 0.05]\n",
            "[0.91 0.09]\n",
            "[0.98 0.02]\n",
            "[0.95 0.05]\n",
            "[0.98 0.02]\n",
            "[1. 0.]\n",
            "[0.93 0.07]\n",
            "[0.99 0.01]\n",
            "[0.95 0.05]\n",
            "[0.97 0.03]\n",
            "[0.99 0.01]\n",
            "[0.93 0.07]\n",
            "[0.92 0.08]\n",
            "[0.99 0.01]\n",
            "[0.98 0.02]\n",
            "[0.98 0.02]\n",
            "[1. 0.]\n",
            "[0.99 0.01]\n",
            "[0.98 0.02]\n",
            "[1. 0.]\n",
            "[0.98 0.02]\n",
            "[0.98 0.02]\n",
            "[1. 0.]\n",
            "[1. 0.]\n",
            "[1. 0.]\n",
            "[0.95 0.05]\n",
            "[0.98 0.02]\n",
            "[1. 0.]\n",
            "[1. 0.]\n",
            "[0.98 0.02]\n",
            "[1. 0.]\n",
            "[1. 0.]\n",
            "[0.99 0.01]\n",
            "[1. 0.]\n",
            "[0.82 0.18]\n",
            "[0.9 0.1]\n",
            "[0.98 0.02]\n",
            "[0.94 0.06]\n",
            "[1. 0.]\n",
            "[0.98 0.02]\n",
            "[0.93 0.07]\n",
            "[1. 0.]\n",
            "[0.96 0.04]\n",
            "[0.99 0.01]\n",
            "[0.99 0.01]\n",
            "[0.93 0.07]\n",
            "[0.88 0.12]\n",
            "[0.98 0.02]\n",
            "[0.98 0.02]\n",
            "[0.99 0.01]\n",
            "[1. 0.]\n",
            "[0.97 0.03]\n",
            "[1. 0.]\n",
            "[0.96 0.04]\n",
            "[0.97 0.03]\n",
            "[0.96 0.04]\n",
            "[1. 0.]\n",
            "[0.99 0.01]\n",
            "[0.99 0.01]\n",
            "[0.99 0.01]\n",
            "[0.99 0.01]\n",
            "[0.99 0.01]\n",
            "[0.96 0.04]\n",
            "[0.95 0.05]\n",
            "[1. 0.]\n",
            "[0.98 0.02]\n",
            "[0.99 0.01]\n",
            "[0.93 0.07]\n",
            "[0.98 0.02]\n",
            "[0.83 0.17]\n",
            "[0.98 0.02]\n",
            "[1. 0.]\n",
            "[1. 0.]\n",
            "[0.99 0.01]\n",
            "[0.99 0.01]\n",
            "[1. 0.]\n",
            "[0.88 0.12]\n",
            "[0.97 0.03]\n",
            "[0.9 0.1]\n",
            "[0.97 0.03]\n",
            "[0.98 0.02]\n",
            "[0.98 0.02]\n",
            "[1. 0.]\n",
            "[0.95 0.05]\n",
            "[0.97 0.03]\n",
            "[0.98 0.02]\n",
            "[0.89 0.11]\n",
            "[0.99 0.01]\n",
            "[0.97 0.03]\n",
            "[0.98 0.02]\n",
            "[0.99 0.01]\n",
            "[0.95 0.05]\n",
            "[0.96 0.04]\n",
            "[0.98 0.02]\n",
            "[1. 0.]\n",
            "[0.99 0.01]\n",
            "[0.9 0.1]\n",
            "[1. 0.]\n",
            "[0.99 0.01]\n",
            "[0.99 0.01]\n",
            "[0.95 0.05]\n",
            "[1. 0.]\n",
            "[1. 0.]\n",
            "[0.99 0.01]\n",
            "[1. 0.]\n",
            "[0.99 0.01]\n",
            "[1. 0.]\n",
            "[0.99 0.01]\n",
            "[1. 0.]\n",
            "[0.91 0.09]\n",
            "[1. 0.]\n",
            "[0.84 0.16]\n",
            "[1. 0.]\n",
            "[1. 0.]\n",
            "[0.97 0.03]\n",
            "[0.93 0.07]\n",
            "[0.98 0.02]\n",
            "[0.78 0.22]\n",
            "[0.99 0.01]\n",
            "[0.95 0.05]\n",
            "[0.99 0.01]\n",
            "[0.99 0.01]\n",
            "[0.99 0.01]\n",
            "[1. 0.]\n",
            "[0.99 0.01]\n",
            "[0.97 0.03]\n",
            "[0.93 0.07]\n",
            "[0.98 0.02]\n",
            "[0.98 0.02]\n",
            "[0.98 0.02]\n",
            "[0.98 0.02]\n",
            "[0.95 0.05]\n",
            "[1. 0.]\n",
            "[0.99 0.01]\n",
            "[0.92 0.08]\n",
            "[0.98 0.02]\n",
            "[0.99 0.01]\n",
            "[1. 0.]\n",
            "[1. 0.]\n",
            "[0.99 0.01]\n",
            "[1. 0.]\n",
            "[0.92 0.08]\n",
            "[0.99 0.01]\n",
            "[0.9 0.1]\n",
            "[0.96 0.04]\n",
            "[0.93 0.07]\n",
            "[0.98 0.02]\n",
            "[0.98 0.02]\n",
            "[0.99 0.01]\n",
            "[0.93 0.07]\n",
            "[0.94 0.06]\n",
            "[0.97 0.03]\n",
            "[0.96 0.04]\n",
            "[0.98 0.02]\n",
            "[1. 0.]\n",
            "[0.99 0.01]\n",
            "[0.89 0.11]\n",
            "[1. 0.]\n",
            "[1. 0.]\n",
            "[0.99 0.01]\n",
            "[0.99 0.01]\n",
            "[0.99 0.01]\n",
            "[0.87 0.13]\n",
            "[0.95 0.05]\n",
            "[0.95 0.05]\n",
            "[1. 0.]\n",
            "[0.92 0.08]\n",
            "[1. 0.]\n",
            "[1. 0.]\n",
            "[0.99 0.01]\n",
            "[0.99 0.01]\n",
            "[0.99 0.01]\n",
            "[0.92 0.08]\n"
          ],
          "name": "stdout"
        }
      ]
    },
    {
      "cell_type": "code",
      "metadata": {
        "colab": {
          "base_uri": "https://localhost:8080/"
        },
        "id": "pUl6m6AsH1LM",
        "outputId": "3f902cf3-da6a-440b-fa43-81ed0ddbc0dd"
      },
      "source": [
        "print(sklearn.metrics.classification_report(sample_y_test_booking, pred_sample_y_booking))"
      ],
      "execution_count": 144,
      "outputs": [
        {
          "output_type": "stream",
          "text": [
            "              precision    recall  f1-score   support\n",
            "\n",
            "           0       0.97      1.00      0.99      1218\n",
            "           1       0.00      0.00      0.00        32\n",
            "\n",
            "    accuracy                           0.97      1250\n",
            "   macro avg       0.49      0.50      0.49      1250\n",
            "weighted avg       0.95      0.97      0.96      1250\n",
            "\n"
          ],
          "name": "stdout"
        },
        {
          "output_type": "stream",
          "text": [
            "/usr/local/lib/python3.7/dist-packages/sklearn/metrics/_classification.py:1272: UndefinedMetricWarning: Precision and F-score are ill-defined and being set to 0.0 in labels with no predicted samples. Use `zero_division` parameter to control this behavior.\n",
            "  _warn_prf(average, modifier, msg_start, len(result))\n"
          ],
          "name": "stderr"
        }
      ]
    },
    {
      "cell_type": "code",
      "metadata": {
        "colab": {
          "base_uri": "https://localhost:8080/"
        },
        "id": "fvFknch0KOod",
        "outputId": "5ce793eb-6b6c-4c49-8d5c-2530dbe48a7d"
      },
      "source": [
        "print(sklearn.metrics.classification_report(sample_y_test_booking, [0]*sample_y_test_booking.size))"
      ],
      "execution_count": 145,
      "outputs": [
        {
          "output_type": "stream",
          "text": [
            "              precision    recall  f1-score   support\n",
            "\n",
            "           0       0.97      1.00      0.99      1218\n",
            "           1       0.00      0.00      0.00        32\n",
            "\n",
            "    accuracy                           0.97      1250\n",
            "   macro avg       0.49      0.50      0.49      1250\n",
            "weighted avg       0.95      0.97      0.96      1250\n",
            "\n"
          ],
          "name": "stdout"
        },
        {
          "output_type": "stream",
          "text": [
            "/usr/local/lib/python3.7/dist-packages/sklearn/metrics/_classification.py:1272: UndefinedMetricWarning: Precision and F-score are ill-defined and being set to 0.0 in labels with no predicted samples. Use `zero_division` parameter to control this behavior.\n",
            "  _warn_prf(average, modifier, msg_start, len(result))\n"
          ],
          "name": "stderr"
        }
      ]
    },
    {
      "cell_type": "code",
      "metadata": {
        "id": "EB5LMpdaFXUt",
        "colab": {
          "base_uri": "https://localhost:8080/"
        },
        "outputId": "bd11e9f2-eb35-4b1d-df27-5935402a3f57"
      },
      "source": [
        "print(sklearn.metrics.classification_report(sample_y_test_booking, [1]*sample_y_test_booking.size))"
      ],
      "execution_count": 146,
      "outputs": [
        {
          "output_type": "stream",
          "text": [
            "              precision    recall  f1-score   support\n",
            "\n",
            "           0       0.00      0.00      0.00      1218\n",
            "           1       0.03      1.00      0.05        32\n",
            "\n",
            "    accuracy                           0.03      1250\n",
            "   macro avg       0.01      0.50      0.02      1250\n",
            "weighted avg       0.00      0.03      0.00      1250\n",
            "\n"
          ],
          "name": "stdout"
        },
        {
          "output_type": "stream",
          "text": [
            "/usr/local/lib/python3.7/dist-packages/sklearn/metrics/_classification.py:1272: UndefinedMetricWarning: Precision and F-score are ill-defined and being set to 0.0 in labels with no predicted samples. Use `zero_division` parameter to control this behavior.\n",
            "  _warn_prf(average, modifier, msg_start, len(result))\n"
          ],
          "name": "stderr"
        }
      ]
    },
    {
      "cell_type": "code",
      "metadata": {
        "colab": {
          "base_uri": "https://localhost:8080/"
        },
        "id": "RjEhKmYoKezC",
        "outputId": "3db8620e-9b81-4551-9425-28d8f3b23b8a"
      },
      "source": [
        "print(sklearn.metrics.classification_report(sample_y_test_booking, np.random.randint(0, 2, size=sample_y_test_booking.size)))"
      ],
      "execution_count": 147,
      "outputs": [
        {
          "output_type": "stream",
          "text": [
            "              precision    recall  f1-score   support\n",
            "\n",
            "           0       0.98      0.50      0.66      1218\n",
            "           1       0.03      0.56      0.05        32\n",
            "\n",
            "    accuracy                           0.50      1250\n",
            "   macro avg       0.50      0.53      0.36      1250\n",
            "weighted avg       0.95      0.50      0.65      1250\n",
            "\n"
          ],
          "name": "stdout"
        }
      ]
    },
    {
      "cell_type": "code",
      "metadata": {
        "colab": {
          "base_uri": "https://localhost:8080/",
          "height": 444
        },
        "id": "epkgjLX92vVs",
        "outputId": "d1b723d7-870c-4b0f-a434-47ec8a745822"
      },
      "source": [
        "test_data"
      ],
      "execution_count": 148,
      "outputs": [
        {
          "output_type": "execute_result",
          "data": {
            "text/html": [
              "<div>\n",
              "<style scoped>\n",
              "    .dataframe tbody tr th:only-of-type {\n",
              "        vertical-align: middle;\n",
              "    }\n",
              "\n",
              "    .dataframe tbody tr th {\n",
              "        vertical-align: top;\n",
              "    }\n",
              "\n",
              "    .dataframe thead th {\n",
              "        text-align: right;\n",
              "    }\n",
              "</style>\n",
              "<table border=\"1\" class=\"dataframe\">\n",
              "  <thead>\n",
              "    <tr style=\"text-align: right;\">\n",
              "      <th></th>\n",
              "      <th>srch_id</th>\n",
              "      <th>site_id</th>\n",
              "      <th>visitor_location_country_id</th>\n",
              "      <th>visitor_hist_starrating</th>\n",
              "      <th>visitor_hist_adr_usd</th>\n",
              "      <th>prop_country_id</th>\n",
              "      <th>prop_id</th>\n",
              "      <th>prop_starrating</th>\n",
              "      <th>prop_review_score</th>\n",
              "      <th>prop_brand_bool</th>\n",
              "      <th>prop_location_score1</th>\n",
              "      <th>prop_location_score2</th>\n",
              "      <th>prop_log_historical_price</th>\n",
              "      <th>price_usd</th>\n",
              "      <th>promotion_flag</th>\n",
              "      <th>srch_destination_id</th>\n",
              "      <th>srch_length_of_stay</th>\n",
              "      <th>srch_booking_window</th>\n",
              "      <th>srch_adults_count</th>\n",
              "      <th>srch_children_count</th>\n",
              "      <th>srch_room_count</th>\n",
              "      <th>srch_saturday_night_bool</th>\n",
              "      <th>srch_query_affinity_score</th>\n",
              "      <th>orig_destination_distance</th>\n",
              "      <th>random_bool</th>\n",
              "      <th>comp1_rate</th>\n",
              "      <th>comp1_inv</th>\n",
              "      <th>comp1_rate_percent_diff</th>\n",
              "      <th>comp2_rate</th>\n",
              "      <th>comp2_inv</th>\n",
              "      <th>comp2_rate_percent_diff</th>\n",
              "      <th>comp3_rate</th>\n",
              "      <th>comp3_inv</th>\n",
              "      <th>comp3_rate_percent_diff</th>\n",
              "      <th>comp4_rate</th>\n",
              "      <th>comp4_inv</th>\n",
              "      <th>comp4_rate_percent_diff</th>\n",
              "      <th>comp5_rate</th>\n",
              "      <th>comp5_inv</th>\n",
              "      <th>comp5_rate_percent_diff</th>\n",
              "      <th>comp6_rate</th>\n",
              "      <th>comp6_inv</th>\n",
              "      <th>comp6_rate_percent_diff</th>\n",
              "      <th>comp7_rate</th>\n",
              "      <th>comp7_inv</th>\n",
              "      <th>comp7_rate_percent_diff</th>\n",
              "      <th>comp8_rate</th>\n",
              "      <th>comp8_inv</th>\n",
              "      <th>comp8_rate_percent_diff</th>\n",
              "    </tr>\n",
              "  </thead>\n",
              "  <tbody>\n",
              "    <tr>\n",
              "      <th>0</th>\n",
              "      <td>1</td>\n",
              "      <td>24</td>\n",
              "      <td>216</td>\n",
              "      <td>NaN</td>\n",
              "      <td>NaN</td>\n",
              "      <td>219</td>\n",
              "      <td>3180</td>\n",
              "      <td>3</td>\n",
              "      <td>4.5</td>\n",
              "      <td>1</td>\n",
              "      <td>2.94</td>\n",
              "      <td>0.0691</td>\n",
              "      <td>5.03</td>\n",
              "      <td>119.00</td>\n",
              "      <td>0</td>\n",
              "      <td>19222</td>\n",
              "      <td>1</td>\n",
              "      <td>10</td>\n",
              "      <td>2</td>\n",
              "      <td>0</td>\n",
              "      <td>1</td>\n",
              "      <td>0</td>\n",
              "      <td>NaN</td>\n",
              "      <td>NaN</td>\n",
              "      <td>0</td>\n",
              "      <td>NaN</td>\n",
              "      <td>NaN</td>\n",
              "      <td>NaN</td>\n",
              "      <td>NaN</td>\n",
              "      <td>NaN</td>\n",
              "      <td>NaN</td>\n",
              "      <td>NaN</td>\n",
              "      <td>NaN</td>\n",
              "      <td>NaN</td>\n",
              "      <td>NaN</td>\n",
              "      <td>NaN</td>\n",
              "      <td>NaN</td>\n",
              "      <td>NaN</td>\n",
              "      <td>NaN</td>\n",
              "      <td>NaN</td>\n",
              "      <td>NaN</td>\n",
              "      <td>NaN</td>\n",
              "      <td>NaN</td>\n",
              "      <td>NaN</td>\n",
              "      <td>NaN</td>\n",
              "      <td>NaN</td>\n",
              "      <td>NaN</td>\n",
              "      <td>NaN</td>\n",
              "      <td>NaN</td>\n",
              "    </tr>\n",
              "    <tr>\n",
              "      <th>1</th>\n",
              "      <td>1</td>\n",
              "      <td>24</td>\n",
              "      <td>216</td>\n",
              "      <td>NaN</td>\n",
              "      <td>NaN</td>\n",
              "      <td>219</td>\n",
              "      <td>5543</td>\n",
              "      <td>3</td>\n",
              "      <td>4.5</td>\n",
              "      <td>1</td>\n",
              "      <td>2.64</td>\n",
              "      <td>0.0843</td>\n",
              "      <td>4.93</td>\n",
              "      <td>118.00</td>\n",
              "      <td>0</td>\n",
              "      <td>19222</td>\n",
              "      <td>1</td>\n",
              "      <td>10</td>\n",
              "      <td>2</td>\n",
              "      <td>0</td>\n",
              "      <td>1</td>\n",
              "      <td>0</td>\n",
              "      <td>NaN</td>\n",
              "      <td>NaN</td>\n",
              "      <td>0</td>\n",
              "      <td>NaN</td>\n",
              "      <td>NaN</td>\n",
              "      <td>NaN</td>\n",
              "      <td>0.0</td>\n",
              "      <td>0.0</td>\n",
              "      <td>NaN</td>\n",
              "      <td>NaN</td>\n",
              "      <td>NaN</td>\n",
              "      <td>NaN</td>\n",
              "      <td>NaN</td>\n",
              "      <td>NaN</td>\n",
              "      <td>NaN</td>\n",
              "      <td>NaN</td>\n",
              "      <td>NaN</td>\n",
              "      <td>NaN</td>\n",
              "      <td>NaN</td>\n",
              "      <td>NaN</td>\n",
              "      <td>NaN</td>\n",
              "      <td>NaN</td>\n",
              "      <td>NaN</td>\n",
              "      <td>NaN</td>\n",
              "      <td>NaN</td>\n",
              "      <td>NaN</td>\n",
              "      <td>NaN</td>\n",
              "    </tr>\n",
              "    <tr>\n",
              "      <th>2</th>\n",
              "      <td>1</td>\n",
              "      <td>24</td>\n",
              "      <td>216</td>\n",
              "      <td>NaN</td>\n",
              "      <td>NaN</td>\n",
              "      <td>219</td>\n",
              "      <td>14142</td>\n",
              "      <td>2</td>\n",
              "      <td>3.5</td>\n",
              "      <td>1</td>\n",
              "      <td>2.71</td>\n",
              "      <td>0.0556</td>\n",
              "      <td>4.16</td>\n",
              "      <td>49.00</td>\n",
              "      <td>0</td>\n",
              "      <td>19222</td>\n",
              "      <td>1</td>\n",
              "      <td>10</td>\n",
              "      <td>2</td>\n",
              "      <td>0</td>\n",
              "      <td>1</td>\n",
              "      <td>0</td>\n",
              "      <td>NaN</td>\n",
              "      <td>NaN</td>\n",
              "      <td>0</td>\n",
              "      <td>NaN</td>\n",
              "      <td>NaN</td>\n",
              "      <td>NaN</td>\n",
              "      <td>0.0</td>\n",
              "      <td>0.0</td>\n",
              "      <td>NaN</td>\n",
              "      <td>NaN</td>\n",
              "      <td>NaN</td>\n",
              "      <td>NaN</td>\n",
              "      <td>NaN</td>\n",
              "      <td>NaN</td>\n",
              "      <td>NaN</td>\n",
              "      <td>1.0</td>\n",
              "      <td>0.0</td>\n",
              "      <td>10.0</td>\n",
              "      <td>NaN</td>\n",
              "      <td>NaN</td>\n",
              "      <td>NaN</td>\n",
              "      <td>NaN</td>\n",
              "      <td>NaN</td>\n",
              "      <td>NaN</td>\n",
              "      <td>NaN</td>\n",
              "      <td>NaN</td>\n",
              "      <td>NaN</td>\n",
              "    </tr>\n",
              "    <tr>\n",
              "      <th>3</th>\n",
              "      <td>1</td>\n",
              "      <td>24</td>\n",
              "      <td>216</td>\n",
              "      <td>NaN</td>\n",
              "      <td>NaN</td>\n",
              "      <td>219</td>\n",
              "      <td>22393</td>\n",
              "      <td>3</td>\n",
              "      <td>4.5</td>\n",
              "      <td>1</td>\n",
              "      <td>2.40</td>\n",
              "      <td>0.0561</td>\n",
              "      <td>5.03</td>\n",
              "      <td>143.00</td>\n",
              "      <td>0</td>\n",
              "      <td>19222</td>\n",
              "      <td>1</td>\n",
              "      <td>10</td>\n",
              "      <td>2</td>\n",
              "      <td>0</td>\n",
              "      <td>1</td>\n",
              "      <td>0</td>\n",
              "      <td>NaN</td>\n",
              "      <td>NaN</td>\n",
              "      <td>0</td>\n",
              "      <td>NaN</td>\n",
              "      <td>NaN</td>\n",
              "      <td>NaN</td>\n",
              "      <td>0.0</td>\n",
              "      <td>0.0</td>\n",
              "      <td>NaN</td>\n",
              "      <td>NaN</td>\n",
              "      <td>NaN</td>\n",
              "      <td>NaN</td>\n",
              "      <td>NaN</td>\n",
              "      <td>NaN</td>\n",
              "      <td>NaN</td>\n",
              "      <td>0.0</td>\n",
              "      <td>0.0</td>\n",
              "      <td>NaN</td>\n",
              "      <td>NaN</td>\n",
              "      <td>NaN</td>\n",
              "      <td>NaN</td>\n",
              "      <td>NaN</td>\n",
              "      <td>NaN</td>\n",
              "      <td>NaN</td>\n",
              "      <td>NaN</td>\n",
              "      <td>NaN</td>\n",
              "      <td>NaN</td>\n",
              "    </tr>\n",
              "    <tr>\n",
              "      <th>4</th>\n",
              "      <td>1</td>\n",
              "      <td>24</td>\n",
              "      <td>216</td>\n",
              "      <td>NaN</td>\n",
              "      <td>NaN</td>\n",
              "      <td>219</td>\n",
              "      <td>24194</td>\n",
              "      <td>3</td>\n",
              "      <td>4.5</td>\n",
              "      <td>1</td>\n",
              "      <td>2.94</td>\n",
              "      <td>0.2090</td>\n",
              "      <td>4.72</td>\n",
              "      <td>79.00</td>\n",
              "      <td>0</td>\n",
              "      <td>19222</td>\n",
              "      <td>1</td>\n",
              "      <td>10</td>\n",
              "      <td>2</td>\n",
              "      <td>0</td>\n",
              "      <td>1</td>\n",
              "      <td>0</td>\n",
              "      <td>NaN</td>\n",
              "      <td>NaN</td>\n",
              "      <td>0</td>\n",
              "      <td>NaN</td>\n",
              "      <td>NaN</td>\n",
              "      <td>NaN</td>\n",
              "      <td>0.0</td>\n",
              "      <td>0.0</td>\n",
              "      <td>NaN</td>\n",
              "      <td>NaN</td>\n",
              "      <td>NaN</td>\n",
              "      <td>NaN</td>\n",
              "      <td>NaN</td>\n",
              "      <td>NaN</td>\n",
              "      <td>NaN</td>\n",
              "      <td>0.0</td>\n",
              "      <td>0.0</td>\n",
              "      <td>NaN</td>\n",
              "      <td>NaN</td>\n",
              "      <td>NaN</td>\n",
              "      <td>NaN</td>\n",
              "      <td>NaN</td>\n",
              "      <td>NaN</td>\n",
              "      <td>NaN</td>\n",
              "      <td>NaN</td>\n",
              "      <td>NaN</td>\n",
              "      <td>NaN</td>\n",
              "    </tr>\n",
              "    <tr>\n",
              "      <th>...</th>\n",
              "      <td>...</td>\n",
              "      <td>...</td>\n",
              "      <td>...</td>\n",
              "      <td>...</td>\n",
              "      <td>...</td>\n",
              "      <td>...</td>\n",
              "      <td>...</td>\n",
              "      <td>...</td>\n",
              "      <td>...</td>\n",
              "      <td>...</td>\n",
              "      <td>...</td>\n",
              "      <td>...</td>\n",
              "      <td>...</td>\n",
              "      <td>...</td>\n",
              "      <td>...</td>\n",
              "      <td>...</td>\n",
              "      <td>...</td>\n",
              "      <td>...</td>\n",
              "      <td>...</td>\n",
              "      <td>...</td>\n",
              "      <td>...</td>\n",
              "      <td>...</td>\n",
              "      <td>...</td>\n",
              "      <td>...</td>\n",
              "      <td>...</td>\n",
              "      <td>...</td>\n",
              "      <td>...</td>\n",
              "      <td>...</td>\n",
              "      <td>...</td>\n",
              "      <td>...</td>\n",
              "      <td>...</td>\n",
              "      <td>...</td>\n",
              "      <td>...</td>\n",
              "      <td>...</td>\n",
              "      <td>...</td>\n",
              "      <td>...</td>\n",
              "      <td>...</td>\n",
              "      <td>...</td>\n",
              "      <td>...</td>\n",
              "      <td>...</td>\n",
              "      <td>...</td>\n",
              "      <td>...</td>\n",
              "      <td>...</td>\n",
              "      <td>...</td>\n",
              "      <td>...</td>\n",
              "      <td>...</td>\n",
              "      <td>...</td>\n",
              "      <td>...</td>\n",
              "      <td>...</td>\n",
              "    </tr>\n",
              "    <tr>\n",
              "      <th>4959178</th>\n",
              "      <td>332787</td>\n",
              "      <td>24</td>\n",
              "      <td>216</td>\n",
              "      <td>NaN</td>\n",
              "      <td>NaN</td>\n",
              "      <td>117</td>\n",
              "      <td>32019</td>\n",
              "      <td>4</td>\n",
              "      <td>3.5</td>\n",
              "      <td>0</td>\n",
              "      <td>2.48</td>\n",
              "      <td>0.0551</td>\n",
              "      <td>4.53</td>\n",
              "      <td>66.07</td>\n",
              "      <td>0</td>\n",
              "      <td>19246</td>\n",
              "      <td>2</td>\n",
              "      <td>7</td>\n",
              "      <td>1</td>\n",
              "      <td>0</td>\n",
              "      <td>1</td>\n",
              "      <td>0</td>\n",
              "      <td>NaN</td>\n",
              "      <td>NaN</td>\n",
              "      <td>0</td>\n",
              "      <td>NaN</td>\n",
              "      <td>NaN</td>\n",
              "      <td>NaN</td>\n",
              "      <td>1.0</td>\n",
              "      <td>0.0</td>\n",
              "      <td>22.0</td>\n",
              "      <td>1.0</td>\n",
              "      <td>0.0</td>\n",
              "      <td>127.0</td>\n",
              "      <td>-1.0</td>\n",
              "      <td>0.0</td>\n",
              "      <td>27.0</td>\n",
              "      <td>1.0</td>\n",
              "      <td>0.0</td>\n",
              "      <td>22.0</td>\n",
              "      <td>NaN</td>\n",
              "      <td>NaN</td>\n",
              "      <td>NaN</td>\n",
              "      <td>NaN</td>\n",
              "      <td>NaN</td>\n",
              "      <td>NaN</td>\n",
              "      <td>NaN</td>\n",
              "      <td>NaN</td>\n",
              "      <td>NaN</td>\n",
              "    </tr>\n",
              "    <tr>\n",
              "      <th>4959179</th>\n",
              "      <td>332787</td>\n",
              "      <td>24</td>\n",
              "      <td>216</td>\n",
              "      <td>NaN</td>\n",
              "      <td>NaN</td>\n",
              "      <td>117</td>\n",
              "      <td>33959</td>\n",
              "      <td>4</td>\n",
              "      <td>3.0</td>\n",
              "      <td>1</td>\n",
              "      <td>2.20</td>\n",
              "      <td>0.3344</td>\n",
              "      <td>4.39</td>\n",
              "      <td>67.10</td>\n",
              "      <td>0</td>\n",
              "      <td>19246</td>\n",
              "      <td>2</td>\n",
              "      <td>7</td>\n",
              "      <td>1</td>\n",
              "      <td>0</td>\n",
              "      <td>1</td>\n",
              "      <td>0</td>\n",
              "      <td>NaN</td>\n",
              "      <td>NaN</td>\n",
              "      <td>0</td>\n",
              "      <td>NaN</td>\n",
              "      <td>NaN</td>\n",
              "      <td>NaN</td>\n",
              "      <td>0.0</td>\n",
              "      <td>0.0</td>\n",
              "      <td>NaN</td>\n",
              "      <td>0.0</td>\n",
              "      <td>0.0</td>\n",
              "      <td>NaN</td>\n",
              "      <td>0.0</td>\n",
              "      <td>0.0</td>\n",
              "      <td>16.0</td>\n",
              "      <td>1.0</td>\n",
              "      <td>0.0</td>\n",
              "      <td>22.0</td>\n",
              "      <td>NaN</td>\n",
              "      <td>NaN</td>\n",
              "      <td>NaN</td>\n",
              "      <td>NaN</td>\n",
              "      <td>NaN</td>\n",
              "      <td>NaN</td>\n",
              "      <td>NaN</td>\n",
              "      <td>NaN</td>\n",
              "      <td>NaN</td>\n",
              "    </tr>\n",
              "    <tr>\n",
              "      <th>4959180</th>\n",
              "      <td>332787</td>\n",
              "      <td>24</td>\n",
              "      <td>216</td>\n",
              "      <td>NaN</td>\n",
              "      <td>NaN</td>\n",
              "      <td>117</td>\n",
              "      <td>35240</td>\n",
              "      <td>4</td>\n",
              "      <td>0.0</td>\n",
              "      <td>0</td>\n",
              "      <td>1.79</td>\n",
              "      <td>NaN</td>\n",
              "      <td>4.64</td>\n",
              "      <td>73.91</td>\n",
              "      <td>0</td>\n",
              "      <td>19246</td>\n",
              "      <td>2</td>\n",
              "      <td>7</td>\n",
              "      <td>1</td>\n",
              "      <td>0</td>\n",
              "      <td>1</td>\n",
              "      <td>0</td>\n",
              "      <td>NaN</td>\n",
              "      <td>NaN</td>\n",
              "      <td>0</td>\n",
              "      <td>NaN</td>\n",
              "      <td>NaN</td>\n",
              "      <td>NaN</td>\n",
              "      <td>1.0</td>\n",
              "      <td>0.0</td>\n",
              "      <td>55.0</td>\n",
              "      <td>0.0</td>\n",
              "      <td>0.0</td>\n",
              "      <td>NaN</td>\n",
              "      <td>0.0</td>\n",
              "      <td>0.0</td>\n",
              "      <td>16.0</td>\n",
              "      <td>0.0</td>\n",
              "      <td>0.0</td>\n",
              "      <td>3.0</td>\n",
              "      <td>NaN</td>\n",
              "      <td>NaN</td>\n",
              "      <td>NaN</td>\n",
              "      <td>NaN</td>\n",
              "      <td>NaN</td>\n",
              "      <td>NaN</td>\n",
              "      <td>NaN</td>\n",
              "      <td>NaN</td>\n",
              "      <td>NaN</td>\n",
              "    </tr>\n",
              "    <tr>\n",
              "      <th>4959181</th>\n",
              "      <td>332787</td>\n",
              "      <td>24</td>\n",
              "      <td>216</td>\n",
              "      <td>NaN</td>\n",
              "      <td>NaN</td>\n",
              "      <td>117</td>\n",
              "      <td>94437</td>\n",
              "      <td>4</td>\n",
              "      <td>0.0</td>\n",
              "      <td>0</td>\n",
              "      <td>2.94</td>\n",
              "      <td>0.0928</td>\n",
              "      <td>4.64</td>\n",
              "      <td>66.07</td>\n",
              "      <td>0</td>\n",
              "      <td>19246</td>\n",
              "      <td>2</td>\n",
              "      <td>7</td>\n",
              "      <td>1</td>\n",
              "      <td>0</td>\n",
              "      <td>1</td>\n",
              "      <td>0</td>\n",
              "      <td>NaN</td>\n",
              "      <td>NaN</td>\n",
              "      <td>0</td>\n",
              "      <td>NaN</td>\n",
              "      <td>NaN</td>\n",
              "      <td>NaN</td>\n",
              "      <td>1.0</td>\n",
              "      <td>0.0</td>\n",
              "      <td>43.0</td>\n",
              "      <td>1.0</td>\n",
              "      <td>0.0</td>\n",
              "      <td>43.0</td>\n",
              "      <td>-1.0</td>\n",
              "      <td>0.0</td>\n",
              "      <td>12.0</td>\n",
              "      <td>-1.0</td>\n",
              "      <td>0.0</td>\n",
              "      <td>12.0</td>\n",
              "      <td>NaN</td>\n",
              "      <td>NaN</td>\n",
              "      <td>NaN</td>\n",
              "      <td>NaN</td>\n",
              "      <td>NaN</td>\n",
              "      <td>NaN</td>\n",
              "      <td>NaN</td>\n",
              "      <td>NaN</td>\n",
              "      <td>NaN</td>\n",
              "    </tr>\n",
              "    <tr>\n",
              "      <th>4959182</th>\n",
              "      <td>332787</td>\n",
              "      <td>24</td>\n",
              "      <td>216</td>\n",
              "      <td>NaN</td>\n",
              "      <td>NaN</td>\n",
              "      <td>117</td>\n",
              "      <td>99509</td>\n",
              "      <td>4</td>\n",
              "      <td>4.5</td>\n",
              "      <td>1</td>\n",
              "      <td>2.08</td>\n",
              "      <td>0.0344</td>\n",
              "      <td>4.64</td>\n",
              "      <td>82.06</td>\n",
              "      <td>0</td>\n",
              "      <td>19246</td>\n",
              "      <td>2</td>\n",
              "      <td>7</td>\n",
              "      <td>1</td>\n",
              "      <td>0</td>\n",
              "      <td>1</td>\n",
              "      <td>0</td>\n",
              "      <td>NaN</td>\n",
              "      <td>NaN</td>\n",
              "      <td>0</td>\n",
              "      <td>NaN</td>\n",
              "      <td>NaN</td>\n",
              "      <td>NaN</td>\n",
              "      <td>0.0</td>\n",
              "      <td>0.0</td>\n",
              "      <td>NaN</td>\n",
              "      <td>0.0</td>\n",
              "      <td>0.0</td>\n",
              "      <td>NaN</td>\n",
              "      <td>0.0</td>\n",
              "      <td>0.0</td>\n",
              "      <td>16.0</td>\n",
              "      <td>0.0</td>\n",
              "      <td>0.0</td>\n",
              "      <td>NaN</td>\n",
              "      <td>NaN</td>\n",
              "      <td>NaN</td>\n",
              "      <td>NaN</td>\n",
              "      <td>NaN</td>\n",
              "      <td>NaN</td>\n",
              "      <td>NaN</td>\n",
              "      <td>NaN</td>\n",
              "      <td>NaN</td>\n",
              "      <td>NaN</td>\n",
              "    </tr>\n",
              "  </tbody>\n",
              "</table>\n",
              "<p>4959183 rows × 49 columns</p>\n",
              "</div>"
            ],
            "text/plain": [
              "         srch_id  site_id  ...  comp8_inv  comp8_rate_percent_diff\n",
              "0              1       24  ...        NaN                      NaN\n",
              "1              1       24  ...        NaN                      NaN\n",
              "2              1       24  ...        NaN                      NaN\n",
              "3              1       24  ...        NaN                      NaN\n",
              "4              1       24  ...        NaN                      NaN\n",
              "...          ...      ...  ...        ...                      ...\n",
              "4959178   332787       24  ...        NaN                      NaN\n",
              "4959179   332787       24  ...        NaN                      NaN\n",
              "4959180   332787       24  ...        NaN                      NaN\n",
              "4959181   332787       24  ...        NaN                      NaN\n",
              "4959182   332787       24  ...        NaN                      NaN\n",
              "\n",
              "[4959183 rows x 49 columns]"
            ]
          },
          "metadata": {
            "tags": []
          },
          "execution_count": 148
        }
      ]
    },
    {
      "cell_type": "markdown",
      "metadata": {
        "id": "diRmtQMUDk2r"
      },
      "source": [
        "One possible approach - fill all the search data with the fields in the query for every entry in test data and select the ones that most likely meet the criteria with the random forest.\n",
        "\n",
        "Filtering - desination id (if possible), then:\n",
        "* remove the properties which don't have free spaces\n",
        "* run fitter on the remaining ones\n",
        "* prioritize properties with promotions\n",
        "* if more results than expected are left, choose first n"
      ]
    },
    {
      "cell_type": "code",
      "metadata": {
        "id": "6bDwwOAEDVy_",
        "colab": {
          "base_uri": "https://localhost:8080/"
        },
        "outputId": "9c15fa40-3f26-42ec-89cc-1481910766a9"
      },
      "source": [
        "test_data.prop_country_id.unique().size"
      ],
      "execution_count": 149,
      "outputs": [
        {
          "output_type": "execute_result",
          "data": {
            "text/plain": [
              "167"
            ]
          },
          "metadata": {
            "tags": []
          },
          "execution_count": 149
        }
      ]
    },
    {
      "cell_type": "code",
      "metadata": {
        "id": "SJP7vaiQ9nBo"
      },
      "source": [
        "df = pd.DataFrame.from_dict({'A':[1,2,3], 'B':[2,5,7], 'C':[10, 12, 18]})"
      ],
      "execution_count": 150,
      "outputs": []
    },
    {
      "cell_type": "markdown",
      "metadata": {
        "id": "_ZrTVo4AFc8Q"
      },
      "source": [
        "##4.4 Remove NaNs in test data"
      ]
    },
    {
      "cell_type": "code",
      "metadata": {
        "id": "kDAxUADk9muS",
        "colab": {
          "base_uri": "https://localhost:8080/"
        },
        "outputId": "74bd3438-eb68-4eb9-c5f3-2369fa8b284f"
      },
      "source": [
        "test_data.isna().any()"
      ],
      "execution_count": 151,
      "outputs": [
        {
          "output_type": "execute_result",
          "data": {
            "text/plain": [
              "srch_id                        False\n",
              "site_id                        False\n",
              "visitor_location_country_id    False\n",
              "visitor_hist_starrating         True\n",
              "visitor_hist_adr_usd            True\n",
              "prop_country_id                False\n",
              "prop_id                        False\n",
              "prop_starrating                False\n",
              "prop_review_score               True\n",
              "prop_brand_bool                False\n",
              "prop_location_score1           False\n",
              "prop_location_score2            True\n",
              "prop_log_historical_price      False\n",
              "price_usd                      False\n",
              "promotion_flag                 False\n",
              "srch_destination_id            False\n",
              "srch_length_of_stay            False\n",
              "srch_booking_window            False\n",
              "srch_adults_count              False\n",
              "srch_children_count            False\n",
              "srch_room_count                False\n",
              "srch_saturday_night_bool       False\n",
              "srch_query_affinity_score       True\n",
              "orig_destination_distance       True\n",
              "random_bool                    False\n",
              "comp1_rate                      True\n",
              "comp1_inv                       True\n",
              "comp1_rate_percent_diff         True\n",
              "comp2_rate                      True\n",
              "comp2_inv                       True\n",
              "comp2_rate_percent_diff         True\n",
              "comp3_rate                      True\n",
              "comp3_inv                       True\n",
              "comp3_rate_percent_diff         True\n",
              "comp4_rate                      True\n",
              "comp4_inv                       True\n",
              "comp4_rate_percent_diff         True\n",
              "comp5_rate                      True\n",
              "comp5_inv                       True\n",
              "comp5_rate_percent_diff         True\n",
              "comp6_rate                      True\n",
              "comp6_inv                       True\n",
              "comp6_rate_percent_diff         True\n",
              "comp7_rate                      True\n",
              "comp7_inv                       True\n",
              "comp7_rate_percent_diff         True\n",
              "comp8_rate                      True\n",
              "comp8_inv                       True\n",
              "comp8_rate_percent_diff         True\n",
              "dtype: bool"
            ]
          },
          "metadata": {
            "tags": []
          },
          "execution_count": 151
        }
      ]
    },
    {
      "cell_type": "code",
      "metadata": {
        "id": "0_rYMDs-Goq_",
        "colab": {
          "base_uri": "https://localhost:8080/"
        },
        "outputId": "c7c65775-5fce-46bd-bd47-a777b1a14ec0"
      },
      "source": [
        "for c in nan_filter.keys()[nan_filter]:\n",
        "  if c in test_data:\n",
        "    print(c, test_data[c].isna().sum() / test_data.shape[0] > 0.75)"
      ],
      "execution_count": 152,
      "outputs": [
        {
          "output_type": "stream",
          "text": [
            "visitor_hist_starrating True\n",
            "visitor_hist_adr_usd True\n",
            "srch_query_affinity_score True\n",
            "comp1_rate True\n",
            "comp1_inv True\n",
            "comp1_rate_percent_diff True\n",
            "comp2_rate_percent_diff True\n",
            "comp3_rate_percent_diff True\n",
            "comp4_rate True\n",
            "comp4_inv True\n",
            "comp4_rate_percent_diff True\n",
            "comp5_rate_percent_diff True\n",
            "comp6_rate True\n",
            "comp6_inv True\n",
            "comp6_rate_percent_diff True\n",
            "comp7_rate True\n",
            "comp7_inv True\n",
            "comp7_rate_percent_diff True\n",
            "comp8_rate_percent_diff True\n"
          ],
          "name": "stdout"
        }
      ]
    },
    {
      "cell_type": "markdown",
      "metadata": {
        "id": "bFKDS-P8kxio"
      },
      "source": [
        "As it turns out, the same columns which would be removed from train_data are also remoed from test_data."
      ]
    },
    {
      "cell_type": "code",
      "metadata": {
        "id": "LqPH5EkeFosN",
        "colab": {
          "base_uri": "https://localhost:8080/"
        },
        "outputId": "8513ebca-49eb-45c9-e014-68ee9c20b874"
      },
      "source": [
        "na_threshold = test_data.shape[0] * 0.75\n",
        "test_data.isna().sum() > na_threshold"
      ],
      "execution_count": 153,
      "outputs": [
        {
          "output_type": "execute_result",
          "data": {
            "text/plain": [
              "srch_id                        False\n",
              "site_id                        False\n",
              "visitor_location_country_id    False\n",
              "visitor_hist_starrating         True\n",
              "visitor_hist_adr_usd            True\n",
              "prop_country_id                False\n",
              "prop_id                        False\n",
              "prop_starrating                False\n",
              "prop_review_score              False\n",
              "prop_brand_bool                False\n",
              "prop_location_score1           False\n",
              "prop_location_score2           False\n",
              "prop_log_historical_price      False\n",
              "price_usd                      False\n",
              "promotion_flag                 False\n",
              "srch_destination_id            False\n",
              "srch_length_of_stay            False\n",
              "srch_booking_window            False\n",
              "srch_adults_count              False\n",
              "srch_children_count            False\n",
              "srch_room_count                False\n",
              "srch_saturday_night_bool       False\n",
              "srch_query_affinity_score       True\n",
              "orig_destination_distance      False\n",
              "random_bool                    False\n",
              "comp1_rate                      True\n",
              "comp1_inv                       True\n",
              "comp1_rate_percent_diff         True\n",
              "comp2_rate                     False\n",
              "comp2_inv                      False\n",
              "comp2_rate_percent_diff         True\n",
              "comp3_rate                     False\n",
              "comp3_inv                      False\n",
              "comp3_rate_percent_diff         True\n",
              "comp4_rate                      True\n",
              "comp4_inv                       True\n",
              "comp4_rate_percent_diff         True\n",
              "comp5_rate                     False\n",
              "comp5_inv                      False\n",
              "comp5_rate_percent_diff         True\n",
              "comp6_rate                      True\n",
              "comp6_inv                       True\n",
              "comp6_rate_percent_diff         True\n",
              "comp7_rate                      True\n",
              "comp7_inv                       True\n",
              "comp7_rate_percent_diff         True\n",
              "comp8_rate                     False\n",
              "comp8_inv                      False\n",
              "comp8_rate_percent_diff         True\n",
              "dtype: bool"
            ]
          },
          "metadata": {
            "tags": []
          },
          "execution_count": 153
        }
      ]
    },
    {
      "cell_type": "code",
      "metadata": {
        "id": "CVq7Mkw0HQv5"
      },
      "source": [
        "for c in nan_filter.keys()[nan_filter]:\n",
        "  if c in test_data:\n",
        "    test_data.drop(columns=[c], inplace=True)"
      ],
      "execution_count": null,
      "outputs": []
    },
    {
      "cell_type": "markdown",
      "metadata": {
        "id": "Nb54Ukpojl8i"
      },
      "source": [
        "##4.4 Fill NaNs in test_data"
      ]
    },
    {
      "cell_type": "markdown",
      "metadata": {
        "id": "Q5ZsuOyElahM"
      },
      "source": [
        "Moving on, we can impute the data for the purposes of modeling."
      ]
    },
    {
      "cell_type": "code",
      "metadata": {
        "id": "y0_XGyHOjo-S"
      },
      "source": [
        "print('Percent missing data in test_data:')\n",
        "test_data.isna().sum()/test_data.shape[0]*100"
      ],
      "execution_count": null,
      "outputs": []
    },
    {
      "cell_type": "code",
      "metadata": {
        "id": "J21ktYqCmf0w"
      },
      "source": [
        "na_columns_test = test_data.isna().any()\n",
        "plot_n = na_columns_test.sum()\n",
        "fig, ax = plt.subplots(plot_n, figsize=(10, 25))\n",
        "for i, c in enumerate(na_columns_test.keys()[na_columns_test]):\n",
        "  ax[i].hist(test_data[c])\n",
        "  ax[i].set_title('Histogram of {0} in test_data'.format(c))\n",
        "\n",
        "plt.tight_layout()"
      ],
      "execution_count": null,
      "outputs": []
    },
    {
      "cell_type": "markdown",
      "metadata": {
        "id": "rxIPR70yoLiy"
      },
      "source": [
        "Same pattern of data as in train_data, therefore we use the same techniques to fill in missing values."
      ]
    },
    {
      "cell_type": "code",
      "metadata": {
        "id": "3K7C22SMoQwW"
      },
      "source": [
        "rs_params_test = sp.stats.genlogistic.fit(test_data.prop_review_score.dropna()[test_data.prop_review_score > 0])\n",
        "ls2_params_test = sp.stats.expon.fit(test_data.prop_location_score2.dropna())\n",
        "dd_params_test = sp.stats.expon.fit(test_data.orig_destination_distance.dropna())\n",
        "\n",
        "rs_na_count_test = test_data.prop_review_score.isna().sum()\n",
        "ls2_na_count_test = test_data.prop_location_score2.isna().sum()\n",
        "dd_na_count_test = test_data.orig_destination_distance.isna().sum()\n",
        "\n",
        "#generate values from fitted distribution\n",
        "rs_fill_test = sp.stats.genlogistic.rvs(*rs_params_test, rs_na_count_test)\n",
        "ls2_fill_test = sp.stats.expon.rvs(*ls2_params_test, ls2_na_count_test)\n",
        "dd_fill_test = sp.stats.expon.rvs(*dd_params_test, dd_na_count_test)\n",
        "\n",
        "rs_fill_series_test = pd.Series(rs_fill_test, \n",
        "                           index=test_data.loc[test_data.prop_review_score.isna()].index)\n",
        "\n",
        "ls2_fill_series_test = pd.Series(ls2_fill_test, \n",
        "                            index=test_data.loc[test_data.prop_location_score2.isna()].index)\n",
        "\n",
        "dd_fill_series_test = pd.Series(dd_fill_test, \n",
        "                           index=test_data.loc[test_data.orig_destination_distance.isna()].index)"
      ],
      "execution_count": null,
      "outputs": []
    },
    {
      "cell_type": "code",
      "metadata": {
        "id": "EkuGSHYvphZp"
      },
      "source": [
        "test_data.prop_review_score.fillna(rs_fill_series_test, inplace=True)\n",
        "test_data.prop_location_score2.fillna(ls2_fill_series_test, inplace=True)\n",
        "test_data.orig_destination_distance.fillna(dd_fill_series_test, inplace=True)\n",
        "for c in fill_cols:\n",
        "  test_data[c].fillna(0, inplace=True)"
      ],
      "execution_count": null,
      "outputs": []
    },
    {
      "cell_type": "code",
      "metadata": {
        "id": "x06Fs8yxpvte"
      },
      "source": [
        "test_data.isna().any()"
      ],
      "execution_count": null,
      "outputs": []
    }
  ]
}